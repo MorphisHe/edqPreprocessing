{
 "cells": [
  {
   "cell_type": "code",
   "execution_count": 1,
   "metadata": {},
   "outputs": [],
   "source": [
    "import geopandas as gpd\n",
    "import pandas as pd\n",
    "from shapely.geometry import MultiPolygon, Polygon\n",
    "import matplotlib.pyplot as plt\n",
    "%matplotlib inline"
   ]
  },
  {
   "cell_type": "code",
   "execution_count": 2,
   "metadata": {},
   "outputs": [],
   "source": [
    "gdf = gpd.read_file(\"parser/all_states_precincts_cname_neighbor_demo.json\")"
   ]
  },
  {
   "cell_type": "code",
   "execution_count": 3,
   "metadata": {},
   "outputs": [
    {
     "data": {
      "text/html": [
       "<div>\n",
       "<style scoped>\n",
       "    .dataframe tbody tr th:only-of-type {\n",
       "        vertical-align: middle;\n",
       "    }\n",
       "\n",
       "    .dataframe tbody tr th {\n",
       "        vertical-align: top;\n",
       "    }\n",
       "\n",
       "    .dataframe thead th {\n",
       "        text-align: right;\n",
       "    }\n",
       "</style>\n",
       "<table border=\"1\" class=\"dataframe\">\n",
       "  <thead>\n",
       "    <tr style=\"text-align: right;\">\n",
       "      <th></th>\n",
       "      <th>County</th>\n",
       "      <th>Precinct #</th>\n",
       "      <th>Hillary Clinton/Dem</th>\n",
       "      <th>Donald J. Trump/Rep</th>\n",
       "      <th>Gary Johnson/Lib</th>\n",
       "      <th>Jill Stein/Grn</th>\n",
       "      <th>Other/Other</th>\n",
       "      <th>Total Votes</th>\n",
       "      <th>State</th>\n",
       "      <th>CName</th>\n",
       "      <th>Neighbors</th>\n",
       "      <th>Total Population</th>\n",
       "      <th>White</th>\n",
       "      <th>Black or African American</th>\n",
       "      <th>American Indian</th>\n",
       "      <th>Asian</th>\n",
       "      <th>Other Population</th>\n",
       "      <th>geometry</th>\n",
       "    </tr>\n",
       "  </thead>\n",
       "  <tbody>\n",
       "    <tr>\n",
       "      <th>0</th>\n",
       "      <td>Bristol</td>\n",
       "      <td>0101</td>\n",
       "      <td>1027</td>\n",
       "      <td>522</td>\n",
       "      <td>60</td>\n",
       "      <td>23</td>\n",
       "      <td>2</td>\n",
       "      <td>1634</td>\n",
       "      <td>ri</td>\n",
       "      <td>ri-bristol-0101</td>\n",
       "      <td>ri-bristol-0101,ri-bristol-0102; ri-bristol-01...</td>\n",
       "      <td>3268</td>\n",
       "      <td>3055</td>\n",
       "      <td>23</td>\n",
       "      <td>3</td>\n",
       "      <td>110</td>\n",
       "      <td>73</td>\n",
       "      <td>POLYGON ((-71.32270 41.77270, -71.32270 41.772...</td>\n",
       "    </tr>\n",
       "  </tbody>\n",
       "</table>\n",
       "</div>"
      ],
      "text/plain": [
       "    County Precinct # Hillary Clinton/Dem Donald J. Trump/Rep  \\\n",
       "0  Bristol       0101                1027                 522   \n",
       "\n",
       "  Gary Johnson/Lib Jill Stein/Grn Other/Other Total Votes State  \\\n",
       "0               60             23           2        1634    ri   \n",
       "\n",
       "             CName                                          Neighbors  \\\n",
       "0  ri-bristol-0101  ri-bristol-0101,ri-bristol-0102; ri-bristol-01...   \n",
       "\n",
       "   Total Population  White  Black or African American  American Indian  Asian  \\\n",
       "0              3268   3055                         23                3    110   \n",
       "\n",
       "   Other Population                                           geometry  \n",
       "0                73  POLYGON ((-71.32270 41.77270, -71.32270 41.772...  "
      ]
     },
     "execution_count": 3,
     "metadata": {},
     "output_type": "execute_result"
    }
   ],
   "source": [
    "gdf.head(1)"
   ]
  },
  {
   "cell_type": "code",
   "execution_count": 4,
   "metadata": {},
   "outputs": [],
   "source": [
    "va = gdf[gdf[\"State\"] == \"va\"]\n",
    "rest = gdf[gdf[\"State\"] != \"va\"]"
   ]
  },
  {
   "cell_type": "code",
   "execution_count": 5,
   "metadata": {},
   "outputs": [
    {
     "data": {
      "text/html": [
       "<div>\n",
       "<style scoped>\n",
       "    .dataframe tbody tr th:only-of-type {\n",
       "        vertical-align: middle;\n",
       "    }\n",
       "\n",
       "    .dataframe tbody tr th {\n",
       "        vertical-align: top;\n",
       "    }\n",
       "\n",
       "    .dataframe thead th {\n",
       "        text-align: right;\n",
       "    }\n",
       "</style>\n",
       "<table border=\"1\" class=\"dataframe\">\n",
       "  <thead>\n",
       "    <tr style=\"text-align: right;\">\n",
       "      <th></th>\n",
       "      <th>County</th>\n",
       "      <th>Precinct #</th>\n",
       "      <th>Hillary Clinton/Dem</th>\n",
       "      <th>Donald J. Trump/Rep</th>\n",
       "      <th>Gary Johnson/Lib</th>\n",
       "      <th>Jill Stein/Grn</th>\n",
       "      <th>Other/Other</th>\n",
       "      <th>Total Votes</th>\n",
       "      <th>State</th>\n",
       "      <th>CName</th>\n",
       "      <th>Neighbors</th>\n",
       "      <th>Total Population</th>\n",
       "      <th>White</th>\n",
       "      <th>Black or African American</th>\n",
       "      <th>American Indian</th>\n",
       "      <th>Asian</th>\n",
       "      <th>Other Population</th>\n",
       "      <th>geometry</th>\n",
       "    </tr>\n",
       "  </thead>\n",
       "  <tbody>\n",
       "    <tr>\n",
       "      <th>9501</th>\n",
       "      <td>Accomack</td>\n",
       "      <td>0001</td>\n",
       "      <td>486</td>\n",
       "      <td>637</td>\n",
       "      <td>16</td>\n",
       "      <td>8</td>\n",
       "      <td>4</td>\n",
       "      <td>2328</td>\n",
       "      <td>va</td>\n",
       "      <td>va-accomack-0001</td>\n",
       "      <td>va-accomack-0001,va-accomack-0010; va-accomack...</td>\n",
       "      <td>3526</td>\n",
       "      <td>2336</td>\n",
       "      <td>906</td>\n",
       "      <td>12</td>\n",
       "      <td>20</td>\n",
       "      <td>246</td>\n",
       "      <td>POLYGON ((-75.66233 37.77053, -75.66244 37.770...</td>\n",
       "    </tr>\n",
       "  </tbody>\n",
       "</table>\n",
       "</div>"
      ],
      "text/plain": [
       "        County Precinct # Hillary Clinton/Dem Donald J. Trump/Rep  \\\n",
       "9501  Accomack       0001                 486                 637   \n",
       "\n",
       "     Gary Johnson/Lib Jill Stein/Grn Other/Other Total Votes State  \\\n",
       "9501               16              8           4        2328    va   \n",
       "\n",
       "                 CName                                          Neighbors  \\\n",
       "9501  va-accomack-0001  va-accomack-0001,va-accomack-0010; va-accomack...   \n",
       "\n",
       "      Total Population  White  Black or African American  American Indian  \\\n",
       "9501              3526   2336                        906               12   \n",
       "\n",
       "      Asian  Other Population  \\\n",
       "9501     20               246   \n",
       "\n",
       "                                               geometry  \n",
       "9501  POLYGON ((-75.66233 37.77053, -75.66244 37.770...  "
      ]
     },
     "execution_count": 5,
     "metadata": {},
     "output_type": "execute_result"
    }
   ],
   "source": [
    "va.head(1)"
   ]
  },
  {
   "cell_type": "code",
   "execution_count": null,
   "metadata": {},
   "outputs": [],
   "source": []
  },
  {
   "cell_type": "code",
   "execution_count": 6,
   "metadata": {},
   "outputs": [
    {
     "data": {
      "text/html": [
       "<div>\n",
       "<style scoped>\n",
       "    .dataframe tbody tr th:only-of-type {\n",
       "        vertical-align: middle;\n",
       "    }\n",
       "\n",
       "    .dataframe tbody tr th {\n",
       "        vertical-align: top;\n",
       "    }\n",
       "\n",
       "    .dataframe thead th {\n",
       "        text-align: right;\n",
       "    }\n",
       "</style>\n",
       "<table border=\"1\" class=\"dataframe\">\n",
       "  <thead>\n",
       "    <tr style=\"text-align: right;\">\n",
       "      <th></th>\n",
       "      <th>County</th>\n",
       "      <th>geometry</th>\n",
       "    </tr>\n",
       "  </thead>\n",
       "  <tbody>\n",
       "    <tr>\n",
       "      <th>0</th>\n",
       "      <td>Accomack County</td>\n",
       "      <td>POLYGON ((-75.62204 37.45679, -75.62465 37.457...</td>\n",
       "    </tr>\n",
       "  </tbody>\n",
       "</table>\n",
       "</div>"
      ],
      "text/plain": [
       "            County                                           geometry\n",
       "0  Accomack County  POLYGON ((-75.62204 37.45679, -75.62465 37.457..."
      ]
     },
     "execution_count": 6,
     "metadata": {},
     "output_type": "execute_result"
    }
   ],
   "source": [
    "vaCounty = gpd.read_file(\"VA/geographic/County/VA_County_Cleaned.json\")\n",
    "vaCounty.head(1)"
   ]
  },
  {
   "cell_type": "code",
   "execution_count": null,
   "metadata": {},
   "outputs": [],
   "source": []
  },
  {
   "cell_type": "code",
   "execution_count": null,
   "metadata": {},
   "outputs": [],
   "source": []
  },
  {
   "cell_type": "code",
   "execution_count": null,
   "metadata": {},
   "outputs": [],
   "source": []
  },
  {
   "cell_type": "code",
   "execution_count": 7,
   "metadata": {},
   "outputs": [],
   "source": [
    "g = vaCounty[vaCounty[\"County\"] == \"Rockbridge County\"]"
   ]
  },
  {
   "cell_type": "code",
   "execution_count": 9,
   "metadata": {},
   "outputs": [
    {
     "data": {
      "text/plain": [
       "<matplotlib.axes._subplots.AxesSubplot at 0x11832c550>"
      ]
     },
     "execution_count": 9,
     "metadata": {},
     "output_type": "execute_result"
    },
    {
     "data": {
      "image/png": "[encoded data removed]",
      "text/plain": [
       "<Figure size 432x288 with 1 Axes>"
      ]
     },
     "metadata": {
      "needs_background": "light"
     },
     "output_type": "display_data"
    }
   ],
   "source": [
    "g.plot()"
   ]
  },
  {
   "cell_type": "code",
   "execution_count": null,
   "metadata": {},
   "outputs": [],
   "source": []
  },
  {
   "cell_type": "code",
   "execution_count": null,
   "metadata": {},
   "outputs": [],
   "source": []
  },
  {
   "cell_type": "code",
   "execution_count": null,
   "metadata": {},
   "outputs": [],
   "source": []
  },
  {
   "cell_type": "code",
   "execution_count": null,
   "metadata": {},
   "outputs": [],
   "source": []
  },
  {
   "cell_type": "code",
   "execution_count": null,
   "metadata": {},
   "outputs": [],
   "source": []
  },
  {
   "cell_type": "code",
   "execution_count": 8,
   "metadata": {},
   "outputs": [],
   "source": [
    "cityMapper = {}\n",
    "# will not delete now\n",
    "def mergeAndDelete(gdf, mergerName, mergeeName, cityMapper, debug=False):\n",
    "    cityMapper[mergeeName] = mergerName\n",
    "    \n",
    "    vaCounty[\"New\"] = \"\"\n",
    "    countyIndex = gdf[gdf[\"County\"] == mergerName].index.to_list()[0]\n",
    "    cityIndex = gdf[gdf[\"County\"] == mergeeName].index.to_list()[0]\n",
    "    \n",
    "    if debug:\n",
    "        print(countyIndex, cityIndex)\n",
    "    \n",
    "    countyShape = gdf.at[countyIndex, \"geometry\"]\n",
    "    cityShape = gdf.at[cityIndex, \"geometry\"]\n",
    "    \n",
    "    if debug:\n",
    "        print(\"\\n\", type(countyShape))\n",
    "        print(type(cityShape))\n",
    "        print(\"\\n\", countyShape.intersects(cityShape), \"\\n\")\n",
    "\n",
    "    new_m = \"\"\n",
    "    if countyShape.geom_type == \"MultiPolygon\" and cityShape.geom_type == \"MultiPolygon\":\n",
    "        new_m = MultiPolygon([s for s in countyShape] + [s for s in cityShape])\n",
    "        if debug:\n",
    "            print(\"mode MM\")\n",
    "    elif countyShape.geom_type == \"MultiPolygon\" and cityShape.geom_type == \"Polygon\":\n",
    "        if debug:\n",
    "            print(\"mode MP\")\n",
    "        new_m = MultiPolygon([s for s in countyShape] + [cityShape])\n",
    "    elif countyShape.geom_type == \"Polygon\" and cityShape.geom_type == \"MultiPolygon\":\n",
    "        if debug:\n",
    "            print(\"mode PM\")\n",
    "        new_m = MultiPolygon([s for s in cityShape] + [countyShape])\n",
    "    else:\n",
    "        if debug:\n",
    "            print(\"mode PP\")\n",
    "        new_m = MultiPolygon([countyShape, cityShape])\n",
    "    \n",
    "    for index, row in gdf.iterrows():\n",
    "        if index != countyIndex:\n",
    "            gdf.at[index, \"New\"] = gdf.at[index, \"geometry\"]\n",
    "    \n",
    "    gdf.at[countyIndex, \"New\"] = new_m\n",
    "    # gdf.drop(index=cityIndex, inplace=True)\n",
    "    gdf.set_geometry(\"New\", inplace=True, drop=True)\n",
    "    \n",
    "    return gdf"
   ]
  },
  {
   "cell_type": "code",
   "execution_count": 9,
   "metadata": {},
   "outputs": [],
   "source": [
    "def deletionTest(gdf, county):\n",
    "    return gdf.drop(gdf[gdf[\"County\"] == county].index.to_list()[0]).copy()"
   ]
  },
  {
   "cell_type": "code",
   "execution_count": 10,
   "metadata": {},
   "outputs": [],
   "source": [
    "# \"Wise County\", \"Norton City\"\n",
    "vaCounty = mergeAndDelete(vaCounty, \"Wise County\", \"Norton City\", cityMapper)"
   ]
  },
  {
   "cell_type": "code",
   "execution_count": 11,
   "metadata": {},
   "outputs": [],
   "source": [
    "# \"Washington County\" \"Bristol City\"\n",
    "vaCounty = mergeAndDelete(vaCounty, \"Washington County\", \"Bristol City\", cityMapper)"
   ]
  },
  {
   "cell_type": "code",
   "execution_count": 12,
   "metadata": {},
   "outputs": [],
   "source": [
    "# \"Hnery County\" \"Martinsville City\"\n",
    "vaCounty = mergeAndDelete(vaCounty, \"Henry County\", \"Martinsville City\", cityMapper)"
   ]
  },
  {
   "cell_type": "code",
   "execution_count": 13,
   "metadata": {},
   "outputs": [],
   "source": [
    "# \"Roanoke County\", \"Salem City\"\n",
    "vaCounty = mergeAndDelete(vaCounty, \"Roanoke County\", \"Salem City\", cityMapper)"
   ]
  },
  {
   "cell_type": "code",
   "execution_count": 14,
   "metadata": {},
   "outputs": [],
   "source": [
    "# \"Roanoke County\", \"Roanoke City\"\n",
    "vaCounty = mergeAndDelete(vaCounty, \"Roanoke County\", \"Roanoke City\", cityMapper)"
   ]
  },
  {
   "cell_type": "code",
   "execution_count": 15,
   "metadata": {},
   "outputs": [],
   "source": [
    "# \"Alleghany County\", \"Covington City\"\n",
    "vaCounty = mergeAndDelete(vaCounty, \"Alleghany County\", \"Covington City\", cityMapper)"
   ]
  },
  {
   "cell_type": "code",
   "execution_count": 16,
   "metadata": {},
   "outputs": [],
   "source": [
    "# \"Rockbridge County\", \"Lexington City\"\"\n",
    "vaCounty = mergeAndDelete(vaCounty, \"Rockbridge County\", \"Lexington City\", cityMapper)\n",
    "# \"Rockbridge County\", \"Buena Vista City\"\n",
    "vaCounty = mergeAndDelete(vaCounty, \"Rockbridge County\", \"Buena Vista City\", cityMapper)"
   ]
  },
  {
   "cell_type": "code",
   "execution_count": 17,
   "metadata": {},
   "outputs": [],
   "source": [
    "# \"Augusta County\", \"\"Staunton City\"\n",
    "vaCounty = mergeAndDelete(vaCounty, \"Augusta County\", \"Staunton City\", cityMapper)\n",
    "# \"Augusta County\", \"\"Waynesboro City\"\n",
    "vaCounty = mergeAndDelete(vaCounty, \"Augusta County\", \"Waynesboro City\", cityMapper)"
   ]
  },
  {
   "cell_type": "code",
   "execution_count": 18,
   "metadata": {},
   "outputs": [],
   "source": [
    "# \"Rockingham County\", \"\"Harrisonburg City\"\n",
    "vaCounty = mergeAndDelete(vaCounty, \"Rockingham County\", \"Harrisonburg City\", cityMapper)"
   ]
  },
  {
   "cell_type": "code",
   "execution_count": 19,
   "metadata": {},
   "outputs": [],
   "source": [
    "# \"Albemarle County\", \"\"Charlottesville City\"\n",
    "vaCounty = mergeAndDelete(vaCounty, \"Albemarle County\", \"Charlottesville City\", cityMapper)"
   ]
  },
  {
   "cell_type": "code",
   "execution_count": 20,
   "metadata": {},
   "outputs": [],
   "source": [
    "# \"Greensville County\", \"Emporia City\"\n",
    "vaCounty = mergeAndDelete(vaCounty, \"Greensville County\", \"Emporia City\", cityMapper)"
   ]
  },
  {
   "cell_type": "code",
   "execution_count": 21,
   "metadata": {},
   "outputs": [],
   "source": [
    "# \"Chesterfield County\", \"Colonial Heights City\"\n",
    "vaCounty = mergeAndDelete(vaCounty, \"Chesterfield County\", \"Colonial Heights City\", cityMapper)"
   ]
  },
  {
   "cell_type": "code",
   "execution_count": 22,
   "metadata": {},
   "outputs": [],
   "source": [
    "# \"Prince George County\", \"Hopewell City\"\n",
    "vaCounty = mergeAndDelete(vaCounty, \"Prince George County\", \"Hopewell City\", cityMapper)"
   ]
  },
  {
   "cell_type": "code",
   "execution_count": 23,
   "metadata": {},
   "outputs": [],
   "source": [
    "# \"Frederick County\", \"Winchester City\"\n",
    "vaCounty = mergeAndDelete(vaCounty, \"Frederick County\", \"Winchester City\", cityMapper)"
   ]
  },
  {
   "cell_type": "code",
   "execution_count": 24,
   "metadata": {},
   "outputs": [],
   "source": [
    "# \"Prince William County\", \"Manassas City\"\n",
    "vaCounty = mergeAndDelete(vaCounty, \"Prince William County\", \"Manassas City\", cityMapper)\n",
    "# \"Prince William County\", \"Manassas Park City\"\n",
    "vaCounty = mergeAndDelete(vaCounty, \"Prince William County\", \"Manassas Park City\", cityMapper)"
   ]
  },
  {
   "cell_type": "code",
   "execution_count": 25,
   "metadata": {},
   "outputs": [],
   "source": [
    "# \"Fairfax County\", \"Fairfax City\"\n",
    "vaCounty = mergeAndDelete(vaCounty, \"Fairfax County\", \"Fairfax City\", cityMapper)"
   ]
  },
  {
   "cell_type": "code",
   "execution_count": 26,
   "metadata": {},
   "outputs": [],
   "source": [
    "# \"Pittsylvania County\", \"Danville City\"\n",
    "vaCounty = mergeAndDelete(vaCounty, \"Pittsylvania County\", \"Danville City\", cityMapper)"
   ]
  },
  {
   "cell_type": "code",
   "execution_count": 27,
   "metadata": {},
   "outputs": [],
   "source": [
    "vaCounty.to_file(\"VA/geographic/County/VA_County_CityFixed2.json\", driver=\"GeoJSON\")"
   ]
  },
  {
   "cell_type": "code",
   "execution_count": null,
   "metadata": {},
   "outputs": [],
   "source": []
  },
  {
   "cell_type": "code",
   "execution_count": null,
   "metadata": {},
   "outputs": [],
   "source": []
  },
  {
   "cell_type": "markdown",
   "metadata": {},
   "source": [
    "# done fixing county and city, now fix them in the precinct dataset"
   ]
  },
  {
   "cell_type": "code",
   "execution_count": 658,
   "metadata": {},
   "outputs": [
    {
     "data": {
      "text/plain": [
       "{'Norton City': 'Wise County',\n",
       " 'Bristol City': 'Washington County',\n",
       " 'Martinsville City': 'Henry County',\n",
       " 'Salem City': 'Roanoke County',\n",
       " 'Roanoke City': 'Roanoke County',\n",
       " 'Covington City': 'Alleghany County',\n",
       " 'Lexington City': 'Rockbridge County',\n",
       " 'Buena Vista City': 'Rockbridge County',\n",
       " 'Staunton City': 'Augusta County',\n",
       " 'Waynesboro City': 'Augusta County',\n",
       " 'Harrisonburg City': 'Rockingham County',\n",
       " 'Charlottesville City': 'Albemarle County',\n",
       " 'Emporia City': 'Greensville County',\n",
       " 'Colonial Heights City': 'Chesterfield County',\n",
       " 'Hopewell City': 'Prince George County',\n",
       " 'Winchester City': 'Frederick County',\n",
       " 'Manassas City': 'Prince William County',\n",
       " 'Manassas Park City': 'Prince William County',\n",
       " 'Fairfax City': 'Fairfax County',\n",
       " 'Danville City': 'Pittsylvania County'}"
      ]
     },
     "execution_count": 658,
     "metadata": {},
     "output_type": "execute_result"
    }
   ],
   "source": [
    "cityMapper"
   ]
  },
  {
   "cell_type": "code",
   "execution_count": 659,
   "metadata": {},
   "outputs": [],
   "source": [
    "def normalize(string):\n",
    "    splited = string.split(\" \")\n",
    "    if splited[1] != \"County\":\n",
    "        return ''.join(splited)\n",
    "    else:\n",
    "        return splited[0]"
   ]
  },
  {
   "cell_type": "code",
   "execution_count": 660,
   "metadata": {},
   "outputs": [],
   "source": [
    "for index, row in vaCounty.iterrows():\n",
    "    vaCounty.at[index, \"County\"] = normalize(row[\"County\"])"
   ]
  },
  {
   "cell_type": "code",
   "execution_count": 661,
   "metadata": {},
   "outputs": [
    {
     "data": {
      "text/plain": [
       "{'NortonCity': 'Wise',\n",
       " 'BristolCity': 'Washington',\n",
       " 'MartinsvilleCity': 'Henry',\n",
       " 'SalemCity': 'Roanoke',\n",
       " 'RoanokeCity': 'Roanoke',\n",
       " 'CovingtonCity': 'Alleghany',\n",
       " 'LexingtonCity': 'Rockbridge',\n",
       " 'BuenaVistaCity': 'Rockbridge',\n",
       " 'StauntonCity': 'Augusta',\n",
       " 'WaynesboroCity': 'Augusta',\n",
       " 'HarrisonburgCity': 'Rockingham',\n",
       " 'CharlottesvilleCity': 'Albemarle',\n",
       " 'EmporiaCity': 'Greensville',\n",
       " 'ColonialHeightsCity': 'Chesterfield',\n",
       " 'HopewellCity': 'PrinceGeorgeCounty',\n",
       " 'WinchesterCity': 'Frederick',\n",
       " 'ManassasCity': 'PrinceWilliamCounty',\n",
       " 'ManassasParkCity': 'PrinceWilliamCounty',\n",
       " 'FairfaxCity': 'Fairfax',\n",
       " 'DanvilleCity': 'Pittsylvania'}"
      ]
     },
     "execution_count": 661,
     "metadata": {},
     "output_type": "execute_result"
    }
   ],
   "source": [
    "norm_mapper = {}\n",
    "for key, value in cityMapper.items():\n",
    "    norm_mapper[normalize(key)] = normalize(value)\n",
    "norm_mapper"
   ]
  },
  {
   "cell_type": "code",
   "execution_count": 662,
   "metadata": {},
   "outputs": [],
   "source": [
    "# check if all normalized name is correct\n",
    "# og 133\n",
    "realCounty = list(va[\"County\"].unique())\n",
    "normCounty = list(norm_mapper.keys()) + list(norm_mapper.values())\n",
    "\n",
    "for name in normCounty:\n",
    "    if name not in realCounty:\n",
    "        print(name)"
   ]
  },
  {
   "cell_type": "code",
   "execution_count": 663,
   "metadata": {},
   "outputs": [],
   "source": [
    "# change county name using mapper\n",
    "for index, row in va.iterrows():\n",
    "    county = row[\"County\"]\n",
    "    if county in norm_mapper.keys():\n",
    "        va.at[index, \"County\"] = norm_mapper[county]"
   ]
  },
  {
   "cell_type": "code",
   "execution_count": 664,
   "metadata": {},
   "outputs": [
    {
     "data": {
      "text/plain": [
       "113"
      ]
     },
     "execution_count": 664,
     "metadata": {},
     "output_type": "execute_result"
    }
   ],
   "source": [
    "len(va[\"County\"].unique())"
   ]
  },
  {
   "cell_type": "markdown",
   "metadata": {},
   "source": [
    "# fix va cname"
   ]
  },
  {
   "cell_type": "code",
   "execution_count": 668,
   "metadata": {},
   "outputs": [
    {
     "name": "stderr",
     "output_type": "stream",
     "text": [
      "/usr/local/lib/python3.7/site-packages/ipykernel_launcher.py:2: SettingWithCopyWarning: \n",
      "A value is trying to be set on a copy of a slice from a DataFrame.\n",
      "Try using .loc[row_indexer,col_indexer] = value instead\n",
      "\n",
      "See the caveats in the documentation: https://pandas.pydata.org/pandas-docs/stable/user_guide/indexing.html#returning-a-view-versus-a-copy\n",
      "  \n"
     ]
    }
   ],
   "source": [
    "for index, row in va.iterrows():\n",
    "    va[\"CName\"] = \"va-\" + row[\"County\"] + \"-\" + row[\"Precinct #\"]"
   ]
  },
  {
   "cell_type": "code",
   "execution_count": null,
   "metadata": {},
   "outputs": [],
   "source": []
  },
  {
   "cell_type": "code",
   "execution_count": 669,
   "metadata": {},
   "outputs": [],
   "source": [
    "merged = pd.concat([va, rest], ignore_index=True)"
   ]
  },
  {
   "cell_type": "code",
   "execution_count": 670,
   "metadata": {},
   "outputs": [
    {
     "data": {
      "text/plain": [
       "array(['va', 'ri', 'tx'], dtype=object)"
      ]
     },
     "execution_count": 670,
     "metadata": {},
     "output_type": "execute_result"
    }
   ],
   "source": [
    "merged[\"State\"].unique()"
   ]
  },
  {
   "cell_type": "code",
   "execution_count": 671,
   "metadata": {},
   "outputs": [
    {
     "data": {
      "text/html": [
       "<div>\n",
       "<style scoped>\n",
       "    .dataframe tbody tr th:only-of-type {\n",
       "        vertical-align: middle;\n",
       "    }\n",
       "\n",
       "    .dataframe tbody tr th {\n",
       "        vertical-align: top;\n",
       "    }\n",
       "\n",
       "    .dataframe thead th {\n",
       "        text-align: right;\n",
       "    }\n",
       "</style>\n",
       "<table border=\"1\" class=\"dataframe\">\n",
       "  <thead>\n",
       "    <tr style=\"text-align: right;\">\n",
       "      <th></th>\n",
       "      <th>County</th>\n",
       "      <th>Precinct #</th>\n",
       "      <th>Hillary Clinton/Dem</th>\n",
       "      <th>Donald J. Trump/Rep</th>\n",
       "      <th>Gary Johnson/Lib</th>\n",
       "      <th>Jill Stein/Grn</th>\n",
       "      <th>Other/Other</th>\n",
       "      <th>Total Votes</th>\n",
       "      <th>State</th>\n",
       "      <th>CName</th>\n",
       "      <th>Neighbors</th>\n",
       "      <th>Total Population</th>\n",
       "      <th>White</th>\n",
       "      <th>Black or African American</th>\n",
       "      <th>American Indian</th>\n",
       "      <th>Asian</th>\n",
       "      <th>Other Population</th>\n",
       "      <th>geometry</th>\n",
       "    </tr>\n",
       "  </thead>\n",
       "  <tbody>\n",
       "    <tr>\n",
       "      <th>0</th>\n",
       "      <td>Accomack</td>\n",
       "      <td>0001</td>\n",
       "      <td>486</td>\n",
       "      <td>637</td>\n",
       "      <td>16</td>\n",
       "      <td>8</td>\n",
       "      <td>4</td>\n",
       "      <td>2328</td>\n",
       "      <td>va</td>\n",
       "      <td>va-York-2446</td>\n",
       "      <td>va-accomack-0001,va-accomack-0010; va-accomack...</td>\n",
       "      <td>3526</td>\n",
       "      <td>2336</td>\n",
       "      <td>906</td>\n",
       "      <td>12</td>\n",
       "      <td>20</td>\n",
       "      <td>246</td>\n",
       "      <td>POLYGON ((-75.66233 37.77053, -75.66244 37.770...</td>\n",
       "    </tr>\n",
       "    <tr>\n",
       "      <th>1</th>\n",
       "      <td>Accomack</td>\n",
       "      <td>0002</td>\n",
       "      <td>175</td>\n",
       "      <td>553</td>\n",
       "      <td>13</td>\n",
       "      <td>1</td>\n",
       "      <td>1</td>\n",
       "      <td>1500</td>\n",
       "      <td>va</td>\n",
       "      <td>va-York-2446</td>\n",
       "      <td>va-accomack-0002,va-accomack-0003; va-accomack...</td>\n",
       "      <td>1522</td>\n",
       "      <td>900</td>\n",
       "      <td>492</td>\n",
       "      <td>4</td>\n",
       "      <td>7</td>\n",
       "      <td>112</td>\n",
       "      <td>POLYGON ((-75.41651 37.93483, -75.41645 37.934...</td>\n",
       "    </tr>\n",
       "  </tbody>\n",
       "</table>\n",
       "</div>"
      ],
      "text/plain": [
       "     County Precinct # Hillary Clinton/Dem Donald J. Trump/Rep  \\\n",
       "0  Accomack       0001                 486                 637   \n",
       "1  Accomack       0002                 175                 553   \n",
       "\n",
       "  Gary Johnson/Lib Jill Stein/Grn Other/Other Total Votes State         CName  \\\n",
       "0               16              8           4        2328    va  va-York-2446   \n",
       "1               13              1           1        1500    va  va-York-2446   \n",
       "\n",
       "                                           Neighbors  Total Population  White  \\\n",
       "0  va-accomack-0001,va-accomack-0010; va-accomack...              3526   2336   \n",
       "1  va-accomack-0002,va-accomack-0003; va-accomack...              1522    900   \n",
       "\n",
       "   Black or African American  American Indian  Asian  Other Population  \\\n",
       "0                        906               12     20               246   \n",
       "1                        492                4      7               112   \n",
       "\n",
       "                                            geometry  \n",
       "0  POLYGON ((-75.66233 37.77053, -75.66244 37.770...  \n",
       "1  POLYGON ((-75.41651 37.93483, -75.41645 37.934...  "
      ]
     },
     "execution_count": 671,
     "metadata": {},
     "output_type": "execute_result"
    }
   ],
   "source": [
    "merged.head(2)"
   ]
  },
  {
   "cell_type": "code",
   "execution_count": 672,
   "metadata": {},
   "outputs": [],
   "source": [
    "merged.to_file(\"all_states_precincts_cname_neighbor_demo.json\", driver=\"GeoJSON\")"
   ]
  },
  {
   "cell_type": "code",
   "execution_count": null,
   "metadata": {},
   "outputs": [],
   "source": []
  },
  {
   "cell_type": "code",
   "execution_count": null,
   "metadata": {},
   "outputs": [],
   "source": []
  },
  {
   "cell_type": "code",
   "execution_count": null,
   "metadata": {},
   "outputs": [],
   "source": []
  },
  {
   "cell_type": "code",
   "execution_count": null,
   "metadata": {},
   "outputs": [],
   "source": []
  },
  {
   "cell_type": "code",
   "execution_count": null,
   "metadata": {},
   "outputs": [],
   "source": []
  },
  {
   "cell_type": "code",
   "execution_count": null,
   "metadata": {},
   "outputs": [],
   "source": []
  },
  {
   "cell_type": "code",
   "execution_count": null,
   "metadata": {},
   "outputs": [],
   "source": []
  }
 ],
 "metadata": {
  "kernelspec": {
   "display_name": "myenv",
   "language": "python",
   "name": "myenv"
  },
  "language_info": {
   "codemirror_mode": {
    "name": "ipython",
    "version": 3
   },
   "file_extension": ".py",
   "mimetype": "text/x-python",
   "name": "python",
   "nbconvert_exporter": "python",
   "pygments_lexer": "ipython3",
   "version": "3.7.7"
  }
 },
 "nbformat": 4,
 "nbformat_minor": 4
}
