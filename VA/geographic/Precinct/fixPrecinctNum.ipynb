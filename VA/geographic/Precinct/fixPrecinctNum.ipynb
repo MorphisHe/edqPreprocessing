{
 "cells": [
  {
   "cell_type": "code",
   "execution_count": 1,
   "metadata": {},
   "outputs": [],
   "source": [
    "import geopandas as gpd"
   ]
  },
  {
   "cell_type": "code",
   "execution_count": 2,
   "metadata": {},
   "outputs": [],
   "source": [
    "gdf = gpd.read_file(\"VA_Precinct_Cleaned.json\")"
   ]
  },
  {
   "cell_type": "code",
   "execution_count": 5,
   "metadata": {},
   "outputs": [],
   "source": [
    "index = gdf[gdf[\"Precinct #\"] == \"\"].index"
   ]
  },
  {
   "cell_type": "code",
   "execution_count": 9,
   "metadata": {},
   "outputs": [],
   "source": [
    "precinctNum = 3000\n",
    "for i in index:\n",
    "    gdf.at[i, \"Precinct #\"] = str(precinctNum)\n",
    "    precinctNum += 1"
   ]
  },
  {
   "cell_type": "code",
   "execution_count": 10,
   "metadata": {},
   "outputs": [
    {
     "data": {
      "text/html": [
       "<div>\n",
       "<style scoped>\n",
       "    .dataframe tbody tr th:only-of-type {\n",
       "        vertical-align: middle;\n",
       "    }\n",
       "\n",
       "    .dataframe tbody tr th {\n",
       "        vertical-align: top;\n",
       "    }\n",
       "\n",
       "    .dataframe thead th {\n",
       "        text-align: right;\n",
       "    }\n",
       "</style>\n",
       "<table border=\"1\" class=\"dataframe\">\n",
       "  <thead>\n",
       "    <tr style=\"text-align: right;\">\n",
       "      <th></th>\n",
       "      <th>Precinct #</th>\n",
       "      <th>fips</th>\n",
       "      <th>ID</th>\n",
       "      <th>County</th>\n",
       "      <th>Precinct Name</th>\n",
       "      <th>geometry</th>\n",
       "    </tr>\n",
       "  </thead>\n",
       "  <tbody>\n",
       "  </tbody>\n",
       "</table>\n",
       "</div>"
      ],
      "text/plain": [
       "Empty GeoDataFrame\n",
       "Columns: [Precinct #, fips, ID, County, Precinct Name, geometry]\n",
       "Index: []"
      ]
     },
     "execution_count": 10,
     "metadata": {},
     "output_type": "execute_result"
    }
   ],
   "source": [
    "gdf[gdf[\"Precinct #\"] == \"\"]"
   ]
  },
  {
   "cell_type": "code",
   "execution_count": 11,
   "metadata": {},
   "outputs": [
    {
     "name": "stdout",
     "output_type": "stream",
     "text": [
      "2446 387\n"
     ]
    }
   ],
   "source": [
    "print(len(gdf), len(gdf[\"Precinct #\"].unique()))"
   ]
  },
  {
   "cell_type": "code",
   "execution_count": 14,
   "metadata": {},
   "outputs": [],
   "source": [
    "gdf[\"CName\"] = \"\"\n",
    "for index, row in gdf.iterrows():\n",
    "    gdf.at[index, \"CName\"] = row[\"County\"] + \"-\" + row[\"Precinct #\"]"
   ]
  },
  {
   "cell_type": "code",
   "execution_count": 15,
   "metadata": {},
   "outputs": [
    {
     "name": "stdout",
     "output_type": "stream",
     "text": [
      "2446 2445\n"
     ]
    }
   ],
   "source": [
    "print(len(gdf), len(gdf[\"CName\"].unique()))"
   ]
  },
  {
   "cell_type": "code",
   "execution_count": 16,
   "metadata": {},
   "outputs": [
    {
     "data": {
      "text/html": [
       "<div>\n",
       "<style scoped>\n",
       "    .dataframe tbody tr th:only-of-type {\n",
       "        vertical-align: middle;\n",
       "    }\n",
       "\n",
       "    .dataframe tbody tr th {\n",
       "        vertical-align: top;\n",
       "    }\n",
       "\n",
       "    .dataframe thead th {\n",
       "        text-align: right;\n",
       "    }\n",
       "</style>\n",
       "<table border=\"1\" class=\"dataframe\">\n",
       "  <thead>\n",
       "    <tr style=\"text-align: right;\">\n",
       "      <th></th>\n",
       "      <th>Precinct #</th>\n",
       "      <th>fips</th>\n",
       "      <th>ID</th>\n",
       "      <th>County</th>\n",
       "      <th>Precinct Name</th>\n",
       "      <th>geometry</th>\n",
       "      <th>CName</th>\n",
       "    </tr>\n",
       "  </thead>\n",
       "  <tbody>\n",
       "    <tr>\n",
       "      <th>1993</th>\n",
       "      <td>102</td>\n",
       "      <td>51161</td>\n",
       "      <td>51161102</td>\n",
       "      <td>Roanoke County</td>\n",
       "      <td>Masons Valley</td>\n",
       "      <td>POLYGON ((-8910700.656 4487515.667, -8910715.3...</td>\n",
       "      <td>Roanoke County-102</td>\n",
       "    </tr>\n",
       "  </tbody>\n",
       "</table>\n",
       "</div>"
      ],
      "text/plain": [
       "     Precinct #   fips        ID          County  Precinct Name  \\\n",
       "1993        102  51161  51161102  Roanoke County  Masons Valley   \n",
       "\n",
       "                                               geometry               CName  \n",
       "1993  POLYGON ((-8910700.656 4487515.667, -8910715.3...  Roanoke County-102  "
      ]
     },
     "execution_count": 16,
     "metadata": {},
     "output_type": "execute_result"
    }
   ],
   "source": [
    "gdf[gdf.duplicated([\"CName\"])]"
   ]
  },
  {
   "cell_type": "code",
   "execution_count": 17,
   "metadata": {},
   "outputs": [
    {
     "data": {
      "text/html": [
       "<div>\n",
       "<style scoped>\n",
       "    .dataframe tbody tr th:only-of-type {\n",
       "        vertical-align: middle;\n",
       "    }\n",
       "\n",
       "    .dataframe tbody tr th {\n",
       "        vertical-align: top;\n",
       "    }\n",
       "\n",
       "    .dataframe thead th {\n",
       "        text-align: right;\n",
       "    }\n",
       "</style>\n",
       "<table border=\"1\" class=\"dataframe\">\n",
       "  <thead>\n",
       "    <tr style=\"text-align: right;\">\n",
       "      <th></th>\n",
       "      <th>Precinct #</th>\n",
       "      <th>fips</th>\n",
       "      <th>ID</th>\n",
       "      <th>County</th>\n",
       "      <th>Precinct Name</th>\n",
       "      <th>geometry</th>\n",
       "      <th>CName</th>\n",
       "    </tr>\n",
       "  </thead>\n",
       "  <tbody>\n",
       "    <tr>\n",
       "      <th>1992</th>\n",
       "      <td>102</td>\n",
       "      <td>51161</td>\n",
       "      <td>51161102</td>\n",
       "      <td>Roanoke County</td>\n",
       "      <td>Mason Valley</td>\n",
       "      <td>POLYGON ((-8910700.656 4487515.667, -8910715.3...</td>\n",
       "      <td>Roanoke County-102</td>\n",
       "    </tr>\n",
       "    <tr>\n",
       "      <th>1993</th>\n",
       "      <td>102</td>\n",
       "      <td>51161</td>\n",
       "      <td>51161102</td>\n",
       "      <td>Roanoke County</td>\n",
       "      <td>Masons Valley</td>\n",
       "      <td>POLYGON ((-8910700.656 4487515.667, -8910715.3...</td>\n",
       "      <td>Roanoke County-102</td>\n",
       "    </tr>\n",
       "  </tbody>\n",
       "</table>\n",
       "</div>"
      ],
      "text/plain": [
       "     Precinct #   fips        ID          County  Precinct Name  \\\n",
       "1992        102  51161  51161102  Roanoke County   Mason Valley   \n",
       "1993        102  51161  51161102  Roanoke County  Masons Valley   \n",
       "\n",
       "                                               geometry               CName  \n",
       "1992  POLYGON ((-8910700.656 4487515.667, -8910715.3...  Roanoke County-102  \n",
       "1993  POLYGON ((-8910700.656 4487515.667, -8910715.3...  Roanoke County-102  "
      ]
     },
     "execution_count": 17,
     "metadata": {},
     "output_type": "execute_result"
    }
   ],
   "source": [
    "gdf[gdf[\"CName\"] == \"Roanoke County-102\"]"
   ]
  },
  {
   "cell_type": "code",
   "execution_count": 20,
   "metadata": {},
   "outputs": [],
   "source": [
    "gdf.at[1993, \"Precinct #\"] = \"1033\""
   ]
  },
  {
   "cell_type": "code",
   "execution_count": 21,
   "metadata": {},
   "outputs": [
    {
     "name": "stdout",
     "output_type": "stream",
     "text": [
      "2446 2446\n"
     ]
    }
   ],
   "source": [
    "gdf[\"CName\"] = \"\"\n",
    "for index, row in gdf.iterrows():\n",
    "    gdf.at[index, \"CName\"] = row[\"County\"] + \"-\" + row[\"Precinct #\"]\n",
    "    \n",
    "print(len(gdf), len(gdf[\"CName\"].unique()))"
   ]
  },
  {
   "cell_type": "code",
   "execution_count": 22,
   "metadata": {},
   "outputs": [],
   "source": [
    "gdf.to_file(\"VA_Precinct_Cleaned.json\", driver=\"GeoJSON\")"
   ]
  },
  {
   "cell_type": "code",
   "execution_count": null,
   "metadata": {},
   "outputs": [],
   "source": []
  },
  {
   "cell_type": "code",
   "execution_count": null,
   "metadata": {},
   "outputs": [],
   "source": []
  },
  {
   "cell_type": "markdown",
   "metadata": {},
   "source": [
    "# convert to EPSG 4326"
   ]
  },
  {
   "cell_type": "code",
   "execution_count": 2,
   "metadata": {},
   "outputs": [],
   "source": [
    "import geopandas as gpd"
   ]
  },
  {
   "cell_type": "code",
   "execution_count": 10,
   "metadata": {},
   "outputs": [
    {
     "data": {
      "text/html": [
       "<div>\n",
       "<style scoped>\n",
       "    .dataframe tbody tr th:only-of-type {\n",
       "        vertical-align: middle;\n",
       "    }\n",
       "\n",
       "    .dataframe tbody tr th {\n",
       "        vertical-align: top;\n",
       "    }\n",
       "\n",
       "    .dataframe thead th {\n",
       "        text-align: right;\n",
       "    }\n",
       "</style>\n",
       "<table border=\"1\" class=\"dataframe\">\n",
       "  <thead>\n",
       "    <tr style=\"text-align: right;\">\n",
       "      <th></th>\n",
       "      <th>Precinct #</th>\n",
       "      <th>fips</th>\n",
       "      <th>ID</th>\n",
       "      <th>County</th>\n",
       "      <th>Precinct Name</th>\n",
       "      <th>geometry</th>\n",
       "    </tr>\n",
       "  </thead>\n",
       "  <tbody>\n",
       "    <tr>\n",
       "      <th>0</th>\n",
       "      <td>601</td>\n",
       "      <td>51001</td>\n",
       "      <td>51001601</td>\n",
       "      <td>Accomack County</td>\n",
       "      <td>Accomac</td>\n",
       "      <td>POLYGON ((-8422691.714 4547060.345, -8422703.9...</td>\n",
       "    </tr>\n",
       "  </tbody>\n",
       "</table>\n",
       "</div>"
      ],
      "text/plain": [
       "  Precinct #   fips        ID           County Precinct Name  \\\n",
       "0        601  51001  51001601  Accomack County       Accomac   \n",
       "\n",
       "                                            geometry  \n",
       "0  POLYGON ((-8422691.714 4547060.345, -8422703.9...  "
      ]
     },
     "execution_count": 10,
     "metadata": {},
     "output_type": "execute_result"
    }
   ],
   "source": [
    "gdf = gpd.read_file(\"VA_Precinct_Cleaned.json\")\n",
    "gdfcopy = gdf.copy()\n",
    "gdf.head(1)"
   ]
  },
  {
   "cell_type": "code",
   "execution_count": 12,
   "metadata": {},
   "outputs": [
    {
     "data": {
      "text/plain": [
       "<Projected CRS: EPSG:32146>\n",
       "Name: NAD83 / Virginia North\n",
       "Axis Info [cartesian]:\n",
       "- X[east]: Easting (metre)\n",
       "- Y[north]: Northing (metre)\n",
       "Area of Use:\n",
       "- name: USA - Virginia - SPCS - N\n",
       "- bounds: (-80.06, 37.77, -76.51, 39.46)\n",
       "Coordinate Operation:\n",
       "- name: SPCS83 Virginia North zone (meters)\n",
       "- method: Lambert Conic Conformal (2SP)\n",
       "Datum: North American Datum 1983\n",
       "- Ellipsoid: GRS 1980\n",
       "- Prime Meridian: Greenwich"
      ]
     },
     "execution_count": 12,
     "metadata": {},
     "output_type": "execute_result"
    }
   ],
   "source": [
    "gdf.crs"
   ]
  },
  {
   "cell_type": "code",
   "execution_count": 25,
   "metadata": {},
   "outputs": [],
   "source": [
    "gdf = gdfcopy.copy()"
   ]
  },
  {
   "cell_type": "code",
   "execution_count": 26,
   "metadata": {},
   "outputs": [
    {
     "name": "stderr",
     "output_type": "stream",
     "text": [
      "/usr/local/lib/python3.7/site-packages/pyproj/crs/crs.py:53: FutureWarning: '+init=<authority>:<code>' syntax is deprecated. '<authority>:<code>' is the preferred initialization method. When making the change, be mindful of axis order changes: https://pyproj4.github.io/pyproj/stable/gotchas.html#axis-order-changes-in-proj-6\n",
      "  return _prepare_from_string(\" \".join(pjargs))\n"
     ]
    }
   ],
   "source": [
    "gdf.crs = {\"init\": \"epsg:3857\"}\n",
    "gdf = gdf.to_crs({'init': 'epsg:4326'})"
   ]
  },
  {
   "cell_type": "code",
   "execution_count": 27,
   "metadata": {},
   "outputs": [
    {
     "data": {
      "text/html": [
       "<div>\n",
       "<style scoped>\n",
       "    .dataframe tbody tr th:only-of-type {\n",
       "        vertical-align: middle;\n",
       "    }\n",
       "\n",
       "    .dataframe tbody tr th {\n",
       "        vertical-align: top;\n",
       "    }\n",
       "\n",
       "    .dataframe thead th {\n",
       "        text-align: right;\n",
       "    }\n",
       "</style>\n",
       "<table border=\"1\" class=\"dataframe\">\n",
       "  <thead>\n",
       "    <tr style=\"text-align: right;\">\n",
       "      <th></th>\n",
       "      <th>Precinct #</th>\n",
       "      <th>fips</th>\n",
       "      <th>ID</th>\n",
       "      <th>County</th>\n",
       "      <th>Precinct Name</th>\n",
       "      <th>geometry</th>\n",
       "    </tr>\n",
       "  </thead>\n",
       "  <tbody>\n",
       "    <tr>\n",
       "      <th>0</th>\n",
       "      <td>601</td>\n",
       "      <td>51001</td>\n",
       "      <td>51001601</td>\n",
       "      <td>Accomack County</td>\n",
       "      <td>Accomac</td>\n",
       "      <td>POLYGON ((-75.66233 37.77053, -75.66244 37.770...</td>\n",
       "    </tr>\n",
       "  </tbody>\n",
       "</table>\n",
       "</div>"
      ],
      "text/plain": [
       "  Precinct #   fips        ID           County Precinct Name  \\\n",
       "0        601  51001  51001601  Accomack County       Accomac   \n",
       "\n",
       "                                            geometry  \n",
       "0  POLYGON ((-75.66233 37.77053, -75.66244 37.770...  "
      ]
     },
     "execution_count": 27,
     "metadata": {},
     "output_type": "execute_result"
    }
   ],
   "source": [
    "gdf.head(1)"
   ]
  },
  {
   "cell_type": "code",
   "execution_count": 28,
   "metadata": {},
   "outputs": [],
   "source": [
    "gdf.to_file(\"VA_Precinct_Cleaned.json\", driver=\"GeoJSON\")"
   ]
  },
  {
   "cell_type": "code",
   "execution_count": null,
   "metadata": {},
   "outputs": [],
   "source": []
  },
  {
   "cell_type": "code",
   "execution_count": null,
   "metadata": {},
   "outputs": [],
   "source": []
  },
  {
   "cell_type": "code",
   "execution_count": null,
   "metadata": {},
   "outputs": [],
   "source": []
  }
 ],
 "metadata": {
  "kernelspec": {
   "display_name": "myenv",
   "language": "python",
   "name": "myenv"
  },
  "language_info": {
   "codemirror_mode": {
    "name": "ipython",
    "version": 3
   },
   "file_extension": ".py",
   "mimetype": "text/x-python",
   "name": "python",
   "nbconvert_exporter": "python",
   "pygments_lexer": "ipython3",
   "version": "3.7.7"
  }
 },
 "nbformat": 4,
 "nbformat_minor": 4
}
