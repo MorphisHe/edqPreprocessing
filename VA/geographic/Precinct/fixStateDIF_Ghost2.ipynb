{
 "cells": [
  {
   "cell_type": "code",
   "execution_count": 1,
   "metadata": {},
   "outputs": [],
   "source": [
    "import geopandas as gpd"
   ]
  },
  {
   "cell_type": "code",
   "execution_count": 2,
   "metadata": {},
   "outputs": [],
   "source": [
    "gdf = gpd.read_file(\"statePrecinctdif.json\")"
   ]
  },
  {
   "cell_type": "code",
   "execution_count": 3,
   "metadata": {},
   "outputs": [
    {
     "data": {
      "text/html": [
       "<div>\n",
       "<style scoped>\n",
       "    .dataframe tbody tr th:only-of-type {\n",
       "        vertical-align: middle;\n",
       "    }\n",
       "\n",
       "    .dataframe tbody tr th {\n",
       "        vertical-align: top;\n",
       "    }\n",
       "\n",
       "    .dataframe thead th {\n",
       "        text-align: right;\n",
       "    }\n",
       "</style>\n",
       "<table border=\"1\" class=\"dataframe\">\n",
       "  <thead>\n",
       "    <tr style=\"text-align: right;\">\n",
       "      <th></th>\n",
       "      <th>geometry</th>\n",
       "    </tr>\n",
       "  </thead>\n",
       "  <tbody>\n",
       "    <tr>\n",
       "      <th>0</th>\n",
       "      <td>GEOMETRYCOLLECTION (LINESTRING (-78.02763 38.4...</td>\n",
       "    </tr>\n",
       "  </tbody>\n",
       "</table>\n",
       "</div>"
      ],
      "text/plain": [
       "                                            geometry\n",
       "0  GEOMETRYCOLLECTION (LINESTRING (-78.02763 38.4..."
      ]
     },
     "execution_count": 3,
     "metadata": {},
     "output_type": "execute_result"
    }
   ],
   "source": [
    "gdf.head()"
   ]
  },
  {
   "cell_type": "code",
   "execution_count": 8,
   "metadata": {},
   "outputs": [],
   "source": [
    "g = gdf.loc[0][\"geometry\"]"
   ]
  },
  {
   "cell_type": "code",
   "execution_count": 9,
   "metadata": {},
   "outputs": [
    {
     "data": {
      "text/html": [
       "<div>\n",
       "<style scoped>\n",
       "    .dataframe tbody tr th:only-of-type {\n",
       "        vertical-align: middle;\n",
       "    }\n",
       "\n",
       "    .dataframe tbody tr th {\n",
       "        vertical-align: top;\n",
       "    }\n",
       "\n",
       "    .dataframe thead th {\n",
       "        text-align: right;\n",
       "    }\n",
       "</style>\n",
       "<table border=\"1\" class=\"dataframe\">\n",
       "  <thead>\n",
       "    <tr style=\"text-align: right;\">\n",
       "      <th></th>\n",
       "      <th>geometry</th>\n",
       "    </tr>\n",
       "  </thead>\n",
       "  <tbody>\n",
       "  </tbody>\n",
       "</table>\n",
       "</div>"
      ],
      "text/plain": [
       "Empty GeoDataFrame\n",
       "Columns: [geometry]\n",
       "Index: []"
      ]
     },
     "execution_count": 9,
     "metadata": {},
     "output_type": "execute_result"
    }
   ],
   "source": [
    "new = gpd.GeoDataFrame(columns=[\"geometry\"])\n",
    "new"
   ]
  },
  {
   "cell_type": "code",
   "execution_count": 10,
   "metadata": {},
   "outputs": [
    {
     "name": "stdout",
     "output_type": "stream",
     "text": [
      "0.0#####0.8709789803739404#####1.7419579607478808#####2.612936941121821#####3.4839159214957616#####4.354894901869701#####5.225873882243642#####6.096852862617582#####6.967831842991523#####7.8388108233654625#####8.709789803739403#####9.580768784113342#####10.451747764487283#####11.322726744861225#####12.193705725235164#####13.064684705609105#####13.935663685983046#####14.806642666356984#####15.677621646730925#####16.548600627104864#####17.419579607478806#####18.290558587852747#####19.161537568226684#####20.032516548600626#####20.903495528974567#####21.774474509348508#####22.64545348972245#####23.516432470096387#####24.387411450470328#####25.25839043084427#####26.12936941121821#####27.000348391592148#####27.871327371966093#####28.74230635234003#####29.613285332713968#####30.484264313087913#####31.35524329346185#####32.226222273835795#####33.09720125420973#####33.96818023458367#####34.83915921495761#####35.71013819533155#####36.581117175705494#####37.452096156079435#####38.32307513645337#####39.19405411682732#####40.06503309720125#####40.93601207757519#####41.80699105794913#####42.677970038323075#####43.548949018697016#####44.41992799907096#####45.2909069794449#####46.16188595981884#####47.03286494019277#####47.90384392056672#####48.774822900940656#####49.6458018813146#####50.51678086168854#####51.38775984206247#####52.25873882243642#####53.12971780281036#####54.000696783184296#####54.87167576355824#####55.742654743932185#####56.613633724306126#####57.48461270468006#####58.355591685053994#####59.226570665427936#####60.097549645801884#####60.968528626175825#####61.83950760654976#####62.7104865869237#####63.58146556729765#####64.45244454767159#####65.32342352804552#####66.19440250841946#####67.0653814887934#####67.93636046916734#####68.80733944954129#####69.67831842991522#####70.54929741028917#####71.4202763906631#####72.29125537103704#####73.16223435141099#####74.03321333178494#####74.90419231215887#####75.7751712925328#####76.64615027290674#####77.51712925328069#####78.38810823365463#####79.25908721402857#####80.1300661944025#####81.00104517477645#####81.87202415515038#####82.74300313552433#####83.61398211589827#####84.48496109627222#####85.35594007664615#####86.2269190570201#####87.09789803739403#####87.96887701776797#####88.83985599814191#####89.71083497851585#####90.5818139588898#####91.45279293926373#####92.32377191963768#####93.19475090001161#####94.06572988038555#####94.9367088607595#####95.80768784113344#####96.67866682150738#####97.54964580188131#####98.42062478225525#####99.2916037626292####"
     ]
    }
   ],
   "source": [
    "counter = 0\n",
    "for shape in g:\n",
    "    if counter % 300 == 0:\n",
    "        print(\"{}\".format((counter/len(g))*100), end=\"\")\n",
    "    elif counter%50 == 0:\n",
    "        print(\"#\", end=\"\")\n",
    "    counter += 1\n",
    "    \n",
    "    new = new.append({\"geometry\": shape}, ignore_index=True)"
   ]
  },
  {
   "cell_type": "code",
   "execution_count": 11,
   "metadata": {},
   "outputs": [
    {
     "data": {
      "text/html": [
       "<div>\n",
       "<style scoped>\n",
       "    .dataframe tbody tr th:only-of-type {\n",
       "        vertical-align: middle;\n",
       "    }\n",
       "\n",
       "    .dataframe tbody tr th {\n",
       "        vertical-align: top;\n",
       "    }\n",
       "\n",
       "    .dataframe thead th {\n",
       "        text-align: right;\n",
       "    }\n",
       "</style>\n",
       "<table border=\"1\" class=\"dataframe\">\n",
       "  <thead>\n",
       "    <tr style=\"text-align: right;\">\n",
       "      <th></th>\n",
       "      <th>geometry</th>\n",
       "    </tr>\n",
       "  </thead>\n",
       "  <tbody>\n",
       "    <tr>\n",
       "      <th>0</th>\n",
       "      <td>LINESTRING (-78.02763 38.47857, -78.02763 38.4...</td>\n",
       "    </tr>\n",
       "    <tr>\n",
       "      <th>1</th>\n",
       "      <td>LINESTRING (-79.27283 37.84790, -79.27365 37.8...</td>\n",
       "    </tr>\n",
       "    <tr>\n",
       "      <th>2</th>\n",
       "      <td>LINESTRING (-80.47560 37.42295, -80.47560 37.4...</td>\n",
       "    </tr>\n",
       "    <tr>\n",
       "      <th>3</th>\n",
       "      <td>POLYGON ((-82.13715 36.63294, -82.13481 36.634...</td>\n",
       "    </tr>\n",
       "    <tr>\n",
       "      <th>4</th>\n",
       "      <td>POLYGON ((-82.13368 36.63603, -82.13359 36.636...</td>\n",
       "    </tr>\n",
       "  </tbody>\n",
       "</table>\n",
       "</div>"
      ],
      "text/plain": [
       "                                            geometry\n",
       "0  LINESTRING (-78.02763 38.47857, -78.02763 38.4...\n",
       "1  LINESTRING (-79.27283 37.84790, -79.27365 37.8...\n",
       "2  LINESTRING (-80.47560 37.42295, -80.47560 37.4...\n",
       "3  POLYGON ((-82.13715 36.63294, -82.13481 36.634...\n",
       "4  POLYGON ((-82.13368 36.63603, -82.13359 36.636..."
      ]
     },
     "execution_count": 11,
     "metadata": {},
     "output_type": "execute_result"
    }
   ],
   "source": [
    "new.head()"
   ]
  },
  {
   "cell_type": "code",
   "execution_count": 12,
   "metadata": {},
   "outputs": [],
   "source": [
    "new.to_file(\"stateDifFixed.json\", driver=\"GeoJSON\")"
   ]
  },
  {
   "cell_type": "code",
   "execution_count": null,
   "metadata": {},
   "outputs": [],
   "source": []
  },
  {
   "cell_type": "code",
   "execution_count": null,
   "metadata": {},
   "outputs": [],
   "source": []
  },
  {
   "cell_type": "markdown",
   "metadata": {},
   "source": [
    "# delete all non polygon shapes"
   ]
  },
  {
   "cell_type": "code",
   "execution_count": 15,
   "metadata": {},
   "outputs": [],
   "source": [
    "new[\"index\"] = 0\n",
    "new[\"id\"] = \"\""
   ]
  },
  {
   "cell_type": "code",
   "execution_count": 17,
   "metadata": {},
   "outputs": [
    {
     "name": "stdout",
     "output_type": "stream",
     "text": [
      "###"
     ]
    },
    {
     "data": {
      "text/html": [
       "<div>\n",
       "<style scoped>\n",
       "    .dataframe tbody tr th:only-of-type {\n",
       "        vertical-align: middle;\n",
       "    }\n",
       "\n",
       "    .dataframe tbody tr th {\n",
       "        vertical-align: top;\n",
       "    }\n",
       "\n",
       "    .dataframe thead th {\n",
       "        text-align: right;\n",
       "    }\n",
       "</style>\n",
       "<table border=\"1\" class=\"dataframe\">\n",
       "  <thead>\n",
       "    <tr style=\"text-align: right;\">\n",
       "      <th></th>\n",
       "      <th>geometry</th>\n",
       "      <th>index</th>\n",
       "      <th>id</th>\n",
       "    </tr>\n",
       "  </thead>\n",
       "  <tbody>\n",
       "    <tr>\n",
       "      <th>3</th>\n",
       "      <td>POLYGON ((-82.13715 36.63294, -82.13481 36.634...</td>\n",
       "      <td>0</td>\n",
       "      <td></td>\n",
       "    </tr>\n",
       "    <tr>\n",
       "      <th>4</th>\n",
       "      <td>POLYGON ((-82.13368 36.63603, -82.13359 36.636...</td>\n",
       "      <td>0</td>\n",
       "      <td></td>\n",
       "    </tr>\n",
       "  </tbody>\n",
       "</table>\n",
       "</div>"
      ],
      "text/plain": [
       "                                            geometry  index id\n",
       "3  POLYGON ((-82.13715 36.63294, -82.13481 36.634...      0   \n",
       "4  POLYGON ((-82.13368 36.63603, -82.13359 36.636...      0   "
      ]
     },
     "execution_count": 17,
     "metadata": {},
     "output_type": "execute_result"
    }
   ],
   "source": [
    "types = [\"MultiPolygon\", \"Polygon\"]\n",
    "for index, row in new.iterrows():\n",
    "    if row[\"geometry\"].geom_type not in types:\n",
    "        new.drop(index=index, inplace=True)\n",
    "        print(\"#\", end=\"\")\n",
    "new.head(2)"
   ]
  },
  {
   "cell_type": "code",
   "execution_count": 18,
   "metadata": {},
   "outputs": [],
   "source": [
    "copy = new.copy()"
   ]
  },
  {
   "cell_type": "markdown",
   "metadata": {},
   "source": [
    "# filter by area"
   ]
  },
  {
   "cell_type": "code",
   "execution_count": 22,
   "metadata": {},
   "outputs": [],
   "source": [
    "# dif.to_file(\"RI_Ghost.json\", driver=\"GeoJSON\")\n",
    "new.crs = \"EPSG:4326\""
   ]
  },
  {
   "cell_type": "code",
   "execution_count": 23,
   "metadata": {},
   "outputs": [],
   "source": [
    "new = new.to_crs(\"EPSG:3857\")"
   ]
  },
  {
   "cell_type": "code",
   "execution_count": 25,
   "metadata": {},
   "outputs": [],
   "source": [
    "a = 3716.1216\n",
    "new[\"filtered\"] = \"\"\n",
    "for index, row in new.iterrows():\n",
    "    if row.geometry.geom_type == \"MultiPolygon\":\n",
    "        m = MultiPolygon([shape for shape in row[\"geometry\"] if shape.area >= a])\n",
    "        if m.is_empty:\n",
    "            new.drop(index, inplace=True)\n",
    "        else:\n",
    "            new.at[index, \"filtered\"] = m\n",
    "    else:\n",
    "        if row[\"geometry\"].area < a:\n",
    "            new.drop(index, inplace=True)\n",
    "        else:\n",
    "            new.at[index, \"filtered\"] = row[\"geometry\"]"
   ]
  },
  {
   "cell_type": "code",
   "execution_count": 26,
   "metadata": {},
   "outputs": [],
   "source": [
    "new.set_geometry(\"filtered\", drop=True, inplace=True)"
   ]
  },
  {
   "cell_type": "code",
   "execution_count": 27,
   "metadata": {},
   "outputs": [],
   "source": [
    "new = new.to_crs(\"EPSG:4326\")"
   ]
  },
  {
   "cell_type": "code",
   "execution_count": null,
   "metadata": {},
   "outputs": [],
   "source": []
  },
  {
   "cell_type": "code",
   "execution_count": null,
   "metadata": {},
   "outputs": [],
   "source": []
  },
  {
   "cell_type": "markdown",
   "metadata": {},
   "source": [
    "# turn all multipolygon into polygon"
   ]
  },
  {
   "cell_type": "code",
   "execution_count": 30,
   "metadata": {},
   "outputs": [],
   "source": [
    "newgdf = gpd.GeoDataFrame(crs=\"EPSG:4326\")\n",
    "newgdf[\"geometry\"] = \"\"\n",
    "newgdf[\"index\"] = 0"
   ]
  },
  {
   "cell_type": "code",
   "execution_count": 31,
   "metadata": {},
   "outputs": [],
   "source": [
    "i = 0\n",
    "for index, row in new.iterrows():\n",
    "    g = row[\"geometry\"]\n",
    "    if g.geom_type == \"MultiPolygon\":\n",
    "        for shape in g:\n",
    "            newgdf.at[i, \"geometry\"] = shape\n",
    "            newgdf.at[i, \"index\"] = i\n",
    "            i += 1\n",
    "    else:\n",
    "        newgdf.at[i, \"geometry\"] = g\n",
    "        newgdf.at[i, \"index\"] = i\n",
    "        i += 1\n",
    "newgdf.set_geometry(\"geometry\", inplace=True)"
   ]
  },
  {
   "cell_type": "code",
   "execution_count": 32,
   "metadata": {
    "scrolled": false
   },
   "outputs": [
    {
     "data": {
      "text/html": [
       "<div>\n",
       "<style scoped>\n",
       "    .dataframe tbody tr th:only-of-type {\n",
       "        vertical-align: middle;\n",
       "    }\n",
       "\n",
       "    .dataframe tbody tr th {\n",
       "        vertical-align: top;\n",
       "    }\n",
       "\n",
       "    .dataframe thead th {\n",
       "        text-align: right;\n",
       "    }\n",
       "</style>\n",
       "<table border=\"1\" class=\"dataframe\">\n",
       "  <thead>\n",
       "    <tr style=\"text-align: right;\">\n",
       "      <th></th>\n",
       "      <th>geometry</th>\n",
       "      <th>index</th>\n",
       "    </tr>\n",
       "  </thead>\n",
       "  <tbody>\n",
       "    <tr>\n",
       "      <th>0</th>\n",
       "      <td>POLYGON ((-82.13715 36.63294, -82.13481 36.634...</td>\n",
       "      <td>0.0</td>\n",
       "    </tr>\n",
       "  </tbody>\n",
       "</table>\n",
       "</div>"
      ],
      "text/plain": [
       "                                            geometry  index\n",
       "0  POLYGON ((-82.13715 36.63294, -82.13481 36.634...    0.0"
      ]
     },
     "execution_count": 32,
     "metadata": {},
     "output_type": "execute_result"
    }
   ],
   "source": [
    "newgdf.head(1)"
   ]
  },
  {
   "cell_type": "code",
   "execution_count": 33,
   "metadata": {},
   "outputs": [
    {
     "name": "stdout",
     "output_type": "stream",
     "text": [
      "2596 2596\n"
     ]
    }
   ],
   "source": [
    "print(len(new), len(newgdf))"
   ]
  },
  {
   "cell_type": "code",
   "execution_count": null,
   "metadata": {},
   "outputs": [],
   "source": []
  },
  {
   "cell_type": "code",
   "execution_count": null,
   "metadata": {},
   "outputs": [],
   "source": []
  },
  {
   "cell_type": "code",
   "execution_count": null,
   "metadata": {},
   "outputs": [],
   "source": []
  },
  {
   "cell_type": "markdown",
   "metadata": {},
   "source": [
    "# drop precincts that is fully inside stateDif\n",
    "- stateDif is the difference between og state and state buffered by 200feet"
   ]
  },
  {
   "cell_type": "code",
   "execution_count": 34,
   "metadata": {},
   "outputs": [],
   "source": [
    "stateDif = gpd.read_file(\"stateDif.json\")"
   ]
  },
  {
   "cell_type": "code",
   "execution_count": 35,
   "metadata": {},
   "outputs": [],
   "source": [
    "for index, row in stateDif.iterrows():\n",
    "    index_drop = newgdf[newgdf[\"geometry\"].within(stateDif.loc[index][\"geometry\"])].index.to_list()\n",
    "    for i in index_drop:\n",
    "        newgdf.drop(index=i, inplace=True)\n",
    "        print(\"#\", end=\"\")"
   ]
  },
  {
   "cell_type": "code",
   "execution_count": null,
   "metadata": {},
   "outputs": [],
   "source": []
  },
  {
   "cell_type": "markdown",
   "metadata": {},
   "source": [
    "# create key for ghost table"
   ]
  },
  {
   "cell_type": "code",
   "execution_count": 36,
   "metadata": {
    "scrolled": true
   },
   "outputs": [
    {
     "data": {
      "text/html": [
       "<div>\n",
       "<style scoped>\n",
       "    .dataframe tbody tr th:only-of-type {\n",
       "        vertical-align: middle;\n",
       "    }\n",
       "\n",
       "    .dataframe tbody tr th {\n",
       "        vertical-align: top;\n",
       "    }\n",
       "\n",
       "    .dataframe thead th {\n",
       "        text-align: right;\n",
       "    }\n",
       "</style>\n",
       "<table border=\"1\" class=\"dataframe\">\n",
       "  <thead>\n",
       "    <tr style=\"text-align: right;\">\n",
       "      <th></th>\n",
       "      <th>geometry</th>\n",
       "      <th>index</th>\n",
       "    </tr>\n",
       "  </thead>\n",
       "  <tbody>\n",
       "    <tr>\n",
       "      <th>0</th>\n",
       "      <td>POLYGON ((-82.13715 36.63294, -82.13481 36.634...</td>\n",
       "      <td>0.0</td>\n",
       "    </tr>\n",
       "    <tr>\n",
       "      <th>1</th>\n",
       "      <td>POLYGON ((-82.12232 36.65820, -82.12189 36.658...</td>\n",
       "      <td>1.0</td>\n",
       "    </tr>\n",
       "  </tbody>\n",
       "</table>\n",
       "</div>"
      ],
      "text/plain": [
       "                                            geometry  index\n",
       "0  POLYGON ((-82.13715 36.63294, -82.13481 36.634...    0.0\n",
       "1  POLYGON ((-82.12232 36.65820, -82.12189 36.658...    1.0"
      ]
     },
     "execution_count": 36,
     "metadata": {},
     "output_type": "execute_result"
    }
   ],
   "source": [
    "newgdf.head(2)"
   ]
  },
  {
   "cell_type": "code",
   "execution_count": 37,
   "metadata": {},
   "outputs": [
    {
     "data": {
      "text/html": [
       "<div>\n",
       "<style scoped>\n",
       "    .dataframe tbody tr th:only-of-type {\n",
       "        vertical-align: middle;\n",
       "    }\n",
       "\n",
       "    .dataframe tbody tr th {\n",
       "        vertical-align: top;\n",
       "    }\n",
       "\n",
       "    .dataframe thead th {\n",
       "        text-align: right;\n",
       "    }\n",
       "</style>\n",
       "<table border=\"1\" class=\"dataframe\">\n",
       "  <thead>\n",
       "    <tr style=\"text-align: right;\">\n",
       "      <th></th>\n",
       "      <th>geometry</th>\n",
       "      <th>index</th>\n",
       "      <th>id</th>\n",
       "    </tr>\n",
       "  </thead>\n",
       "  <tbody>\n",
       "    <tr>\n",
       "      <th>0</th>\n",
       "      <td>POLYGON ((-82.13715 36.63294, -82.13481 36.634...</td>\n",
       "      <td>0.0</td>\n",
       "      <td>va-ghost-0</td>\n",
       "    </tr>\n",
       "    <tr>\n",
       "      <th>1</th>\n",
       "      <td>POLYGON ((-82.12232 36.65820, -82.12189 36.658...</td>\n",
       "      <td>1.0</td>\n",
       "      <td>va-ghost-1</td>\n",
       "    </tr>\n",
       "  </tbody>\n",
       "</table>\n",
       "</div>"
      ],
      "text/plain": [
       "                                            geometry  index          id\n",
       "0  POLYGON ((-82.13715 36.63294, -82.13481 36.634...    0.0  va-ghost-0\n",
       "1  POLYGON ((-82.12232 36.65820, -82.12189 36.658...    1.0  va-ghost-1"
      ]
     },
     "execution_count": 37,
     "metadata": {},
     "output_type": "execute_result"
    }
   ],
   "source": [
    "newgdf[\"id\"] = \"\"\n",
    "i = 0\n",
    "for index, row in newgdf.iterrows():\n",
    "    newgdf.at[index, \"id\"] = \"va-ghost-\" + str(i)\n",
    "    i += 1\n",
    "newgdf.head(2)"
   ]
  },
  {
   "cell_type": "code",
   "execution_count": 38,
   "metadata": {},
   "outputs": [],
   "source": [
    "newgdf.to_file(\"VA_Ghost.json\", driver=\"GeoJSON\")"
   ]
  },
  {
   "cell_type": "code",
   "execution_count": 39,
   "metadata": {},
   "outputs": [
    {
     "data": {
      "text/plain": [
       "<matplotlib.axes._subplots.AxesSubplot at 0x11399cf50>"
      ]
     },
     "execution_count": 39,
     "metadata": {},
     "output_type": "execute_result"
    },
    {
     "data": {
      "image/png": "[encoded data removed]",
      "text/plain": [
       "<Figure size 1296x936 with 1 Axes>"
      ]
     },
     "metadata": {
      "needs_background": "light"
     },
     "output_type": "display_data"
    }
   ],
   "source": [
    "newgdf.plot(figsize=(18, 13), cmap=\"Set3\")"
   ]
  },
  {
   "cell_type": "code",
   "execution_count": null,
   "metadata": {},
   "outputs": [],
   "source": []
  }
 ],
 "metadata": {
  "kernelspec": {
   "display_name": "myenv",
   "language": "python",
   "name": "myenv"
  },
  "language_info": {
   "codemirror_mode": {
    "name": "ipython",
    "version": 3
   },
   "file_extension": ".py",
   "mimetype": "text/x-python",
   "name": "python",
   "nbconvert_exporter": "python",
   "pygments_lexer": "ipython3",
   "version": "3.7.7"
  }
 },
 "nbformat": 4,
 "nbformat_minor": 4
}
