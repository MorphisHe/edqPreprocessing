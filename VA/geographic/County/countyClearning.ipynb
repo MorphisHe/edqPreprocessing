{
 "cells": [
  {
   "cell_type": "code",
   "execution_count": 1,
   "metadata": {},
   "outputs": [],
   "source": [
    "import geopandas as gpd"
   ]
  },
  {
   "cell_type": "markdown",
   "metadata": {},
   "source": [
    "# check if all county matchs counties in precinct dataset"
   ]
  },
  {
   "cell_type": "code",
   "execution_count": 2,
   "metadata": {},
   "outputs": [],
   "source": [
    "gdf = gpd.read_file(\"VA_County.json\")"
   ]
  },
  {
   "cell_type": "code",
   "execution_count": 3,
   "metadata": {},
   "outputs": [
    {
     "data": {
      "text/html": [
       "<div>\n",
       "<style scoped>\n",
       "    .dataframe tbody tr th:only-of-type {\n",
       "        vertical-align: middle;\n",
       "    }\n",
       "\n",
       "    .dataframe tbody tr th {\n",
       "        vertical-align: top;\n",
       "    }\n",
       "\n",
       "    .dataframe thead th {\n",
       "        text-align: right;\n",
       "    }\n",
       "</style>\n",
       "<table border=\"1\" class=\"dataframe\">\n",
       "  <thead>\n",
       "    <tr style=\"text-align: right;\">\n",
       "      <th></th>\n",
       "      <th>OBJECTID</th>\n",
       "      <th>STCOFIPS</th>\n",
       "      <th>GNIS</th>\n",
       "      <th>NAME</th>\n",
       "      <th>NAMELSAD</th>\n",
       "      <th>GSOURCE</th>\n",
       "      <th>LADOPT</th>\n",
       "      <th>AREASQMI</th>\n",
       "      <th>LASTUPDATE</th>\n",
       "      <th>JURISTYPE</th>\n",
       "      <th>Shapearea</th>\n",
       "      <th>Shapelen</th>\n",
       "      <th>geometry</th>\n",
       "    </tr>\n",
       "  </thead>\n",
       "  <tbody>\n",
       "    <tr>\n",
       "      <th>0</th>\n",
       "      <td>1</td>\n",
       "      <td>51121</td>\n",
       "      <td>1674630</td>\n",
       "      <td>Montgomery</td>\n",
       "      <td>Montgomery County</td>\n",
       "      <td>Local Government source</td>\n",
       "      <td>YES</td>\n",
       "      <td>389.266823</td>\n",
       "      <td>2014-02-04T00:00:00.000Z</td>\n",
       "      <td>County</td>\n",
       "      <td>1.591074e+09</td>\n",
       "      <td>238285.910745</td>\n",
       "      <td>MULTIPOLYGON (((-80.26218 37.34153, -80.26216 ...</td>\n",
       "    </tr>\n",
       "  </tbody>\n",
       "</table>\n",
       "</div>"
      ],
      "text/plain": [
       "   OBJECTID STCOFIPS     GNIS        NAME           NAMELSAD  \\\n",
       "0         1    51121  1674630  Montgomery  Montgomery County   \n",
       "\n",
       "                   GSOURCE LADOPT    AREASQMI                LASTUPDATE  \\\n",
       "0  Local Government source    YES  389.266823  2014-02-04T00:00:00.000Z   \n",
       "\n",
       "  JURISTYPE     Shapearea       Shapelen  \\\n",
       "0    County  1.591074e+09  238285.910745   \n",
       "\n",
       "                                            geometry  \n",
       "0  MULTIPOLYGON (((-80.26218 37.34153, -80.26216 ...  "
      ]
     },
     "execution_count": 3,
     "metadata": {},
     "output_type": "execute_result"
    }
   ],
   "source": [
    "gdf.head(1)"
   ]
  },
  {
   "cell_type": "code",
   "execution_count": 4,
   "metadata": {},
   "outputs": [],
   "source": [
    "precinctGDF = gpd.read_file(\"../Precinct/VA_Precinct_Cleaned.json\")"
   ]
  },
  {
   "cell_type": "code",
   "execution_count": 5,
   "metadata": {},
   "outputs": [
    {
     "data": {
      "text/html": [
       "<div>\n",
       "<style scoped>\n",
       "    .dataframe tbody tr th:only-of-type {\n",
       "        vertical-align: middle;\n",
       "    }\n",
       "\n",
       "    .dataframe tbody tr th {\n",
       "        vertical-align: top;\n",
       "    }\n",
       "\n",
       "    .dataframe thead th {\n",
       "        text-align: right;\n",
       "    }\n",
       "</style>\n",
       "<table border=\"1\" class=\"dataframe\">\n",
       "  <thead>\n",
       "    <tr style=\"text-align: right;\">\n",
       "      <th></th>\n",
       "      <th>Precinct #</th>\n",
       "      <th>fips</th>\n",
       "      <th>ID</th>\n",
       "      <th>County</th>\n",
       "      <th>Precinct Name</th>\n",
       "      <th>geometry</th>\n",
       "    </tr>\n",
       "  </thead>\n",
       "  <tbody>\n",
       "    <tr>\n",
       "      <th>0</th>\n",
       "      <td>601</td>\n",
       "      <td>51001</td>\n",
       "      <td>51001601</td>\n",
       "      <td>Accomack County</td>\n",
       "      <td>Accomac</td>\n",
       "      <td>POLYGON ((-75.66233 37.77053, -75.66244 37.770...</td>\n",
       "    </tr>\n",
       "    <tr>\n",
       "      <th>1</th>\n",
       "      <td>201</td>\n",
       "      <td>51001</td>\n",
       "      <td>51001201</td>\n",
       "      <td>Accomack County</td>\n",
       "      <td>Atlantic</td>\n",
       "      <td>POLYGON ((-75.41651 37.93483, -75.41645 37.934...</td>\n",
       "    </tr>\n",
       "    <tr>\n",
       "      <th>2</th>\n",
       "      <td>401</td>\n",
       "      <td>51001</td>\n",
       "      <td>51001401</td>\n",
       "      <td>Accomack County</td>\n",
       "      <td>Bloxom</td>\n",
       "      <td>POLYGON ((-75.59939 37.87382, -75.59898 37.873...</td>\n",
       "    </tr>\n",
       "    <tr>\n",
       "      <th>3</th>\n",
       "      <td>801</td>\n",
       "      <td>51001</td>\n",
       "      <td>51001801</td>\n",
       "      <td>Accomack County</td>\n",
       "      <td>Bobtown</td>\n",
       "      <td>POLYGON ((-75.79081 37.67393, -75.78969 37.673...</td>\n",
       "    </tr>\n",
       "    <tr>\n",
       "      <th>4</th>\n",
       "      <td>101</td>\n",
       "      <td>51001</td>\n",
       "      <td>51001101</td>\n",
       "      <td>Accomack County</td>\n",
       "      <td>Chincoteague</td>\n",
       "      <td>POLYGON ((-75.40928 37.82092, -75.40885 37.867...</td>\n",
       "    </tr>\n",
       "  </tbody>\n",
       "</table>\n",
       "</div>"
      ],
      "text/plain": [
       "  Precinct #   fips        ID           County Precinct Name  \\\n",
       "0        601  51001  51001601  Accomack County       Accomac   \n",
       "1        201  51001  51001201  Accomack County      Atlantic   \n",
       "2        401  51001  51001401  Accomack County        Bloxom   \n",
       "3        801  51001  51001801  Accomack County       Bobtown   \n",
       "4        101  51001  51001101  Accomack County  Chincoteague   \n",
       "\n",
       "                                            geometry  \n",
       "0  POLYGON ((-75.66233 37.77053, -75.66244 37.770...  \n",
       "1  POLYGON ((-75.41651 37.93483, -75.41645 37.934...  \n",
       "2  POLYGON ((-75.59939 37.87382, -75.59898 37.873...  \n",
       "3  POLYGON ((-75.79081 37.67393, -75.78969 37.673...  \n",
       "4  POLYGON ((-75.40928 37.82092, -75.40885 37.867...  "
      ]
     },
     "execution_count": 5,
     "metadata": {},
     "output_type": "execute_result"
    }
   ],
   "source": [
    "precinctGDF.head()"
   ]
  },
  {
   "cell_type": "code",
   "execution_count": 6,
   "metadata": {},
   "outputs": [],
   "source": [
    "pre_county = sorted(list(precinctGDF[\"County\"].unique()))\n",
    "cur_county = sorted(list(gdf[\"NAMELSAD\"].unique()))"
   ]
  },
  {
   "cell_type": "code",
   "execution_count": 7,
   "metadata": {},
   "outputs": [],
   "source": [
    "def normalize(string):\n",
    "    splited = string.strip().split(\" \")\n",
    "    for i in range(len(splited)):\n",
    "        splited[i] = splited[i].strip().lower().capitalize()\n",
    "        \n",
    "    return ' '.join(splited)"
   ]
  },
  {
   "cell_type": "code",
   "execution_count": 8,
   "metadata": {},
   "outputs": [
    {
     "name": "stdout",
     "output_type": "stream",
     "text": [
      "133 133\n"
     ]
    }
   ],
   "source": [
    "print(len(pre_county), len(cur_county))"
   ]
  },
  {
   "cell_type": "code",
   "execution_count": 9,
   "metadata": {},
   "outputs": [],
   "source": [
    "pre_county = [normalize(x) for x in pre_county]\n",
    "cur_county = [normalize(x) for x in cur_county]"
   ]
  },
  {
   "cell_type": "code",
   "execution_count": 10,
   "metadata": {},
   "outputs": [],
   "source": [
    "for c in pre_county:\n",
    "    if c not in cur_county:\n",
    "        print(c)"
   ]
  },
  {
   "cell_type": "markdown",
   "metadata": {},
   "source": [
    "# normalize county dataset"
   ]
  },
  {
   "cell_type": "code",
   "execution_count": 11,
   "metadata": {},
   "outputs": [
    {
     "data": {
      "text/html": [
       "<div>\n",
       "<style scoped>\n",
       "    .dataframe tbody tr th:only-of-type {\n",
       "        vertical-align: middle;\n",
       "    }\n",
       "\n",
       "    .dataframe tbody tr th {\n",
       "        vertical-align: top;\n",
       "    }\n",
       "\n",
       "    .dataframe thead th {\n",
       "        text-align: right;\n",
       "    }\n",
       "</style>\n",
       "<table border=\"1\" class=\"dataframe\">\n",
       "  <thead>\n",
       "    <tr style=\"text-align: right;\">\n",
       "      <th></th>\n",
       "      <th>OBJECTID</th>\n",
       "      <th>STCOFIPS</th>\n",
       "      <th>GNIS</th>\n",
       "      <th>NAME</th>\n",
       "      <th>NAMELSAD</th>\n",
       "      <th>GSOURCE</th>\n",
       "      <th>LADOPT</th>\n",
       "      <th>AREASQMI</th>\n",
       "      <th>LASTUPDATE</th>\n",
       "      <th>JURISTYPE</th>\n",
       "      <th>Shapearea</th>\n",
       "      <th>Shapelen</th>\n",
       "      <th>geometry</th>\n",
       "    </tr>\n",
       "  </thead>\n",
       "  <tbody>\n",
       "    <tr>\n",
       "      <th>0</th>\n",
       "      <td>1</td>\n",
       "      <td>51121</td>\n",
       "      <td>1674630</td>\n",
       "      <td>Montgomery</td>\n",
       "      <td>Montgomery County</td>\n",
       "      <td>Local Government source</td>\n",
       "      <td>YES</td>\n",
       "      <td>389.266823</td>\n",
       "      <td>2014-02-04T00:00:00.000Z</td>\n",
       "      <td>County</td>\n",
       "      <td>1.591074e+09</td>\n",
       "      <td>238285.910745</td>\n",
       "      <td>MULTIPOLYGON (((-80.26218 37.34153, -80.26216 ...</td>\n",
       "    </tr>\n",
       "  </tbody>\n",
       "</table>\n",
       "</div>"
      ],
      "text/plain": [
       "   OBJECTID STCOFIPS     GNIS        NAME           NAMELSAD  \\\n",
       "0         1    51121  1674630  Montgomery  Montgomery County   \n",
       "\n",
       "                   GSOURCE LADOPT    AREASQMI                LASTUPDATE  \\\n",
       "0  Local Government source    YES  389.266823  2014-02-04T00:00:00.000Z   \n",
       "\n",
       "  JURISTYPE     Shapearea       Shapelen  \\\n",
       "0    County  1.591074e+09  238285.910745   \n",
       "\n",
       "                                            geometry  \n",
       "0  MULTIPOLYGON (((-80.26218 37.34153, -80.26216 ...  "
      ]
     },
     "execution_count": 11,
     "metadata": {},
     "output_type": "execute_result"
    }
   ],
   "source": [
    "gdf.head(1)"
   ]
  },
  {
   "cell_type": "code",
   "execution_count": 12,
   "metadata": {},
   "outputs": [],
   "source": [
    "# only keep NAMELSAD and geometry\n",
    "all_columns = list(gdf.columns)\n",
    "all_columns.remove(\"geometry\")\n",
    "all_columns.remove(\"NAMELSAD\")"
   ]
  },
  {
   "cell_type": "code",
   "execution_count": 13,
   "metadata": {},
   "outputs": [],
   "source": [
    "gdf.drop(all_columns, inplace=True, axis=1)"
   ]
  },
  {
   "cell_type": "code",
   "execution_count": 14,
   "metadata": {},
   "outputs": [],
   "source": [
    "gdf.rename({\"NAMELSAD\":\"County\"}, inplace=True, axis=1)"
   ]
  },
  {
   "cell_type": "code",
   "execution_count": 15,
   "metadata": {},
   "outputs": [],
   "source": [
    "gdf.sort_values([\"County\"], inplace=True, ignore_index=True)"
   ]
  },
  {
   "cell_type": "code",
   "execution_count": 16,
   "metadata": {},
   "outputs": [
    {
     "data": {
      "text/html": [
       "<div>\n",
       "<style scoped>\n",
       "    .dataframe tbody tr th:only-of-type {\n",
       "        vertical-align: middle;\n",
       "    }\n",
       "\n",
       "    .dataframe tbody tr th {\n",
       "        vertical-align: top;\n",
       "    }\n",
       "\n",
       "    .dataframe thead th {\n",
       "        text-align: right;\n",
       "    }\n",
       "</style>\n",
       "<table border=\"1\" class=\"dataframe\">\n",
       "  <thead>\n",
       "    <tr style=\"text-align: right;\">\n",
       "      <th></th>\n",
       "      <th>County</th>\n",
       "      <th>geometry</th>\n",
       "    </tr>\n",
       "  </thead>\n",
       "  <tbody>\n",
       "    <tr>\n",
       "      <th>0</th>\n",
       "      <td>Accomack County</td>\n",
       "      <td>POLYGON ((-75.62204 37.45679, -75.62465 37.457...</td>\n",
       "    </tr>\n",
       "    <tr>\n",
       "      <th>1</th>\n",
       "      <td>Albemarle County</td>\n",
       "      <td>POLYGON ((-78.36880 38.18409, -78.36476 38.183...</td>\n",
       "    </tr>\n",
       "    <tr>\n",
       "      <th>2</th>\n",
       "      <td>Alexandria City</td>\n",
       "      <td>POLYGON ((-77.04631 38.84120, -77.04621 38.840...</td>\n",
       "    </tr>\n",
       "    <tr>\n",
       "      <th>3</th>\n",
       "      <td>Alleghany County</td>\n",
       "      <td>POLYGON ((-79.64759 37.87454, -79.64739 37.874...</td>\n",
       "    </tr>\n",
       "    <tr>\n",
       "      <th>4</th>\n",
       "      <td>Amelia County</td>\n",
       "      <td>POLYGON ((-77.85531 37.41843, -77.85519 37.418...</td>\n",
       "    </tr>\n",
       "  </tbody>\n",
       "</table>\n",
       "</div>"
      ],
      "text/plain": [
       "             County                                           geometry\n",
       "0   Accomack County  POLYGON ((-75.62204 37.45679, -75.62465 37.457...\n",
       "1  Albemarle County  POLYGON ((-78.36880 38.18409, -78.36476 38.183...\n",
       "2   Alexandria City  POLYGON ((-77.04631 38.84120, -77.04621 38.840...\n",
       "3  Alleghany County  POLYGON ((-79.64759 37.87454, -79.64739 37.874...\n",
       "4     Amelia County  POLYGON ((-77.85531 37.41843, -77.85519 37.418..."
      ]
     },
     "execution_count": 16,
     "metadata": {},
     "output_type": "execute_result"
    }
   ],
   "source": [
    "gdf.head()"
   ]
  },
  {
   "cell_type": "code",
   "execution_count": 34,
   "metadata": {},
   "outputs": [],
   "source": [
    "gdf.to_file(\"VA_County_Cleaned.json\", driver=\"GeoJSON\")"
   ]
  },
  {
   "cell_type": "code",
   "execution_count": null,
   "metadata": {},
   "outputs": [],
   "source": []
  },
  {
   "cell_type": "code",
   "execution_count": 43,
   "metadata": {},
   "outputs": [],
   "source": [
    "g = gdf[gdf[\"NAMELSAD\"] == \"Augusta County\"]"
   ]
  },
  {
   "cell_type": "code",
   "execution_count": 44,
   "metadata": {},
   "outputs": [
    {
     "data": {
      "text/html": [
       "<div>\n",
       "<style scoped>\n",
       "    .dataframe tbody tr th:only-of-type {\n",
       "        vertical-align: middle;\n",
       "    }\n",
       "\n",
       "    .dataframe tbody tr th {\n",
       "        vertical-align: top;\n",
       "    }\n",
       "\n",
       "    .dataframe thead th {\n",
       "        text-align: right;\n",
       "    }\n",
       "</style>\n",
       "<table border=\"1\" class=\"dataframe\">\n",
       "  <thead>\n",
       "    <tr style=\"text-align: right;\">\n",
       "      <th></th>\n",
       "      <th>OBJECTID</th>\n",
       "      <th>STCOFIPS</th>\n",
       "      <th>GNIS</th>\n",
       "      <th>NAME</th>\n",
       "      <th>NAMELSAD</th>\n",
       "      <th>GSOURCE</th>\n",
       "      <th>LADOPT</th>\n",
       "      <th>AREASQMI</th>\n",
       "      <th>LASTUPDATE</th>\n",
       "      <th>JURISTYPE</th>\n",
       "      <th>Shapearea</th>\n",
       "      <th>Shapelen</th>\n",
       "      <th>geometry</th>\n",
       "    </tr>\n",
       "  </thead>\n",
       "  <tbody>\n",
       "    <tr>\n",
       "      <th>28</th>\n",
       "      <td>29</td>\n",
       "      <td>51015</td>\n",
       "      <td>1480098</td>\n",
       "      <td>Augusta</td>\n",
       "      <td>Augusta County</td>\n",
       "      <td>VGIN &amp; Local Government source</td>\n",
       "      <td>NO</td>\n",
       "      <td>970.288077</td>\n",
       "      <td>2014-08-01T00:00:00.000Z</td>\n",
       "      <td>County</td>\n",
       "      <td>4.073693e+09</td>\n",
       "      <td>390662.853491</td>\n",
       "      <td>POLYGON ((-78.74939 38.20665, -78.74998 38.205...</td>\n",
       "    </tr>\n",
       "  </tbody>\n",
       "</table>\n",
       "</div>"
      ],
      "text/plain": [
       "    OBJECTID STCOFIPS     GNIS     NAME        NAMELSAD  \\\n",
       "28        29    51015  1480098  Augusta  Augusta County   \n",
       "\n",
       "                           GSOURCE LADOPT    AREASQMI  \\\n",
       "28  VGIN & Local Government source     NO  970.288077   \n",
       "\n",
       "                  LASTUPDATE JURISTYPE     Shapearea       Shapelen  \\\n",
       "28  2014-08-01T00:00:00.000Z    County  4.073693e+09  390662.853491   \n",
       "\n",
       "                                             geometry  \n",
       "28  POLYGON ((-78.74939 38.20665, -78.74998 38.205...  "
      ]
     },
     "execution_count": 44,
     "metadata": {},
     "output_type": "execute_result"
    }
   ],
   "source": [
    "g"
   ]
  },
  {
   "cell_type": "code",
   "execution_count": null,
   "metadata": {},
   "outputs": [],
   "source": []
  }
 ],
 "metadata": {
  "kernelspec": {
   "display_name": "myenv",
   "language": "python",
   "name": "myenv"
  },
  "language_info": {
   "codemirror_mode": {
    "name": "ipython",
    "version": 3
   },
   "file_extension": ".py",
   "mimetype": "text/x-python",
   "name": "python",
   "nbconvert_exporter": "python",
   "pygments_lexer": "ipython3",
   "version": "3.7.7"
  }
 },
 "nbformat": 4,
 "nbformat_minor": 4
}
