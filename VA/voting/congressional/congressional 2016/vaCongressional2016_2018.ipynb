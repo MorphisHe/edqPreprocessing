{
 "cells": [
  {
   "cell_type": "code",
   "execution_count": 34,
   "metadata": {},
   "outputs": [],
   "source": [
    "import warnings\n",
    "warnings.filterwarnings(\"ignore\")\n",
    "import pandas as pd\n",
    "import geopandas as gpd"
   ]
  },
  {
   "cell_type": "code",
   "execution_count": 35,
   "metadata": {},
   "outputs": [
    {
     "name": "stdout",
     "output_type": "stream",
     "text": [
      "Virginia_Elections_Database__2016_U_S_House_General_Election_District_10_including_precincts.csv\r\n",
      "Virginia_Elections_Database__2016_U_S_House_General_Election_District_11_including_precincts.csv\r\n",
      "Virginia_Elections_Database__2016_U_S_House_General_Election_District_1_including_precincts.csv\r\n",
      "Virginia_Elections_Database__2016_U_S_House_General_Election_District_2_including_precincts.csv\r\n",
      "Virginia_Elections_Database__2016_U_S_House_General_Election_District_3_including_precincts.csv\r\n",
      "Virginia_Elections_Database__2016_U_S_House_General_Election_District_4_including_precincts.csv\r\n",
      "Virginia_Elections_Database__2016_U_S_House_General_Election_District_5_including_precincts.csv\r\n",
      "Virginia_Elections_Database__2016_U_S_House_General_Election_District_6_including_precincts.csv\r\n",
      "Virginia_Elections_Database__2016_U_S_House_General_Election_District_7_including_precincts.csv\r\n",
      "Virginia_Elections_Database__2016_U_S_House_General_Election_District_8_including_precincts.csv\r\n",
      "Virginia_Elections_Database__2016_U_S_House_General_Election_District_9_including_precincts.csv\r\n"
     ]
    }
   ],
   "source": [
    "!ls va\\ cong\\ 2016"
   ]
  },
  {
   "cell_type": "code",
   "execution_count": 36,
   "metadata": {},
   "outputs": [],
   "source": [
    "c = ['County/City',\n",
    " 'Pct',\n",
    " 'Republican',\n",
    " 'Democratic',\n",
    " 'All Others',\n",
    " 'Total Votes Cast',\n",
    " 'Independent',\n",
    " 'Libertarian',\n",
    " 'Green']"
   ]
  },
  {
   "cell_type": "code",
   "execution_count": 37,
   "metadata": {},
   "outputs": [],
   "source": [
    "dfs = []\n",
    "for i in range(1, 11):\n",
    "    path = \"va cong 2016/\"\n",
    "    f1 = \"Virginia_Elections_Database__2016_U_S_House_General_Election_District_\"\n",
    "    f2 = \"_including_precincts.csv\"\n",
    "    dfs.append(pd.read_csv(path+f1+str(i)+f2))"
   ]
  },
  {
   "cell_type": "code",
   "execution_count": 38,
   "metadata": {},
   "outputs": [],
   "source": [
    "pres = pd.read_csv(\"../../presidential_2016/VA_Presidential_2016.csv\")"
   ]
  },
  {
   "cell_type": "code",
   "execution_count": 39,
   "metadata": {},
   "outputs": [
    {
     "data": {
      "text/html": [
       "<div>\n",
       "<style scoped>\n",
       "    .dataframe tbody tr th:only-of-type {\n",
       "        vertical-align: middle;\n",
       "    }\n",
       "\n",
       "    .dataframe tbody tr th {\n",
       "        vertical-align: top;\n",
       "    }\n",
       "\n",
       "    .dataframe thead th {\n",
       "        text-align: right;\n",
       "    }\n",
       "</style>\n",
       "<table border=\"1\" class=\"dataframe\">\n",
       "  <thead>\n",
       "    <tr style=\"text-align: right;\">\n",
       "      <th></th>\n",
       "      <th>County/City</th>\n",
       "      <th>Ward</th>\n",
       "      <th>Pct</th>\n",
       "      <th>Hillary R. Clinton</th>\n",
       "      <th>Donald J. Trump</th>\n",
       "      <th>Gary Johnson</th>\n",
       "      <th>Evan McMullin</th>\n",
       "      <th>Jill Stein</th>\n",
       "      <th>All Others</th>\n",
       "      <th>Total Votes Cast</th>\n",
       "    </tr>\n",
       "  </thead>\n",
       "  <tbody>\n",
       "    <tr>\n",
       "      <th>0</th>\n",
       "      <td>NaN</td>\n",
       "      <td>NaN</td>\n",
       "      <td>NaN</td>\n",
       "      <td>NaN</td>\n",
       "      <td>NaN</td>\n",
       "      <td>NaN</td>\n",
       "      <td>NaN</td>\n",
       "      <td>NaN</td>\n",
       "      <td>NaN</td>\n",
       "      <td>NaN</td>\n",
       "    </tr>\n",
       "  </tbody>\n",
       "</table>\n",
       "</div>"
      ],
      "text/plain": [
       "  County/City Ward  Pct Hillary R. Clinton Donald J. Trump Gary Johnson  \\\n",
       "0         NaN  NaN  NaN                NaN             NaN          NaN   \n",
       "\n",
       "   Evan McMullin  Jill Stein  All Others Total Votes Cast  \n",
       "0            NaN         NaN         NaN              NaN  "
      ]
     },
     "execution_count": 39,
     "metadata": {},
     "output_type": "execute_result"
    }
   ],
   "source": [
    "pres.head(1)"
   ]
  },
  {
   "cell_type": "code",
   "execution_count": 40,
   "metadata": {},
   "outputs": [
    {
     "data": {
      "text/html": [
       "<div>\n",
       "<style scoped>\n",
       "    .dataframe tbody tr th:only-of-type {\n",
       "        vertical-align: middle;\n",
       "    }\n",
       "\n",
       "    .dataframe tbody tr th {\n",
       "        vertical-align: top;\n",
       "    }\n",
       "\n",
       "    .dataframe thead th {\n",
       "        text-align: right;\n",
       "    }\n",
       "</style>\n",
       "<table border=\"1\" class=\"dataframe\">\n",
       "  <thead>\n",
       "    <tr style=\"text-align: right;\">\n",
       "      <th></th>\n",
       "      <th>County/City</th>\n",
       "      <th>Pct</th>\n",
       "    </tr>\n",
       "  </thead>\n",
       "  <tbody>\n",
       "    <tr>\n",
       "      <th>0</th>\n",
       "      <td>NaN</td>\n",
       "      <td>NaN</td>\n",
       "    </tr>\n",
       "    <tr>\n",
       "      <th>1</th>\n",
       "      <td>Accomack County</td>\n",
       "      <td>101 - Chincoteague</td>\n",
       "    </tr>\n",
       "  </tbody>\n",
       "</table>\n",
       "</div>"
      ],
      "text/plain": [
       "       County/City                 Pct\n",
       "0              NaN                 NaN\n",
       "1  Accomack County  101 - Chincoteague"
      ]
     },
     "execution_count": 40,
     "metadata": {},
     "output_type": "execute_result"
    }
   ],
   "source": [
    "c = list(pres.columns)\n",
    "c.remove(\"County/City\")\n",
    "c.remove(\"Pct\")\n",
    "pres.drop(columns=c, axis=1, inplace=True)\n",
    "pres.head(2)"
   ]
  },
  {
   "cell_type": "code",
   "execution_count": 41,
   "metadata": {},
   "outputs": [
    {
     "data": {
      "text/html": [
       "<div>\n",
       "<style scoped>\n",
       "    .dataframe tbody tr th:only-of-type {\n",
       "        vertical-align: middle;\n",
       "    }\n",
       "\n",
       "    .dataframe tbody tr th {\n",
       "        vertical-align: top;\n",
       "    }\n",
       "\n",
       "    .dataframe thead th {\n",
       "        text-align: right;\n",
       "    }\n",
       "</style>\n",
       "<table border=\"1\" class=\"dataframe\">\n",
       "  <thead>\n",
       "    <tr style=\"text-align: right;\">\n",
       "      <th></th>\n",
       "      <th>County/City</th>\n",
       "      <th>Pct</th>\n",
       "    </tr>\n",
       "  </thead>\n",
       "  <tbody>\n",
       "    <tr>\n",
       "      <th>1</th>\n",
       "      <td>Accomack County</td>\n",
       "      <td>101 - Chincoteague</td>\n",
       "    </tr>\n",
       "  </tbody>\n",
       "</table>\n",
       "</div>"
      ],
      "text/plain": [
       "       County/City                 Pct\n",
       "1  Accomack County  101 - Chincoteague"
      ]
     },
     "execution_count": 41,
     "metadata": {},
     "output_type": "execute_result"
    }
   ],
   "source": [
    "pres.drop(index=0, inplace=True)\n",
    "merged = pres.copy()\n",
    "pres.head(1)"
   ]
  },
  {
   "cell_type": "code",
   "execution_count": 42,
   "metadata": {},
   "outputs": [
    {
     "name": "stdout",
     "output_type": "stream",
     "text": [
      "2748\n"
     ]
    }
   ],
   "source": [
    "print(len(pres))"
   ]
  },
  {
   "cell_type": "code",
   "execution_count": 43,
   "metadata": {},
   "outputs": [],
   "source": [
    "import difflib\n",
    "\n",
    "def transform(s):\n",
    "    if s == \"None\":\n",
    "        return \"\"\n",
    "    \n",
    "    if \"-\" not in s:\n",
    "        return s\n",
    "    \n",
    "    s = s.split(\"-\")\n",
    "    s = [a.strip() for a in s]\n",
    "    s[0], s[1] = s[1], s[0]\n",
    "    return '-'.join(s)\n",
    "    \n",
    "def findSimilar(s1, lst):\n",
    "    max_ = 0\n",
    "    word = \"\"\n",
    "    s1 = transform(s1)\n",
    "    if s1 == \"None\":\n",
    "        return \"None\"\n",
    "    \n",
    "    og_s = \"\"\n",
    "    for s in lst:\n",
    "        og_s = s\n",
    "        s = transform(s)\n",
    "        r = difflib.SequenceMatcher(None, s1, s).ratio()\n",
    "        if r > max_:\n",
    "            max_ = r\n",
    "            word = og_s\n",
    "            \n",
    "    return word\n",
    "\n",
    "def createCountyPct(df):\n",
    "    m = {}\n",
    "    for index, row in df.iterrows():\n",
    "        county = row[\"County/City\"]\n",
    "        if county not in m.keys():\n",
    "            m[county] = [row[\"Pct\"]]\n",
    "        else:\n",
    "            m[county].append(row[\"Pct\"])\n",
    "        #print(county)\n",
    "    return m\n",
    "\n",
    "def createRename(df):\n",
    "    rename = {}\n",
    "    c = list(df.columns)\n",
    "    c.remove(\"County/City\")\n",
    "    c.remove(\"Ward\")\n",
    "    c.remove(\"Pct\")\n",
    "    c.remove(\"All Others\")\n",
    "    c.remove(\"Total Votes Cast\")\n",
    "    \n",
    "    for cc in c:\n",
    "        rename[cc] = df.iloc[0][cc]\n",
    "    return rename\n",
    "\n",
    "def addColumns(df):\n",
    "    all_c = [\"Republican\", \"Democratic\", \"Independent\", \"Libertarian\", \"Green\", \"All Others\", \"Total Votes Cast\"]\n",
    "    c = list(df.columns)\n",
    "    \n",
    "    for cc in all_c:\n",
    "        if cc not in c:\n",
    "            df[cc] = 0\n",
    "            \n",
    "def string2int(df):\n",
    "    c = list(df.columns)\n",
    "    c.remove(\"County/City\")\n",
    "    c.remove(\"Pct\")\n",
    "    c.remove(\"Ward\")\n",
    "    \n",
    "    for cc in c:\n",
    "        df = df.astype({cc: 'float64'})\n",
    "    return df"
   ]
  },
  {
   "cell_type": "code",
   "execution_count": 44,
   "metadata": {},
   "outputs": [],
   "source": [
    "addColumns(merged)\n",
    "merged[\"dist_num\"] = -1"
   ]
  },
  {
   "cell_type": "markdown",
   "metadata": {},
   "source": [
    "# map district by district"
   ]
  },
  {
   "cell_type": "code",
   "execution_count": 45,
   "metadata": {},
   "outputs": [],
   "source": [
    "def getDatas(row):\n",
    "    mapper = {\"Republican\":row[\"Republican\"], \"Democratic\":row[\"Democratic\"], \n",
    "              \"Independent\":row[\"Independent\"], \"Libertarian\": row[\"Libertarian\"],\n",
    "             \"All Others\":row[\"All Others\"], \"Total Votes Cast\":row[\"Total Votes Cast\"]}\n",
    "    return mapper\n",
    "\n",
    "def mergeDFs(df1, df2, dist_num):\n",
    "    for index, row in df2.iterrows():\n",
    "        mapper = getDatas(row)\n",
    "        \n",
    "        i = df1[(df1[(\"County/City\")]==row[\"County/City\"]) & (df1[\"Pct\"]==row[\"Pct\"])].index.to_list()\n",
    "        if len(i) == 1:\n",
    "            for key, item in mapper.items():\n",
    "                if type(item) == str:\n",
    "                    item = int(item.replace(\",\", \"\"))\n",
    "                #print(\"\\n\", i)\n",
    "                #print(df1.iloc[i[0]][\"Pct\"])\n",
    "                df1.at[i, key] = (df1.loc[i[0]][key] + item)\n",
    "            df1.at[i, \"dist_num\"] = dist_num\n",
    "        else:\n",
    "            print(i)\n",
    "            print(\"error: mismatch\", row[\"County/City\"], row[\"Pct\"])\n",
    "    return df1\n",
    "\n",
    "def mapp(index, merged, dist_num):\n",
    "    cur_df = dfs[index]\n",
    "    #cur_df = string2int(cur_df)\n",
    "\n",
    "    rename = createRename(cur_df)\n",
    "\n",
    "    cur_df.drop(index=0, inplace=True)\n",
    "    cur_df.drop(columns=[\"Ward\"], inplace=True, axis=1)\n",
    "\n",
    "    index = cur_df[cur_df[\"County/City\"] == \"TOTALS\"].index.to_list()[0]\n",
    "    cur_df.drop(index=index, inplace=True, axis=0)\n",
    "\n",
    "    if cur_df.isna().sum().sum():\n",
    "        print(\"Has null\")\n",
    "        return \"\"\n",
    "\n",
    "    # start matching\n",
    "    missing = createCountyPct(cur_df)\n",
    "    pres_name = createCountyPct(pres)\n",
    "\n",
    "    matches = {}\n",
    "    for county in missing.keys():\n",
    "        matches[county] = {}\n",
    "        precincts = missing[county]\n",
    "        for pct in precincts:\n",
    "            best = findSimilar(pct, pres_name[county])\n",
    "            matches[county][pct] = best\n",
    "            #print(pct, best)\n",
    "\n",
    "    # mapping the matches\n",
    "    for index, row in cur_df.iterrows():\n",
    "        cur_df.at[index, \"Pct\"] = matches[row[\"County/City\"]][row[\"Pct\"]]\n",
    "\n",
    "    cur_df.rename(mapper=rename, axis=1, inplace=True)\n",
    "    addColumns(cur_df)\n",
    "\n",
    "    # start mapping to pres\n",
    "    merged = mergeDFs(merged, cur_df, dist_num)\n",
    "    print(len(merged), len(pres))\n",
    "\n",
    "    print(\"\\nMerge:\\n\",merged.isna().sum())\n",
    "    \n",
    "    if len(merged) != len(pres):\n",
    "        print(\"\\ndrop duplicate\")\n",
    "        merged.drop_duplicates(subset=[\"Pct\", \"County/City\"], inplace=True, keep=\"first\")\n",
    "    \n",
    "        print(\"\\nMerge Fixed:\\n\",merged.isna().sum())\n",
    "    \n",
    "    return merged"
   ]
  },
  {
   "cell_type": "code",
   "execution_count": 46,
   "metadata": {},
   "outputs": [
    {
     "name": "stdout",
     "output_type": "stream",
     "text": [
      "2748 2748\n",
      "\n",
      "Merge:\n",
      " County/City         0\n",
      "Pct                 0\n",
      "Republican          0\n",
      "Democratic          0\n",
      "Independent         0\n",
      "Libertarian         0\n",
      "Green               0\n",
      "All Others          0\n",
      "Total Votes Cast    0\n",
      "dist_num            0\n",
      "dtype: int64\n"
     ]
    }
   ],
   "source": [
    "merged = mapp(0, merged, 1) "
   ]
  },
  {
   "cell_type": "code",
   "execution_count": 47,
   "metadata": {},
   "outputs": [
    {
     "name": "stdout",
     "output_type": "stream",
     "text": [
      "2748 2748\n",
      "\n",
      "Merge:\n",
      " County/City         0\n",
      "Pct                 0\n",
      "Republican          0\n",
      "Democratic          0\n",
      "Independent         0\n",
      "Libertarian         0\n",
      "Green               0\n",
      "All Others          0\n",
      "Total Votes Cast    0\n",
      "dist_num            0\n",
      "dtype: int64\n"
     ]
    }
   ],
   "source": [
    "merged = mapp(1, merged, 2)"
   ]
  },
  {
   "cell_type": "code",
   "execution_count": 48,
   "metadata": {},
   "outputs": [
    {
     "name": "stdout",
     "output_type": "stream",
     "text": [
      "2748 2748\n",
      "\n",
      "Merge:\n",
      " County/City         0\n",
      "Pct                 0\n",
      "Republican          0\n",
      "Democratic          0\n",
      "Independent         0\n",
      "Libertarian         0\n",
      "Green               0\n",
      "All Others          0\n",
      "Total Votes Cast    0\n",
      "dist_num            0\n",
      "dtype: int64\n"
     ]
    }
   ],
   "source": [
    "merged = mapp(2, merged, 3)"
   ]
  },
  {
   "cell_type": "code",
   "execution_count": 49,
   "metadata": {},
   "outputs": [
    {
     "name": "stdout",
     "output_type": "stream",
     "text": [
      "2748 2748\n",
      "\n",
      "Merge:\n",
      " County/City         0\n",
      "Pct                 0\n",
      "Republican          0\n",
      "Democratic          0\n",
      "Independent         0\n",
      "Libertarian         0\n",
      "Green               0\n",
      "All Others          0\n",
      "Total Votes Cast    0\n",
      "dist_num            0\n",
      "dtype: int64\n"
     ]
    }
   ],
   "source": [
    "merged = mapp(3, merged, 4)"
   ]
  },
  {
   "cell_type": "code",
   "execution_count": 50,
   "metadata": {},
   "outputs": [
    {
     "name": "stdout",
     "output_type": "stream",
     "text": [
      "2748 2748\n",
      "\n",
      "Merge:\n",
      " County/City         0\n",
      "Pct                 0\n",
      "Republican          0\n",
      "Democratic          0\n",
      "Independent         0\n",
      "Libertarian         0\n",
      "Green               0\n",
      "All Others          0\n",
      "Total Votes Cast    0\n",
      "dist_num            0\n",
      "dtype: int64\n"
     ]
    }
   ],
   "source": [
    "merged = mapp(4, merged, 5)"
   ]
  },
  {
   "cell_type": "code",
   "execution_count": 51,
   "metadata": {},
   "outputs": [
    {
     "name": "stdout",
     "output_type": "stream",
     "text": [
      "2748 2748\n",
      "\n",
      "Merge:\n",
      " County/City         0\n",
      "Pct                 0\n",
      "Republican          0\n",
      "Democratic          0\n",
      "Independent         0\n",
      "Libertarian         0\n",
      "Green               0\n",
      "All Others          0\n",
      "Total Votes Cast    0\n",
      "dist_num            0\n",
      "dtype: int64\n"
     ]
    }
   ],
   "source": [
    "merged = mapp(5,merged, 6)"
   ]
  },
  {
   "cell_type": "code",
   "execution_count": 52,
   "metadata": {},
   "outputs": [
    {
     "name": "stdout",
     "output_type": "stream",
     "text": [
      "2748 2748\n",
      "\n",
      "Merge:\n",
      " County/City         0\n",
      "Pct                 0\n",
      "Republican          0\n",
      "Democratic          0\n",
      "Independent         0\n",
      "Libertarian         0\n",
      "Green               0\n",
      "All Others          0\n",
      "Total Votes Cast    0\n",
      "dist_num            0\n",
      "dtype: int64\n"
     ]
    }
   ],
   "source": [
    "merged = mapp(6, merged, 7)"
   ]
  },
  {
   "cell_type": "code",
   "execution_count": 53,
   "metadata": {},
   "outputs": [
    {
     "name": "stdout",
     "output_type": "stream",
     "text": [
      "2748 2748\n",
      "\n",
      "Merge:\n",
      " County/City         0\n",
      "Pct                 0\n",
      "Republican          0\n",
      "Democratic          0\n",
      "Independent         0\n",
      "Libertarian         0\n",
      "Green               0\n",
      "All Others          0\n",
      "Total Votes Cast    0\n",
      "dist_num            0\n",
      "dtype: int64\n"
     ]
    }
   ],
   "source": [
    "merged = mapp(7, merged, 8)"
   ]
  },
  {
   "cell_type": "code",
   "execution_count": 54,
   "metadata": {},
   "outputs": [
    {
     "name": "stdout",
     "output_type": "stream",
     "text": [
      "2748 2748\n",
      "\n",
      "Merge:\n",
      " County/City         0\n",
      "Pct                 0\n",
      "Republican          0\n",
      "Democratic          0\n",
      "Independent         0\n",
      "Libertarian         0\n",
      "Green               0\n",
      "All Others          0\n",
      "Total Votes Cast    0\n",
      "dist_num            0\n",
      "dtype: int64\n"
     ]
    }
   ],
   "source": [
    "merged = mapp(8, merged, 9)"
   ]
  },
  {
   "cell_type": "code",
   "execution_count": 55,
   "metadata": {},
   "outputs": [
    {
     "name": "stdout",
     "output_type": "stream",
     "text": [
      "2748 2748\n",
      "\n",
      "Merge:\n",
      " County/City         0\n",
      "Pct                 0\n",
      "Republican          0\n",
      "Democratic          0\n",
      "Independent         0\n",
      "Libertarian         0\n",
      "Green               0\n",
      "All Others          0\n",
      "Total Votes Cast    0\n",
      "dist_num            0\n",
      "dtype: int64\n"
     ]
    }
   ],
   "source": [
    "merged = mapp(9, merged, 10)"
   ]
  },
  {
   "cell_type": "code",
   "execution_count": null,
   "metadata": {},
   "outputs": [],
   "source": []
  },
  {
   "cell_type": "code",
   "execution_count": null,
   "metadata": {},
   "outputs": [],
   "source": []
  },
  {
   "cell_type": "code",
   "execution_count": 56,
   "metadata": {},
   "outputs": [
    {
     "data": {
      "text/html": [
       "<div>\n",
       "<style scoped>\n",
       "    .dataframe tbody tr th:only-of-type {\n",
       "        vertical-align: middle;\n",
       "    }\n",
       "\n",
       "    .dataframe tbody tr th {\n",
       "        vertical-align: top;\n",
       "    }\n",
       "\n",
       "    .dataframe thead th {\n",
       "        text-align: right;\n",
       "    }\n",
       "</style>\n",
       "<table border=\"1\" class=\"dataframe\">\n",
       "  <thead>\n",
       "    <tr style=\"text-align: right;\">\n",
       "      <th></th>\n",
       "      <th>County/City</th>\n",
       "      <th>Pct</th>\n",
       "      <th>Republican</th>\n",
       "      <th>Democratic</th>\n",
       "      <th>Independent</th>\n",
       "      <th>Libertarian</th>\n",
       "      <th>Green</th>\n",
       "      <th>All Others</th>\n",
       "      <th>Total Votes Cast</th>\n",
       "      <th>dist_num</th>\n",
       "    </tr>\n",
       "  </thead>\n",
       "  <tbody>\n",
       "    <tr>\n",
       "      <th>1</th>\n",
       "      <td>Accomack County</td>\n",
       "      <td>101 - Chincoteague</td>\n",
       "      <td>1220</td>\n",
       "      <td>397</td>\n",
       "      <td>0</td>\n",
       "      <td>0</td>\n",
       "      <td>0</td>\n",
       "      <td>2.0</td>\n",
       "      <td>1619</td>\n",
       "      <td>2</td>\n",
       "    </tr>\n",
       "    <tr>\n",
       "      <th>2</th>\n",
       "      <td>Accomack County</td>\n",
       "      <td>201 - Atlantic</td>\n",
       "      <td>595</td>\n",
       "      <td>126</td>\n",
       "      <td>0</td>\n",
       "      <td>0</td>\n",
       "      <td>0</td>\n",
       "      <td>2.0</td>\n",
       "      <td>723</td>\n",
       "      <td>2</td>\n",
       "    </tr>\n",
       "    <tr>\n",
       "      <th>3</th>\n",
       "      <td>Accomack County</td>\n",
       "      <td>202 - Greenbackville</td>\n",
       "      <td>739</td>\n",
       "      <td>261</td>\n",
       "      <td>0</td>\n",
       "      <td>0</td>\n",
       "      <td>0</td>\n",
       "      <td>1.0</td>\n",
       "      <td>1001</td>\n",
       "      <td>2</td>\n",
       "    </tr>\n",
       "    <tr>\n",
       "      <th>4</th>\n",
       "      <td>Accomack County</td>\n",
       "      <td>301 - New Church</td>\n",
       "      <td>620</td>\n",
       "      <td>634</td>\n",
       "      <td>0</td>\n",
       "      <td>0</td>\n",
       "      <td>0</td>\n",
       "      <td>0.0</td>\n",
       "      <td>1254</td>\n",
       "      <td>2</td>\n",
       "    </tr>\n",
       "    <tr>\n",
       "      <th>5</th>\n",
       "      <td>Accomack County</td>\n",
       "      <td>401 - Bloxom</td>\n",
       "      <td>366</td>\n",
       "      <td>109</td>\n",
       "      <td>0</td>\n",
       "      <td>0</td>\n",
       "      <td>0</td>\n",
       "      <td>0.0</td>\n",
       "      <td>475</td>\n",
       "      <td>2</td>\n",
       "    </tr>\n",
       "  </tbody>\n",
       "</table>\n",
       "</div>"
      ],
      "text/plain": [
       "       County/City                   Pct  Republican  Democratic  Independent  \\\n",
       "1  Accomack County    101 - Chincoteague        1220         397            0   \n",
       "2  Accomack County        201 - Atlantic         595         126            0   \n",
       "3  Accomack County  202 - Greenbackville         739         261            0   \n",
       "4  Accomack County      301 - New Church         620         634            0   \n",
       "5  Accomack County          401 - Bloxom         366         109            0   \n",
       "\n",
       "   Libertarian  Green  All Others  Total Votes Cast  dist_num  \n",
       "1            0      0         2.0              1619         2  \n",
       "2            0      0         2.0               723         2  \n",
       "3            0      0         1.0              1001         2  \n",
       "4            0      0         0.0              1254         2  \n",
       "5            0      0         0.0               475         2  "
      ]
     },
     "execution_count": 56,
     "metadata": {},
     "output_type": "execute_result"
    }
   ],
   "source": [
    "merged.head()"
   ]
  },
  {
   "cell_type": "code",
   "execution_count": 57,
   "metadata": {},
   "outputs": [
    {
     "data": {
      "text/plain": [
       "2748"
      ]
     },
     "execution_count": 57,
     "metadata": {},
     "output_type": "execute_result"
    }
   ],
   "source": [
    "len(merged)"
   ]
  },
  {
   "cell_type": "code",
   "execution_count": 58,
   "metadata": {},
   "outputs": [
    {
     "data": {
      "text/plain": [
       "2748"
      ]
     },
     "execution_count": 58,
     "metadata": {},
     "output_type": "execute_result"
    }
   ],
   "source": [
    "len(pres)"
   ]
  },
  {
   "cell_type": "code",
   "execution_count": 59,
   "metadata": {},
   "outputs": [],
   "source": [
    "merged[\"Type\"] = \"CONG2016\""
   ]
  },
  {
   "cell_type": "code",
   "execution_count": 60,
   "metadata": {},
   "outputs": [],
   "source": [
    "merged.to_csv(\"VA_Congressional_2016_Cleand.csv\", index=False)"
   ]
  },
  {
   "cell_type": "code",
   "execution_count": null,
   "metadata": {},
   "outputs": [],
   "source": []
  },
  {
   "cell_type": "code",
   "execution_count": null,
   "metadata": {},
   "outputs": [],
   "source": []
  },
  {
   "cell_type": "code",
   "execution_count": null,
   "metadata": {},
   "outputs": [],
   "source": []
  },
  {
   "cell_type": "code",
   "execution_count": null,
   "metadata": {},
   "outputs": [],
   "source": []
  },
  {
   "cell_type": "code",
   "execution_count": null,
   "metadata": {},
   "outputs": [],
   "source": []
  },
  {
   "cell_type": "markdown",
   "metadata": {},
   "source": [
    "# congressional 2018"
   ]
  },
  {
   "cell_type": "code",
   "execution_count": 61,
   "metadata": {},
   "outputs": [],
   "source": [
    "dfs = []\n",
    "for i in range(1, 11):\n",
    "    path = \"../congressional 2018/va cong 2018/\"\n",
    "    f1 = \"Virginia_Elections_Database__2018_U_S_House_General_Election_District_\"\n",
    "    f2 = \"_including_precincts.csv\"\n",
    "    dfs.append(pd.read_csv(path+f1+str(i)+f2))"
   ]
  },
  {
   "cell_type": "code",
   "execution_count": 62,
   "metadata": {},
   "outputs": [],
   "source": [
    "pres = pd.read_csv(\"../../presidential_2016/VA_Presidential_2016.csv\")"
   ]
  },
  {
   "cell_type": "code",
   "execution_count": 63,
   "metadata": {},
   "outputs": [
    {
     "data": {
      "text/html": [
       "<div>\n",
       "<style scoped>\n",
       "    .dataframe tbody tr th:only-of-type {\n",
       "        vertical-align: middle;\n",
       "    }\n",
       "\n",
       "    .dataframe tbody tr th {\n",
       "        vertical-align: top;\n",
       "    }\n",
       "\n",
       "    .dataframe thead th {\n",
       "        text-align: right;\n",
       "    }\n",
       "</style>\n",
       "<table border=\"1\" class=\"dataframe\">\n",
       "  <thead>\n",
       "    <tr style=\"text-align: right;\">\n",
       "      <th></th>\n",
       "      <th>County/City</th>\n",
       "      <th>Ward</th>\n",
       "      <th>Pct</th>\n",
       "      <th>Hillary R. Clinton</th>\n",
       "      <th>Donald J. Trump</th>\n",
       "      <th>Gary Johnson</th>\n",
       "      <th>Evan McMullin</th>\n",
       "      <th>Jill Stein</th>\n",
       "      <th>All Others</th>\n",
       "      <th>Total Votes Cast</th>\n",
       "    </tr>\n",
       "  </thead>\n",
       "  <tbody>\n",
       "    <tr>\n",
       "      <th>0</th>\n",
       "      <td>NaN</td>\n",
       "      <td>NaN</td>\n",
       "      <td>NaN</td>\n",
       "      <td>NaN</td>\n",
       "      <td>NaN</td>\n",
       "      <td>NaN</td>\n",
       "      <td>NaN</td>\n",
       "      <td>NaN</td>\n",
       "      <td>NaN</td>\n",
       "      <td>NaN</td>\n",
       "    </tr>\n",
       "  </tbody>\n",
       "</table>\n",
       "</div>"
      ],
      "text/plain": [
       "  County/City Ward  Pct Hillary R. Clinton Donald J. Trump Gary Johnson  \\\n",
       "0         NaN  NaN  NaN                NaN             NaN          NaN   \n",
       "\n",
       "   Evan McMullin  Jill Stein  All Others Total Votes Cast  \n",
       "0            NaN         NaN         NaN              NaN  "
      ]
     },
     "execution_count": 63,
     "metadata": {},
     "output_type": "execute_result"
    }
   ],
   "source": [
    "pres.head(1)"
   ]
  },
  {
   "cell_type": "code",
   "execution_count": 64,
   "metadata": {},
   "outputs": [
    {
     "data": {
      "text/html": [
       "<div>\n",
       "<style scoped>\n",
       "    .dataframe tbody tr th:only-of-type {\n",
       "        vertical-align: middle;\n",
       "    }\n",
       "\n",
       "    .dataframe tbody tr th {\n",
       "        vertical-align: top;\n",
       "    }\n",
       "\n",
       "    .dataframe thead th {\n",
       "        text-align: right;\n",
       "    }\n",
       "</style>\n",
       "<table border=\"1\" class=\"dataframe\">\n",
       "  <thead>\n",
       "    <tr style=\"text-align: right;\">\n",
       "      <th></th>\n",
       "      <th>County/City</th>\n",
       "      <th>Pct</th>\n",
       "    </tr>\n",
       "  </thead>\n",
       "  <tbody>\n",
       "    <tr>\n",
       "      <th>0</th>\n",
       "      <td>NaN</td>\n",
       "      <td>NaN</td>\n",
       "    </tr>\n",
       "    <tr>\n",
       "      <th>1</th>\n",
       "      <td>Accomack County</td>\n",
       "      <td>101 - Chincoteague</td>\n",
       "    </tr>\n",
       "  </tbody>\n",
       "</table>\n",
       "</div>"
      ],
      "text/plain": [
       "       County/City                 Pct\n",
       "0              NaN                 NaN\n",
       "1  Accomack County  101 - Chincoteague"
      ]
     },
     "execution_count": 64,
     "metadata": {},
     "output_type": "execute_result"
    }
   ],
   "source": [
    "c = list(pres.columns)\n",
    "c.remove(\"County/City\")\n",
    "c.remove(\"Pct\")\n",
    "pres.drop(columns=c, axis=1, inplace=True)\n",
    "pres.head(2)"
   ]
  },
  {
   "cell_type": "code",
   "execution_count": 65,
   "metadata": {},
   "outputs": [
    {
     "data": {
      "text/html": [
       "<div>\n",
       "<style scoped>\n",
       "    .dataframe tbody tr th:only-of-type {\n",
       "        vertical-align: middle;\n",
       "    }\n",
       "\n",
       "    .dataframe tbody tr th {\n",
       "        vertical-align: top;\n",
       "    }\n",
       "\n",
       "    .dataframe thead th {\n",
       "        text-align: right;\n",
       "    }\n",
       "</style>\n",
       "<table border=\"1\" class=\"dataframe\">\n",
       "  <thead>\n",
       "    <tr style=\"text-align: right;\">\n",
       "      <th></th>\n",
       "      <th>County/City</th>\n",
       "      <th>Pct</th>\n",
       "    </tr>\n",
       "  </thead>\n",
       "  <tbody>\n",
       "    <tr>\n",
       "      <th>1</th>\n",
       "      <td>Accomack County</td>\n",
       "      <td>101 - Chincoteague</td>\n",
       "    </tr>\n",
       "  </tbody>\n",
       "</table>\n",
       "</div>"
      ],
      "text/plain": [
       "       County/City                 Pct\n",
       "1  Accomack County  101 - Chincoteague"
      ]
     },
     "execution_count": 65,
     "metadata": {},
     "output_type": "execute_result"
    }
   ],
   "source": [
    "pres.drop(index=0, inplace=True)\n",
    "merged = pres.copy()\n",
    "pres.head(1)"
   ]
  },
  {
   "cell_type": "code",
   "execution_count": 66,
   "metadata": {},
   "outputs": [],
   "source": [
    "import difflib\n",
    "\n",
    "def transform(s):\n",
    "    if s == \"None\":\n",
    "        return \"\"\n",
    "    \n",
    "    if \"-\" not in s:\n",
    "        return s\n",
    "    \n",
    "    s = s.split(\"-\")\n",
    "    s = [a.strip() for a in s]\n",
    "    s[0], s[1] = s[1], s[0]\n",
    "    return '-'.join(s)\n",
    "    \n",
    "def findSimilar(s1, lst):\n",
    "    max_ = 0\n",
    "    word = \"\"\n",
    "    s1 = transform(s1)\n",
    "    if s1 == \"None\":\n",
    "        return \"None\"\n",
    "    \n",
    "    og_s = \"\"\n",
    "    for s in lst:\n",
    "        og_s = s\n",
    "        s = transform(s)\n",
    "        r = difflib.SequenceMatcher(None, s1, s).ratio()\n",
    "        if r > max_:\n",
    "            max_ = r\n",
    "            word = og_s\n",
    "            \n",
    "    return word\n",
    "\n",
    "def createCountyPct(df):\n",
    "    m = {}\n",
    "    for index, row in df.iterrows():\n",
    "        county = row[\"County/City\"]\n",
    "        if county not in m.keys():\n",
    "            m[county] = [row[\"Pct\"]]\n",
    "        else:\n",
    "            m[county].append(row[\"Pct\"])\n",
    "        #print(county)\n",
    "    return m\n",
    "\n",
    "def createRename(df):\n",
    "    rename = {}\n",
    "    c = list(df.columns)\n",
    "    c.remove(\"County/City\")\n",
    "    c.remove(\"Ward\")\n",
    "    c.remove(\"Pct\")\n",
    "    c.remove(\"All Others\")\n",
    "    c.remove(\"Total Votes Cast\")\n",
    "    \n",
    "    for cc in c:\n",
    "        rename[cc] = df.iloc[0][cc]\n",
    "    return rename\n",
    "\n",
    "def addColumns(df):\n",
    "    all_c = [\"Republican\", \"Democratic\", \"Independent\", \"Libertarian\", \"Green\", \"All Others\", \"Total Votes Cast\"]\n",
    "    c = list(df.columns)\n",
    "    \n",
    "    for cc in all_c:\n",
    "        if cc not in c:\n",
    "            df[cc] = 0\n",
    "            \n",
    "def string2int(df):\n",
    "    c = list(df.columns)\n",
    "    c.remove(\"County/City\")\n",
    "    c.remove(\"Pct\")\n",
    "    c.remove(\"Ward\")\n",
    "    \n",
    "    for cc in c:\n",
    "        df = df.astype({cc: 'float64'})\n",
    "    return df"
   ]
  },
  {
   "cell_type": "code",
   "execution_count": 67,
   "metadata": {},
   "outputs": [],
   "source": [
    "addColumns(merged)\n",
    "merged[\"dist_num\"] = -1"
   ]
  },
  {
   "cell_type": "markdown",
   "metadata": {},
   "source": [
    "# map district by district"
   ]
  },
  {
   "cell_type": "code",
   "execution_count": 68,
   "metadata": {},
   "outputs": [],
   "source": [
    "def getDatas(row):\n",
    "    mapper = {\"Republican\":row[\"Republican\"], \"Democratic\":row[\"Democratic\"], \n",
    "              \"Independent\":row[\"Independent\"], \"Libertarian\": row[\"Libertarian\"],\n",
    "             \"All Others\":row[\"All Others\"], \"Total Votes Cast\":row[\"Total Votes Cast\"]}\n",
    "    return mapper\n",
    "\n",
    "def mergeDFs(df1, df2, dist_num):\n",
    "    for index, row in df2.iterrows():\n",
    "        mapper = getDatas(row)\n",
    "        \n",
    "        i = df1[(df1[(\"County/City\")]==row[\"County/City\"]) & (df1[\"Pct\"]==row[\"Pct\"])].index.to_list()\n",
    "        if len(i) == 1:\n",
    "            for key, item in mapper.items():\n",
    "                if type(item) == str:\n",
    "                    item = int(item.replace(\",\", \"\"))\n",
    "                #print(\"\\n\", i)\n",
    "                #print(df1.iloc[i[0]][\"Pct\"])\n",
    "                df1.at[i, key] = (df1.loc[i[0]][key] + item)\n",
    "            df1.at[i, \"dist_num\"] = dist_num\n",
    "        else:\n",
    "            print(i)\n",
    "            print(\"error: mismatch\", row[\"County/City\"], row[\"Pct\"])\n",
    "    return df1\n",
    "\n",
    "def mapp(index, merged, dist_num):\n",
    "    cur_df = dfs[index]\n",
    "    #cur_df = string2int(cur_df)\n",
    "\n",
    "    rename = createRename(cur_df)\n",
    "\n",
    "    cur_df.drop(index=0, inplace=True)\n",
    "    cur_df.drop(columns=[\"Ward\"], inplace=True, axis=1)\n",
    "\n",
    "    index = cur_df[cur_df[\"County/City\"] == \"TOTALS\"].index.to_list()[0]\n",
    "    cur_df.drop(index=index, inplace=True, axis=0)\n",
    "\n",
    "    if cur_df.isna().sum().sum():\n",
    "        print(\"Has null\")\n",
    "        return \"\"\n",
    "\n",
    "    # start matching\n",
    "    missing = createCountyPct(cur_df)\n",
    "    pres_name = createCountyPct(pres)\n",
    "\n",
    "    matches = {}\n",
    "    for county in missing.keys():\n",
    "        matches[county] = {}\n",
    "        precincts = missing[county]\n",
    "        for pct in precincts:\n",
    "            best = findSimilar(pct, pres_name[county])\n",
    "            matches[county][pct] = best\n",
    "            #print(pct, best)\n",
    "\n",
    "    # mapping the matches\n",
    "    for index, row in cur_df.iterrows():\n",
    "        cur_df.at[index, \"Pct\"] = matches[row[\"County/City\"]][row[\"Pct\"]]\n",
    "\n",
    "    cur_df.rename(mapper=rename, axis=1, inplace=True)\n",
    "    addColumns(cur_df)\n",
    "\n",
    "    # start mapping to pres\n",
    "    merged = mergeDFs(merged, cur_df, dist_num)\n",
    "    print(len(merged), len(pres))\n",
    "\n",
    "    print(\"\\nMerge:\\n\",merged.isna().sum())\n",
    "    \n",
    "    if len(merged) != len(pres):\n",
    "        print(\"\\ndrop duplicate\")\n",
    "        merged.drop_duplicates(subset=[\"Pct\", \"County/City\"], inplace=True, keep=\"first\")\n",
    "    \n",
    "        print(\"\\nMerge Fixed:\\n\",merged.isna().sum())\n",
    "    \n",
    "    return merged"
   ]
  },
  {
   "cell_type": "code",
   "execution_count": 69,
   "metadata": {},
   "outputs": [
    {
     "name": "stdout",
     "output_type": "stream",
     "text": [
      "2748 2748\n",
      "\n",
      "Merge:\n",
      " County/City         0\n",
      "Pct                 0\n",
      "Republican          0\n",
      "Democratic          0\n",
      "Independent         0\n",
      "Libertarian         0\n",
      "Green               0\n",
      "All Others          0\n",
      "Total Votes Cast    0\n",
      "dist_num            0\n",
      "dtype: int64\n"
     ]
    }
   ],
   "source": [
    "merged = mapp(0, merged, 1) "
   ]
  },
  {
   "cell_type": "code",
   "execution_count": 70,
   "metadata": {},
   "outputs": [
    {
     "name": "stdout",
     "output_type": "stream",
     "text": [
      "2748 2748\n",
      "\n",
      "Merge:\n",
      " County/City         0\n",
      "Pct                 0\n",
      "Republican          0\n",
      "Democratic          0\n",
      "Independent         0\n",
      "Libertarian         0\n",
      "Green               0\n",
      "All Others          0\n",
      "Total Votes Cast    0\n",
      "dist_num            0\n",
      "dtype: int64\n"
     ]
    }
   ],
   "source": [
    "merged = mapp(1, merged, 2)"
   ]
  },
  {
   "cell_type": "code",
   "execution_count": 71,
   "metadata": {},
   "outputs": [
    {
     "name": "stdout",
     "output_type": "stream",
     "text": [
      "2748 2748\n",
      "\n",
      "Merge:\n",
      " County/City         0\n",
      "Pct                 0\n",
      "Republican          0\n",
      "Democratic          0\n",
      "Independent         0\n",
      "Libertarian         0\n",
      "Green               0\n",
      "All Others          0\n",
      "Total Votes Cast    0\n",
      "dist_num            0\n",
      "dtype: int64\n"
     ]
    }
   ],
   "source": [
    "merged = mapp(2, merged, 3)"
   ]
  },
  {
   "cell_type": "code",
   "execution_count": 72,
   "metadata": {},
   "outputs": [
    {
     "name": "stdout",
     "output_type": "stream",
     "text": [
      "2748 2748\n",
      "\n",
      "Merge:\n",
      " County/City         0\n",
      "Pct                 0\n",
      "Republican          0\n",
      "Democratic          0\n",
      "Independent         0\n",
      "Libertarian         0\n",
      "Green               0\n",
      "All Others          0\n",
      "Total Votes Cast    0\n",
      "dist_num            0\n",
      "dtype: int64\n"
     ]
    }
   ],
   "source": [
    "merged = mapp(3, merged, 4)"
   ]
  },
  {
   "cell_type": "code",
   "execution_count": 73,
   "metadata": {},
   "outputs": [
    {
     "name": "stdout",
     "output_type": "stream",
     "text": [
      "2748 2748\n",
      "\n",
      "Merge:\n",
      " County/City         0\n",
      "Pct                 0\n",
      "Republican          0\n",
      "Democratic          0\n",
      "Independent         0\n",
      "Libertarian         0\n",
      "Green               0\n",
      "All Others          0\n",
      "Total Votes Cast    0\n",
      "dist_num            0\n",
      "dtype: int64\n"
     ]
    }
   ],
   "source": [
    "merged = mapp(4, merged, 5)"
   ]
  },
  {
   "cell_type": "code",
   "execution_count": 74,
   "metadata": {},
   "outputs": [
    {
     "name": "stdout",
     "output_type": "stream",
     "text": [
      "2748 2748\n",
      "\n",
      "Merge:\n",
      " County/City         0\n",
      "Pct                 0\n",
      "Republican          0\n",
      "Democratic          0\n",
      "Independent         0\n",
      "Libertarian         0\n",
      "Green               0\n",
      "All Others          0\n",
      "Total Votes Cast    0\n",
      "dist_num            0\n",
      "dtype: int64\n"
     ]
    }
   ],
   "source": [
    "merged = mapp(5,merged, 6)"
   ]
  },
  {
   "cell_type": "code",
   "execution_count": 75,
   "metadata": {},
   "outputs": [
    {
     "name": "stdout",
     "output_type": "stream",
     "text": [
      "2748 2748\n",
      "\n",
      "Merge:\n",
      " County/City         0\n",
      "Pct                 0\n",
      "Republican          0\n",
      "Democratic          0\n",
      "Independent         0\n",
      "Libertarian         0\n",
      "Green               0\n",
      "All Others          0\n",
      "Total Votes Cast    0\n",
      "dist_num            0\n",
      "dtype: int64\n"
     ]
    }
   ],
   "source": [
    "merged = mapp(6, merged, 7)"
   ]
  },
  {
   "cell_type": "code",
   "execution_count": 76,
   "metadata": {},
   "outputs": [
    {
     "name": "stdout",
     "output_type": "stream",
     "text": [
      "2748 2748\n",
      "\n",
      "Merge:\n",
      " County/City         0\n",
      "Pct                 0\n",
      "Republican          0\n",
      "Democratic          0\n",
      "Independent         0\n",
      "Libertarian         0\n",
      "Green               0\n",
      "All Others          0\n",
      "Total Votes Cast    0\n",
      "dist_num            0\n",
      "dtype: int64\n"
     ]
    }
   ],
   "source": [
    "merged = mapp(7, merged, 8)"
   ]
  },
  {
   "cell_type": "code",
   "execution_count": 77,
   "metadata": {},
   "outputs": [
    {
     "name": "stdout",
     "output_type": "stream",
     "text": [
      "2748 2748\n",
      "\n",
      "Merge:\n",
      " County/City         0\n",
      "Pct                 0\n",
      "Republican          0\n",
      "Democratic          0\n",
      "Independent         0\n",
      "Libertarian         0\n",
      "Green               0\n",
      "All Others          0\n",
      "Total Votes Cast    0\n",
      "dist_num            0\n",
      "dtype: int64\n"
     ]
    }
   ],
   "source": [
    "merged = mapp(8, merged, 9)"
   ]
  },
  {
   "cell_type": "code",
   "execution_count": 78,
   "metadata": {},
   "outputs": [
    {
     "name": "stdout",
     "output_type": "stream",
     "text": [
      "2748 2748\n",
      "\n",
      "Merge:\n",
      " County/City         0\n",
      "Pct                 0\n",
      "Republican          0\n",
      "Democratic          0\n",
      "Independent         0\n",
      "Libertarian         0\n",
      "Green               0\n",
      "All Others          0\n",
      "Total Votes Cast    0\n",
      "dist_num            0\n",
      "dtype: int64\n"
     ]
    }
   ],
   "source": [
    "merged = mapp(9, merged, 10)"
   ]
  },
  {
   "cell_type": "code",
   "execution_count": 79,
   "metadata": {},
   "outputs": [
    {
     "data": {
      "text/html": [
       "<div>\n",
       "<style scoped>\n",
       "    .dataframe tbody tr th:only-of-type {\n",
       "        vertical-align: middle;\n",
       "    }\n",
       "\n",
       "    .dataframe tbody tr th {\n",
       "        vertical-align: top;\n",
       "    }\n",
       "\n",
       "    .dataframe thead th {\n",
       "        text-align: right;\n",
       "    }\n",
       "</style>\n",
       "<table border=\"1\" class=\"dataframe\">\n",
       "  <thead>\n",
       "    <tr style=\"text-align: right;\">\n",
       "      <th></th>\n",
       "      <th>County/City</th>\n",
       "      <th>Pct</th>\n",
       "      <th>Republican</th>\n",
       "      <th>Democratic</th>\n",
       "      <th>Independent</th>\n",
       "      <th>Libertarian</th>\n",
       "      <th>Green</th>\n",
       "      <th>All Others</th>\n",
       "      <th>Total Votes Cast</th>\n",
       "      <th>dist_num</th>\n",
       "    </tr>\n",
       "  </thead>\n",
       "  <tbody>\n",
       "    <tr>\n",
       "      <th>1</th>\n",
       "      <td>Accomack County</td>\n",
       "      <td>101 - Chincoteague</td>\n",
       "      <td>974</td>\n",
       "      <td>465</td>\n",
       "      <td>0</td>\n",
       "      <td>0</td>\n",
       "      <td>0</td>\n",
       "      <td>1.0</td>\n",
       "      <td>1440</td>\n",
       "      <td>2</td>\n",
       "    </tr>\n",
       "    <tr>\n",
       "      <th>2</th>\n",
       "      <td>Accomack County</td>\n",
       "      <td>201 - Atlantic</td>\n",
       "      <td>452</td>\n",
       "      <td>149</td>\n",
       "      <td>0</td>\n",
       "      <td>0</td>\n",
       "      <td>0</td>\n",
       "      <td>2.0</td>\n",
       "      <td>603</td>\n",
       "      <td>2</td>\n",
       "    </tr>\n",
       "    <tr>\n",
       "      <th>3</th>\n",
       "      <td>Accomack County</td>\n",
       "      <td>202 - Greenbackville</td>\n",
       "      <td>558</td>\n",
       "      <td>268</td>\n",
       "      <td>0</td>\n",
       "      <td>0</td>\n",
       "      <td>0</td>\n",
       "      <td>1.0</td>\n",
       "      <td>827</td>\n",
       "      <td>2</td>\n",
       "    </tr>\n",
       "    <tr>\n",
       "      <th>4</th>\n",
       "      <td>Accomack County</td>\n",
       "      <td>301 - New Church</td>\n",
       "      <td>459</td>\n",
       "      <td>508</td>\n",
       "      <td>0</td>\n",
       "      <td>0</td>\n",
       "      <td>0</td>\n",
       "      <td>0.0</td>\n",
       "      <td>967</td>\n",
       "      <td>2</td>\n",
       "    </tr>\n",
       "    <tr>\n",
       "      <th>5</th>\n",
       "      <td>Accomack County</td>\n",
       "      <td>401 - Bloxom</td>\n",
       "      <td>268</td>\n",
       "      <td>103</td>\n",
       "      <td>0</td>\n",
       "      <td>0</td>\n",
       "      <td>0</td>\n",
       "      <td>0.0</td>\n",
       "      <td>371</td>\n",
       "      <td>2</td>\n",
       "    </tr>\n",
       "  </tbody>\n",
       "</table>\n",
       "</div>"
      ],
      "text/plain": [
       "       County/City                   Pct  Republican  Democratic  Independent  \\\n",
       "1  Accomack County    101 - Chincoteague         974         465            0   \n",
       "2  Accomack County        201 - Atlantic         452         149            0   \n",
       "3  Accomack County  202 - Greenbackville         558         268            0   \n",
       "4  Accomack County      301 - New Church         459         508            0   \n",
       "5  Accomack County          401 - Bloxom         268         103            0   \n",
       "\n",
       "   Libertarian  Green  All Others  Total Votes Cast  dist_num  \n",
       "1            0      0         1.0              1440         2  \n",
       "2            0      0         2.0               603         2  \n",
       "3            0      0         1.0               827         2  \n",
       "4            0      0         0.0               967         2  \n",
       "5            0      0         0.0               371         2  "
      ]
     },
     "execution_count": 79,
     "metadata": {},
     "output_type": "execute_result"
    }
   ],
   "source": [
    "merged.head()"
   ]
  },
  {
   "cell_type": "code",
   "execution_count": 80,
   "metadata": {},
   "outputs": [
    {
     "data": {
      "text/plain": [
       "2748"
      ]
     },
     "execution_count": 80,
     "metadata": {},
     "output_type": "execute_result"
    }
   ],
   "source": [
    "len(merged)"
   ]
  },
  {
   "cell_type": "code",
   "execution_count": 81,
   "metadata": {},
   "outputs": [
    {
     "data": {
      "text/plain": [
       "2748"
      ]
     },
     "execution_count": 81,
     "metadata": {},
     "output_type": "execute_result"
    }
   ],
   "source": [
    "len(pres)"
   ]
  },
  {
   "cell_type": "code",
   "execution_count": 82,
   "metadata": {},
   "outputs": [],
   "source": [
    "merged[\"Type\"] = \"CONG2018\""
   ]
  },
  {
   "cell_type": "markdown",
   "metadata": {},
   "source": []
  },
  {
   "cell_type": "code",
   "execution_count": 83,
   "metadata": {},
   "outputs": [],
   "source": [
    "merged.to_csv(\"../congressional 2018/VA_Congressional_2018_Cleand.csv\", index=False)"
   ]
  },
  {
   "cell_type": "code",
   "execution_count": null,
   "metadata": {},
   "outputs": [],
   "source": []
  },
  {
   "cell_type": "code",
   "execution_count": null,
   "metadata": {},
   "outputs": [],
   "source": []
  },
  {
   "cell_type": "code",
   "execution_count": null,
   "metadata": {},
   "outputs": [],
   "source": []
  },
  {
   "cell_type": "code",
   "execution_count": null,
   "metadata": {},
   "outputs": [],
   "source": []
  },
  {
   "cell_type": "code",
   "execution_count": null,
   "metadata": {},
   "outputs": [],
   "source": []
  },
  {
   "cell_type": "code",
   "execution_count": null,
   "metadata": {},
   "outputs": [],
   "source": []
  },
  {
   "cell_type": "code",
   "execution_count": null,
   "metadata": {},
   "outputs": [],
   "source": []
  }
 ],
 "metadata": {
  "kernelspec": {
   "display_name": "myenv",
   "language": "python",
   "name": "myenv"
  },
  "language_info": {
   "codemirror_mode": {
    "name": "ipython",
    "version": 3
   },
   "file_extension": ".py",
   "mimetype": "text/x-python",
   "name": "python",
   "nbconvert_exporter": "python",
   "pygments_lexer": "ipython3",
   "version": "3.7.7"
  }
 },
 "nbformat": 4,
 "nbformat_minor": 4
}
