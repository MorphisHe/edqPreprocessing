{
 "cells": [
  {
   "cell_type": "code",
   "execution_count": 9,
   "metadata": {},
   "outputs": [],
   "source": [
    "import warnings\n",
    "warnings.filterwarnings('ignore')\n",
    "\n",
    "import geopandas as gpd\n",
    "from shapely import geometry\n",
    "import pandas as pd\n",
    "import os"
   ]
  },
  {
   "cell_type": "code",
   "execution_count": 10,
   "metadata": {},
   "outputs": [
    {
     "name": "stdout",
     "output_type": "stream",
     "text": [
      "TX0County.json              TX7County.json\r\n",
      "TX1County.json              TX_County.json\r\n",
      "TX2County.json              TX_County_Cleaned.json\r\n",
      "TX3County.json              TX_County_Parser.zip\r\n",
      "TX4County.json              \u001b[1m\u001b[34mTexas_County_Boundaries\u001b[m\u001b[m\r\n",
      "TX5County.json              Texas_County_Boundaries.zip\r\n",
      "TX6County.json              parse_county_forDB.ipynb\r\n"
     ]
    }
   ],
   "source": [
    "!ls"
   ]
  },
  {
   "cell_type": "code",
   "execution_count": 11,
   "metadata": {},
   "outputs": [
    {
     "data": {
      "text/html": [
       "<div>\n",
       "<style scoped>\n",
       "    .dataframe tbody tr th:only-of-type {\n",
       "        vertical-align: middle;\n",
       "    }\n",
       "\n",
       "    .dataframe tbody tr th {\n",
       "        vertical-align: top;\n",
       "    }\n",
       "\n",
       "    .dataframe thead th {\n",
       "        text-align: right;\n",
       "    }\n",
       "</style>\n",
       "<table border=\"1\" class=\"dataframe\">\n",
       "  <thead>\n",
       "    <tr style=\"text-align: right;\">\n",
       "      <th></th>\n",
       "      <th>County</th>\n",
       "      <th>geometry</th>\n",
       "    </tr>\n",
       "  </thead>\n",
       "  <tbody>\n",
       "    <tr>\n",
       "      <th>0</th>\n",
       "      <td>Uvalde County</td>\n",
       "      <td>POLYGON ((-100.11112 29.08625, -100.11122 29.1...</td>\n",
       "    </tr>\n",
       "  </tbody>\n",
       "</table>\n",
       "</div>"
      ],
      "text/plain": [
       "          County                                           geometry\n",
       "0  Uvalde County  POLYGON ((-100.11112 29.08625, -100.11122 29.1..."
      ]
     },
     "execution_count": 11,
     "metadata": {},
     "output_type": "execute_result"
    }
   ],
   "source": [
    "gdf = gpd.read_file(\"TX_County_Cleaned.json\")\n",
    "gdf.head(1)"
   ]
  },
  {
   "cell_type": "code",
   "execution_count": 12,
   "metadata": {},
   "outputs": [
    {
     "ename": "SyntaxError",
     "evalue": "unexpected EOF while parsing (<ipython-input-12-66e328511cdd>, line 1)",
     "output_type": "error",
     "traceback": [
      "\u001b[0;36m  File \u001b[0;32m\"<ipython-input-12-66e328511cdd>\"\u001b[0;36m, line \u001b[0;32m1\u001b[0m\n\u001b[0;31m    len(gdf[\"County\"].unique()\u001b[0m\n\u001b[0m                              ^\u001b[0m\n\u001b[0;31mSyntaxError\u001b[0m\u001b[0;31m:\u001b[0m unexpected EOF while parsing\n"
     ]
    }
   ],
   "source": [
    "len(gdf[\"County\"].unique()"
   ]
  },
  {
   "cell_type": "code",
   "execution_count": 13,
   "metadata": {},
   "outputs": [],
   "source": [
    "counties = sorted(list(gdf[\"County\"].unique()))"
   ]
  },
  {
   "cell_type": "code",
   "execution_count": 17,
   "metadata": {},
   "outputs": [],
   "source": [
    "file_name = \"TX7County.json\"\n",
    "g = gdf[gdf[\"County\"].isin(counties[7*31:])]\n",
    "g.to_file(file_name, driver=\"GeoJSON\")"
   ]
  },
  {
   "cell_type": "code",
   "execution_count": 16,
   "metadata": {},
   "outputs": [
    {
     "data": {
      "text/plain": [
       "array(['Uvalde County', 'Wharton County', 'Val Verde County',\n",
       "       'Waller County', 'Washington County', 'Travis County',\n",
       "       'Terrell County', 'Sutton County', 'Williamson County',\n",
       "       'Walker County', 'Tyler County', 'Trinity County',\n",
       "       'Willacy County', 'Zapata County', 'Webb County', 'Zavala County',\n",
       "       'Victoria County', 'Wilson County', 'Van Zandt County',\n",
       "       'Upshur County', 'Upton County', 'Ward County', 'Tom Green County',\n",
       "       'Winkler County', 'Taylor County', 'Wood County',\n",
       "       'Throckmorton County', 'Young County', 'Wichita County',\n",
       "       'Wilbarger County', 'Terry County', 'Yoakum County', 'Wise County',\n",
       "       'Titus County', 'Tarrant County', 'Swisher County',\n",
       "       'Wheeler County'], dtype=object)"
      ]
     },
     "execution_count": 16,
     "metadata": {},
     "output_type": "execute_result"
    }
   ],
   "source": [
    "gdf[gdf[\"County\"].isin(counties[7*31:])][\"County\"].unique()"
   ]
  },
  {
   "cell_type": "code",
   "execution_count": 10,
   "metadata": {},
   "outputs": [
    {
     "data": {
      "text/plain": [
       "31"
      ]
     },
     "execution_count": 10,
     "metadata": {},
     "output_type": "execute_result"
    }
   ],
   "source": [
    "254//8"
   ]
  },
  {
   "cell_type": "code",
   "execution_count": 6,
   "metadata": {},
   "outputs": [],
   "source": [
    "g = gpd.read_file(\"TX0County.json\")"
   ]
  },
  {
   "cell_type": "code",
   "execution_count": 8,
   "metadata": {},
   "outputs": [
    {
     "data": {
      "text/plain": [
       "array(['Brazoria County', 'Bexar County', 'Bandera County',\n",
       "       'Caldwell County', 'Austin County', 'Bastrop County',\n",
       "       'Blanco County', 'Brewster County', 'Burleson County',\n",
       "       'Brazos County', 'Burnet County', 'Bell County', 'Cameron County',\n",
       "       'Brooks County', 'Aransas County', 'Bee County', 'Calhoun County',\n",
       "       'Atascosa County', 'Andrews County', 'Borden County',\n",
       "       'Angelina County', 'Brown County', 'Anderson County',\n",
       "       'Bosque County', 'Callahan County', 'Bailey County',\n",
       "       'Bowie County', 'Baylor County', 'Archer County', 'Briscoe County',\n",
       "       'Armstrong County'], dtype=object)"
      ]
     },
     "execution_count": 8,
     "metadata": {},
     "output_type": "execute_result"
    }
   ],
   "source": [
    "g[\"County\"].unique()"
   ]
  },
  {
   "cell_type": "code",
   "execution_count": null,
   "metadata": {},
   "outputs": [],
   "source": []
  },
  {
   "cell_type": "code",
   "execution_count": null,
   "metadata": {},
   "outputs": [],
   "source": []
  },
  {
   "cell_type": "code",
   "execution_count": null,
   "metadata": {},
   "outputs": [],
   "source": []
  },
  {
   "cell_type": "code",
   "execution_count": null,
   "metadata": {},
   "outputs": [],
   "source": []
  },
  {
   "cell_type": "code",
   "execution_count": null,
   "metadata": {},
   "outputs": [],
   "source": []
  },
  {
   "cell_type": "code",
   "execution_count": null,
   "metadata": {},
   "outputs": [],
   "source": []
  },
  {
   "cell_type": "code",
   "execution_count": null,
   "metadata": {},
   "outputs": [],
   "source": []
  },
  {
   "cell_type": "markdown",
   "metadata": {},
   "source": [
    "# create x y for each polygon"
   ]
  },
  {
   "cell_type": "code",
   "execution_count": 9,
   "metadata": {},
   "outputs": [],
   "source": [
    "Polygon = geometry.polygon.Polygon\n",
    "MultiPolygon = geometry.multipolygon.MultiPolygon"
   ]
  },
  {
   "cell_type": "code",
   "execution_count": 10,
   "metadata": {},
   "outputs": [],
   "source": [
    "def parse(gdf, arg_i, arg_shape_id, arg_polygon_id):\n",
    "    columns = [\"geovertex_id\", \"shape_id\", \"polygon_id\", \"County\", \"x_pos\", \"y_pos\"]\n",
    "    df = pd.DataFrame(columns=columns)\n",
    "\n",
    "    counter = 0\n",
    "    i = arg_i\n",
    "    shape_id = arg_shape_id\n",
    "    polygon_id = arg_polygon_id\n",
    "\n",
    "    for index, row in gdf.iterrows():\n",
    "        # for visualization only\n",
    "        if counter%15==0:\n",
    "            print(\" {:.2f}% \".format(counter/len(gdf)*100), end=\"\")\n",
    "        else:\n",
    "            print(\"#\", end=\"\")\n",
    "\n",
    "        cur_shape = row[\"geometry\"]\n",
    "        cur_type = type(cur_shape)\n",
    "\n",
    "        row = row.drop([\"geometry\"])\n",
    "        cur_row = row\n",
    "        cur_row[\"shape_id\"] = shape_id\n",
    "        shape_id += 1\n",
    "\n",
    "        if cur_type == MultiPolygon:\n",
    "            for polygon in cur_shape:\n",
    "                cur_row[\"polygon_id\"] = polygon_id\n",
    "                polygon_id += 1\n",
    "                for coords in polygon.exterior.coords:\n",
    "                    cur_row[\"geovertex_id\"] = i\n",
    "                    i += 1\n",
    "                    cur_row[\"x_pos\"] = coords[0]\n",
    "                    cur_row[\"y_pos\"] = coords[1]\n",
    "                    df = df.append(cur_row, ignore_index=True)\n",
    "                    cur_row = row\n",
    "        elif cur_type == Polygon:\n",
    "            cur_row[\"polygon_id\"] = polygon_id\n",
    "            polygon_id += 1\n",
    "            for coords in cur_shape.exterior.coords:\n",
    "                cur_row[\"geovertex_id\"] = i\n",
    "                i += 1\n",
    "                cur_row[\"x_pos\"] = coords[0]\n",
    "                cur_row[\"y_pos\"] = coords[1]\n",
    "                df = df.append(cur_row, ignore_index=True)\n",
    "                cur_row = row\n",
    "        counter += 1\n",
    "        \n",
    "    return df"
   ]
  },
  {
   "cell_type": "code",
   "execution_count": 13,
   "metadata": {},
   "outputs": [
    {
     "name": "stdout",
     "output_type": "stream",
     "text": [
      "\n",
      "\n",
      "Start VA0County.json\n",
      " 0.00% ############## 53.57% ############\n",
      "Last row id: geo:790355, shape:28, poly:751\n",
      "Next id: geo:790356, shape:29, poly:752\n",
      "\n",
      "\n",
      "Start VA1County.json\n",
      " 0.00% ############## 53.57% ############\n",
      "Last row id: geo:937599, shape:56, poly:784\n",
      "Next id: geo:937600, shape:57, poly:785\n",
      "\n",
      "\n",
      "Start VA2County.json\n",
      " 0.00% ############## 53.57% ############\n",
      "Last row id: geo:1085946, shape:84, poly:814\n",
      "Next id: geo:1085947, shape:85, poly:815\n",
      "\n",
      "\n",
      "Start VA3County.json\n",
      " 0.00% ############## 53.57% ############\n",
      "Last row id: geo:1204646, shape:112, poly:855\n",
      "Next id: geo:1204647, shape:113, poly:856\n"
     ]
    }
   ],
   "source": [
    "next_i, next_shape, next_poly = 647340, 1, 719\n",
    "for i in range(8):\n",
    "    file_name = \"TX\" + str(i) + \"County.json\"\n",
    "    \n",
    "    print(\"\\n\\nStart\", file_name)\n",
    "    gdf = gpd.read_file(file_name)\n",
    "    gdf_Parsed = parse(gdf, arg_i=next_i, arg_shape_id=next_shape, arg_polygon_id=next_poly)\n",
    "\n",
    "    file_name = file_name.split(\".\")[0]\n",
    "    gdf_Parsed.to_csv(file_name+\"_Parsed.csv\")\n",
    "\n",
    "    next_i = gdf_Parsed.iloc[-1][\"geovertex_id\"] + 1\n",
    "    next_shape = gdf_Parsed.iloc[-1][\"shape_id\"] + 1\n",
    "    next_poly = gdf_Parsed.iloc[-1][\"polygon_id\"] + 1\n",
    "    print(\"\\nLast row id: geo:{}, shape:{}, poly:{}\".format(gdf_Parsed.iloc[-1][\"geovertex_id\"],\n",
    "                                                         gdf_Parsed.iloc[-1][\"shape_id\"],\n",
    "                                                         gdf_Parsed.iloc[-1][\"polygon_id\"]))\n",
    "    print(\"Next id: geo:{}, shape:{}, poly:{}\".format(next_i, next_shape, next_poly))"
   ]
  },
  {
   "cell_type": "code",
   "execution_count": 14,
   "metadata": {},
   "outputs": [
    {
     "name": "stdout",
     "output_type": "stream",
     "text": [
      "557307 557307\n"
     ]
    }
   ],
   "source": [
    "all_dfs = []\n",
    "rows = 0\n",
    "for i in range(4):\n",
    "    FILE_NAME = \"VA\" + str(i) + \"County_Parsed.csv\"\n",
    "    all_dfs.append(pd.read_csv(FILE_NAME))\n",
    "    rows += len(all_dfs[-1])\n",
    "\n",
    "merged = pd.concat(all_dfs)\n",
    "print(len(merged), rows)"
   ]
  },
  {
   "cell_type": "code",
   "execution_count": 15,
   "metadata": {},
   "outputs": [],
   "source": [
    "merged.to_csv(\"VA_County_Parsed_Merged.csv\")"
   ]
  },
  {
   "cell_type": "code",
   "execution_count": null,
   "metadata": {},
   "outputs": [],
   "source": []
  },
  {
   "cell_type": "code",
   "execution_count": 4,
   "metadata": {},
   "outputs": [],
   "source": [
    "#precinct = pd.read_csv(\"../precinct/VA_Final_Merged.csv\")"
   ]
  },
  {
   "cell_type": "code",
   "execution_count": 5,
   "metadata": {},
   "outputs": [
    {
     "data": {
      "text/html": [
       "<div>\n",
       "<style scoped>\n",
       "    .dataframe tbody tr th:only-of-type {\n",
       "        vertical-align: middle;\n",
       "    }\n",
       "\n",
       "    .dataframe tbody tr th {\n",
       "        vertical-align: top;\n",
       "    }\n",
       "\n",
       "    .dataframe thead th {\n",
       "        text-align: right;\n",
       "    }\n",
       "</style>\n",
       "<table border=\"1\" class=\"dataframe\">\n",
       "  <thead>\n",
       "    <tr style=\"text-align: right;\">\n",
       "      <th></th>\n",
       "      <th>geovertex_id</th>\n",
       "      <th>shape_id</th>\n",
       "      <th>polygon_id</th>\n",
       "      <th>x_pos</th>\n",
       "      <th>y_pos</th>\n",
       "    </tr>\n",
       "  </thead>\n",
       "  <tbody>\n",
       "    <tr>\n",
       "      <th>0</th>\n",
       "      <td>419895</td>\n",
       "      <td>1</td>\n",
       "      <td>941</td>\n",
       "      <td>-76.943785</td>\n",
       "      <td>37.780534</td>\n",
       "    </tr>\n",
       "    <tr>\n",
       "      <th>1</th>\n",
       "      <td>419896</td>\n",
       "      <td>1</td>\n",
       "      <td>941</td>\n",
       "      <td>-76.944097</td>\n",
       "      <td>37.780237</td>\n",
       "    </tr>\n",
       "    <tr>\n",
       "      <th>2</th>\n",
       "      <td>419897</td>\n",
       "      <td>1</td>\n",
       "      <td>941</td>\n",
       "      <td>-76.944536</td>\n",
       "      <td>37.779986</td>\n",
       "    </tr>\n",
       "    <tr>\n",
       "      <th>3</th>\n",
       "      <td>419898</td>\n",
       "      <td>1</td>\n",
       "      <td>941</td>\n",
       "      <td>-76.945793</td>\n",
       "      <td>37.779563</td>\n",
       "    </tr>\n",
       "    <tr>\n",
       "      <th>4</th>\n",
       "      <td>419899</td>\n",
       "      <td>1</td>\n",
       "      <td>941</td>\n",
       "      <td>-76.946149</td>\n",
       "      <td>37.779332</td>\n",
       "    </tr>\n",
       "    <tr>\n",
       "      <th>...</th>\n",
       "      <td>...</td>\n",
       "      <td>...</td>\n",
       "      <td>...</td>\n",
       "      <td>...</td>\n",
       "      <td>...</td>\n",
       "    </tr>\n",
       "    <tr>\n",
       "      <th>2569558</th>\n",
       "      <td>2989453</td>\n",
       "      <td>2446</td>\n",
       "      <td>3467</td>\n",
       "      <td>-76.480168</td>\n",
       "      <td>37.236542</td>\n",
       "    </tr>\n",
       "    <tr>\n",
       "      <th>2569559</th>\n",
       "      <td>2989454</td>\n",
       "      <td>2446</td>\n",
       "      <td>3467</td>\n",
       "      <td>-76.479523</td>\n",
       "      <td>37.236377</td>\n",
       "    </tr>\n",
       "    <tr>\n",
       "      <th>2569560</th>\n",
       "      <td>2989455</td>\n",
       "      <td>2446</td>\n",
       "      <td>3467</td>\n",
       "      <td>-76.478359</td>\n",
       "      <td>37.236079</td>\n",
       "    </tr>\n",
       "    <tr>\n",
       "      <th>2569561</th>\n",
       "      <td>2989456</td>\n",
       "      <td>2446</td>\n",
       "      <td>3467</td>\n",
       "      <td>-76.473780</td>\n",
       "      <td>37.234929</td>\n",
       "    </tr>\n",
       "    <tr>\n",
       "      <th>2569562</th>\n",
       "      <td>2989457</td>\n",
       "      <td>2446</td>\n",
       "      <td>3467</td>\n",
       "      <td>-76.471944</td>\n",
       "      <td>37.234457</td>\n",
       "    </tr>\n",
       "  </tbody>\n",
       "</table>\n",
       "<p>2569563 rows × 5 columns</p>\n",
       "</div>"
      ],
      "text/plain": [
       "         geovertex_id  shape_id  polygon_id      x_pos      y_pos\n",
       "0              419895         1         941 -76.943785  37.780534\n",
       "1              419896         1         941 -76.944097  37.780237\n",
       "2              419897         1         941 -76.944536  37.779986\n",
       "3              419898         1         941 -76.945793  37.779563\n",
       "4              419899         1         941 -76.946149  37.779332\n",
       "...               ...       ...         ...        ...        ...\n",
       "2569558       2989453      2446        3467 -76.480168  37.236542\n",
       "2569559       2989454      2446        3467 -76.479523  37.236377\n",
       "2569560       2989455      2446        3467 -76.478359  37.236079\n",
       "2569561       2989456      2446        3467 -76.473780  37.234929\n",
       "2569562       2989457      2446        3467 -76.471944  37.234457\n",
       "\n",
       "[2569563 rows x 5 columns]"
      ]
     },
     "execution_count": 5,
     "metadata": {},
     "output_type": "execute_result"
    }
   ],
   "source": [
    "#precinct.head(-1)"
   ]
  },
  {
   "cell_type": "code",
   "execution_count": null,
   "metadata": {},
   "outputs": [],
   "source": []
  },
  {
   "cell_type": "code",
   "execution_count": null,
   "metadata": {},
   "outputs": [],
   "source": []
  }
 ],
 "metadata": {
  "kernelspec": {
   "display_name": "myenv",
   "language": "python",
   "name": "myenv"
  },
  "language_info": {
   "codemirror_mode": {
    "name": "ipython",
    "version": 3
   },
   "file_extension": ".py",
   "mimetype": "text/x-python",
   "name": "python",
   "nbconvert_exporter": "python",
   "pygments_lexer": "ipython3",
   "version": "3.7.7"
  }
 },
 "nbformat": 4,
 "nbformat_minor": 4
}
