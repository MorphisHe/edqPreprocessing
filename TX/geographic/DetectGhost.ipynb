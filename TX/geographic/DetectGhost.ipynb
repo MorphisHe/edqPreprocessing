{
 "cells": [
  {
   "cell_type": "markdown",
   "metadata": {},
   "source": [
    "# 16. Identify possible map coverage errors (required) (sequence diagram not required)\n",
    "- Identify the geographic area defined as the difference between the geographic area covered by the\n",
    "state and the geographic area covered by the union of all precincts in the state. \n",
    "- Store the associated data in the errors data structure for subsequent addition to the DB. \n",
    "- The regions so identified are potential ghost precincts. "
   ]
  },
  {
   "cell_type": "code",
   "execution_count": 1,
   "metadata": {},
   "outputs": [
    {
     "name": "stdout",
     "output_type": "stream",
     "text": [
      "\u001b[1m\u001b[34mCounty\u001b[m\u001b[m            \u001b[1m\u001b[34mPrecinct\u001b[m\u001b[m          cleanState.ipynb  test_ghost.json\r\n",
      "DetectGhost.ipynb \u001b[1m\u001b[34mState\u001b[m\u001b[m             stateDif.json\r\n"
     ]
    }
   ],
   "source": [
    "!ls"
   ]
  },
  {
   "cell_type": "code",
   "execution_count": 2,
   "metadata": {},
   "outputs": [],
   "source": [
    "import geopandas as gpd\n",
    "from shapely.geometry import Polygon, MultiPolygon"
   ]
  },
  {
   "cell_type": "code",
   "execution_count": 3,
   "metadata": {},
   "outputs": [],
   "source": [
    "precinctGDF = gpd.read_file(\"../TX_Precinct_Merged.json\")"
   ]
  },
  {
   "cell_type": "code",
   "execution_count": 4,
   "metadata": {},
   "outputs": [
    {
     "data": {
      "text/html": [
       "<div>\n",
       "<style scoped>\n",
       "    .dataframe tbody tr th:only-of-type {\n",
       "        vertical-align: middle;\n",
       "    }\n",
       "\n",
       "    .dataframe tbody tr th {\n",
       "        vertical-align: top;\n",
       "    }\n",
       "\n",
       "    .dataframe thead th {\n",
       "        text-align: right;\n",
       "    }\n",
       "</style>\n",
       "<table border=\"1\" class=\"dataframe\">\n",
       "  <thead>\n",
       "    <tr style=\"text-align: right;\">\n",
       "      <th></th>\n",
       "      <th>Precinct #</th>\n",
       "      <th>geometry</th>\n",
       "    </tr>\n",
       "  </thead>\n",
       "  <tbody>\n",
       "    <tr>\n",
       "      <th>0</th>\n",
       "      <td>1</td>\n",
       "      <td>POLYGON ((-95.60102 31.74519, -95.60095 31.745...</td>\n",
       "    </tr>\n",
       "  </tbody>\n",
       "</table>\n",
       "</div>"
      ],
      "text/plain": [
       "  Precinct #                                           geometry\n",
       "0          1  POLYGON ((-95.60102 31.74519, -95.60095 31.745..."
      ]
     },
     "execution_count": 4,
     "metadata": {},
     "output_type": "execute_result"
    }
   ],
   "source": [
    "# drop some unneeded columns\n",
    "c = list(precinctGDF.columns)\n",
    "c.remove(\"Precinct #\")\n",
    "c.remove(\"geometry\")\n",
    "precinctGDF.drop(c, inplace=True, axis=1)\n",
    "precinctGDF.head(1)"
   ]
  },
  {
   "cell_type": "code",
   "execution_count": 5,
   "metadata": {},
   "outputs": [],
   "source": [
    "# drop some unneeded columns\n",
    "stateGDF = gpd.read_file(\"State/TX_State.json\")\n",
    "c = list(stateGDF.columns)\n",
    "c.remove(\"geometry\")\n",
    "stateGDF.drop(c, inplace=True, axis=1)\n",
    "stateGDFcopy = stateGDF.copy()\n",
    "#stateGDF = stateGDF.to_crs(\"EPSG:3857\")"
   ]
  },
  {
   "cell_type": "markdown",
   "metadata": {},
   "source": [
    "# get difference of state and state with buffer"
   ]
  },
  {
   "cell_type": "code",
   "execution_count": 6,
   "metadata": {},
   "outputs": [],
   "source": [
    "stateEnlarged = stateGDFcopy.to_crs(\"EPSG:3857\").unary_union.buffer(60.96)\n",
    "stateEnlarged = gpd.GeoDataFrame({\"geometry\":stateEnlarged}, crs=\"EPSG:3857\")\n",
    "stateEnlarged = stateEnlarged.to_crs(\"EPSG:4326\")\n",
    "stateDif = gpd.overlay(stateEnlarged, stateGDF, how=\"difference\")\n",
    "stateDif.to_file(\"stateDif.json\", driver=\"GeoJSON\")"
   ]
  },
  {
   "cell_type": "code",
   "execution_count": null,
   "metadata": {},
   "outputs": [],
   "source": []
  },
  {
   "cell_type": "markdown",
   "metadata": {},
   "source": [
    "# get difference of precinct and regular state"
   ]
  },
  {
   "cell_type": "code",
   "execution_count": 7,
   "metadata": {},
   "outputs": [],
   "source": [
    "precinctGDF = precinctGDF.unary_union\n",
    "# precinctGDF = precinctGDF.buffer(60.96)"
   ]
  },
  {
   "cell_type": "code",
   "execution_count": 8,
   "metadata": {},
   "outputs": [],
   "source": [
    "gdf = gpd.GeoDataFrame({\"geometry\":precinctGDF}, index=[0])"
   ]
  },
  {
   "cell_type": "code",
   "execution_count": 10,
   "metadata": {},
   "outputs": [],
   "source": [
    "statePrecinctdif = gpd.overlay(stateGDF, gdf, how=\"difference\")"
   ]
  },
  {
   "cell_type": "code",
   "execution_count": 11,
   "metadata": {},
   "outputs": [],
   "source": [
    "statePrecinctdifCopy = statePrecinctdif.copy()"
   ]
  },
  {
   "cell_type": "code",
   "execution_count": 12,
   "metadata": {},
   "outputs": [],
   "source": [
    "statePrecinctdif.to_file(\"statePrecinctdif.json\", driver=\"GeoJSON\")"
   ]
  },
  {
   "cell_type": "code",
   "execution_count": null,
   "metadata": {},
   "outputs": [],
   "source": []
  },
  {
   "cell_type": "markdown",
   "metadata": {},
   "source": [
    "# turn all multipolygon into polygon"
   ]
  },
  {
   "cell_type": "code",
   "execution_count": 13,
   "metadata": {},
   "outputs": [],
   "source": [
    "newgdf = gpd.GeoDataFrame(crs=\"EPSG:4326\")\n",
    "newgdf[\"geometry\"] = \"\"\n",
    "newgdf[\"index\"] = 0"
   ]
  },
  {
   "cell_type": "code",
   "execution_count": 14,
   "metadata": {},
   "outputs": [],
   "source": [
    "i = 0\n",
    "for index, row in statePrecinctdif.iterrows():\n",
    "    g = row[\"geometry\"]\n",
    "    if g.geom_type == \"MultiPolygon\":\n",
    "        for shape in g:\n",
    "            newgdf.at[i, \"geometry\"] = shape\n",
    "            newgdf.at[i, \"index\"] = i\n",
    "            i += 1\n",
    "    else:\n",
    "        newgdf.at[i, \"geometry\"] = g\n",
    "        newgdf.at[i, \"index\"] = i\n",
    "        i += 1\n",
    "newgdf.set_geometry(\"geometry\", inplace=True)"
   ]
  },
  {
   "cell_type": "code",
   "execution_count": 15,
   "metadata": {},
   "outputs": [
    {
     "data": {
      "text/html": [
       "<div>\n",
       "<style scoped>\n",
       "    .dataframe tbody tr th:only-of-type {\n",
       "        vertical-align: middle;\n",
       "    }\n",
       "\n",
       "    .dataframe tbody tr th {\n",
       "        vertical-align: top;\n",
       "    }\n",
       "\n",
       "    .dataframe thead th {\n",
       "        text-align: right;\n",
       "    }\n",
       "</style>\n",
       "<table border=\"1\" class=\"dataframe\">\n",
       "  <thead>\n",
       "    <tr style=\"text-align: right;\">\n",
       "      <th></th>\n",
       "      <th>geometry</th>\n",
       "      <th>index</th>\n",
       "    </tr>\n",
       "  </thead>\n",
       "  <tbody>\n",
       "    <tr>\n",
       "      <th>0</th>\n",
       "      <td>POLYGON ((-93.51492 31.02570, -93.52231 31.020...</td>\n",
       "      <td>0.0</td>\n",
       "    </tr>\n",
       "  </tbody>\n",
       "</table>\n",
       "</div>"
      ],
      "text/plain": [
       "                                            geometry  index\n",
       "0  POLYGON ((-93.51492 31.02570, -93.52231 31.020...    0.0"
      ]
     },
     "execution_count": 15,
     "metadata": {},
     "output_type": "execute_result"
    }
   ],
   "source": [
    "newgdf.head(1)"
   ]
  },
  {
   "cell_type": "code",
   "execution_count": 16,
   "metadata": {},
   "outputs": [],
   "source": [
    "newgdf.to_file(\"statePrecinctdif.json\", driver=\"GeoJSON\")"
   ]
  },
  {
   "cell_type": "code",
   "execution_count": null,
   "metadata": {},
   "outputs": [],
   "source": []
  },
  {
   "cell_type": "markdown",
   "metadata": {},
   "source": [
    "# filter by area"
   ]
  },
  {
   "cell_type": "code",
   "execution_count": null,
   "metadata": {},
   "outputs": [],
   "source": [
    "# dif.to_file(\"RI_Ghost.json\", driver=\"GeoJSON\")"
   ]
  },
  {
   "cell_type": "code",
   "execution_count": 18,
   "metadata": {},
   "outputs": [],
   "source": [
    "newgdf = newgdf.to_crs(\"EPSG:3857\")"
   ]
  },
  {
   "cell_type": "code",
   "execution_count": 19,
   "metadata": {},
   "outputs": [],
   "source": [
    "a = 3716.1216\n",
    "newgdf[\"filtered\"] = \"\"\n",
    "for index, row in newgdf.iterrows():\n",
    "    if row.geometry.geom_type == \"MultiPolygon\":\n",
    "        m = MultiPolygon([shape for shape in row[\"geometry\"] if shape.area >= a])\n",
    "        if m.is_empty:\n",
    "            newgdf.drop(index, inplace=True)\n",
    "        else:\n",
    "            newgdf.at[index, \"filtered\"] = m\n",
    "    else:\n",
    "        if row[\"geometry\"].area < a:\n",
    "            newgdf.drop(index, inplace=True)\n",
    "        else:\n",
    "            newgdf.at[index, \"filtered\"] = row[\"geometry\"]"
   ]
  },
  {
   "cell_type": "code",
   "execution_count": 20,
   "metadata": {},
   "outputs": [],
   "source": [
    "newgdf.set_geometry(\"filtered\", drop=True, inplace=True)"
   ]
  },
  {
   "cell_type": "code",
   "execution_count": 21,
   "metadata": {},
   "outputs": [],
   "source": [
    "newgdf = newgdf.to_crs(\"EPSG:4326\")"
   ]
  },
  {
   "cell_type": "code",
   "execution_count": 22,
   "metadata": {},
   "outputs": [],
   "source": [
    "newgdf.to_file(\"statePrecinctdif.json\", driver=\"GeoJSON\")"
   ]
  },
  {
   "cell_type": "code",
   "execution_count": null,
   "metadata": {},
   "outputs": [],
   "source": []
  },
  {
   "cell_type": "markdown",
   "metadata": {},
   "source": [
    "# drop precincts that is fully inside stateDif\n",
    "- stateDif is the difference between og state and state buffered by 200feet"
   ]
  },
  {
   "cell_type": "code",
   "execution_count": 52,
   "metadata": {},
   "outputs": [],
   "source": [
    "for index, row in stateDif.iterrows():\n",
    "    index_drop = newgdf[newgdf[\"geometry\"].within(stateDif.loc[index][\"geometry\"])].index.to_list()\n",
    "    for i in index_drop:\n",
    "        newgdf.drop(index=i, inplace=True)\n",
    "        print(\"#\", end=\"\")"
   ]
  },
  {
   "cell_type": "code",
   "execution_count": null,
   "metadata": {},
   "outputs": [],
   "source": []
  },
  {
   "cell_type": "markdown",
   "metadata": {},
   "source": [
    "# delete unwanted polygons"
   ]
  },
  {
   "cell_type": "code",
   "execution_count": 53,
   "metadata": {},
   "outputs": [],
   "source": [
    "def deletePoly(gdf, index):\n",
    "    gdf.drop(index=index, inplace=True)\n",
    "    return gdf"
   ]
  },
  {
   "cell_type": "code",
   "execution_count": 20,
   "metadata": {},
   "outputs": [],
   "source": [
    "# index_to_delete = [46, 43, 44, 45, 39, 34, 33, 27, 26, 23, 14, 35, 38, 40, 42]\n",
    "for i in index_to_delete:\n",
    "    newgdf = deletePoly(newgdf, i)"
   ]
  },
  {
   "cell_type": "markdown",
   "metadata": {},
   "source": [
    "# create key for ghost table"
   ]
  },
  {
   "cell_type": "code",
   "execution_count": 54,
   "metadata": {},
   "outputs": [
    {
     "data": {
      "text/html": [
       "<div>\n",
       "<style scoped>\n",
       "    .dataframe tbody tr th:only-of-type {\n",
       "        vertical-align: middle;\n",
       "    }\n",
       "\n",
       "    .dataframe tbody tr th {\n",
       "        vertical-align: top;\n",
       "    }\n",
       "\n",
       "    .dataframe thead th {\n",
       "        text-align: right;\n",
       "    }\n",
       "</style>\n",
       "<table border=\"1\" class=\"dataframe\">\n",
       "  <thead>\n",
       "    <tr style=\"text-align: right;\">\n",
       "      <th></th>\n",
       "      <th>geometry</th>\n",
       "      <th>index</th>\n",
       "    </tr>\n",
       "  </thead>\n",
       "  <tbody>\n",
       "    <tr>\n",
       "      <th>0</th>\n",
       "      <td>POLYGON ((-93.51492 31.02570, -93.52231 31.020...</td>\n",
       "      <td>0.0</td>\n",
       "    </tr>\n",
       "  </tbody>\n",
       "</table>\n",
       "</div>"
      ],
      "text/plain": [
       "                                            geometry  index\n",
       "0  POLYGON ((-93.51492 31.02570, -93.52231 31.020...    0.0"
      ]
     },
     "execution_count": 54,
     "metadata": {},
     "output_type": "execute_result"
    }
   ],
   "source": [
    "newgdf.head(1)"
   ]
  },
  {
   "cell_type": "code",
   "execution_count": 55,
   "metadata": {},
   "outputs": [
    {
     "data": {
      "text/html": [
       "<div>\n",
       "<style scoped>\n",
       "    .dataframe tbody tr th:only-of-type {\n",
       "        vertical-align: middle;\n",
       "    }\n",
       "\n",
       "    .dataframe tbody tr th {\n",
       "        vertical-align: top;\n",
       "    }\n",
       "\n",
       "    .dataframe thead th {\n",
       "        text-align: right;\n",
       "    }\n",
       "</style>\n",
       "<table border=\"1\" class=\"dataframe\">\n",
       "  <thead>\n",
       "    <tr style=\"text-align: right;\">\n",
       "      <th></th>\n",
       "      <th>geometry</th>\n",
       "      <th>index</th>\n",
       "      <th>id</th>\n",
       "    </tr>\n",
       "  </thead>\n",
       "  <tbody>\n",
       "    <tr>\n",
       "      <th>0</th>\n",
       "      <td>POLYGON ((-93.51492 31.02570, -93.52231 31.020...</td>\n",
       "      <td>0.0</td>\n",
       "      <td>tx-ghost-0</td>\n",
       "    </tr>\n",
       "    <tr>\n",
       "      <th>10</th>\n",
       "      <td>POLYGON ((-93.52855 31.07060, -93.52896 31.069...</td>\n",
       "      <td>10.0</td>\n",
       "      <td>tx-ghost-1</td>\n",
       "    </tr>\n",
       "  </tbody>\n",
       "</table>\n",
       "</div>"
      ],
      "text/plain": [
       "                                             geometry  index          id\n",
       "0   POLYGON ((-93.51492 31.02570, -93.52231 31.020...    0.0  tx-ghost-0\n",
       "10  POLYGON ((-93.52855 31.07060, -93.52896 31.069...   10.0  tx-ghost-1"
      ]
     },
     "execution_count": 55,
     "metadata": {},
     "output_type": "execute_result"
    }
   ],
   "source": [
    "newgdf[\"id\"] = \"\"\n",
    "i = 0\n",
    "for index, row in newgdf.iterrows():\n",
    "    newgdf.at[index, \"id\"] = \"tx-ghost-\" + str(i)\n",
    "    i += 1\n",
    "newgdf.head(2)"
   ]
  },
  {
   "cell_type": "code",
   "execution_count": 56,
   "metadata": {},
   "outputs": [],
   "source": [
    "newgdf.to_file(\"TX_Ghost.json\", driver=\"GeoJSON\")"
   ]
  },
  {
   "cell_type": "code",
   "execution_count": null,
   "metadata": {},
   "outputs": [],
   "source": []
  }
 ],
 "metadata": {
  "kernelspec": {
   "display_name": "myenv",
   "language": "python",
   "name": "myenv"
  },
  "language_info": {
   "codemirror_mode": {
    "name": "ipython",
    "version": 3
   },
   "file_extension": ".py",
   "mimetype": "text/x-python",
   "name": "python",
   "nbconvert_exporter": "python",
   "pygments_lexer": "ipython3",
   "version": "3.7.7"
  }
 },
 "nbformat": 4,
 "nbformat_minor": 4
}
