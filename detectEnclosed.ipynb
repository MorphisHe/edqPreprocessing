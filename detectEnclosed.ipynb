{
 "cells": [
  {
   "cell_type": "code",
   "execution_count": 1,
   "metadata": {},
   "outputs": [],
   "source": [
    "import pandas as pd\n",
    "import geopandas as gpd\n",
    "from shapely.geometry import Polygon, MultiPolygon"
   ]
  },
  {
   "cell_type": "code",
   "execution_count": 2,
   "metadata": {},
   "outputs": [],
   "source": [
    "gdf = gpd.read_file(\"all_states_precincts_cname_neighbor_demo_OG.json\")"
   ]
  },
  {
   "cell_type": "code",
   "execution_count": null,
   "metadata": {},
   "outputs": [],
   "source": []
  },
  {
   "cell_type": "code",
   "execution_count": 3,
   "metadata": {},
   "outputs": [],
   "source": [
    "def parseNeighbors(gdf, centerCname):\n",
    "    neighbors = gdf[gdf[\"CName\"] == centerCname][\"Neighbors\"].iloc[-1].split(\";\")\n",
    "    if neighbors[0] == \"\":\n",
    "        return \"\"\n",
    "    else:\n",
    "        neighbors = [n.strip().split(\",\")[1] for n in neighbors]\n",
    "        return neighbors\n",
    "    \n",
    "    \n",
    "def P1ContainsP2(g1, g2):\n",
    "    g1M_flag, g2M_flag = 0, 0\n",
    "    if g1.geom_type == \"MultiPolygon\":\n",
    "        g1 = parseMultiPolygon(g1)\n",
    "        g1M_flag = 1\n",
    "    else:\n",
    "        g1 = Polygon(g1.exterior)\n",
    "        \n",
    "    if g2.geom_type == \"MultiPolygon\":\n",
    "        g2 = parseMultiPolygon(g2) \n",
    "        g2M_flag = 1\n",
    "    else:\n",
    "        g2 = Polygon(g2.exterior)\n",
    "    \n",
    "    \n",
    "    if g1M_flag:\n",
    "        if g2M_flag:\n",
    "            for shape in g1:\n",
    "                for shape2 in g2:\n",
    "                    if shape.contains(shape2):\n",
    "                        return shape2\n",
    "        else:\n",
    "            for shape in g1:\n",
    "                if shape.contains(g2):\n",
    "                    return g2\n",
    "    else:\n",
    "        if g2M_flag:\n",
    "            for shape in g2:\n",
    "                if g1.contains(shape):\n",
    "                    return shape\n",
    "        else:\n",
    "            if g1.contains(g2):\n",
    "                return g2\n",
    "    return \"\"\n",
    "    \n",
    "    \n",
    "    \n",
    "def parseMultiPolygon(g):\n",
    "    list_polygons = []\n",
    "    for shape in g:\n",
    "        list_polygons.append(Polygon(shape.exterior))\n",
    "    return list_polygons\n",
    "    \n",
    "    \n",
    "def detectEnclosed(gdf, stateID):\n",
    "    newdf = pd.DataFrame(columns=[\"State\", \"CName_out\", \"CName_in\", \"x_pos\", \"y_pos\"])\n",
    "    for index, row in gdf.iterrows():\n",
    "        cur_geometry = row[\"geometry\"]\n",
    "        neighbors = parseNeighbors(gdf, row[\"CName\"])\n",
    "        for n in neighbors:\n",
    "            g2 = gdf.at[gdf[gdf[\"CName\"] == n].index.to_list()[0], \"geometry\"]\n",
    "            enclosed_polygon = P1ContainsP2(cur_geometry, g2)\n",
    "            if enclosed_polygon != \"\":\n",
    "                x,y = enclosed_polygon.centroid.coords[0]\n",
    "                newrow = {\"State\":stateID, \"CName_out\":row[\"CName\"], \"CName_in\":n, \"x_pos\":x, \"y_pos\":y}\n",
    "                newdf = newdf.append(newrow, ignore_index=True)\n",
    "                print(\"#\", end=\"\")\n",
    "    return newdf"
   ]
  },
  {
   "cell_type": "markdown",
   "metadata": {},
   "source": [
    "# detect enclose"
   ]
  },
  {
   "cell_type": "code",
   "execution_count": 4,
   "metadata": {},
   "outputs": [],
   "source": [
    "def run(gdf, stateID):\n",
    "    c = list(gdf.columns)\n",
    "    c.remove(\"CName\")\n",
    "    c.remove(\"Neighbors\")\n",
    "    c.remove(\"geometry\")\n",
    "    c.remove(\"State\")\n",
    "    gdf.drop(columns=c, inplace=True, axis=1)\n",
    "    gdf.head(1)\n",
    "    \n",
    "    gdf = detectEnclosed(gdf, stateID)\n",
    "    return gdf"
   ]
  },
  {
   "cell_type": "markdown",
   "metadata": {},
   "source": [
    "# detect va first"
   ]
  },
  {
   "cell_type": "code",
   "execution_count": 5,
   "metadata": {},
   "outputs": [],
   "source": [
    "va = gdf[gdf[\"State\"] == \"va\"]"
   ]
  },
  {
   "cell_type": "markdown",
   "metadata": {},
   "source": [
    "### fix precinct multipolygon error"
   ]
  },
  {
   "cell_type": "code",
   "execution_count": 6,
   "metadata": {},
   "outputs": [
    {
     "name": "stderr",
     "output_type": "stream",
     "text": [
      "/usr/local/lib/python3.7/site-packages/ipykernel_launcher.py:1: SettingWithCopyWarning: \n",
      "A value is trying to be set on a copy of a slice from a DataFrame.\n",
      "Try using .loc[row_indexer,col_indexer] = value instead\n",
      "\n",
      "See the caveats in the documentation: https://pandas.pydata.org/pandas-docs/stable/user_guide/indexing.html#returning-a-view-versus-a-copy\n",
      "  \"\"\"Entry point for launching an IPython kernel.\n"
     ]
    }
   ],
   "source": [
    "va[\"new_geo\"] = \"\""
   ]
  },
  {
   "cell_type": "code",
   "execution_count": 7,
   "metadata": {},
   "outputs": [],
   "source": [
    "# shape with area < 0.00001 will be dropped\n",
    "area_threshold = 0.00001\n",
    "for index, row in va.iterrows():\n",
    "    cur_geometry = row[\"geometry\"]\n",
    "    polygon_list = []\n",
    "    if cur_geometry.geom_type == \"MultiPolygon\":\n",
    "        for shape in cur_geometry:\n",
    "            if shape.area >= area_threshold:\n",
    "                polygon_list.append(shape)\n",
    "        if len(polygon_list) == 1:\n",
    "            va.at[index, \"new_geo\"] = polygon_list[0]\n",
    "        else:\n",
    "            new_multipoly = MultiPolygon(polygon_list)\n",
    "            va.at[index, \"new_geo\"] = new_multipoly\n",
    "    else:\n",
    "        va.at[index, \"new_geo\"] = cur_geometry"
   ]
  },
  {
   "cell_type": "code",
   "execution_count": 8,
   "metadata": {},
   "outputs": [
    {
     "name": "stderr",
     "output_type": "stream",
     "text": [
      "/usr/local/lib/python3.7/site-packages/geopandas/geodataframe.py:183: SettingWithCopyWarning: \n",
      "A value is trying to be set on a copy of a slice from a DataFrame.\n",
      "Try using .loc[row_indexer,col_indexer] = value instead\n",
      "\n",
      "See the caveats in the documentation: https://pandas.pydata.org/pandas-docs/stable/user_guide/indexing.html#returning-a-view-versus-a-copy\n",
      "  frame[geo_column_name] = level\n"
     ]
    }
   ],
   "source": [
    "va.set_geometry(\"new_geo\", inplace=True, drop=True)"
   ]
  },
  {
   "cell_type": "code",
   "execution_count": 9,
   "metadata": {},
   "outputs": [],
   "source": [
    "# gdf.to_file(\"RI_Precinct_Cleaned.json\", driver=\"GeoJSON\")"
   ]
  },
  {
   "cell_type": "code",
   "execution_count": 10,
   "metadata": {},
   "outputs": [
    {
     "name": "stderr",
     "output_type": "stream",
     "text": [
      "/usr/local/lib/python3.7/site-packages/pandas/core/frame.py:3997: SettingWithCopyWarning: \n",
      "A value is trying to be set on a copy of a slice from a DataFrame\n",
      "\n",
      "See the caveats in the documentation: https://pandas.pydata.org/pandas-docs/stable/user_guide/indexing.html#returning-a-view-versus-a-copy\n",
      "  errors=errors,\n"
     ]
    },
    {
     "name": "stdout",
     "output_type": "stream",
     "text": [
      "####"
     ]
    }
   ],
   "source": [
    "va_enclosed = run(va, \"va\")"
   ]
  },
  {
   "cell_type": "code",
   "execution_count": 15,
   "metadata": {},
   "outputs": [
    {
     "data": {
      "text/plain": [
       "83"
      ]
     },
     "execution_count": 15,
     "metadata": {},
     "output_type": "execute_result"
    }
   ],
   "source": [
    "len(tx_enclosed)"
   ]
  },
  {
   "cell_type": "markdown",
   "metadata": {},
   "source": [
    "# check for RI"
   ]
  },
  {
   "cell_type": "code",
   "execution_count": 54,
   "metadata": {},
   "outputs": [],
   "source": [
    "ri = gdf[gdf[\"State\"] == \"ri\"]"
   ]
  },
  {
   "cell_type": "code",
   "execution_count": 55,
   "metadata": {},
   "outputs": [],
   "source": [
    "ri_enclosed = run(ri, \"ri\")"
   ]
  },
  {
   "cell_type": "markdown",
   "metadata": {},
   "source": [
    "# check for TX"
   ]
  },
  {
   "cell_type": "code",
   "execution_count": 11,
   "metadata": {},
   "outputs": [],
   "source": [
    "tx = gdf[gdf[\"State\"] == \"tx\"]"
   ]
  },
  {
   "cell_type": "code",
   "execution_count": 12,
   "metadata": {},
   "outputs": [
    {
     "name": "stdout",
     "output_type": "stream",
     "text": [
      "###################################################################################"
     ]
    }
   ],
   "source": [
    "tx_enclosed = run(tx, \"tx\")"
   ]
  },
  {
   "cell_type": "code",
   "execution_count": 58,
   "metadata": {},
   "outputs": [
    {
     "data": {
      "text/html": [
       "<div>\n",
       "<style scoped>\n",
       "    .dataframe tbody tr th:only-of-type {\n",
       "        vertical-align: middle;\n",
       "    }\n",
       "\n",
       "    .dataframe tbody tr th {\n",
       "        vertical-align: top;\n",
       "    }\n",
       "\n",
       "    .dataframe thead th {\n",
       "        text-align: right;\n",
       "    }\n",
       "</style>\n",
       "<table border=\"1\" class=\"dataframe\">\n",
       "  <thead>\n",
       "    <tr style=\"text-align: right;\">\n",
       "      <th></th>\n",
       "      <th>State</th>\n",
       "      <th>CName_out</th>\n",
       "      <th>CName_in</th>\n",
       "      <th>x_pos</th>\n",
       "      <th>y_pos</th>\n",
       "    </tr>\n",
       "  </thead>\n",
       "  <tbody>\n",
       "    <tr>\n",
       "      <th>0</th>\n",
       "      <td>tx</td>\n",
       "      <td>tx-angelina-17</td>\n",
       "      <td>tx-angelina-017b</td>\n",
       "      <td>-94.418138</td>\n",
       "      <td>31.158304</td>\n",
       "    </tr>\n",
       "    <tr>\n",
       "      <th>1</th>\n",
       "      <td>tx</td>\n",
       "      <td>tx-bexar-1034</td>\n",
       "      <td>tx-bexar-1125c</td>\n",
       "      <td>-98.763426</td>\n",
       "      <td>29.447191</td>\n",
       "    </tr>\n",
       "  </tbody>\n",
       "</table>\n",
       "</div>"
      ],
      "text/plain": [
       "  State       CName_out          CName_in      x_pos      y_pos\n",
       "0    tx  tx-angelina-17  tx-angelina-017b -94.418138  31.158304\n",
       "1    tx   tx-bexar-1034    tx-bexar-1125c -98.763426  29.447191"
      ]
     },
     "execution_count": 58,
     "metadata": {},
     "output_type": "execute_result"
    }
   ],
   "source": [
    "tx_enclosed.head(2)"
   ]
  },
  {
   "cell_type": "code",
   "execution_count": 13,
   "metadata": {},
   "outputs": [],
   "source": [
    "def check(cnamesGDF, index, gdf):\n",
    "    c1 = cnamesGDF.iloc[index][\"CName_out\"]\n",
    "    c2 = cnamesGDF.iloc[index][\"CName_in\"]\n",
    "    g1 = gdf[gdf[\"CName\"] == c1][\"geometry\"].iloc[-1]\n",
    "    g2 = gdf[gdf[\"CName\"] == c2][\"geometry\"].iloc[-1]\n",
    "    \n",
    "    new = gpd.GeoDataFrame([[g1], [g2]], columns={\"geometry\"})\n",
    "    new.to_file(\"enclose_test.json\", driver=\"GeoJSON\")\n",
    "    return new\n",
    "\n",
    "def deleteRow(cnamesGDF, index):\n",
    "    cnamesGDF.drop(index=index, inplace=True)"
   ]
  },
  {
   "cell_type": "code",
   "execution_count": 14,
   "metadata": {},
   "outputs": [
    {
     "data": {
      "text/plain": [
       "<matplotlib.axes._subplots.AxesSubplot at 0x1112a6190>"
      ]
     },
     "execution_count": 14,
     "metadata": {},
     "output_type": "execute_result"
    },
    {
     "data": {
      "image/png": "[encoded data removed]",
      "text/plain": [
       "<Figure size 720x576 with 1 Axes>"
      ]
     },
     "metadata": {
      "needs_background": "light"
     },
     "output_type": "display_data"
    }
   ],
   "source": [
    "check(va_enclosed, 0, gdf).plot(figsize=(10, 8), cmap=\"Set3\")\n",
    "#deleteRow(va_enclosed, 3)"
   ]
  },
  {
   "cell_type": "code",
   "execution_count": 132,
   "metadata": {},
   "outputs": [
    {
     "data": {
      "text/html": [
       "<div>\n",
       "<style scoped>\n",
       "    .dataframe tbody tr th:only-of-type {\n",
       "        vertical-align: middle;\n",
       "    }\n",
       "\n",
       "    .dataframe tbody tr th {\n",
       "        vertical-align: top;\n",
       "    }\n",
       "\n",
       "    .dataframe thead th {\n",
       "        text-align: right;\n",
       "    }\n",
       "</style>\n",
       "<table border=\"1\" class=\"dataframe\">\n",
       "  <thead>\n",
       "    <tr style=\"text-align: right;\">\n",
       "      <th></th>\n",
       "      <th>State</th>\n",
       "      <th>CName_out</th>\n",
       "      <th>CName_in</th>\n",
       "      <th>x_pos</th>\n",
       "      <th>y_pos</th>\n",
       "    </tr>\n",
       "  </thead>\n",
       "  <tbody>\n",
       "    <tr>\n",
       "      <th>0</th>\n",
       "      <td>tx</td>\n",
       "      <td>tx-angelina-17</td>\n",
       "      <td>tx-angelina-017b</td>\n",
       "      <td>-94.418138</td>\n",
       "      <td>31.158304</td>\n",
       "    </tr>\n",
       "    <tr>\n",
       "      <th>1</th>\n",
       "      <td>tx</td>\n",
       "      <td>tx-bexar-1034</td>\n",
       "      <td>tx-bexar-1125c</td>\n",
       "      <td>-98.763426</td>\n",
       "      <td>29.447191</td>\n",
       "    </tr>\n",
       "    <tr>\n",
       "      <th>2</th>\n",
       "      <td>tx</td>\n",
       "      <td>tx-bexar-1108</td>\n",
       "      <td>tx-bexar-1073b</td>\n",
       "      <td>-98.731211</td>\n",
       "      <td>29.443516</td>\n",
       "    </tr>\n",
       "    <tr>\n",
       "      <th>3</th>\n",
       "      <td>tx</td>\n",
       "      <td>tx-bexar-1121</td>\n",
       "      <td>tx-bexar-1144b</td>\n",
       "      <td>-98.745648</td>\n",
       "      <td>29.475496</td>\n",
       "    </tr>\n",
       "    <tr>\n",
       "      <th>4</th>\n",
       "      <td>tx</td>\n",
       "      <td>tx-bexar-1121</td>\n",
       "      <td>tx-bexar-1144c</td>\n",
       "      <td>-98.747597</td>\n",
       "      <td>29.479813</td>\n",
       "    </tr>\n",
       "  </tbody>\n",
       "</table>\n",
       "</div>"
      ],
      "text/plain": [
       "  State       CName_out          CName_in      x_pos      y_pos\n",
       "0    tx  tx-angelina-17  tx-angelina-017b -94.418138  31.158304\n",
       "1    tx   tx-bexar-1034    tx-bexar-1125c -98.763426  29.447191\n",
       "2    tx   tx-bexar-1108    tx-bexar-1073b -98.731211  29.443516\n",
       "3    tx   tx-bexar-1121    tx-bexar-1144b -98.745648  29.475496\n",
       "4    tx   tx-bexar-1121    tx-bexar-1144c -98.747597  29.479813"
      ]
     },
     "execution_count": 132,
     "metadata": {},
     "output_type": "execute_result"
    }
   ],
   "source": [
    "tx_enclosed.head()"
   ]
  },
  {
   "cell_type": "code",
   "execution_count": 133,
   "metadata": {},
   "outputs": [
    {
     "data": {
      "text/html": [
       "<div>\n",
       "<style scoped>\n",
       "    .dataframe tbody tr th:only-of-type {\n",
       "        vertical-align: middle;\n",
       "    }\n",
       "\n",
       "    .dataframe tbody tr th {\n",
       "        vertical-align: top;\n",
       "    }\n",
       "\n",
       "    .dataframe thead th {\n",
       "        text-align: right;\n",
       "    }\n",
       "</style>\n",
       "<table border=\"1\" class=\"dataframe\">\n",
       "  <thead>\n",
       "    <tr style=\"text-align: right;\">\n",
       "      <th></th>\n",
       "      <th>State</th>\n",
       "      <th>CName_out</th>\n",
       "      <th>CName_in</th>\n",
       "      <th>x_pos</th>\n",
       "      <th>y_pos</th>\n",
       "    </tr>\n",
       "  </thead>\n",
       "  <tbody>\n",
       "  </tbody>\n",
       "</table>\n",
       "</div>"
      ],
      "text/plain": [
       "Empty DataFrame\n",
       "Columns: [State, CName_out, CName_in, x_pos, y_pos]\n",
       "Index: []"
      ]
     },
     "execution_count": 133,
     "metadata": {},
     "output_type": "execute_result"
    }
   ],
   "source": [
    "ri_enclosed.head()"
   ]
  },
  {
   "cell_type": "code",
   "execution_count": 134,
   "metadata": {},
   "outputs": [
    {
     "data": {
      "text/html": [
       "<div>\n",
       "<style scoped>\n",
       "    .dataframe tbody tr th:only-of-type {\n",
       "        vertical-align: middle;\n",
       "    }\n",
       "\n",
       "    .dataframe tbody tr th {\n",
       "        vertical-align: top;\n",
       "    }\n",
       "\n",
       "    .dataframe thead th {\n",
       "        text-align: right;\n",
       "    }\n",
       "</style>\n",
       "<table border=\"1\" class=\"dataframe\">\n",
       "  <thead>\n",
       "    <tr style=\"text-align: right;\">\n",
       "      <th></th>\n",
       "      <th>State</th>\n",
       "      <th>CName_out</th>\n",
       "      <th>CName_in</th>\n",
       "      <th>x_pos</th>\n",
       "      <th>y_pos</th>\n",
       "    </tr>\n",
       "  </thead>\n",
       "  <tbody>\n",
       "    <tr>\n",
       "      <th>0</th>\n",
       "      <td>va</td>\n",
       "      <td>va-fairfaxcity-0590</td>\n",
       "      <td>va-fairfax-0652</td>\n",
       "      <td>-77.310981</td>\n",
       "      <td>38.845031</td>\n",
       "    </tr>\n",
       "    <tr>\n",
       "      <th>1</th>\n",
       "      <td>va</td>\n",
       "      <td>va-manassascity-1429</td>\n",
       "      <td>va-princewilliamcounty-1849</td>\n",
       "      <td>-77.479223</td>\n",
       "      <td>38.752996</td>\n",
       "    </tr>\n",
       "    <tr>\n",
       "      <th>2</th>\n",
       "      <td>va</td>\n",
       "      <td>va-rockingham-2050</td>\n",
       "      <td>va-rockingham-2032</td>\n",
       "      <td>-78.941160</td>\n",
       "      <td>38.417272</td>\n",
       "    </tr>\n",
       "  </tbody>\n",
       "</table>\n",
       "</div>"
      ],
      "text/plain": [
       "  State             CName_out                     CName_in      x_pos  \\\n",
       "0    va   va-fairfaxcity-0590              va-fairfax-0652 -77.310981   \n",
       "1    va  va-manassascity-1429  va-princewilliamcounty-1849 -77.479223   \n",
       "2    va    va-rockingham-2050           va-rockingham-2032 -78.941160   \n",
       "\n",
       "       y_pos  \n",
       "0  38.845031  \n",
       "1  38.752996  \n",
       "2  38.417272  "
      ]
     },
     "execution_count": 134,
     "metadata": {},
     "output_type": "execute_result"
    }
   ],
   "source": [
    "va_enclosed.head()"
   ]
  },
  {
   "cell_type": "code",
   "execution_count": 135,
   "metadata": {},
   "outputs": [],
   "source": [
    "tx_enclosed.to_csv(\"TX_Enclosed_Error.csv\", index=False)\n",
    "va_enclosed.to_csv(\"VA_Enclosed_Error.csv\", index=False)"
   ]
  },
  {
   "cell_type": "code",
   "execution_count": null,
   "metadata": {},
   "outputs": [],
   "source": []
  }
 ],
 "metadata": {
  "kernelspec": {
   "display_name": "myenv",
   "language": "python",
   "name": "myenv"
  },
  "language_info": {
   "codemirror_mode": {
    "name": "ipython",
    "version": 3
   },
   "file_extension": ".py",
   "mimetype": "text/x-python",
   "name": "python",
   "nbconvert_exporter": "python",
   "pygments_lexer": "ipython3",
   "version": "3.7.7"
  }
 },
 "nbformat": 4,
 "nbformat_minor": 4
}
