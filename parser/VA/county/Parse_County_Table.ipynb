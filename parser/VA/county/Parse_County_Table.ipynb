{
 "cells": [
  {
   "cell_type": "code",
   "execution_count": 1,
   "metadata": {},
   "outputs": [],
   "source": [
    "import geopandas as gpd\n",
    "import pandas as pd"
   ]
  },
  {
   "cell_type": "code",
   "execution_count": 2,
   "metadata": {},
   "outputs": [],
   "source": [
    "gdf = gpd.read_file(\"VA_County_CityFixed.json\")"
   ]
  },
  {
   "cell_type": "code",
   "execution_count": 3,
   "metadata": {},
   "outputs": [
    {
     "data": {
      "text/html": [
       "<div>\n",
       "<style scoped>\n",
       "    .dataframe tbody tr th:only-of-type {\n",
       "        vertical-align: middle;\n",
       "    }\n",
       "\n",
       "    .dataframe tbody tr th {\n",
       "        vertical-align: top;\n",
       "    }\n",
       "\n",
       "    .dataframe thead th {\n",
       "        text-align: right;\n",
       "    }\n",
       "</style>\n",
       "<table border=\"1\" class=\"dataframe\">\n",
       "  <thead>\n",
       "    <tr style=\"text-align: right;\">\n",
       "      <th></th>\n",
       "      <th>County</th>\n",
       "      <th>geometry</th>\n",
       "    </tr>\n",
       "  </thead>\n",
       "  <tbody>\n",
       "    <tr>\n",
       "      <th>0</th>\n",
       "      <td>Accomack County</td>\n",
       "      <td>POLYGON ((-75.62204 37.45679, -75.62465 37.457...</td>\n",
       "    </tr>\n",
       "    <tr>\n",
       "      <th>1</th>\n",
       "      <td>Albemarle County</td>\n",
       "      <td>MULTIPOLYGON (((-78.36880 38.18409, -78.36476 ...</td>\n",
       "    </tr>\n",
       "    <tr>\n",
       "      <th>2</th>\n",
       "      <td>Alexandria City</td>\n",
       "      <td>POLYGON ((-77.04631 38.84120, -77.04621 38.840...</td>\n",
       "    </tr>\n",
       "    <tr>\n",
       "      <th>3</th>\n",
       "      <td>Alleghany County</td>\n",
       "      <td>MULTIPOLYGON (((-79.64759 37.87454, -79.64739 ...</td>\n",
       "    </tr>\n",
       "    <tr>\n",
       "      <th>4</th>\n",
       "      <td>Amelia County</td>\n",
       "      <td>POLYGON ((-77.85531 37.41843, -77.85519 37.418...</td>\n",
       "    </tr>\n",
       "  </tbody>\n",
       "</table>\n",
       "</div>"
      ],
      "text/plain": [
       "             County                                           geometry\n",
       "0   Accomack County  POLYGON ((-75.62204 37.45679, -75.62465 37.457...\n",
       "1  Albemarle County  MULTIPOLYGON (((-78.36880 38.18409, -78.36476 ...\n",
       "2   Alexandria City  POLYGON ((-77.04631 38.84120, -77.04621 38.840...\n",
       "3  Alleghany County  MULTIPOLYGON (((-79.64759 37.87454, -79.64739 ...\n",
       "4     Amelia County  POLYGON ((-77.85531 37.41843, -77.85519 37.418..."
      ]
     },
     "execution_count": 3,
     "metadata": {},
     "output_type": "execute_result"
    }
   ],
   "source": [
    "gdf.head()"
   ]
  },
  {
   "cell_type": "code",
   "execution_count": 4,
   "metadata": {},
   "outputs": [
    {
     "data": {
      "text/html": [
       "<div>\n",
       "<style scoped>\n",
       "    .dataframe tbody tr th:only-of-type {\n",
       "        vertical-align: middle;\n",
       "    }\n",
       "\n",
       "    .dataframe tbody tr th {\n",
       "        vertical-align: top;\n",
       "    }\n",
       "\n",
       "    .dataframe thead th {\n",
       "        text-align: right;\n",
       "    }\n",
       "</style>\n",
       "<table border=\"1\" class=\"dataframe\">\n",
       "  <thead>\n",
       "    <tr style=\"text-align: right;\">\n",
       "      <th></th>\n",
       "      <th>county_id</th>\n",
       "      <th>county_name</th>\n",
       "      <th>state_id</th>\n",
       "    </tr>\n",
       "  </thead>\n",
       "  <tbody>\n",
       "    <tr>\n",
       "      <th>0</th>\n",
       "      <td>va-accomack</td>\n",
       "      <td>Accomack</td>\n",
       "      <td>va</td>\n",
       "    </tr>\n",
       "    <tr>\n",
       "      <th>1</th>\n",
       "      <td>va-albemarle</td>\n",
       "      <td>Albemarle</td>\n",
       "      <td>va</td>\n",
       "    </tr>\n",
       "    <tr>\n",
       "      <th>2</th>\n",
       "      <td>va-alexandriacity</td>\n",
       "      <td>AlexandriaCity</td>\n",
       "      <td>va</td>\n",
       "    </tr>\n",
       "    <tr>\n",
       "      <th>3</th>\n",
       "      <td>va-alleghany</td>\n",
       "      <td>Alleghany</td>\n",
       "      <td>va</td>\n",
       "    </tr>\n",
       "    <tr>\n",
       "      <th>4</th>\n",
       "      <td>va-amelia</td>\n",
       "      <td>Amelia</td>\n",
       "      <td>va</td>\n",
       "    </tr>\n",
       "  </tbody>\n",
       "</table>\n",
       "</div>"
      ],
      "text/plain": [
       "           county_id     county_name state_id\n",
       "0        va-accomack        Accomack       va\n",
       "1       va-albemarle       Albemarle       va\n",
       "2  va-alexandriacity  AlexandriaCity       va\n",
       "3       va-alleghany       Alleghany       va\n",
       "4          va-amelia          Amelia       va"
      ]
     },
     "execution_count": 4,
     "metadata": {},
     "output_type": "execute_result"
    }
   ],
   "source": [
    "def normalize(string):\n",
    "    splited = string.split(\" \")\n",
    "    if \"County\" not in splited:\n",
    "        return ''.join(splited)\n",
    "    else:\n",
    "        del splited[-1]\n",
    "        return ''.join(splited)\n",
    "\n",
    "def lowerCase(string):\n",
    "    splited = string.split(\" \")\n",
    "    for i in range(len(splited)):\n",
    "        splited[i] = splited[i].lower()\n",
    "    return ''.join(splited)\n",
    "\n",
    "df = pd.DataFrame(columns=[\"county_id\", \"county_name\", \"state_id\"])\n",
    "for index, row in gdf.iterrows():\n",
    "    newrow = row\n",
    "\n",
    "    normalized = normalize(row[\"County\"])\n",
    "    lowered = lowerCase(normalized)\n",
    "    newrow.drop([\"geometry\", \"County\"], inplace=True)\n",
    "    \n",
    "    newrow[\"state_id\"] = \"va\"\n",
    "    newrow[\"county_id\"] = \"va-\" + lowered\n",
    "    newrow[\"county_name\"] = normalized\n",
    "    df = df.append(newrow, ignore_index=True)\n",
    "\n",
    "df.head()"
   ]
  },
  {
   "cell_type": "code",
   "execution_count": 5,
   "metadata": {},
   "outputs": [],
   "source": [
    "df.to_csv(\"VA_Parsed_County_Table.csv\", index=False)"
   ]
  },
  {
   "cell_type": "code",
   "execution_count": 6,
   "metadata": {},
   "outputs": [
    {
     "data": {
      "text/plain": [
       "113"
      ]
     },
     "execution_count": 6,
     "metadata": {},
     "output_type": "execute_result"
    }
   ],
   "source": [
    "len(df[\"county_name\"].unique())"
   ]
  },
  {
   "cell_type": "code",
   "execution_count": null,
   "metadata": {},
   "outputs": [],
   "source": []
  }
 ],
 "metadata": {
  "kernelspec": {
   "display_name": "myenv",
   "language": "python",
   "name": "myenv"
  },
  "language_info": {
   "codemirror_mode": {
    "name": "ipython",
    "version": 3
   },
   "file_extension": ".py",
   "mimetype": "text/x-python",
   "name": "python",
   "nbconvert_exporter": "python",
   "pygments_lexer": "ipython3",
   "version": "3.7.7"
  }
 },
 "nbformat": 4,
 "nbformat_minor": 4
}
