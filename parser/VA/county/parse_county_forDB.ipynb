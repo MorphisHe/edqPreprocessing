{
 "cells": [
  {
   "cell_type": "code",
   "execution_count": 1,
   "metadata": {},
   "outputs": [],
   "source": [
    "import warnings\n",
    "warnings.filterwarnings('ignore')\n",
    "\n",
    "import geopandas as gpd\n",
    "from shapely import geometry\n",
    "import pandas as pd\n",
    "import os"
   ]
  },
  {
   "cell_type": "markdown",
   "metadata": {},
   "source": [
    "# split the county gdf to 4"
   ]
  },
  {
   "cell_type": "code",
   "execution_count": 3,
   "metadata": {
    "scrolled": true
   },
   "outputs": [
    {
     "data": {
      "text/html": [
       "<div>\n",
       "<style scoped>\n",
       "    .dataframe tbody tr th:only-of-type {\n",
       "        vertical-align: middle;\n",
       "    }\n",
       "\n",
       "    .dataframe tbody tr th {\n",
       "        vertical-align: top;\n",
       "    }\n",
       "\n",
       "    .dataframe thead th {\n",
       "        text-align: right;\n",
       "    }\n",
       "</style>\n",
       "<table border=\"1\" class=\"dataframe\">\n",
       "  <thead>\n",
       "    <tr style=\"text-align: right;\">\n",
       "      <th></th>\n",
       "      <th>County</th>\n",
       "      <th>geometry</th>\n",
       "    </tr>\n",
       "  </thead>\n",
       "  <tbody>\n",
       "    <tr>\n",
       "      <th>0</th>\n",
       "      <td>Accomack County</td>\n",
       "      <td>POLYGON ((-75.62204 37.45679, -75.62465 37.457...</td>\n",
       "    </tr>\n",
       "  </tbody>\n",
       "</table>\n",
       "</div>"
      ],
      "text/plain": [
       "            County                                           geometry\n",
       "0  Accomack County  POLYGON ((-75.62204 37.45679, -75.62465 37.457..."
      ]
     },
     "execution_count": 3,
     "metadata": {},
     "output_type": "execute_result"
    }
   ],
   "source": [
    "'''\n",
    "gdf = gpd.read_file(\"VA_County_CityFixed2.json\")\n",
    "gdf.head(1)\n",
    "'''"
   ]
  },
  {
   "cell_type": "code",
   "execution_count": 4,
   "metadata": {},
   "outputs": [
    {
     "name": "stdout",
     "output_type": "stream",
     "text": [
      "133\n",
      "28\n"
     ]
    }
   ],
   "source": [
    "'''\n",
    "counties = sorted(list(gdf[\"County\"].unique()))\n",
    "print(len(counties))\n",
    "print(113//4)\n",
    "'''"
   ]
  },
  {
   "cell_type": "code",
   "execution_count": 5,
   "metadata": {},
   "outputs": [
    {
     "data": {
      "text/plain": [
       "28"
      ]
     },
     "execution_count": 5,
     "metadata": {},
     "output_type": "execute_result"
    }
   ],
   "source": [
    "# len(gdf[gdf[\"County\"].isin(counties[3*28:4*28])][\"County\"].unique())"
   ]
  },
  {
   "cell_type": "code",
   "execution_count": 6,
   "metadata": {},
   "outputs": [
    {
     "name": "stdout",
     "output_type": "stream",
     "text": [
      "133\n"
     ]
    }
   ],
   "source": [
    "'''\n",
    "# split to 4 files with 28 counties each file (last file 29)\n",
    "county_count = 0\n",
    "for i in range(4):\n",
    "    if i == 3:\n",
    "        file_name = \"VA\" + str(i) + \"County.json\"\n",
    "        gdf[gdf[\"County\"].isin(counties[i*28 :])].to_file(file_name, driver=\"GeoJSON\")\n",
    "        county_count += len(gdf[gdf[\"County\"].isin(counties[i*28 :])])\n",
    "    else:\n",
    "        file_name = \"VA\" + str(i) + \"County.json\"\n",
    "        gdf[gdf[\"County\"].isin(counties[i*28 : (i+1)*28])].to_file(file_name, driver=\"GeoJSON\")\n",
    "        county_count += len(gdf[gdf[\"County\"].isin(counties[i*28 : (i+1)*28])])\n",
    "print(county_count)\n",
    "'''"
   ]
  },
  {
   "cell_type": "code",
   "execution_count": null,
   "metadata": {},
   "outputs": [],
   "source": []
  },
  {
   "cell_type": "markdown",
   "metadata": {},
   "source": [
    "# create x y for each polygon"
   ]
  },
  {
   "cell_type": "code",
   "execution_count": 7,
   "metadata": {},
   "outputs": [],
   "source": [
    "Polygon = geometry.polygon.Polygon\n",
    "MultiPolygon = geometry.multipolygon.MultiPolygon"
   ]
  },
  {
   "cell_type": "code",
   "execution_count": 9,
   "metadata": {},
   "outputs": [],
   "source": [
    "def parse(gdf, arg_i, arg_shape_id, arg_polygon_id):\n",
    "    columns = [\"geovertex_id\", \"shape_id\", \"polygon_id\", \"County\", \"x_pos\", \"y_pos\"]\n",
    "    df = pd.DataFrame(columns=columns)\n",
    "\n",
    "    counter = 0\n",
    "    i = arg_i\n",
    "    shape_id = arg_shape_id\n",
    "    polygon_id = arg_polygon_id\n",
    "\n",
    "    for index, row in gdf.iterrows():\n",
    "        # for visualization only\n",
    "        if counter%15==0:\n",
    "            print(\" {:.2f}% \".format(counter/len(gdf)*100), end=\"\")\n",
    "        else:\n",
    "            print(\"#\", end=\"\")\n",
    "\n",
    "        cur_shape = row[\"geometry\"]\n",
    "        cur_type = type(cur_shape)\n",
    "\n",
    "        row = row.drop([\"geometry\"])\n",
    "        cur_row = row\n",
    "        cur_row[\"shape_id\"] = shape_id\n",
    "        shape_id += 1\n",
    "\n",
    "        if cur_type == MultiPolygon:\n",
    "            for polygon in cur_shape:\n",
    "                cur_row[\"polygon_id\"] = polygon_id\n",
    "                polygon_id += 1\n",
    "                for coords in polygon.exterior.coords:\n",
    "                    cur_row[\"geovertex_id\"] = i\n",
    "                    i += 1\n",
    "                    cur_row[\"x_pos\"] = coords[0]\n",
    "                    cur_row[\"y_pos\"] = coords[1]\n",
    "                    df = df.append(cur_row, ignore_index=True)\n",
    "                    cur_row = row\n",
    "        elif cur_type == Polygon:\n",
    "            cur_row[\"polygon_id\"] = polygon_id\n",
    "            polygon_id += 1\n",
    "            for coords in cur_shape.exterior.coords:\n",
    "                cur_row[\"geovertex_id\"] = i\n",
    "                i += 1\n",
    "                cur_row[\"x_pos\"] = coords[0]\n",
    "                cur_row[\"y_pos\"] = coords[1]\n",
    "                df = df.append(cur_row, ignore_index=True)\n",
    "                cur_row = row\n",
    "        counter += 1\n",
    "        \n",
    "    return df"
   ]
  },
  {
   "cell_type": "code",
   "execution_count": 10,
   "metadata": {},
   "outputs": [
    {
     "name": "stdout",
     "output_type": "stream",
     "text": [
      "\n",
      "\n",
      "Start VA0County.json\n",
      " 0.00% #\n",
      "Last row id: geo:2991066, shape:1, poly:3995\n",
      "Next id: geo:2991067, shape:2, poly:3996\n"
     ]
    }
   ],
   "source": [
    "next_i, next_shape, next_poly = 2990000, 1, 3995\n",
    "for i in range(4):\n",
    "    file_name = \"VA\" + str(i) + \"County.json\"\n",
    "    \n",
    "    print(\"\\n\\nStart\", file_name)\n",
    "    gdf = gpd.read_file(file_name)\n",
    "    gdf_Parsed = parse(gdf, arg_i=next_i, arg_shape_id=next_shape, arg_polygon_id=next_poly)\n",
    "\n",
    "    file_name = file_name.split(\".\")[0]\n",
    "    gdf_Parsed.to_csv(file_name+\"_Parsed.csv\")\n",
    "\n",
    "    next_i = gdf_Parsed.iloc[-1][\"geovertex_id\"] + 1\n",
    "    next_shape = gdf_Parsed.iloc[-1][\"shape_id\"] + 1\n",
    "    next_poly = gdf_Parsed.iloc[-1][\"polygon_id\"] + 1\n",
    "    print(\"\\nLast row id: geo:{}, shape:{}, poly:{}\".format(gdf_Parsed.iloc[-1][\"geovertex_id\"],\n",
    "                                                         gdf_Parsed.iloc[-1][\"shape_id\"],\n",
    "                                                         gdf_Parsed.iloc[-1][\"polygon_id\"]))\n",
    "    print(\"Next id: geo:{}, shape:{}, poly:{}\".format(next_i, next_shape, next_poly))"
   ]
  },
  {
   "cell_type": "code",
   "execution_count": 14,
   "metadata": {},
   "outputs": [
    {
     "name": "stdout",
     "output_type": "stream",
     "text": [
      "557307 557307\n"
     ]
    }
   ],
   "source": [
    "all_dfs = []\n",
    "rows = 0\n",
    "for i in range(4):\n",
    "    FILE_NAME = \"VA\" + str(i) + \"County_Parsed.csv\"\n",
    "    all_dfs.append(pd.read_csv(FILE_NAME))\n",
    "    rows += len(all_dfs[-1])\n",
    "\n",
    "merged = pd.concat(all_dfs)\n",
    "print(len(merged), rows)"
   ]
  },
  {
   "cell_type": "code",
   "execution_count": 15,
   "metadata": {},
   "outputs": [],
   "source": [
    "merged.to_csv(\"VA_County_Parsed_Merged.csv\")"
   ]
  },
  {
   "cell_type": "code",
   "execution_count": null,
   "metadata": {},
   "outputs": [],
   "source": []
  },
  {
   "cell_type": "code",
   "execution_count": 4,
   "metadata": {},
   "outputs": [],
   "source": [
    "#precinct = pd.read_csv(\"../precinct/VA_Final_Merged.csv\")"
   ]
  },
  {
   "cell_type": "code",
   "execution_count": 5,
   "metadata": {},
   "outputs": [
    {
     "data": {
      "text/html": [
       "<div>\n",
       "<style scoped>\n",
       "    .dataframe tbody tr th:only-of-type {\n",
       "        vertical-align: middle;\n",
       "    }\n",
       "\n",
       "    .dataframe tbody tr th {\n",
       "        vertical-align: top;\n",
       "    }\n",
       "\n",
       "    .dataframe thead th {\n",
       "        text-align: right;\n",
       "    }\n",
       "</style>\n",
       "<table border=\"1\" class=\"dataframe\">\n",
       "  <thead>\n",
       "    <tr style=\"text-align: right;\">\n",
       "      <th></th>\n",
       "      <th>geovertex_id</th>\n",
       "      <th>shape_id</th>\n",
       "      <th>polygon_id</th>\n",
       "      <th>x_pos</th>\n",
       "      <th>y_pos</th>\n",
       "    </tr>\n",
       "  </thead>\n",
       "  <tbody>\n",
       "    <tr>\n",
       "      <th>0</th>\n",
       "      <td>419895</td>\n",
       "      <td>1</td>\n",
       "      <td>941</td>\n",
       "      <td>-76.943785</td>\n",
       "      <td>37.780534</td>\n",
       "    </tr>\n",
       "    <tr>\n",
       "      <th>1</th>\n",
       "      <td>419896</td>\n",
       "      <td>1</td>\n",
       "      <td>941</td>\n",
       "      <td>-76.944097</td>\n",
       "      <td>37.780237</td>\n",
       "    </tr>\n",
       "    <tr>\n",
       "      <th>2</th>\n",
       "      <td>419897</td>\n",
       "      <td>1</td>\n",
       "      <td>941</td>\n",
       "      <td>-76.944536</td>\n",
       "      <td>37.779986</td>\n",
       "    </tr>\n",
       "    <tr>\n",
       "      <th>3</th>\n",
       "      <td>419898</td>\n",
       "      <td>1</td>\n",
       "      <td>941</td>\n",
       "      <td>-76.945793</td>\n",
       "      <td>37.779563</td>\n",
       "    </tr>\n",
       "    <tr>\n",
       "      <th>4</th>\n",
       "      <td>419899</td>\n",
       "      <td>1</td>\n",
       "      <td>941</td>\n",
       "      <td>-76.946149</td>\n",
       "      <td>37.779332</td>\n",
       "    </tr>\n",
       "    <tr>\n",
       "      <th>...</th>\n",
       "      <td>...</td>\n",
       "      <td>...</td>\n",
       "      <td>...</td>\n",
       "      <td>...</td>\n",
       "      <td>...</td>\n",
       "    </tr>\n",
       "    <tr>\n",
       "      <th>2569558</th>\n",
       "      <td>2989453</td>\n",
       "      <td>2446</td>\n",
       "      <td>3467</td>\n",
       "      <td>-76.480168</td>\n",
       "      <td>37.236542</td>\n",
       "    </tr>\n",
       "    <tr>\n",
       "      <th>2569559</th>\n",
       "      <td>2989454</td>\n",
       "      <td>2446</td>\n",
       "      <td>3467</td>\n",
       "      <td>-76.479523</td>\n",
       "      <td>37.236377</td>\n",
       "    </tr>\n",
       "    <tr>\n",
       "      <th>2569560</th>\n",
       "      <td>2989455</td>\n",
       "      <td>2446</td>\n",
       "      <td>3467</td>\n",
       "      <td>-76.478359</td>\n",
       "      <td>37.236079</td>\n",
       "    </tr>\n",
       "    <tr>\n",
       "      <th>2569561</th>\n",
       "      <td>2989456</td>\n",
       "      <td>2446</td>\n",
       "      <td>3467</td>\n",
       "      <td>-76.473780</td>\n",
       "      <td>37.234929</td>\n",
       "    </tr>\n",
       "    <tr>\n",
       "      <th>2569562</th>\n",
       "      <td>2989457</td>\n",
       "      <td>2446</td>\n",
       "      <td>3467</td>\n",
       "      <td>-76.471944</td>\n",
       "      <td>37.234457</td>\n",
       "    </tr>\n",
       "  </tbody>\n",
       "</table>\n",
       "<p>2569563 rows × 5 columns</p>\n",
       "</div>"
      ],
      "text/plain": [
       "         geovertex_id  shape_id  polygon_id      x_pos      y_pos\n",
       "0              419895         1         941 -76.943785  37.780534\n",
       "1              419896         1         941 -76.944097  37.780237\n",
       "2              419897         1         941 -76.944536  37.779986\n",
       "3              419898         1         941 -76.945793  37.779563\n",
       "4              419899         1         941 -76.946149  37.779332\n",
       "...               ...       ...         ...        ...        ...\n",
       "2569558       2989453      2446        3467 -76.480168  37.236542\n",
       "2569559       2989454      2446        3467 -76.479523  37.236377\n",
       "2569560       2989455      2446        3467 -76.478359  37.236079\n",
       "2569561       2989456      2446        3467 -76.473780  37.234929\n",
       "2569562       2989457      2446        3467 -76.471944  37.234457\n",
       "\n",
       "[2569563 rows x 5 columns]"
      ]
     },
     "execution_count": 5,
     "metadata": {},
     "output_type": "execute_result"
    }
   ],
   "source": [
    "#precinct.head(-1)"
   ]
  },
  {
   "cell_type": "markdown",
   "metadata": {},
   "source": [
    "# fix county index, this should be after precinct"
   ]
  },
  {
   "cell_type": "code",
   "execution_count": 11,
   "metadata": {},
   "outputs": [],
   "source": [
    "#county = pd.read_csv(\"VA_County_Parsed_Merged.csv\")"
   ]
  },
  {
   "cell_type": "code",
   "execution_count": 12,
   "metadata": {},
   "outputs": [
    {
     "data": {
      "text/html": [
       "<div>\n",
       "<style scoped>\n",
       "    .dataframe tbody tr th:only-of-type {\n",
       "        vertical-align: middle;\n",
       "    }\n",
       "\n",
       "    .dataframe tbody tr th {\n",
       "        vertical-align: top;\n",
       "    }\n",
       "\n",
       "    .dataframe thead th {\n",
       "        text-align: right;\n",
       "    }\n",
       "</style>\n",
       "<table border=\"1\" class=\"dataframe\">\n",
       "  <thead>\n",
       "    <tr style=\"text-align: right;\">\n",
       "      <th></th>\n",
       "      <th>geovertex_id</th>\n",
       "      <th>shape_id</th>\n",
       "      <th>polygon_id</th>\n",
       "      <th>County</th>\n",
       "      <th>x_pos</th>\n",
       "      <th>y_pos</th>\n",
       "    </tr>\n",
       "  </thead>\n",
       "  <tbody>\n",
       "    <tr>\n",
       "      <th>0</th>\n",
       "      <td>2989459</td>\n",
       "      <td>1</td>\n",
       "      <td>3468</td>\n",
       "      <td>Accomack County</td>\n",
       "      <td>-75.622044</td>\n",
       "      <td>37.456787</td>\n",
       "    </tr>\n",
       "    <tr>\n",
       "      <th>1</th>\n",
       "      <td>2989460</td>\n",
       "      <td>1</td>\n",
       "      <td>3468</td>\n",
       "      <td>Accomack County</td>\n",
       "      <td>-75.624647</td>\n",
       "      <td>37.457400</td>\n",
       "    </tr>\n",
       "    <tr>\n",
       "      <th>2</th>\n",
       "      <td>2989461</td>\n",
       "      <td>1</td>\n",
       "      <td>3468</td>\n",
       "      <td>Accomack County</td>\n",
       "      <td>-75.630694</td>\n",
       "      <td>37.458797</td>\n",
       "    </tr>\n",
       "    <tr>\n",
       "      <th>3</th>\n",
       "      <td>2989462</td>\n",
       "      <td>1</td>\n",
       "      <td>3468</td>\n",
       "      <td>Accomack County</td>\n",
       "      <td>-75.655216</td>\n",
       "      <td>37.464464</td>\n",
       "    </tr>\n",
       "    <tr>\n",
       "      <th>4</th>\n",
       "      <td>2989463</td>\n",
       "      <td>1</td>\n",
       "      <td>3468</td>\n",
       "      <td>Accomack County</td>\n",
       "      <td>-75.661913</td>\n",
       "      <td>37.466192</td>\n",
       "    </tr>\n",
       "  </tbody>\n",
       "</table>\n",
       "</div>"
      ],
      "text/plain": [
       "   geovertex_id  shape_id  polygon_id           County      x_pos      y_pos\n",
       "0       2989459         1        3468  Accomack County -75.622044  37.456787\n",
       "1       2989460         1        3468  Accomack County -75.624647  37.457400\n",
       "2       2989461         1        3468  Accomack County -75.630694  37.458797\n",
       "3       2989462         1        3468  Accomack County -75.655216  37.464464\n",
       "4       2989463         1        3468  Accomack County -75.661913  37.466192"
      ]
     },
     "execution_count": 12,
     "metadata": {},
     "output_type": "execute_result"
    }
   ],
   "source": [
    "#county.head()"
   ]
  },
  {
   "cell_type": "code",
   "execution_count": 8,
   "metadata": {},
   "outputs": [
    {
     "data": {
      "text/plain": [
       "13082"
      ]
     },
     "execution_count": 8,
     "metadata": {},
     "output_type": "execute_result"
    }
   ],
   "source": [
    "#county.drop([\"Unnamed: 0\", \"Unnamed: 0.1\"], inplace=True, axis=1)\n",
    "#county.head(1) "
   ]
  },
  {
   "cell_type": "code",
   "execution_count": 13,
   "metadata": {},
   "outputs": [
    {
     "name": "stdout",
     "output_type": "stream",
     "text": [
      " 0.00% ################################################# 8.97% ################################################# 17.94% ################################################# 26.92% ################################################# 35.89% ################################################# 44.86% ################################################# 53.83% ################################################# 62.80% ################################################# 71.77% ################################################# 80.75% ################################################# 89.72% ################################################# 98.69% #######"
     ]
    },
    {
     "data": {
      "text/html": [
       "<div>\n",
       "<style scoped>\n",
       "    .dataframe tbody tr th:only-of-type {\n",
       "        vertical-align: middle;\n",
       "    }\n",
       "\n",
       "    .dataframe tbody tr th {\n",
       "        vertical-align: top;\n",
       "    }\n",
       "\n",
       "    .dataframe thead th {\n",
       "        text-align: right;\n",
       "    }\n",
       "</style>\n",
       "<table border=\"1\" class=\"dataframe\">\n",
       "  <thead>\n",
       "    <tr style=\"text-align: right;\">\n",
       "      <th></th>\n",
       "      <th>geovertex_id</th>\n",
       "      <th>shape_id</th>\n",
       "      <th>polygon_id</th>\n",
       "      <th>County</th>\n",
       "      <th>x_pos</th>\n",
       "      <th>y_pos</th>\n",
       "    </tr>\n",
       "  </thead>\n",
       "  <tbody>\n",
       "    <tr>\n",
       "      <th>0</th>\n",
       "      <td>7487412</td>\n",
       "      <td>1</td>\n",
       "      <td>13082</td>\n",
       "      <td>Accomack County</td>\n",
       "      <td>-75.622044</td>\n",
       "      <td>37.456787</td>\n",
       "    </tr>\n",
       "    <tr>\n",
       "      <th>1</th>\n",
       "      <td>7487413</td>\n",
       "      <td>1</td>\n",
       "      <td>13082</td>\n",
       "      <td>Accomack County</td>\n",
       "      <td>-75.624647</td>\n",
       "      <td>37.457400</td>\n",
       "    </tr>\n",
       "    <tr>\n",
       "      <th>2</th>\n",
       "      <td>7487414</td>\n",
       "      <td>1</td>\n",
       "      <td>13082</td>\n",
       "      <td>Accomack County</td>\n",
       "      <td>-75.630694</td>\n",
       "      <td>37.458797</td>\n",
       "    </tr>\n",
       "    <tr>\n",
       "      <th>3</th>\n",
       "      <td>7487415</td>\n",
       "      <td>1</td>\n",
       "      <td>13082</td>\n",
       "      <td>Accomack County</td>\n",
       "      <td>-75.655216</td>\n",
       "      <td>37.464464</td>\n",
       "    </tr>\n",
       "    <tr>\n",
       "      <th>4</th>\n",
       "      <td>7487416</td>\n",
       "      <td>1</td>\n",
       "      <td>13082</td>\n",
       "      <td>Accomack County</td>\n",
       "      <td>-75.661913</td>\n",
       "      <td>37.466192</td>\n",
       "    </tr>\n",
       "  </tbody>\n",
       "</table>\n",
       "</div>"
      ],
      "text/plain": [
       "   geovertex_id  shape_id  polygon_id           County      x_pos      y_pos\n",
       "0       7487412         1       13082  Accomack County -75.622044  37.456787\n",
       "1       7487413         1       13082  Accomack County -75.624647  37.457400\n",
       "2       7487414         1       13082  Accomack County -75.630694  37.458797\n",
       "3       7487415         1       13082  Accomack County -75.655216  37.464464\n",
       "4       7487416         1       13082  Accomack County -75.661913  37.466192"
      ]
     },
     "execution_count": 13,
     "metadata": {},
     "output_type": "execute_result"
    }
   ],
   "source": [
    "'''\n",
    "geo = 7487412\n",
    "poly = 9614\n",
    "counter = 0\n",
    "for index, row in county.iterrows():\n",
    "    # for visualization only\n",
    "    if counter%50000==0:\n",
    "        print(\" {:.2f}% \".format(counter/len(county)*100), end=\"\")\n",
    "    elif counter%1000==0:\n",
    "        print(\"#\", end=\"\")\n",
    "    \n",
    "    \n",
    "    county.at[index, \"geovertex_id\"] = geo\n",
    "    geo += 1\n",
    "    county.at[index, \"polygon_id\"] += poly\n",
    "    counter += 1\n",
    "    \n",
    "county.head()\n",
    "'''"
   ]
  },
  {
   "cell_type": "code",
   "execution_count": 14,
   "metadata": {},
   "outputs": [],
   "source": [
    "# county.to_csv(\"VA_County_Parsed_Merged.csv\", index=False)"
   ]
  },
  {
   "cell_type": "code",
   "execution_count": null,
   "metadata": {},
   "outputs": [],
   "source": []
  }
 ],
 "metadata": {
  "kernelspec": {
   "display_name": "myenv",
   "language": "python",
   "name": "myenv"
  },
  "language_info": {
   "codemirror_mode": {
    "name": "ipython",
    "version": 3
   },
   "file_extension": ".py",
   "mimetype": "text/x-python",
   "name": "python",
   "nbconvert_exporter": "python",
   "pygments_lexer": "ipython3",
   "version": "3.7.7"
  }
 },
 "nbformat": 4,
 "nbformat_minor": 4
}
