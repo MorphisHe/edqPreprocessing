{
 "cells": [
  {
   "cell_type": "code",
   "execution_count": 3,
   "metadata": {},
   "outputs": [],
   "source": [
    "import warnings\n",
    "warnings.filterwarnings('ignore')\n",
    "\n",
    "import geopandas as gpd\n",
    "from shapely import geometry\n",
    "import pandas as pd"
   ]
  },
  {
   "cell_type": "markdown",
   "metadata": {},
   "source": [
    "# split precinct into 10 files"
   ]
  },
  {
   "cell_type": "code",
   "execution_count": 4,
   "metadata": {},
   "outputs": [
    {
     "data": {
      "text/html": [
       "<div>\n",
       "<style scoped>\n",
       "    .dataframe tbody tr th:only-of-type {\n",
       "        vertical-align: middle;\n",
       "    }\n",
       "\n",
       "    .dataframe tbody tr th {\n",
       "        vertical-align: top;\n",
       "    }\n",
       "\n",
       "    .dataframe thead th {\n",
       "        text-align: right;\n",
       "    }\n",
       "</style>\n",
       "<table border=\"1\" class=\"dataframe\">\n",
       "  <thead>\n",
       "    <tr style=\"text-align: right;\">\n",
       "      <th></th>\n",
       "      <th>County</th>\n",
       "      <th>Precinct #</th>\n",
       "      <th>Hillary Clinton/Dem</th>\n",
       "      <th>Donald J. Trump/Rep</th>\n",
       "      <th>Gary Johnson/Lib</th>\n",
       "      <th>Jill Stein/Grn</th>\n",
       "      <th>Other/Other</th>\n",
       "      <th>Total Votes</th>\n",
       "      <th>State</th>\n",
       "      <th>CName</th>\n",
       "      <th>Neighbors</th>\n",
       "      <th>Total Population</th>\n",
       "      <th>White</th>\n",
       "      <th>Black or African American</th>\n",
       "      <th>American Indian</th>\n",
       "      <th>Asian</th>\n",
       "      <th>Other Population</th>\n",
       "      <th>geometry</th>\n",
       "    </tr>\n",
       "  </thead>\n",
       "  <tbody>\n",
       "    <tr>\n",
       "      <th>0</th>\n",
       "      <td>Accomack</td>\n",
       "      <td>0001</td>\n",
       "      <td>486</td>\n",
       "      <td>637</td>\n",
       "      <td>16</td>\n",
       "      <td>8</td>\n",
       "      <td>4</td>\n",
       "      <td>2328</td>\n",
       "      <td>va</td>\n",
       "      <td>va-York-2446</td>\n",
       "      <td>va-York-2446,va-York-2446; va-York-2446,va-Yor...</td>\n",
       "      <td>3526</td>\n",
       "      <td>2336</td>\n",
       "      <td>906</td>\n",
       "      <td>12</td>\n",
       "      <td>20</td>\n",
       "      <td>246</td>\n",
       "      <td>POLYGON ((-75.66233 37.77053, -75.66244 37.770...</td>\n",
       "    </tr>\n",
       "  </tbody>\n",
       "</table>\n",
       "</div>"
      ],
      "text/plain": [
       "     County Precinct # Hillary Clinton/Dem Donald J. Trump/Rep  \\\n",
       "0  Accomack       0001                 486                 637   \n",
       "\n",
       "  Gary Johnson/Lib Jill Stein/Grn Other/Other Total Votes State         CName  \\\n",
       "0               16              8           4        2328    va  va-York-2446   \n",
       "\n",
       "                                           Neighbors  Total Population  White  \\\n",
       "0  va-York-2446,va-York-2446; va-York-2446,va-Yor...              3526   2336   \n",
       "\n",
       "   Black or African American  American Indian  Asian  Other Population  \\\n",
       "0                        906               12     20               246   \n",
       "\n",
       "                                            geometry  \n",
       "0  POLYGON ((-75.66233 37.77053, -75.66244 37.770...  "
      ]
     },
     "execution_count": 4,
     "metadata": {},
     "output_type": "execute_result"
    }
   ],
   "source": [
    "gdf = gpd.read_file(\"all_states_precincts_cname_neighbor_demo.json\")\n",
    "gdf = gdf[gdf[\"State\"] == \"va\"]\n",
    "gdf.head(1)"
   ]
  },
  {
   "cell_type": "code",
   "execution_count": 5,
   "metadata": {},
   "outputs": [
    {
     "name": "stdout",
     "output_type": "stream",
     "text": [
      "113\n"
     ]
    }
   ],
   "source": [
    "counties = sorted(list(gdf[\"County\"].unique()))\n",
    "print(len(counties))"
   ]
  },
  {
   "cell_type": "code",
   "execution_count": 6,
   "metadata": {},
   "outputs": [
    {
     "data": {
      "text/plain": [
       "14"
      ]
     },
     "execution_count": 6,
     "metadata": {},
     "output_type": "execute_result"
    }
   ],
   "source": [
    "# test, should be 28\n",
    "len(gdf[gdf[\"County\"].isin(counties[9*11:])][\"County\"].unique())"
   ]
  },
  {
   "cell_type": "code",
   "execution_count": 7,
   "metadata": {},
   "outputs": [],
   "source": [
    "# split to 4 files with 28 counties each file (last file 29)\n",
    "for i in range(10):\n",
    "    if i == 9:\n",
    "        file_name = \"VA\" + str(i) + \"Precinct.json\"\n",
    "        gdf[gdf[\"County\"].isin(counties[i*11 :])].to_file(file_name, driver=\"GeoJSON\")\n",
    "    else:\n",
    "        file_name = \"VA\" + str(i) + \"Precinct.json\"\n",
    "        gdf[gdf[\"County\"].isin(counties[i*11 : (i+1)*11])].to_file(file_name, driver=\"GeoJSON\")"
   ]
  },
  {
   "cell_type": "code",
   "execution_count": 2,
   "metadata": {},
   "outputs": [
    {
     "data": {
      "text/plain": [
       "11"
      ]
     },
     "execution_count": 2,
     "metadata": {},
     "output_type": "execute_result"
    }
   ],
   "source": [
    "113//10"
   ]
  },
  {
   "cell_type": "code",
   "execution_count": null,
   "metadata": {},
   "outputs": [],
   "source": []
  },
  {
   "cell_type": "markdown",
   "metadata": {},
   "source": [
    "# Start parsing precinct data "
   ]
  },
  {
   "cell_type": "code",
   "execution_count": 2,
   "metadata": {},
   "outputs": [],
   "source": [
    "Polygon = geometry.polygon.Polygon\n",
    "MultiPolygon = geometry.multipolygon.MultiPolygon"
   ]
  },
  {
   "cell_type": "code",
   "execution_count": 3,
   "metadata": {},
   "outputs": [],
   "source": [
    "def parse(gdf, arg_i, arg_shape_id, arg_polygon_id):\n",
    "    columns = [\"geovertex_id\", \"shape_id\", \"polygon_id\", \"CName\", \"x_pos\", \"y_pos\"]\n",
    "    df = pd.DataFrame(columns=columns)\n",
    "\n",
    "    counter = 0\n",
    "    i = arg_i\n",
    "    shape_id = arg_shape_id\n",
    "    polygon_id = arg_polygon_id\n",
    "\n",
    "    for index, row in gdf.iterrows():\n",
    "        # for visualization only\n",
    "        if counter%15==0:\n",
    "            print(\" {:.2f}% \".format(counter/len(gdf)*100), end=\"\")\n",
    "        else:\n",
    "            print(\"#\", end=\"\")\n",
    "\n",
    "        cur_shape = row[\"geometry\"]\n",
    "        cur_type = type(cur_shape)\n",
    "\n",
    "        row = row.drop([\"geometry\"])\n",
    "        cur_row = row\n",
    "        cur_row[\"shape_id\"] = shape_id\n",
    "        shape_id += 1\n",
    "\n",
    "        if cur_type == MultiPolygon:\n",
    "            for polygon in cur_shape:\n",
    "                cur_row[\"polygon_id\"] = polygon_id\n",
    "                polygon_id += 1\n",
    "                for coords in polygon.exterior.coords:\n",
    "                    cur_row[\"geovertex_id\"] = i\n",
    "                    i += 1\n",
    "                    cur_row[\"x_pos\"] = coords[0]\n",
    "                    cur_row[\"y_pos\"] = coords[1]\n",
    "                    df = df.append(cur_row, ignore_index=True)\n",
    "                    cur_row = row\n",
    "        elif cur_type == Polygon:\n",
    "            cur_row[\"polygon_id\"] = polygon_id\n",
    "            polygon_id += 1\n",
    "            for coords in cur_shape.exterior.coords:\n",
    "                cur_row[\"geovertex_id\"] = i\n",
    "                i += 1\n",
    "                cur_row[\"x_pos\"] = coords[0]\n",
    "                cur_row[\"y_pos\"] = coords[1]\n",
    "                df = df.append(cur_row, ignore_index=True)\n",
    "                cur_row = row\n",
    "        counter += 1\n",
    "        \n",
    "    return df"
   ]
  },
  {
   "cell_type": "code",
   "execution_count": null,
   "metadata": {},
   "outputs": [
    {
     "name": "stdout",
     "output_type": "stream",
     "text": [
      "\n",
      "\n",
      "Start VA4Precinct.json\n",
      " 0.00% ############## 5.47% ############## 10.95% ############## 16.42% ############## 21.90% ############## 27.37% ############## 32.85% ############## 38.32% ############## 43.80% ############## 49.27% ############## 54.74% ############## 60.22% ############## 65.69% ############## 71.17% ############## 76.64% ############## 82.12% ############## 87.59% ############## 93.07% ############## 98.54% ###\n",
      "Last row id: geo:1780454, shape:1232, poly:2220\n",
      "Next id: geo:1780455, shape:1233, poly:2221\n",
      "\n",
      "\n",
      "Start VA5Precinct.json\n",
      " 0.00% ############## 7.32% ############## 14.63% ############## 21.95% ############## 29.27% ############## 36.59% ############## 43.90% ############## 51.22% ############## 58.54% ############## 65.85% ############## 73.17% ############## 80.49% ############## 87.80% ############## 95.12% #########\n",
      "Last row id: geo:2078125, shape:1437, poly:2426\n",
      "Next id: geo:2078126, shape:1438, poly:2427\n",
      "\n",
      "\n",
      "Start VA6Precinct.json\n",
      " 0.00% ########"
     ]
    }
   ],
   "source": [
    "next_i, next_shape, next_poly = 1495449, 959, 1940 #geo:2078126, shape:1438, poly:2427 VA6Precinct.json\n",
    "for i in range(4, 10):\n",
    "    file_name = \"VA\" + str(i) + \"Precinct.json\"\n",
    "    \n",
    "    print(\"\\n\\nStart\", file_name)\n",
    "    gdf = gpd.read_file(file_name)\n",
    "    \n",
    "    # drop some columns\n",
    "    dropping = gdf.columns.to_list()\n",
    "    dropping.remove(\"geometry\")\n",
    "    dropping.remove(\"CName\")\n",
    "    gdf.drop(dropping, inplace=True, axis=1)\n",
    "    \n",
    "    # parsing\n",
    "    gdf_Parsed = parse(gdf, arg_i=next_i, arg_shape_id=next_shape, arg_polygon_id=next_poly)\n",
    "    \n",
    "    # saving the result \n",
    "    file_name = file_name.split(\".\")[0]\n",
    "    gdf_Parsed.to_csv(file_name+\"_Parsed.csv\")\n",
    "\n",
    "    next_i = gdf_Parsed.iloc[-1][\"geovertex_id\"] + 1\n",
    "    next_shape = gdf_Parsed.iloc[-1][\"shape_id\"] + 1\n",
    "    next_poly = gdf_Parsed.iloc[-1][\"polygon_id\"] + 1\n",
    "    print(\"\\nLast row id: geo:{}, shape:{}, poly:{}\".format(gdf_Parsed.iloc[-1][\"geovertex_id\"],\n",
    "                                                         gdf_Parsed.iloc[-1][\"shape_id\"],\n",
    "                                                         gdf_Parsed.iloc[-1][\"polygon_id\"]))\n",
    "    print(\"Next id: geo:{}, shape:{}, poly:{}\".format(next_i, next_shape, next_poly))"
   ]
  },
  {
   "cell_type": "code",
   "execution_count": null,
   "metadata": {},
   "outputs": [],
   "source": []
  },
  {
   "cell_type": "code",
   "execution_count": null,
   "metadata": {},
   "outputs": [],
   "source": []
  },
  {
   "cell_type": "code",
   "execution_count": null,
   "metadata": {},
   "outputs": [],
   "source": []
  },
  {
   "cell_type": "code",
   "execution_count": null,
   "metadata": {},
   "outputs": [],
   "source": []
  },
  {
   "cell_type": "code",
   "execution_count": null,
   "metadata": {},
   "outputs": [],
   "source": []
  },
  {
   "cell_type": "code",
   "execution_count": null,
   "metadata": {},
   "outputs": [],
   "source": []
  },
  {
   "cell_type": "code",
   "execution_count": null,
   "metadata": {},
   "outputs": [],
   "source": []
  },
  {
   "cell_type": "code",
   "execution_count": null,
   "metadata": {},
   "outputs": [],
   "source": []
  }
 ],
 "metadata": {
  "kernelspec": {
   "display_name": "myenv",
   "language": "python",
   "name": "myenv"
  },
  "language_info": {
   "codemirror_mode": {
    "name": "ipython",
    "version": 3
   },
   "file_extension": ".py",
   "mimetype": "text/x-python",
   "name": "python",
   "nbconvert_exporter": "python",
   "pygments_lexer": "ipython3",
   "version": "3.7.7"
  }
 },
 "nbformat": 4,
 "nbformat_minor": 4
}
