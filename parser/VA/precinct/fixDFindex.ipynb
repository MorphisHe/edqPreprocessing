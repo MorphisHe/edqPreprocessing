{
 "cells": [
  {
   "cell_type": "code",
   "execution_count": 2,
   "metadata": {},
   "outputs": [
    {
     "name": "stdout",
     "output_type": "stream",
     "text": [
      "VA._Final_Parsed_Split.zip VA2Precinct_Parsed.csv\r\n",
      "VA0Final.csv               VA3Final.csv\r\n",
      "VA0Precinct.json           VA3Precinct.json\r\n",
      "VA0Precinct_Parsed.csv     VA3Precinct_Parsed.csv\r\n",
      "VA1Final.csv               VA_Final_Merged.csv\r\n",
      "VA1Precinct.json           VA_Final_Merged.csv.zip\r\n",
      "VA1Precinct_Parsed.csv     fixDFindex.ipynb\r\n",
      "VA2Final.csv               parse_precinct_cname.ipynb\r\n",
      "VA2Precinct.json           parse_precinct_forDB.ipynb\r\n"
     ]
    }
   ],
   "source": [
    "!ls"
   ]
  },
  {
   "cell_type": "code",
   "execution_count": 3,
   "metadata": {},
   "outputs": [],
   "source": [
    "import pandas as pd"
   ]
  },
  {
   "cell_type": "code",
   "execution_count": 4,
   "metadata": {},
   "outputs": [
    {
     "name": "stdout",
     "output_type": "stream",
     "text": [
      "4\n"
     ]
    }
   ],
   "source": [
    "dfs = []\n",
    "for i in range(4):\n",
    "    file_name = \"VA\" + str(i) + \"Precinct_Parsed.csv\"\n",
    "    dfs.append(pd.read_csv(file_name))\n",
    "print(len(dfs))"
   ]
  },
  {
   "cell_type": "code",
   "execution_count": 5,
   "metadata": {},
   "outputs": [
    {
     "name": "stdout",
     "output_type": "stream",
     "text": [
      "New DF\n",
      "##########################################################################################################################################################New DF\n",
      "###############################################################################################################################################################################################New DF\n",
      "#########################################################################################################################################New DF\n",
      "##################################################################################################################################################################"
     ]
    }
   ],
   "source": [
    "geovertex_id = 419894\n",
    "polygon_id = 940\n",
    "shape_id = 0\n",
    "\n",
    "for i in range(len(dfs)):\n",
    "    df = dfs[i]\n",
    "    df = df.astype({'geovertex_id': 'int32', 'shape_id': 'int32', 'polygon_id': 'int32'})\n",
    "    \n",
    "    print(\"New DF\")\n",
    "    counter = 0\n",
    "    for index, row in df.iterrows():\n",
    "        if counter %4000 == 0:\n",
    "            print(\"#\", end=\"\")\n",
    "        df.at[index, \"geovertex_id\"] += geovertex_id\n",
    "        df.at[index, \"polygon_id\"] += polygon_id\n",
    "        df.at[index, \"shape_id\"] += shape_id\n",
    "        counter+=1\n",
    "        \n",
    "    shape_id = df.iloc[-1][\"shape_id\"]\n",
    "    polygon_id = df.iloc[-1][\"polygon_id\"]\n",
    "    geovertex_id = df.iloc[-1][\"geovertex_id\"]\n",
    "    dfs[i] = df"
   ]
  },
  {
   "cell_type": "code",
   "execution_count": 6,
   "metadata": {},
   "outputs": [],
   "source": [
    "i = 0\n",
    "for df in dfs:\n",
    "    df.to_csv(\"VA\"+str(i)+\"Final.csv\", index=False)\n",
    "    i += 1"
   ]
  },
  {
   "cell_type": "code",
   "execution_count": 7,
   "metadata": {},
   "outputs": [],
   "source": [
    "merged = pd.concat(dfs)"
   ]
  },
  {
   "cell_type": "code",
   "execution_count": 8,
   "metadata": {},
   "outputs": [
    {
     "data": {
      "text/html": [
       "<div>\n",
       "<style scoped>\n",
       "    .dataframe tbody tr th:only-of-type {\n",
       "        vertical-align: middle;\n",
       "    }\n",
       "\n",
       "    .dataframe tbody tr th {\n",
       "        vertical-align: top;\n",
       "    }\n",
       "\n",
       "    .dataframe thead th {\n",
       "        text-align: right;\n",
       "    }\n",
       "</style>\n",
       "<table border=\"1\" class=\"dataframe\">\n",
       "  <thead>\n",
       "    <tr style=\"text-align: right;\">\n",
       "      <th></th>\n",
       "      <th>geovertex_id</th>\n",
       "      <th>shape_id</th>\n",
       "      <th>polygon_id</th>\n",
       "      <th>x_pos</th>\n",
       "      <th>y_pos</th>\n",
       "    </tr>\n",
       "  </thead>\n",
       "  <tbody>\n",
       "    <tr>\n",
       "      <th>0</th>\n",
       "      <td>419895</td>\n",
       "      <td>1</td>\n",
       "      <td>941</td>\n",
       "      <td>-75.662327</td>\n",
       "      <td>37.770533</td>\n",
       "    </tr>\n",
       "    <tr>\n",
       "      <th>1</th>\n",
       "      <td>419896</td>\n",
       "      <td>1</td>\n",
       "      <td>941</td>\n",
       "      <td>-75.662437</td>\n",
       "      <td>37.770359</td>\n",
       "    </tr>\n",
       "    <tr>\n",
       "      <th>2</th>\n",
       "      <td>419897</td>\n",
       "      <td>1</td>\n",
       "      <td>941</td>\n",
       "      <td>-75.663290</td>\n",
       "      <td>37.769145</td>\n",
       "    </tr>\n",
       "    <tr>\n",
       "      <th>3</th>\n",
       "      <td>419898</td>\n",
       "      <td>1</td>\n",
       "      <td>941</td>\n",
       "      <td>-75.663620</td>\n",
       "      <td>37.768669</td>\n",
       "    </tr>\n",
       "    <tr>\n",
       "      <th>4</th>\n",
       "      <td>419899</td>\n",
       "      <td>1</td>\n",
       "      <td>941</td>\n",
       "      <td>-75.665344</td>\n",
       "      <td>37.766075</td>\n",
       "    </tr>\n",
       "  </tbody>\n",
       "</table>\n",
       "</div>"
      ],
      "text/plain": [
       "   geovertex_id  shape_id  polygon_id      x_pos      y_pos\n",
       "0        419895         1         941 -75.662327  37.770533\n",
       "1        419896         1         941 -75.662437  37.770359\n",
       "2        419897         1         941 -75.663290  37.769145\n",
       "3        419898         1         941 -75.663620  37.768669\n",
       "4        419899         1         941 -75.665344  37.766075"
      ]
     },
     "execution_count": 8,
     "metadata": {},
     "output_type": "execute_result"
    }
   ],
   "source": [
    "merged.sort_values([\"geovertex_id\"], inplace=True)\n",
    "merged.head()"
   ]
  },
  {
   "cell_type": "code",
   "execution_count": null,
   "metadata": {},
   "outputs": [],
   "source": [
    "merged.to_csv(\"VA_Final_Merged.csv\", index=False)"
   ]
  },
  {
   "cell_type": "code",
   "execution_count": null,
   "metadata": {},
   "outputs": [],
   "source": []
  }
 ],
 "metadata": {
  "kernelspec": {
   "display_name": "myenv",
   "language": "python",
   "name": "myenv"
  },
  "language_info": {
   "codemirror_mode": {
    "name": "ipython",
    "version": 3
   },
   "file_extension": ".py",
   "mimetype": "text/x-python",
   "name": "python",
   "nbconvert_exporter": "python",
   "pygments_lexer": "ipython3",
   "version": "3.7.7"
  }
 },
 "nbformat": 4,
 "nbformat_minor": 4
}
