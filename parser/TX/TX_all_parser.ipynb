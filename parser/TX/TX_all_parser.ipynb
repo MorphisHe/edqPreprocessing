{
 "cells": [
  {
   "cell_type": "code",
   "execution_count": 1,
   "metadata": {},
   "outputs": [],
   "source": [
    "import geopandas as gpd\n",
    "import pandas as pd"
   ]
  },
  {
   "cell_type": "code",
   "execution_count": 2,
   "metadata": {},
   "outputs": [],
   "source": [
    "gdf = gpd.read_file(\"../all_states_precincts_cname_neighbor_demo.json\")"
   ]
  },
  {
   "cell_type": "code",
   "execution_count": 5,
   "metadata": {
    "scrolled": true
   },
   "outputs": [
    {
     "data": {
      "text/html": [
       "<div>\n",
       "<style scoped>\n",
       "    .dataframe tbody tr th:only-of-type {\n",
       "        vertical-align: middle;\n",
       "    }\n",
       "\n",
       "    .dataframe tbody tr th {\n",
       "        vertical-align: top;\n",
       "    }\n",
       "\n",
       "    .dataframe thead th {\n",
       "        text-align: right;\n",
       "    }\n",
       "</style>\n",
       "<table border=\"1\" class=\"dataframe\">\n",
       "  <thead>\n",
       "    <tr style=\"text-align: right;\">\n",
       "      <th></th>\n",
       "      <th>County</th>\n",
       "      <th>Precinct #</th>\n",
       "      <th>Hillary Clinton/Dem</th>\n",
       "      <th>Donald J. Trump/Rep</th>\n",
       "      <th>Gary Johnson/Lib</th>\n",
       "      <th>Jill Stein/Grn</th>\n",
       "      <th>Other/Other</th>\n",
       "      <th>Total Votes</th>\n",
       "      <th>State</th>\n",
       "      <th>CName</th>\n",
       "      <th>Neighbors</th>\n",
       "      <th>Total Population</th>\n",
       "      <th>White</th>\n",
       "      <th>Black or African American</th>\n",
       "      <th>American Indian</th>\n",
       "      <th>Asian</th>\n",
       "      <th>Other Population</th>\n",
       "      <th>geometry</th>\n",
       "    </tr>\n",
       "  </thead>\n",
       "  <tbody>\n",
       "    <tr>\n",
       "      <th>419</th>\n",
       "      <td>Anderson</td>\n",
       "      <td>1</td>\n",
       "      <td>262</td>\n",
       "      <td>742</td>\n",
       "      <td>18</td>\n",
       "      <td>5</td>\n",
       "      <td>3</td>\n",
       "      <td>1030</td>\n",
       "      <td>tx</td>\n",
       "      <td>tx-anderson-1</td>\n",
       "      <td>tx-anderson-1,tx-anderson-3; tx-anderson-1,tx-...</td>\n",
       "      <td>2651</td>\n",
       "      <td>1965</td>\n",
       "      <td>393</td>\n",
       "      <td>16</td>\n",
       "      <td>37</td>\n",
       "      <td>239</td>\n",
       "      <td>POLYGON ((-95.60102 31.74519, -95.60095 31.745...</td>\n",
       "    </tr>\n",
       "  </tbody>\n",
       "</table>\n",
       "</div>"
      ],
      "text/plain": [
       "       County Precinct # Hillary Clinton/Dem Donald J. Trump/Rep  \\\n",
       "419  Anderson          1                 262                 742   \n",
       "\n",
       "    Gary Johnson/Lib Jill Stein/Grn Other/Other Total Votes State  \\\n",
       "419               18              5           3        1030    tx   \n",
       "\n",
       "             CName                                          Neighbors  \\\n",
       "419  tx-anderson-1  tx-anderson-1,tx-anderson-3; tx-anderson-1,tx-...   \n",
       "\n",
       "     Total Population  White  Black or African American  American Indian  \\\n",
       "419              2651   1965                        393               16   \n",
       "\n",
       "     Asian  Other Population  \\\n",
       "419     37               239   \n",
       "\n",
       "                                              geometry  \n",
       "419  POLYGON ((-95.60102 31.74519, -95.60095 31.745...  "
      ]
     },
     "execution_count": 5,
     "metadata": {},
     "output_type": "execute_result"
    }
   ],
   "source": [
    "TX = gdf[gdf[\"State\"] == \"tx\"]\n",
    "TX.head(1)"
   ]
  },
  {
   "cell_type": "code",
   "execution_count": 7,
   "metadata": {},
   "outputs": [],
   "source": [
    "# TX.to_file(\"TX_all_data.json\", driver=\"GeoJSON\")"
   ]
  },
  {
   "cell_type": "code",
   "execution_count": 8,
   "metadata": {},
   "outputs": [],
   "source": [
    "copy = TX.copy()"
   ]
  },
  {
   "cell_type": "markdown",
   "metadata": {},
   "source": [
    "# parse all data except neighbor and geometry"
   ]
  },
  {
   "cell_type": "code",
   "execution_count": 12,
   "metadata": {},
   "outputs": [
    {
     "data": {
      "text/html": [
       "<div>\n",
       "<style scoped>\n",
       "    .dataframe tbody tr th:only-of-type {\n",
       "        vertical-align: middle;\n",
       "    }\n",
       "\n",
       "    .dataframe tbody tr th {\n",
       "        vertical-align: top;\n",
       "    }\n",
       "\n",
       "    .dataframe thead th {\n",
       "        text-align: right;\n",
       "    }\n",
       "</style>\n",
       "<table border=\"1\" class=\"dataframe\">\n",
       "  <thead>\n",
       "    <tr style=\"text-align: right;\">\n",
       "      <th></th>\n",
       "      <th>County</th>\n",
       "      <th>Precinct #</th>\n",
       "      <th>Hillary Clinton/Dem</th>\n",
       "      <th>Donald J. Trump/Rep</th>\n",
       "      <th>Gary Johnson/Lib</th>\n",
       "      <th>Jill Stein/Grn</th>\n",
       "      <th>Other/Other</th>\n",
       "      <th>Total Votes</th>\n",
       "      <th>State</th>\n",
       "      <th>CName</th>\n",
       "      <th>Neighbors</th>\n",
       "      <th>Total Population</th>\n",
       "      <th>White</th>\n",
       "      <th>Black or African American</th>\n",
       "      <th>American Indian</th>\n",
       "      <th>Asian</th>\n",
       "      <th>Other Population</th>\n",
       "      <th>geometry</th>\n",
       "    </tr>\n",
       "  </thead>\n",
       "  <tbody>\n",
       "    <tr>\n",
       "      <th>419</th>\n",
       "      <td>Anderson</td>\n",
       "      <td>1</td>\n",
       "      <td>262</td>\n",
       "      <td>742</td>\n",
       "      <td>18</td>\n",
       "      <td>5</td>\n",
       "      <td>3</td>\n",
       "      <td>1030</td>\n",
       "      <td>tx</td>\n",
       "      <td>tx-anderson-1</td>\n",
       "      <td>tx-anderson-1,tx-anderson-3; tx-anderson-1,tx-...</td>\n",
       "      <td>2651</td>\n",
       "      <td>1965</td>\n",
       "      <td>393</td>\n",
       "      <td>16</td>\n",
       "      <td>37</td>\n",
       "      <td>239</td>\n",
       "      <td>POLYGON ((-95.60102 31.74519, -95.60095 31.745...</td>\n",
       "    </tr>\n",
       "  </tbody>\n",
       "</table>\n",
       "</div>"
      ],
      "text/plain": [
       "       County Precinct # Hillary Clinton/Dem Donald J. Trump/Rep  \\\n",
       "419  Anderson          1                 262                 742   \n",
       "\n",
       "    Gary Johnson/Lib Jill Stein/Grn Other/Other Total Votes State  \\\n",
       "419               18              5           3        1030    tx   \n",
       "\n",
       "             CName                                          Neighbors  \\\n",
       "419  tx-anderson-1  tx-anderson-1,tx-anderson-3; tx-anderson-1,tx-...   \n",
       "\n",
       "     Total Population  White  Black or African American  American Indian  \\\n",
       "419              2651   1965                        393               16   \n",
       "\n",
       "     Asian  Other Population  \\\n",
       "419     37               239   \n",
       "\n",
       "                                              geometry  \n",
       "419  POLYGON ((-95.60102 31.74519, -95.60095 31.745...  "
      ]
     },
     "execution_count": 12,
     "metadata": {},
     "output_type": "execute_result"
    }
   ],
   "source": [
    "TX = copy.copy()\n",
    "TX.head(1)"
   ]
  },
  {
   "cell_type": "code",
   "execution_count": 13,
   "metadata": {},
   "outputs": [
    {
     "data": {
      "text/html": [
       "<div>\n",
       "<style scoped>\n",
       "    .dataframe tbody tr th:only-of-type {\n",
       "        vertical-align: middle;\n",
       "    }\n",
       "\n",
       "    .dataframe tbody tr th {\n",
       "        vertical-align: top;\n",
       "    }\n",
       "\n",
       "    .dataframe thead th {\n",
       "        text-align: right;\n",
       "    }\n",
       "</style>\n",
       "<table border=\"1\" class=\"dataframe\">\n",
       "  <thead>\n",
       "    <tr style=\"text-align: right;\">\n",
       "      <th></th>\n",
       "      <th>County</th>\n",
       "      <th>Precinct #</th>\n",
       "      <th>Hillary Clinton/Dem</th>\n",
       "      <th>Donald J. Trump/Rep</th>\n",
       "      <th>Gary Johnson/Lib</th>\n",
       "      <th>Jill Stein/Grn</th>\n",
       "      <th>Other/Other</th>\n",
       "      <th>Total Votes</th>\n",
       "      <th>State</th>\n",
       "      <th>CName</th>\n",
       "      <th>Total Population</th>\n",
       "      <th>White</th>\n",
       "      <th>Black or African American</th>\n",
       "      <th>American Indian</th>\n",
       "      <th>Asian</th>\n",
       "      <th>Other Population</th>\n",
       "    </tr>\n",
       "  </thead>\n",
       "  <tbody>\n",
       "    <tr>\n",
       "      <th>419</th>\n",
       "      <td>Anderson</td>\n",
       "      <td>1</td>\n",
       "      <td>262</td>\n",
       "      <td>742</td>\n",
       "      <td>18</td>\n",
       "      <td>5</td>\n",
       "      <td>3</td>\n",
       "      <td>1030</td>\n",
       "      <td>tx</td>\n",
       "      <td>tx-anderson-1</td>\n",
       "      <td>2651</td>\n",
       "      <td>1965</td>\n",
       "      <td>393</td>\n",
       "      <td>16</td>\n",
       "      <td>37</td>\n",
       "      <td>239</td>\n",
       "    </tr>\n",
       "  </tbody>\n",
       "</table>\n",
       "</div>"
      ],
      "text/plain": [
       "       County Precinct # Hillary Clinton/Dem Donald J. Trump/Rep  \\\n",
       "419  Anderson          1                 262                 742   \n",
       "\n",
       "    Gary Johnson/Lib Jill Stein/Grn Other/Other Total Votes State  \\\n",
       "419               18              5           3        1030    tx   \n",
       "\n",
       "             CName  Total Population  White  Black or African American  \\\n",
       "419  tx-anderson-1              2651   1965                        393   \n",
       "\n",
       "     American Indian  Asian  Other Population  \n",
       "419               16     37               239  "
      ]
     },
     "execution_count": 13,
     "metadata": {},
     "output_type": "execute_result"
    }
   ],
   "source": [
    "TX.drop([\"geometry\", \"Neighbors\"], axis=1, inplace=True)\n",
    "TX.head(1)"
   ]
  },
  {
   "cell_type": "code",
   "execution_count": 14,
   "metadata": {},
   "outputs": [],
   "source": [
    "TX.to_csv(\"TX_voting_demo.csv\", index=False)"
   ]
  },
  {
   "cell_type": "markdown",
   "metadata": {},
   "source": [
    "# parse neighbors"
   ]
  },
  {
   "cell_type": "code",
   "execution_count": 15,
   "metadata": {},
   "outputs": [],
   "source": [
    "TX = copy.copy()"
   ]
  },
  {
   "cell_type": "code",
   "execution_count": 16,
   "metadata": {},
   "outputs": [
    {
     "data": {
      "text/html": [
       "<div>\n",
       "<style scoped>\n",
       "    .dataframe tbody tr th:only-of-type {\n",
       "        vertical-align: middle;\n",
       "    }\n",
       "\n",
       "    .dataframe tbody tr th {\n",
       "        vertical-align: top;\n",
       "    }\n",
       "\n",
       "    .dataframe thead th {\n",
       "        text-align: right;\n",
       "    }\n",
       "</style>\n",
       "<table border=\"1\" class=\"dataframe\">\n",
       "  <thead>\n",
       "    <tr style=\"text-align: right;\">\n",
       "      <th></th>\n",
       "      <th>CName</th>\n",
       "      <th>Neighbors</th>\n",
       "    </tr>\n",
       "  </thead>\n",
       "  <tbody>\n",
       "    <tr>\n",
       "      <th>419</th>\n",
       "      <td>tx-anderson-1</td>\n",
       "      <td>tx-anderson-1,tx-anderson-3; tx-anderson-1,tx-...</td>\n",
       "    </tr>\n",
       "  </tbody>\n",
       "</table>\n",
       "</div>"
      ],
      "text/plain": [
       "             CName                                          Neighbors\n",
       "419  tx-anderson-1  tx-anderson-1,tx-anderson-3; tx-anderson-1,tx-..."
      ]
     },
     "execution_count": 16,
     "metadata": {},
     "output_type": "execute_result"
    }
   ],
   "source": [
    "keep = [\"CName\", \"Neighbors\"]\n",
    "c = gdf.columns.to_list()\n",
    "c = [a for a in c if a not in keep]\n",
    "TX.drop(c, axis=1, inplace=True)\n",
    "TX.head(1)"
   ]
  },
  {
   "cell_type": "code",
   "execution_count": 17,
   "metadata": {},
   "outputs": [
    {
     "data": {
      "text/html": [
       "<div>\n",
       "<style scoped>\n",
       "    .dataframe tbody tr th:only-of-type {\n",
       "        vertical-align: middle;\n",
       "    }\n",
       "\n",
       "    .dataframe tbody tr th {\n",
       "        vertical-align: top;\n",
       "    }\n",
       "\n",
       "    .dataframe thead th {\n",
       "        text-align: right;\n",
       "    }\n",
       "</style>\n",
       "<table border=\"1\" class=\"dataframe\">\n",
       "  <thead>\n",
       "    <tr style=\"text-align: right;\">\n",
       "      <th></th>\n",
       "      <th>CName</th>\n",
       "      <th>Neighbor</th>\n",
       "      <th>Neighbors</th>\n",
       "    </tr>\n",
       "  </thead>\n",
       "  <tbody>\n",
       "    <tr>\n",
       "      <th>419</th>\n",
       "      <td>tx-anderson-1</td>\n",
       "      <td>tx-anderson-1,tx-anderson-3</td>\n",
       "      <td>tx-anderson-1,tx-anderson-3; tx-anderson-1,tx-...</td>\n",
       "    </tr>\n",
       "    <tr>\n",
       "      <th>419</th>\n",
       "      <td>tx-anderson-1</td>\n",
       "      <td>tx-anderson-1,tx-anderson-6</td>\n",
       "      <td>tx-anderson-1,tx-anderson-3; tx-anderson-1,tx-...</td>\n",
       "    </tr>\n",
       "    <tr>\n",
       "      <th>419</th>\n",
       "      <td>tx-anderson-1</td>\n",
       "      <td>tx-anderson-1,tx-anderson-13</td>\n",
       "      <td>tx-anderson-1,tx-anderson-3; tx-anderson-1,tx-...</td>\n",
       "    </tr>\n",
       "    <tr>\n",
       "      <th>419</th>\n",
       "      <td>tx-anderson-1</td>\n",
       "      <td>tx-anderson-1,tx-anderson-15</td>\n",
       "      <td>tx-anderson-1,tx-anderson-3; tx-anderson-1,tx-...</td>\n",
       "    </tr>\n",
       "    <tr>\n",
       "      <th>420</th>\n",
       "      <td>tx-anderson-10</td>\n",
       "      <td>tx-anderson-10,tx-anderson-9</td>\n",
       "      <td>tx-anderson-10,tx-anderson-9; tx-anderson-10,t...</td>\n",
       "    </tr>\n",
       "  </tbody>\n",
       "</table>\n",
       "</div>"
      ],
      "text/plain": [
       "              CName                       Neighbor  \\\n",
       "419   tx-anderson-1    tx-anderson-1,tx-anderson-3   \n",
       "419   tx-anderson-1    tx-anderson-1,tx-anderson-6   \n",
       "419   tx-anderson-1   tx-anderson-1,tx-anderson-13   \n",
       "419   tx-anderson-1   tx-anderson-1,tx-anderson-15   \n",
       "420  tx-anderson-10   tx-anderson-10,tx-anderson-9   \n",
       "\n",
       "                                             Neighbors  \n",
       "419  tx-anderson-1,tx-anderson-3; tx-anderson-1,tx-...  \n",
       "419  tx-anderson-1,tx-anderson-3; tx-anderson-1,tx-...  \n",
       "419  tx-anderson-1,tx-anderson-3; tx-anderson-1,tx-...  \n",
       "419  tx-anderson-1,tx-anderson-3; tx-anderson-1,tx-...  \n",
       "420  tx-anderson-10,tx-anderson-9; tx-anderson-10,t...  "
      ]
     },
     "execution_count": 17,
     "metadata": {},
     "output_type": "execute_result"
    }
   ],
   "source": [
    "newdf = pd.DataFrame(columns=[\"CName\", \"Neighbor\"])\n",
    "for index, row in TX.iterrows():\n",
    "    all_neighbors = row[\"Neighbors\"].split(\";\")\n",
    "    newrow = row\n",
    "    \n",
    "    for n in all_neighbors:\n",
    "        newrow[\"Neighbor\"] = n\n",
    "        newdf = newdf.append(newrow)\n",
    "newdf.head()"
   ]
  },
  {
   "cell_type": "code",
   "execution_count": 18,
   "metadata": {},
   "outputs": [
    {
     "data": {
      "text/html": [
       "<div>\n",
       "<style scoped>\n",
       "    .dataframe tbody tr th:only-of-type {\n",
       "        vertical-align: middle;\n",
       "    }\n",
       "\n",
       "    .dataframe tbody tr th {\n",
       "        vertical-align: top;\n",
       "    }\n",
       "\n",
       "    .dataframe thead th {\n",
       "        text-align: right;\n",
       "    }\n",
       "</style>\n",
       "<table border=\"1\" class=\"dataframe\">\n",
       "  <thead>\n",
       "    <tr style=\"text-align: right;\">\n",
       "      <th></th>\n",
       "      <th>CName</th>\n",
       "      <th>Neighbor</th>\n",
       "    </tr>\n",
       "  </thead>\n",
       "  <tbody>\n",
       "    <tr>\n",
       "      <th>419</th>\n",
       "      <td>tx-anderson-1</td>\n",
       "      <td>tx-anderson-1,tx-anderson-3</td>\n",
       "    </tr>\n",
       "  </tbody>\n",
       "</table>\n",
       "</div>"
      ],
      "text/plain": [
       "             CName                     Neighbor\n",
       "419  tx-anderson-1  tx-anderson-1,tx-anderson-3"
      ]
     },
     "execution_count": 18,
     "metadata": {},
     "output_type": "execute_result"
    }
   ],
   "source": [
    "newdf.drop([\"Neighbors\"], axis=1, inplace=True)\n",
    "newdf.head(1)"
   ]
  },
  {
   "cell_type": "code",
   "execution_count": 19,
   "metadata": {},
   "outputs": [],
   "source": [
    "newdf.to_csv(\"TX_Neighbor_Parsed.csv\", index=False)"
   ]
  },
  {
   "cell_type": "code",
   "execution_count": null,
   "metadata": {},
   "outputs": [],
   "source": []
  }
 ],
 "metadata": {
  "kernelspec": {
   "display_name": "myenv",
   "language": "python",
   "name": "myenv"
  },
  "language_info": {
   "codemirror_mode": {
    "name": "ipython",
    "version": 3
   },
   "file_extension": ".py",
   "mimetype": "text/x-python",
   "name": "python",
   "nbconvert_exporter": "python",
   "pygments_lexer": "ipython3",
   "version": "3.7.7"
  }
 },
 "nbformat": 4,
 "nbformat_minor": 4
}
