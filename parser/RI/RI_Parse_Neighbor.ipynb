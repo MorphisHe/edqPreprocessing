{
 "cells": [
  {
   "cell_type": "code",
   "execution_count": 1,
   "metadata": {},
   "outputs": [],
   "source": [
    "import geopandas as gpd\n",
    "import pandas as pd"
   ]
  },
  {
   "cell_type": "code",
   "execution_count": 2,
   "metadata": {},
   "outputs": [],
   "source": [
    "gdf = gpd.read_file(\"all_states_precincts_neighbor.json\")"
   ]
  },
  {
   "cell_type": "code",
   "execution_count": 112,
   "metadata": {},
   "outputs": [
    {
     "data": {
      "text/html": [
       "<div>\n",
       "<style scoped>\n",
       "    .dataframe tbody tr th:only-of-type {\n",
       "        vertical-align: middle;\n",
       "    }\n",
       "\n",
       "    .dataframe tbody tr th {\n",
       "        vertical-align: top;\n",
       "    }\n",
       "\n",
       "    .dataframe thead th {\n",
       "        text-align: right;\n",
       "    }\n",
       "</style>\n",
       "<table border=\"1\" class=\"dataframe\">\n",
       "  <thead>\n",
       "    <tr style=\"text-align: right;\">\n",
       "      <th></th>\n",
       "      <th>County</th>\n",
       "      <th>Precinct #</th>\n",
       "      <th>Hillary Clinton/Dem</th>\n",
       "      <th>Donald J. Trump/Rep</th>\n",
       "      <th>Gary Johnson/Lib</th>\n",
       "      <th>Jill Stein/Grn</th>\n",
       "      <th>Other/Other</th>\n",
       "      <th>Total Votes</th>\n",
       "      <th>State</th>\n",
       "      <th>CName</th>\n",
       "      <th>Neighbors</th>\n",
       "      <th>geometry</th>\n",
       "    </tr>\n",
       "  </thead>\n",
       "  <tbody>\n",
       "    <tr>\n",
       "      <th>0</th>\n",
       "      <td>Bristol</td>\n",
       "      <td>0101</td>\n",
       "      <td>1027</td>\n",
       "      <td>522</td>\n",
       "      <td>60</td>\n",
       "      <td>23</td>\n",
       "      <td>2</td>\n",
       "      <td>1634</td>\n",
       "      <td>ri</td>\n",
       "      <td>ri-bristol-0101</td>\n",
       "      <td>ri-bristol-0101,ri-bristol-0102; ri-bristol-01...</td>\n",
       "      <td>POLYGON ((-71.32270 41.77270, -71.32270 41.772...</td>\n",
       "    </tr>\n",
       "    <tr>\n",
       "      <th>1</th>\n",
       "      <td>Bristol</td>\n",
       "      <td>0102</td>\n",
       "      <td>1331</td>\n",
       "      <td>683</td>\n",
       "      <td>68</td>\n",
       "      <td>21</td>\n",
       "      <td>3</td>\n",
       "      <td>2106</td>\n",
       "      <td>ri</td>\n",
       "      <td>ri-bristol-0102</td>\n",
       "      <td>ri-bristol-0102,ri-bristol-0101; ri-bristol-01...</td>\n",
       "      <td>MULTIPOLYGON (((-71.35581 41.74533, -71.35560 ...</td>\n",
       "    </tr>\n",
       "  </tbody>\n",
       "</table>\n",
       "</div>"
      ],
      "text/plain": [
       "    County Precinct # Hillary Clinton/Dem Donald J. Trump/Rep  \\\n",
       "0  Bristol       0101                1027                 522   \n",
       "1  Bristol       0102                1331                 683   \n",
       "\n",
       "  Gary Johnson/Lib Jill Stein/Grn Other/Other Total Votes State  \\\n",
       "0               60             23           2        1634    ri   \n",
       "1               68             21           3        2106    ri   \n",
       "\n",
       "             CName                                          Neighbors  \\\n",
       "0  ri-bristol-0101  ri-bristol-0101,ri-bristol-0102; ri-bristol-01...   \n",
       "1  ri-bristol-0102  ri-bristol-0102,ri-bristol-0101; ri-bristol-01...   \n",
       "\n",
       "                                            geometry  \n",
       "0  POLYGON ((-71.32270 41.77270, -71.32270 41.772...  \n",
       "1  MULTIPOLYGON (((-71.35581 41.74533, -71.35560 ...  "
      ]
     },
     "execution_count": 112,
     "metadata": {},
     "output_type": "execute_result"
    }
   ],
   "source": [
    "ri = gdf[gdf[\"State\"]==\"ri\"]\n",
    "ri.reset_index(drop=True, inplace=True)\n",
    "ri.head(2)"
   ]
  },
  {
   "cell_type": "code",
   "execution_count": 113,
   "metadata": {},
   "outputs": [
    {
     "name": "stderr",
     "output_type": "stream",
     "text": [
      "/usr/local/lib/python3.7/site-packages/pandas/core/frame.py:3997: SettingWithCopyWarning: \n",
      "A value is trying to be set on a copy of a slice from a DataFrame\n",
      "\n",
      "See the caveats in the documentation: https://pandas.pydata.org/pandas-docs/stable/user_guide/indexing.html#returning-a-view-versus-a-copy\n",
      "  errors=errors,\n"
     ]
    },
    {
     "data": {
      "text/html": [
       "<div>\n",
       "<style scoped>\n",
       "    .dataframe tbody tr th:only-of-type {\n",
       "        vertical-align: middle;\n",
       "    }\n",
       "\n",
       "    .dataframe tbody tr th {\n",
       "        vertical-align: top;\n",
       "    }\n",
       "\n",
       "    .dataframe thead th {\n",
       "        text-align: right;\n",
       "    }\n",
       "</style>\n",
       "<table border=\"1\" class=\"dataframe\">\n",
       "  <thead>\n",
       "    <tr style=\"text-align: right;\">\n",
       "      <th></th>\n",
       "      <th>CName</th>\n",
       "      <th>Neighbors</th>\n",
       "    </tr>\n",
       "  </thead>\n",
       "  <tbody>\n",
       "    <tr>\n",
       "      <th>0</th>\n",
       "      <td>ri-bristol-0101</td>\n",
       "      <td>ri-bristol-0101,ri-bristol-0102; ri-bristol-01...</td>\n",
       "    </tr>\n",
       "    <tr>\n",
       "      <th>1</th>\n",
       "      <td>ri-bristol-0102</td>\n",
       "      <td>ri-bristol-0102,ri-bristol-0101; ri-bristol-01...</td>\n",
       "    </tr>\n",
       "  </tbody>\n",
       "</table>\n",
       "</div>"
      ],
      "text/plain": [
       "             CName                                          Neighbors\n",
       "0  ri-bristol-0101  ri-bristol-0101,ri-bristol-0102; ri-bristol-01...\n",
       "1  ri-bristol-0102  ri-bristol-0102,ri-bristol-0101; ri-bristol-01..."
      ]
     },
     "execution_count": 113,
     "metadata": {},
     "output_type": "execute_result"
    }
   ],
   "source": [
    "c = list(ri.columns)\n",
    "c.remove(\"Neighbors\")\n",
    "c.remove(\"CName\")\n",
    "ri.drop(c, inplace=True, axis=1)\n",
    "ri.head(2)"
   ]
  },
  {
   "cell_type": "code",
   "execution_count": 114,
   "metadata": {},
   "outputs": [],
   "source": [
    "ricopy = ri.copy()"
   ]
  },
  {
   "cell_type": "code",
   "execution_count": 115,
   "metadata": {},
   "outputs": [
    {
     "data": {
      "text/html": [
       "<div>\n",
       "<style scoped>\n",
       "    .dataframe tbody tr th:only-of-type {\n",
       "        vertical-align: middle;\n",
       "    }\n",
       "\n",
       "    .dataframe tbody tr th {\n",
       "        vertical-align: top;\n",
       "    }\n",
       "\n",
       "    .dataframe thead th {\n",
       "        text-align: right;\n",
       "    }\n",
       "</style>\n",
       "<table border=\"1\" class=\"dataframe\">\n",
       "  <thead>\n",
       "    <tr style=\"text-align: right;\">\n",
       "      <th></th>\n",
       "      <th>CName</th>\n",
       "      <th>Neighbors</th>\n",
       "    </tr>\n",
       "  </thead>\n",
       "  <tbody>\n",
       "    <tr>\n",
       "      <th>0</th>\n",
       "      <td>A</td>\n",
       "      <td>b</td>\n",
       "    </tr>\n",
       "  </tbody>\n",
       "</table>\n",
       "</div>"
      ],
      "text/plain": [
       "  CName Neighbors\n",
       "0     A         b"
      ]
     },
     "execution_count": 115,
     "metadata": {},
     "output_type": "execute_result"
    }
   ],
   "source": [
    "columnss = list(ri.columns)\n",
    "new_df = pd.DataFrame([[\"A\",\"b\"]], columns=columnss)\n",
    "new_df.head()"
   ]
  },
  {
   "cell_type": "code",
   "execution_count": 116,
   "metadata": {},
   "outputs": [],
   "source": [
    "ri = ricopy.copy()\n",
    "for index, row in ri.iterrows():\n",
    "    neighbors = row[\"Neighbors\"].split(\";\")\n",
    "    neighbors = [n.strip() for n in neighbors]\n",
    "    for n in neighbors:\n",
    "        new_row = row\n",
    "        new_row[\"Neighbors\"] = n\n",
    "        new_df = new_df.append(new_row, ignore_index=True)"
   ]
  },
  {
   "cell_type": "code",
   "execution_count": 117,
   "metadata": {},
   "outputs": [
    {
     "data": {
      "text/html": [
       "<div>\n",
       "<style scoped>\n",
       "    .dataframe tbody tr th:only-of-type {\n",
       "        vertical-align: middle;\n",
       "    }\n",
       "\n",
       "    .dataframe tbody tr th {\n",
       "        vertical-align: top;\n",
       "    }\n",
       "\n",
       "    .dataframe thead th {\n",
       "        text-align: right;\n",
       "    }\n",
       "</style>\n",
       "<table border=\"1\" class=\"dataframe\">\n",
       "  <thead>\n",
       "    <tr style=\"text-align: right;\">\n",
       "      <th></th>\n",
       "      <th>CName</th>\n",
       "      <th>Neighbors</th>\n",
       "    </tr>\n",
       "  </thead>\n",
       "  <tbody>\n",
       "    <tr>\n",
       "      <th>0</th>\n",
       "      <td>A</td>\n",
       "      <td>b</td>\n",
       "    </tr>\n",
       "    <tr>\n",
       "      <th>1</th>\n",
       "      <td>ri-bristol-0101</td>\n",
       "      <td>ri-bristol-0101,ri-bristol-0102</td>\n",
       "    </tr>\n",
       "    <tr>\n",
       "      <th>2</th>\n",
       "      <td>ri-bristol-0101</td>\n",
       "      <td>ri-bristol-0101,ri-bristol-0104</td>\n",
       "    </tr>\n",
       "    <tr>\n",
       "      <th>3</th>\n",
       "      <td>ri-bristol-0101</td>\n",
       "      <td>ri-bristol-0101,ri-providence-1013</td>\n",
       "    </tr>\n",
       "    <tr>\n",
       "      <th>4</th>\n",
       "      <td>ri-bristol-0101</td>\n",
       "      <td>ri-bristol-0101,ri-providence-1016</td>\n",
       "    </tr>\n",
       "  </tbody>\n",
       "</table>\n",
       "</div>"
      ],
      "text/plain": [
       "             CName                           Neighbors\n",
       "0                A                                   b\n",
       "1  ri-bristol-0101     ri-bristol-0101,ri-bristol-0102\n",
       "2  ri-bristol-0101     ri-bristol-0101,ri-bristol-0104\n",
       "3  ri-bristol-0101  ri-bristol-0101,ri-providence-1013\n",
       "4  ri-bristol-0101  ri-bristol-0101,ri-providence-1016"
      ]
     },
     "execution_count": 117,
     "metadata": {},
     "output_type": "execute_result"
    }
   ],
   "source": [
    "new_df.head()"
   ]
  },
  {
   "cell_type": "code",
   "execution_count": 118,
   "metadata": {},
   "outputs": [],
   "source": [
    "new_df.drop(index=0, inplace=True)"
   ]
  },
  {
   "cell_type": "code",
   "execution_count": 119,
   "metadata": {},
   "outputs": [],
   "source": [
    "new_df.sort_values([\"CName\"], inplace=True, ignore_index=True)"
   ]
  },
  {
   "cell_type": "code",
   "execution_count": 120,
   "metadata": {},
   "outputs": [
    {
     "data": {
      "text/html": [
       "<div>\n",
       "<style scoped>\n",
       "    .dataframe tbody tr th:only-of-type {\n",
       "        vertical-align: middle;\n",
       "    }\n",
       "\n",
       "    .dataframe tbody tr th {\n",
       "        vertical-align: top;\n",
       "    }\n",
       "\n",
       "    .dataframe thead th {\n",
       "        text-align: right;\n",
       "    }\n",
       "</style>\n",
       "<table border=\"1\" class=\"dataframe\">\n",
       "  <thead>\n",
       "    <tr style=\"text-align: right;\">\n",
       "      <th></th>\n",
       "      <th>CName</th>\n",
       "      <th>Neighbors</th>\n",
       "    </tr>\n",
       "  </thead>\n",
       "  <tbody>\n",
       "    <tr>\n",
       "      <th>0</th>\n",
       "      <td>ri-bristol-0101</td>\n",
       "      <td>ri-bristol-0101,ri-bristol-0102</td>\n",
       "    </tr>\n",
       "    <tr>\n",
       "      <th>1</th>\n",
       "      <td>ri-bristol-0101</td>\n",
       "      <td>ri-bristol-0101,ri-bristol-0104</td>\n",
       "    </tr>\n",
       "    <tr>\n",
       "      <th>2</th>\n",
       "      <td>ri-bristol-0101</td>\n",
       "      <td>ri-bristol-0101,ri-providence-1013</td>\n",
       "    </tr>\n",
       "    <tr>\n",
       "      <th>3</th>\n",
       "      <td>ri-bristol-0101</td>\n",
       "      <td>ri-bristol-0101,ri-providence-1016</td>\n",
       "    </tr>\n",
       "    <tr>\n",
       "      <th>4</th>\n",
       "      <td>ri-bristol-0101</td>\n",
       "      <td>ri-bristol-0101,ri-providence-1017</td>\n",
       "    </tr>\n",
       "  </tbody>\n",
       "</table>\n",
       "</div>"
      ],
      "text/plain": [
       "             CName                           Neighbors\n",
       "0  ri-bristol-0101     ri-bristol-0101,ri-bristol-0102\n",
       "1  ri-bristol-0101     ri-bristol-0101,ri-bristol-0104\n",
       "2  ri-bristol-0101  ri-bristol-0101,ri-providence-1013\n",
       "3  ri-bristol-0101  ri-bristol-0101,ri-providence-1016\n",
       "4  ri-bristol-0101  ri-bristol-0101,ri-providence-1017"
      ]
     },
     "execution_count": 120,
     "metadata": {},
     "output_type": "execute_result"
    }
   ],
   "source": [
    "new_df.head()"
   ]
  },
  {
   "cell_type": "code",
   "execution_count": 121,
   "metadata": {},
   "outputs": [
    {
     "name": "stdout",
     "output_type": "stream",
     "text": [
      "2352\n"
     ]
    }
   ],
   "source": [
    "print(len(new_df))"
   ]
  },
  {
   "cell_type": "code",
   "execution_count": 125,
   "metadata": {},
   "outputs": [],
   "source": [
    "new_df.to_csv(\"RI_Neighbors_Parsed.csv\")"
   ]
  },
  {
   "cell_type": "code",
   "execution_count": null,
   "metadata": {},
   "outputs": [],
   "source": []
  },
  {
   "cell_type": "code",
   "execution_count": null,
   "metadata": {},
   "outputs": [],
   "source": []
  }
 ],
 "metadata": {
  "kernelspec": {
   "display_name": "myenv",
   "language": "python",
   "name": "myenv"
  },
  "language_info": {
   "codemirror_mode": {
    "name": "ipython",
    "version": 3
   },
   "file_extension": ".py",
   "mimetype": "text/x-python",
   "name": "python",
   "nbconvert_exporter": "python",
   "pygments_lexer": "ipython3",
   "version": "3.7.7"
  }
 },
 "nbformat": 4,
 "nbformat_minor": 4
}
