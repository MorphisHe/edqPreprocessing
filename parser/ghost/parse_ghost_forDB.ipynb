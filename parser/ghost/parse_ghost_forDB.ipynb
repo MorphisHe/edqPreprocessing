{
 "cells": [
  {
   "cell_type": "code",
   "execution_count": 1,
   "metadata": {},
   "outputs": [
    {
     "name": "stdout",
     "output_type": "stream",
     "text": [
      "TX_Ghost.json           parse_ghost_forDB.ipynb\r\n"
     ]
    }
   ],
   "source": [
    "!ls"
   ]
  },
  {
   "cell_type": "code",
   "execution_count": 10,
   "metadata": {},
   "outputs": [],
   "source": [
    "import geopandas as gpd\n",
    "from shapely import geometry"
   ]
  },
  {
   "cell_type": "markdown",
   "metadata": {},
   "source": [
    "# parse TX ghost"
   ]
  },
  {
   "cell_type": "code",
   "execution_count": 6,
   "metadata": {},
   "outputs": [
    {
     "data": {
      "text/html": [
       "<div>\n",
       "<style scoped>\n",
       "    .dataframe tbody tr th:only-of-type {\n",
       "        vertical-align: middle;\n",
       "    }\n",
       "\n",
       "    .dataframe tbody tr th {\n",
       "        vertical-align: top;\n",
       "    }\n",
       "\n",
       "    .dataframe thead th {\n",
       "        text-align: right;\n",
       "    }\n",
       "</style>\n",
       "<table border=\"1\" class=\"dataframe\">\n",
       "  <thead>\n",
       "    <tr style=\"text-align: right;\">\n",
       "      <th></th>\n",
       "      <th>id</th>\n",
       "      <th>geometry</th>\n",
       "    </tr>\n",
       "  </thead>\n",
       "  <tbody>\n",
       "    <tr>\n",
       "      <th>0</th>\n",
       "      <td>tx-ghost-0</td>\n",
       "      <td>POLYGON ((-93.51492 31.02570, -93.52231 31.020...</td>\n",
       "    </tr>\n",
       "  </tbody>\n",
       "</table>\n",
       "</div>"
      ],
      "text/plain": [
       "           id                                           geometry\n",
       "0  tx-ghost-0  POLYGON ((-93.51492 31.02570, -93.52231 31.020..."
      ]
     },
     "execution_count": 6,
     "metadata": {},
     "output_type": "execute_result"
    }
   ],
   "source": [
    "gdf = gpd.read_file(\"TX_Ghost.json\")\n",
    "gdf.drop([\"index\"], axis=1, inplace=True)\n",
    "gdf.head(1)"
   ]
  },
  {
   "cell_type": "code",
   "execution_count": 11,
   "metadata": {},
   "outputs": [],
   "source": [
    "Polygon = geometry.polygon.Polygon\n",
    "MultiPolygon = geometry.multipolygon.MultiPolygon"
   ]
  },
  {
   "cell_type": "code",
   "execution_count": 12,
   "metadata": {},
   "outputs": [],
   "source": [
    "def parse(gdf, arg_i, arg_shape_id, arg_polygon_id):\n",
    "    columns = [\"geovertex_id\", \"shape_id\", \"polygon_id\", \"ghost_id\", \"x_pos\", \"y_pos\"]\n",
    "    df = pd.DataFrame(columns=columns)\n",
    "\n",
    "    counter = 0\n",
    "    i = arg_i\n",
    "    shape_id = arg_shape_id\n",
    "    polygon_id = arg_polygon_id\n",
    "\n",
    "    for index, row in gdf.iterrows():\n",
    "        # for visualization only\n",
    "        if counter%15==0:\n",
    "            print(\" {:.2f}% \".format(counter/len(gdf)*100), end=\"\")\n",
    "        else:\n",
    "            print(\"#\", end=\"\")\n",
    "\n",
    "        cur_shape = row[\"geometry\"]\n",
    "        cur_type = type(cur_shape)\n",
    "\n",
    "        row = row.drop([\"geometry\"])\n",
    "        cur_row = row\n",
    "        cur_row[\"shape_id\"] = shape_id\n",
    "        shape_id += 1\n",
    "\n",
    "        if cur_type == MultiPolygon:\n",
    "            for polygon in cur_shape:\n",
    "                cur_row[\"polygon_id\"] = polygon_id\n",
    "                polygon_id += 1\n",
    "                for coords in polygon.exterior.coords:\n",
    "                    cur_row[\"geovertex_id\"] = i\n",
    "                    i += 1\n",
    "                    cur_row[\"x_pos\"] = coords[0]\n",
    "                    cur_row[\"y_pos\"] = coords[1]\n",
    "                    df = df.append(cur_row, ignore_index=True)\n",
    "                    cur_row = row\n",
    "        elif cur_type == Polygon:\n",
    "            cur_row[\"polygon_id\"] = polygon_id\n",
    "            polygon_id += 1\n",
    "            for coords in cur_shape.exterior.coords:\n",
    "                cur_row[\"geovertex_id\"] = i\n",
    "                i += 1\n",
    "                cur_row[\"x_pos\"] = coords[0]\n",
    "                cur_row[\"y_pos\"] = coords[1]\n",
    "                df = df.append(cur_row, ignore_index=True)\n",
    "                cur_row = row\n",
    "        counter += 1\n",
    "        \n",
    "    return df"
   ]
  },
  {
   "cell_type": "code",
   "execution_count": null,
   "metadata": {},
   "outputs": [],
   "source": [
    "next_i, next_shape, next_poly = 12000000, 1, 22000 \n",
    "\n",
    "# parsing\n",
    "gdf_Parsed = parse(gdf, arg_i=next_i, arg_shape_id=next_shape, arg_polygon_id=next_poly)\n",
    "\n",
    "# saving the result\n",
    "gdf_Parsed.to_csv(\"TX_Ghost_Parsed.csv\")\n",
    "\n",
    "next_i = gdf_Parsed.iloc[-1][\"geovertex_id\"] + 1\n",
    "next_shape = gdf_Parsed.iloc[-1][\"shape_id\"] + 1\n",
    "next_poly = gdf_Parsed.iloc[-1][\"polygon_id\"] + 1\n",
    "print(\"\\nLast row id: geo:{}, shape:{}, poly:{}\".format(gdf_Parsed.iloc[-1][\"geovertex_id\"],\n",
    "                                                     gdf_Parsed.iloc[-1][\"shape_id\"],\n",
    "                                                     gdf_Parsed.iloc[-1][\"polygon_id\"]))\n",
    "print(\"Next id: geo:{}, shape:{}, poly:{}\".format(next_i, next_shape, next_poly))"
   ]
  },
  {
   "cell_type": "markdown",
   "metadata": {},
   "source": [
    "# parse VA ghost"
   ]
  },
  {
   "cell_type": "code",
   "execution_count": 6,
   "metadata": {},
   "outputs": [
    {
     "data": {
      "text/html": [
       "<div>\n",
       "<style scoped>\n",
       "    .dataframe tbody tr th:only-of-type {\n",
       "        vertical-align: middle;\n",
       "    }\n",
       "\n",
       "    .dataframe tbody tr th {\n",
       "        vertical-align: top;\n",
       "    }\n",
       "\n",
       "    .dataframe thead th {\n",
       "        text-align: right;\n",
       "    }\n",
       "</style>\n",
       "<table border=\"1\" class=\"dataframe\">\n",
       "  <thead>\n",
       "    <tr style=\"text-align: right;\">\n",
       "      <th></th>\n",
       "      <th>id</th>\n",
       "      <th>geometry</th>\n",
       "    </tr>\n",
       "  </thead>\n",
       "  <tbody>\n",
       "    <tr>\n",
       "      <th>0</th>\n",
       "      <td>tx-ghost-0</td>\n",
       "      <td>POLYGON ((-93.51492 31.02570, -93.52231 31.020...</td>\n",
       "    </tr>\n",
       "  </tbody>\n",
       "</table>\n",
       "</div>"
      ],
      "text/plain": [
       "           id                                           geometry\n",
       "0  tx-ghost-0  POLYGON ((-93.51492 31.02570, -93.52231 31.020..."
      ]
     },
     "execution_count": 6,
     "metadata": {},
     "output_type": "execute_result"
    }
   ],
   "source": [
    "gdf = gpd.read_file(\"VA_Ghost.json\")\n",
    "gdf.drop([\"index\"], axis=1, inplace=True)\n",
    "gdf.head(1)"
   ]
  },
  {
   "cell_type": "code",
   "execution_count": null,
   "metadata": {},
   "outputs": [],
   "source": [
    "next_i, next_shape, next_poly = 12000000, 1, 22000 \n",
    "\n",
    "# parsing\n",
    "gdf_Parsed = parse(gdf, arg_i=next_i, arg_shape_id=next_shape, arg_polygon_id=next_poly)\n",
    "\n",
    "# saving the result\n",
    "gdf_Parsed.to_csv(\"VA_Ghost_Parsed.csv\")\n",
    "\n",
    "next_i = gdf_Parsed.iloc[-1][\"geovertex_id\"] + 1\n",
    "next_shape = gdf_Parsed.iloc[-1][\"shape_id\"] + 1\n",
    "next_poly = gdf_Parsed.iloc[-1][\"polygon_id\"] + 1\n",
    "print(\"\\nLast row id: geo:{}, shape:{}, poly:{}\".format(gdf_Parsed.iloc[-1][\"geovertex_id\"],\n",
    "                                                     gdf_Parsed.iloc[-1][\"shape_id\"],\n",
    "                                                     gdf_Parsed.iloc[-1][\"polygon_id\"]))\n",
    "print(\"Next id: geo:{}, shape:{}, poly:{}\".format(next_i, next_shape, next_poly))"
   ]
  },
  {
   "cell_type": "markdown",
   "metadata": {},
   "source": [
    "# parse RI ghost"
   ]
  },
  {
   "cell_type": "code",
   "execution_count": 6,
   "metadata": {},
   "outputs": [
    {
     "data": {
      "text/html": [
       "<div>\n",
       "<style scoped>\n",
       "    .dataframe tbody tr th:only-of-type {\n",
       "        vertical-align: middle;\n",
       "    }\n",
       "\n",
       "    .dataframe tbody tr th {\n",
       "        vertical-align: top;\n",
       "    }\n",
       "\n",
       "    .dataframe thead th {\n",
       "        text-align: right;\n",
       "    }\n",
       "</style>\n",
       "<table border=\"1\" class=\"dataframe\">\n",
       "  <thead>\n",
       "    <tr style=\"text-align: right;\">\n",
       "      <th></th>\n",
       "      <th>id</th>\n",
       "      <th>geometry</th>\n",
       "    </tr>\n",
       "  </thead>\n",
       "  <tbody>\n",
       "    <tr>\n",
       "      <th>0</th>\n",
       "      <td>tx-ghost-0</td>\n",
       "      <td>POLYGON ((-93.51492 31.02570, -93.52231 31.020...</td>\n",
       "    </tr>\n",
       "  </tbody>\n",
       "</table>\n",
       "</div>"
      ],
      "text/plain": [
       "           id                                           geometry\n",
       "0  tx-ghost-0  POLYGON ((-93.51492 31.02570, -93.52231 31.020..."
      ]
     },
     "execution_count": 6,
     "metadata": {},
     "output_type": "execute_result"
    }
   ],
   "source": [
    "gdf = gpd.read_file(\"RI_Ghost.json\")\n",
    "gdf.drop([\"index\"], axis=1, inplace=True)\n",
    "gdf.head(1)"
   ]
  },
  {
   "cell_type": "code",
   "execution_count": null,
   "metadata": {},
   "outputs": [],
   "source": [
    "next_i, next_shape, next_poly = 12000000, 1, 22000 \n",
    "\n",
    "# parsing\n",
    "gdf_Parsed = parse(gdf, arg_i=next_i, arg_shape_id=next_shape, arg_polygon_id=next_poly)\n",
    "\n",
    "# saving the result\n",
    "gdf_Parsed.to_csv(\"VA_Ghost_Parsed.csv\")\n",
    "\n",
    "next_i = gdf_Parsed.iloc[-1][\"geovertex_id\"] + 1\n",
    "next_shape = gdf_Parsed.iloc[-1][\"shape_id\"] + 1\n",
    "next_poly = gdf_Parsed.iloc[-1][\"polygon_id\"] + 1\n",
    "print(\"\\nLast row id: geo:{}, shape:{}, poly:{}\".format(gdf_Parsed.iloc[-1][\"geovertex_id\"],\n",
    "                                                     gdf_Parsed.iloc[-1][\"shape_id\"],\n",
    "                                                     gdf_Parsed.iloc[-1][\"polygon_id\"]))\n",
    "print(\"Next id: geo:{}, shape:{}, poly:{}\".format(next_i, next_shape, next_poly))"
   ]
  }
 ],
 "metadata": {
  "kernelspec": {
   "display_name": "myenv",
   "language": "python",
   "name": "myenv"
  },
  "language_info": {
   "codemirror_mode": {
    "name": "ipython",
    "version": 3
   },
   "file_extension": ".py",
   "mimetype": "text/x-python",
   "name": "python",
   "nbconvert_exporter": "python",
   "pygments_lexer": "ipython3",
   "version": "3.7.7"
  }
 },
 "nbformat": 4,
 "nbformat_minor": 4
}
