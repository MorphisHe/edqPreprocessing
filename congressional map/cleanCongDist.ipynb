{
 "cells": [
  {
   "cell_type": "code",
   "execution_count": 3,
   "metadata": {},
   "outputs": [],
   "source": [
    "import geopandas as gpd"
   ]
  },
  {
   "cell_type": "code",
   "execution_count": 4,
   "metadata": {},
   "outputs": [],
   "source": [
    "gdf = gpd.read_file(\"CongDist.json\")"
   ]
  },
  {
   "cell_type": "code",
   "execution_count": 5,
   "metadata": {},
   "outputs": [
    {
     "data": {
      "text/html": [
       "<div>\n",
       "<style scoped>\n",
       "    .dataframe tbody tr th:only-of-type {\n",
       "        vertical-align: middle;\n",
       "    }\n",
       "\n",
       "    .dataframe tbody tr th {\n",
       "        vertical-align: top;\n",
       "    }\n",
       "\n",
       "    .dataframe thead th {\n",
       "        text-align: right;\n",
       "    }\n",
       "</style>\n",
       "<table border=\"1\" class=\"dataframe\">\n",
       "  <thead>\n",
       "    <tr style=\"text-align: right;\">\n",
       "      <th></th>\n",
       "      <th>STATEFP</th>\n",
       "      <th>CD116FP</th>\n",
       "      <th>AFFGEOID</th>\n",
       "      <th>GEOID</th>\n",
       "      <th>LSAD</th>\n",
       "      <th>CDSESSN</th>\n",
       "      <th>ALAND</th>\n",
       "      <th>AWATER</th>\n",
       "      <th>geometry</th>\n",
       "    </tr>\n",
       "  </thead>\n",
       "  <tbody>\n",
       "    <tr>\n",
       "      <th>0</th>\n",
       "      <td>17</td>\n",
       "      <td>10</td>\n",
       "      <td>5001600US1710</td>\n",
       "      <td>1710</td>\n",
       "      <td>C2</td>\n",
       "      <td>116</td>\n",
       "      <td>777404163</td>\n",
       "      <td>31605644</td>\n",
       "      <td>POLYGON ((-87.89799 42.49388, -87.89814 42.479...</td>\n",
       "    </tr>\n",
       "    <tr>\n",
       "      <th>1</th>\n",
       "      <td>47</td>\n",
       "      <td>06</td>\n",
       "      <td>5001600US4706</td>\n",
       "      <td>4706</td>\n",
       "      <td>C2</td>\n",
       "      <td>116</td>\n",
       "      <td>16770155959</td>\n",
       "      <td>324676580</td>\n",
       "      <td>POLYGON ((-87.11498 36.64241, -87.11744 36.628...</td>\n",
       "    </tr>\n",
       "    <tr>\n",
       "      <th>2</th>\n",
       "      <td>48</td>\n",
       "      <td>06</td>\n",
       "      <td>5001600US4806</td>\n",
       "      <td>4806</td>\n",
       "      <td>C2</td>\n",
       "      <td>116</td>\n",
       "      <td>5564805243</td>\n",
       "      <td>255530191</td>\n",
       "      <td>POLYGON ((-97.32137 32.64374, -97.32177 32.643...</td>\n",
       "    </tr>\n",
       "    <tr>\n",
       "      <th>3</th>\n",
       "      <td>48</td>\n",
       "      <td>07</td>\n",
       "      <td>5001600US4807</td>\n",
       "      <td>4807</td>\n",
       "      <td>C2</td>\n",
       "      <td>116</td>\n",
       "      <td>419784487</td>\n",
       "      <td>3069802</td>\n",
       "      <td>POLYGON ((-95.58480 29.93299, -95.58895 29.930...</td>\n",
       "    </tr>\n",
       "    <tr>\n",
       "      <th>4</th>\n",
       "      <td>48</td>\n",
       "      <td>26</td>\n",
       "      <td>5001600US4826</td>\n",
       "      <td>4826</td>\n",
       "      <td>C2</td>\n",
       "      <td>116</td>\n",
       "      <td>2349987793</td>\n",
       "      <td>191353567</td>\n",
       "      <td>POLYGON ((-97.39267 33.18351, -97.39359 33.153...</td>\n",
       "    </tr>\n",
       "  </tbody>\n",
       "</table>\n",
       "</div>"
      ],
      "text/plain": [
       "  STATEFP CD116FP       AFFGEOID GEOID LSAD CDSESSN        ALAND     AWATER  \\\n",
       "0      17      10  5001600US1710  1710   C2     116    777404163   31605644   \n",
       "1      47      06  5001600US4706  4706   C2     116  16770155959  324676580   \n",
       "2      48      06  5001600US4806  4806   C2     116   5564805243  255530191   \n",
       "3      48      07  5001600US4807  4807   C2     116    419784487    3069802   \n",
       "4      48      26  5001600US4826  4826   C2     116   2349987793  191353567   \n",
       "\n",
       "                                            geometry  \n",
       "0  POLYGON ((-87.89799 42.49388, -87.89814 42.479...  \n",
       "1  POLYGON ((-87.11498 36.64241, -87.11744 36.628...  \n",
       "2  POLYGON ((-97.32137 32.64374, -97.32177 32.643...  \n",
       "3  POLYGON ((-95.58480 29.93299, -95.58895 29.930...  \n",
       "4  POLYGON ((-97.39267 33.18351, -97.39359 33.153...  "
      ]
     },
     "execution_count": 5,
     "metadata": {},
     "output_type": "execute_result"
    }
   ],
   "source": [
    "gdf.head()"
   ]
  },
  {
   "cell_type": "code",
   "execution_count": 6,
   "metadata": {},
   "outputs": [
    {
     "data": {
      "text/plain": [
       "441"
      ]
     },
     "execution_count": 6,
     "metadata": {},
     "output_type": "execute_result"
    }
   ],
   "source": [
    "len(gdf)"
   ]
  },
  {
   "cell_type": "code",
   "execution_count": 7,
   "metadata": {},
   "outputs": [
    {
     "data": {
      "text/html": [
       "<div>\n",
       "<style scoped>\n",
       "    .dataframe tbody tr th:only-of-type {\n",
       "        vertical-align: middle;\n",
       "    }\n",
       "\n",
       "    .dataframe tbody tr th {\n",
       "        vertical-align: top;\n",
       "    }\n",
       "\n",
       "    .dataframe thead th {\n",
       "        text-align: right;\n",
       "    }\n",
       "</style>\n",
       "<table border=\"1\" class=\"dataframe\">\n",
       "  <thead>\n",
       "    <tr style=\"text-align: right;\">\n",
       "      <th></th>\n",
       "      <th>STATEFP</th>\n",
       "      <th>geometry</th>\n",
       "    </tr>\n",
       "  </thead>\n",
       "  <tbody>\n",
       "    <tr>\n",
       "      <th>0</th>\n",
       "      <td>17</td>\n",
       "      <td>POLYGON ((-87.89799 42.49388, -87.89814 42.479...</td>\n",
       "    </tr>\n",
       "    <tr>\n",
       "      <th>1</th>\n",
       "      <td>47</td>\n",
       "      <td>POLYGON ((-87.11498 36.64241, -87.11744 36.628...</td>\n",
       "    </tr>\n",
       "    <tr>\n",
       "      <th>2</th>\n",
       "      <td>48</td>\n",
       "      <td>POLYGON ((-97.32137 32.64374, -97.32177 32.643...</td>\n",
       "    </tr>\n",
       "    <tr>\n",
       "      <th>3</th>\n",
       "      <td>48</td>\n",
       "      <td>POLYGON ((-95.58480 29.93299, -95.58895 29.930...</td>\n",
       "    </tr>\n",
       "    <tr>\n",
       "      <th>4</th>\n",
       "      <td>48</td>\n",
       "      <td>POLYGON ((-97.39267 33.18351, -97.39359 33.153...</td>\n",
       "    </tr>\n",
       "  </tbody>\n",
       "</table>\n",
       "</div>"
      ],
      "text/plain": [
       "  STATEFP                                           geometry\n",
       "0      17  POLYGON ((-87.89799 42.49388, -87.89814 42.479...\n",
       "1      47  POLYGON ((-87.11498 36.64241, -87.11744 36.628...\n",
       "2      48  POLYGON ((-97.32137 32.64374, -97.32177 32.643...\n",
       "3      48  POLYGON ((-95.58480 29.93299, -95.58895 29.930...\n",
       "4      48  POLYGON ((-97.39267 33.18351, -97.39359 33.153..."
      ]
     },
     "execution_count": 7,
     "metadata": {},
     "output_type": "execute_result"
    }
   ],
   "source": [
    "c = list(gdf.columns)\n",
    "c.remove(\"geometry\")\n",
    "c.remove(\"STATEFP\")\n",
    "gdf.drop(columns=c, inplace=True, axis=1)\n",
    "gdf.head()"
   ]
  },
  {
   "cell_type": "markdown",
   "metadata": {},
   "source": [
    "# filter, ri=44, tx=48, va=51"
   ]
  },
  {
   "cell_type": "code",
   "execution_count": 8,
   "metadata": {},
   "outputs": [],
   "source": [
    "fips = [\"44\", \"48\", \"51\"]"
   ]
  },
  {
   "cell_type": "code",
   "execution_count": 9,
   "metadata": {},
   "outputs": [],
   "source": [
    "stateGDF = []\n",
    "for fip in fips:\n",
    "    stateGDF.append(gdf[gdf[\"STATEFP\"] == fip])"
   ]
  },
  {
   "cell_type": "code",
   "execution_count": 10,
   "metadata": {},
   "outputs": [
    {
     "data": {
      "text/plain": [
       "<matplotlib.axes._subplots.AxesSubplot at 0x1136ce1d0>"
      ]
     },
     "execution_count": 10,
     "metadata": {},
     "output_type": "execute_result"
    },
    {
     "data": {
      "image/png": "[encoded data removed]",
      "text/plain": [
       "<Figure size 432x288 with 1 Axes>"
      ]
     },
     "metadata": {
      "needs_background": "light"
     },
     "output_type": "display_data"
    }
   ],
   "source": [
    "stateGDF[0].plot()"
   ]
  },
  {
   "cell_type": "code",
   "execution_count": 11,
   "metadata": {},
   "outputs": [
    {
     "data": {
      "text/plain": [
       "<matplotlib.axes._subplots.AxesSubplot at 0x113eaaa10>"
      ]
     },
     "execution_count": 11,
     "metadata": {},
     "output_type": "execute_result"
    },
    {
     "data": {
      "image/png": "[encoded data removed]",
      "text/plain": [
       "<Figure size 432x288 with 1 Axes>"
      ]
     },
     "metadata": {
      "needs_background": "light"
     },
     "output_type": "display_data"
    }
   ],
   "source": [
    "stateGDF[1].plot()"
   ]
  },
  {
   "cell_type": "code",
   "execution_count": 12,
   "metadata": {},
   "outputs": [
    {
     "data": {
      "text/plain": [
       "<matplotlib.axes._subplots.AxesSubplot at 0x11441e2d0>"
      ]
     },
     "execution_count": 12,
     "metadata": {},
     "output_type": "execute_result"
    },
    {
     "data": {
      "image/png": "[encoded data removed]",
      "text/plain": [
       "<Figure size 432x288 with 1 Axes>"
      ]
     },
     "metadata": {
      "needs_background": "light"
     },
     "output_type": "display_data"
    }
   ],
   "source": [
    "stateGDF[2].plot()"
   ]
  },
  {
   "cell_type": "code",
   "execution_count": 13,
   "metadata": {},
   "outputs": [],
   "source": [
    "ids = {\"RI\":stateGDF[0], \"TX\":stateGDF[1], \"VA\":stateGDF[2]}\n",
    "for i, gdf in ids.items():\n",
    "    gdf.to_file(i+\"_Congressional_Border.json\", driver=\"GeoJSON\")"
   ]
  },
  {
   "cell_type": "code",
   "execution_count": null,
   "metadata": {},
   "outputs": [],
   "source": []
  }
 ],
 "metadata": {
  "kernelspec": {
   "display_name": "myenv",
   "language": "python",
   "name": "myenv"
  },
  "language_info": {
   "codemirror_mode": {
    "name": "ipython",
    "version": 3
   },
   "file_extension": ".py",
   "mimetype": "text/x-python",
   "name": "python",
   "nbconvert_exporter": "python",
   "pygments_lexer": "ipython3",
   "version": "3.7.7"
  }
 },
 "nbformat": 4,
 "nbformat_minor": 4
}
