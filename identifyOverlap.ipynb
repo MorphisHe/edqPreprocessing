{
 "cells": [
  {
   "cell_type": "code",
   "execution_count": 1,
   "metadata": {},
   "outputs": [],
   "source": [
    "import geopandas as gpd"
   ]
  },
  {
   "cell_type": "code",
   "execution_count": 2,
   "metadata": {},
   "outputs": [],
   "source": [
    "gdf = gpd.read_file(\"all_states_precincts_cname_neighbor_demo_OG_anomalous.json\")"
   ]
  },
  {
   "cell_type": "code",
   "execution_count": 3,
   "metadata": {},
   "outputs": [
    {
     "data": {
      "text/html": [
       "<div>\n",
       "<style scoped>\n",
       "    .dataframe tbody tr th:only-of-type {\n",
       "        vertical-align: middle;\n",
       "    }\n",
       "\n",
       "    .dataframe tbody tr th {\n",
       "        vertical-align: top;\n",
       "    }\n",
       "\n",
       "    .dataframe thead th {\n",
       "        text-align: right;\n",
       "    }\n",
       "</style>\n",
       "<table border=\"1\" class=\"dataframe\">\n",
       "  <thead>\n",
       "    <tr style=\"text-align: right;\">\n",
       "      <th></th>\n",
       "      <th>County</th>\n",
       "      <th>Precinct #</th>\n",
       "      <th>Hillary Clinton/Dem</th>\n",
       "      <th>Donald J. Trump/Rep</th>\n",
       "      <th>Gary Johnson/Lib</th>\n",
       "      <th>Jill Stein/Grn</th>\n",
       "      <th>Other/Other</th>\n",
       "      <th>Total Votes</th>\n",
       "      <th>State</th>\n",
       "      <th>CName</th>\n",
       "      <th>...</th>\n",
       "      <th>Total Population</th>\n",
       "      <th>White</th>\n",
       "      <th>Black or African American</th>\n",
       "      <th>American Indian</th>\n",
       "      <th>Asian</th>\n",
       "      <th>Other Population</th>\n",
       "      <th>MissingVote</th>\n",
       "      <th>MissingDemo</th>\n",
       "      <th>VoteDemoConflict</th>\n",
       "      <th>geometry</th>\n",
       "    </tr>\n",
       "  </thead>\n",
       "  <tbody>\n",
       "    <tr>\n",
       "      <th>0</th>\n",
       "      <td>Bristol</td>\n",
       "      <td>0101</td>\n",
       "      <td>1027</td>\n",
       "      <td>522</td>\n",
       "      <td>60</td>\n",
       "      <td>23</td>\n",
       "      <td>2</td>\n",
       "      <td>1634</td>\n",
       "      <td>ri</td>\n",
       "      <td>ri-bristol-0101</td>\n",
       "      <td>...</td>\n",
       "      <td>3268</td>\n",
       "      <td>3055</td>\n",
       "      <td>23</td>\n",
       "      <td>3</td>\n",
       "      <td>110</td>\n",
       "      <td>73</td>\n",
       "      <td>None</td>\n",
       "      <td>None</td>\n",
       "      <td>None</td>\n",
       "      <td>POLYGON ((-71.32270 41.77270, -71.32270 41.772...</td>\n",
       "    </tr>\n",
       "  </tbody>\n",
       "</table>\n",
       "<p>1 rows × 21 columns</p>\n",
       "</div>"
      ],
      "text/plain": [
       "    County Precinct # Hillary Clinton/Dem Donald J. Trump/Rep  \\\n",
       "0  Bristol       0101                1027                 522   \n",
       "\n",
       "  Gary Johnson/Lib Jill Stein/Grn Other/Other Total Votes State  \\\n",
       "0               60             23           2        1634    ri   \n",
       "\n",
       "             CName  ... Total Population  White  Black or African American  \\\n",
       "0  ri-bristol-0101  ...             3268   3055                         23   \n",
       "\n",
       "   American Indian  Asian  Other Population  MissingVote MissingDemo  \\\n",
       "0                3    110                73         None        None   \n",
       "\n",
       "  VoteDemoConflict                                           geometry  \n",
       "0             None  POLYGON ((-71.32270 41.77270, -71.32270 41.772...  \n",
       "\n",
       "[1 rows x 21 columns]"
      ]
     },
     "execution_count": 3,
     "metadata": {},
     "output_type": "execute_result"
    }
   ],
   "source": [
    "gdf.head(1)"
   ]
  },
  {
   "cell_type": "code",
   "execution_count": 4,
   "metadata": {},
   "outputs": [],
   "source": [
    "c = list(gdf.columns)\n",
    "c.remove(\"CName\")\n",
    "c.remove(\"State\")\n",
    "c.remove(\"geometry\")\n",
    "c.remove(\"Neighbors\")\n",
    "gdf.drop(columns=c, inplace=True, axis=1)"
   ]
  },
  {
   "cell_type": "code",
   "execution_count": 5,
   "metadata": {},
   "outputs": [],
   "source": [
    "copy = gdf.copy()"
   ]
  },
  {
   "cell_type": "markdown",
   "metadata": {},
   "source": [
    "# 15. Identify overlapping precincts (required) (sequence diagram not required)\n",
    "- Identify pairs of precincts for which one or more edges of one precinct intersect with edges of the\n",
    "other precinct. \n",
    "- Do not identify abutting edges where the edges represent a common border between the precincts. \n",
    "- Precinct edges of adjacent precincts are considered coincident if they are within 200 feet. \n",
    "- Store the associated data in the errors data structure for subsequent addition to the DB.\n",
    "- .to_crs(\"EPSG:3857\") meters\n",
    "- .to_crs(\"EPSG:4326\") real world\n",
    "- 60.96 meters = 200 feet"
   ]
  },
  {
   "cell_type": "code",
   "execution_count": 20,
   "metadata": {},
   "outputs": [],
   "source": [
    "ri = gdf[gdf[\"State\"] == \"ri\"]\n",
    "va = gdf[gdf[\"State\"] == \"va\"]\n",
    "tx = gdf[gdf[\"State\"] == \"tx\"]"
   ]
  },
  {
   "cell_type": "code",
   "execution_count": 21,
   "metadata": {},
   "outputs": [],
   "source": [
    "gdfMap = {}\n",
    "\n",
    "def checkRepeat(gdf, CName1, CName2):\n",
    "    cname1GDF = gdf[gdf[\"CName1\"] == CName1]\n",
    "    bothGDF = cname1GDF[cname1GDF[\"CName2\"] == CName2]\n",
    "    if len(bothGDF):\n",
    "        return True\n",
    "    else:\n",
    "        return False\n",
    "\n",
    "def detectOverlap(gdf, ID):\n",
    "    print(\"\\nStarting\", ID)\n",
    "    \n",
    "    gdf_shrink = gdf.to_crs(\"EPSG:3857\")\n",
    "    gdf_shrink[\"shrink\"] = gdf_shrink[\"geometry\"].buffer(-30.48) # shrink by 100 feet\n",
    "    gdf_shrink.set_geometry(\"shrink\", drop=True, inplace=True)\n",
    "    gdf_shrink = gdf_shrink.to_crs(\"EPSG:4326\")\n",
    "    \n",
    "    # create new gdf\n",
    "    newgdf = gpd.GeoDataFrame(columns=[\"CName1\", \"CName2\", \"OverlappingRegion\"])\n",
    "    newgdf.set_geometry(\"OverlappingRegion\", inplace=True)\n",
    "    \n",
    "    # detect overlap based on neighbors\n",
    "    # only keep cnames, and find overlap region with unshrinked gdf\n",
    "    for index, row in gdf_shrink.iterrows():\n",
    "        if row[\"Neighbors\"] != \"\":\n",
    "            cur_geometry = row[\"geometry\"]\n",
    "            neighbors = row[\"Neighbors\"].split(\";\")\n",
    "            neighbors = [n.strip().split(\",\")[1] for n in neighbors]\n",
    "\n",
    "            for n in neighbors:\n",
    "                cur_neighbor = gdf.at[gdf[gdf[\"CName\"] == n].index.to_list()[0], \"geometry\"]\n",
    "                # check if interesect\n",
    "                if cur_geometry.intersects(cur_neighbor) and not checkRepeat(newgdf, row[\"CName\"], n):\n",
    "                    newgdf = newgdf.append({\"CName1\": row[\"CName\"], \"CName2\": n, \"OverlappingRegion\": \"\"}, ignore_index=True)\n",
    "                    print(\"#\", end=\"\")\n",
    "                    \n",
    "    # fill in overlapping region\n",
    "    for index, row in newgdf.iterrows():\n",
    "        poly1 = gdf.at[gdf[gdf[\"CName\"] == row[\"CName1\"]].index.to_list()[0], \"geometry\"]\n",
    "        poly2 = gdf.at[gdf[gdf[\"CName\"] == row[\"CName2\"]].index.to_list()[0], \"geometry\"]\n",
    "        \n",
    "        # intersection\n",
    "        overlappingRegion = poly1.intersection(poly2)\n",
    "        newgdf.at[index, \"OverlappingRegion\"] = overlappingRegion\n",
    "        \n",
    "                \n",
    "    gdfMap[ID] = newgdf"
   ]
  },
  {
   "cell_type": "code",
   "execution_count": 67,
   "metadata": {},
   "outputs": [
    {
     "name": "stdout",
     "output_type": "stream",
     "text": [
      "\n",
      "Starting ri\n"
     ]
    }
   ],
   "source": [
    "detectOverlap(ri, \"ri\")"
   ]
  },
  {
   "cell_type": "code",
   "execution_count": 22,
   "metadata": {},
   "outputs": [
    {
     "name": "stdout",
     "output_type": "stream",
     "text": [
      "\n",
      "Starting va\n",
      "############################################################################################################################################################################################################################################################################################################################################################################################################################################################################################################################################################################################################################################################################################################################################################################################################################################################################################################################################################################################################"
     ]
    }
   ],
   "source": [
    "detectOverlap(va, \"va\")"
   ]
  },
  {
   "cell_type": "code",
   "execution_count": 69,
   "metadata": {},
   "outputs": [
    {
     "name": "stdout",
     "output_type": "stream",
     "text": [
      "\n",
      "Starting tx\n"
     ]
    }
   ],
   "source": [
    "detectOverlap(tx, \"tx\")"
   ]
  },
  {
   "cell_type": "code",
   "execution_count": 23,
   "metadata": {},
   "outputs": [
    {
     "data": {
      "text/html": [
       "<div>\n",
       "<style scoped>\n",
       "    .dataframe tbody tr th:only-of-type {\n",
       "        vertical-align: middle;\n",
       "    }\n",
       "\n",
       "    .dataframe tbody tr th {\n",
       "        vertical-align: top;\n",
       "    }\n",
       "\n",
       "    .dataframe thead th {\n",
       "        text-align: right;\n",
       "    }\n",
       "</style>\n",
       "<table border=\"1\" class=\"dataframe\">\n",
       "  <thead>\n",
       "    <tr style=\"text-align: right;\">\n",
       "      <th></th>\n",
       "      <th>CName1</th>\n",
       "      <th>CName2</th>\n",
       "      <th>OverlappingRegion</th>\n",
       "    </tr>\n",
       "  </thead>\n",
       "  <tbody>\n",
       "    <tr>\n",
       "      <th>0</th>\n",
       "      <td>va-albemarle-0021</td>\n",
       "      <td>va-charlottesvillecity-0354</td>\n",
       "      <td>(POLYGON ((-78.46687719188455 38.0678170661552...</td>\n",
       "    </tr>\n",
       "    <tr>\n",
       "      <th>1</th>\n",
       "      <td>va-albemarle-0022</td>\n",
       "      <td>va-augusta-0169</td>\n",
       "      <td>(POLYGON ((-78.83475472557971 38.0500266186691...</td>\n",
       "    </tr>\n",
       "    <tr>\n",
       "      <th>2</th>\n",
       "      <td>va-albemarle-0022</td>\n",
       "      <td>va-nelson-1504</td>\n",
       "      <td>POLYGON ((-78.80658482041333 37.99216843425849...</td>\n",
       "    </tr>\n",
       "    <tr>\n",
       "      <th>3</th>\n",
       "      <td>va-albemarle-0023</td>\n",
       "      <td>va-charlottesvillecity-0347</td>\n",
       "      <td>(POLYGON ((-78.50560724653202 38.0103808583571...</td>\n",
       "    </tr>\n",
       "    <tr>\n",
       "      <th>4</th>\n",
       "      <td>va-albemarle-0025</td>\n",
       "      <td>va-rockingham-2049</td>\n",
       "      <td>(POLYGON ((-78.74943338471822 38.2065889869396...</td>\n",
       "    </tr>\n",
       "  </tbody>\n",
       "</table>\n",
       "</div>"
      ],
      "text/plain": [
       "              CName1                       CName2  \\\n",
       "0  va-albemarle-0021  va-charlottesvillecity-0354   \n",
       "1  va-albemarle-0022              va-augusta-0169   \n",
       "2  va-albemarle-0022               va-nelson-1504   \n",
       "3  va-albemarle-0023  va-charlottesvillecity-0347   \n",
       "4  va-albemarle-0025           va-rockingham-2049   \n",
       "\n",
       "                                   OverlappingRegion  \n",
       "0  (POLYGON ((-78.46687719188455 38.0678170661552...  \n",
       "1  (POLYGON ((-78.83475472557971 38.0500266186691...  \n",
       "2  POLYGON ((-78.80658482041333 37.99216843425849...  \n",
       "3  (POLYGON ((-78.50560724653202 38.0103808583571...  \n",
       "4  (POLYGON ((-78.74943338471822 38.2065889869396...  "
      ]
     },
     "execution_count": 23,
     "metadata": {},
     "output_type": "execute_result"
    }
   ],
   "source": [
    "gdfMap[\"va\"].head()"
   ]
  },
  {
   "cell_type": "code",
   "execution_count": 24,
   "metadata": {},
   "outputs": [
    {
     "data": {
      "text/plain": [
       "<matplotlib.axes._subplots.AxesSubplot at 0x116ce5ad0>"
      ]
     },
     "execution_count": 24,
     "metadata": {},
     "output_type": "execute_result"
    },
    {
     "data": {
      "image/png": "[encoded data removed]",
      "text/plain": [
       "<Figure size 1296x936 with 1 Axes>"
      ]
     },
     "metadata": {
      "needs_background": "light"
     },
     "output_type": "display_data"
    }
   ],
   "source": [
    "gdfMap[\"va\"].plot(figsize=(18, 13))"
   ]
  },
  {
   "cell_type": "code",
   "execution_count": 26,
   "metadata": {},
   "outputs": [],
   "source": [
    "vaOverlap = gdfMap[\"va\"]"
   ]
  },
  {
   "cell_type": "code",
   "execution_count": 29,
   "metadata": {},
   "outputs": [
    {
     "data": {
      "text/html": [
       "<div>\n",
       "<style scoped>\n",
       "    .dataframe tbody tr th:only-of-type {\n",
       "        vertical-align: middle;\n",
       "    }\n",
       "\n",
       "    .dataframe tbody tr th {\n",
       "        vertical-align: top;\n",
       "    }\n",
       "\n",
       "    .dataframe thead th {\n",
       "        text-align: right;\n",
       "    }\n",
       "</style>\n",
       "<table border=\"1\" class=\"dataframe\">\n",
       "  <thead>\n",
       "    <tr style=\"text-align: right;\">\n",
       "      <th></th>\n",
       "      <th>CName1</th>\n",
       "      <th>CName2</th>\n",
       "      <th>OverlappingRegion</th>\n",
       "      <th>ID</th>\n",
       "    </tr>\n",
       "  </thead>\n",
       "  <tbody>\n",
       "    <tr>\n",
       "      <th>0</th>\n",
       "      <td>va-albemarle-0021</td>\n",
       "      <td>va-charlottesvillecity-0354</td>\n",
       "      <td>(POLYGON ((-78.46687719188455 38.0678170661552...</td>\n",
       "      <td>va-overlap-0</td>\n",
       "    </tr>\n",
       "    <tr>\n",
       "      <th>1</th>\n",
       "      <td>va-albemarle-0022</td>\n",
       "      <td>va-augusta-0169</td>\n",
       "      <td>(POLYGON ((-78.83475472557971 38.0500266186691...</td>\n",
       "      <td>va-overlap-1</td>\n",
       "    </tr>\n",
       "  </tbody>\n",
       "</table>\n",
       "</div>"
      ],
      "text/plain": [
       "              CName1                       CName2  \\\n",
       "0  va-albemarle-0021  va-charlottesvillecity-0354   \n",
       "1  va-albemarle-0022              va-augusta-0169   \n",
       "\n",
       "                                   OverlappingRegion            ID  \n",
       "0  (POLYGON ((-78.46687719188455 38.0678170661552...  va-overlap-0  \n",
       "1  (POLYGON ((-78.83475472557971 38.0500266186691...  va-overlap-1  "
      ]
     },
     "execution_count": 29,
     "metadata": {},
     "output_type": "execute_result"
    }
   ],
   "source": [
    "i = 0\n",
    "vaOverlap[\"ID\"] = \"\"\n",
    "for index, row in vaOverlap.iterrows():\n",
    "    vaOverlap.at[index, \"ID\"] = \"va-overlap-\" + str(i)\n",
    "    i += 1\n",
    "vaOverlap.head(2)"
   ]
  },
  {
   "cell_type": "code",
   "execution_count": 30,
   "metadata": {},
   "outputs": [],
   "source": [
    "vaOverlap.to_file(\"VA_Overlap.json\", driver=\"GeoJSON\")"
   ]
  },
  {
   "cell_type": "code",
   "execution_count": null,
   "metadata": {},
   "outputs": [],
   "source": []
  }
 ],
 "metadata": {
  "kernelspec": {
   "display_name": "myenv",
   "language": "python",
   "name": "myenv"
  },
  "language_info": {
   "codemirror_mode": {
    "name": "ipython",
    "version": 3
   },
   "file_extension": ".py",
   "mimetype": "text/x-python",
   "name": "python",
   "nbconvert_exporter": "python",
   "pygments_lexer": "ipython3",
   "version": "3.7.7"
  }
 },
 "nbformat": 4,
 "nbformat_minor": 4
}
