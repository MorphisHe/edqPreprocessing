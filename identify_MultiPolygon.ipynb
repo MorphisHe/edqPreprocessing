{
 "cells": [
  {
   "cell_type": "code",
   "execution_count": 1,
   "metadata": {},
   "outputs": [],
   "source": [
    "import geopandas as gpd\n",
    "import pandas as pd"
   ]
  },
  {
   "cell_type": "code",
   "execution_count": 14,
   "metadata": {},
   "outputs": [],
   "source": [
    "gdf = gpd.read_file(\"all_states_precincts_cname_neighbor_demo_OG.json\")"
   ]
  },
  {
   "cell_type": "code",
   "execution_count": 15,
   "metadata": {},
   "outputs": [
    {
     "data": {
      "text/html": [
       "<div>\n",
       "<style scoped>\n",
       "    .dataframe tbody tr th:only-of-type {\n",
       "        vertical-align: middle;\n",
       "    }\n",
       "\n",
       "    .dataframe tbody tr th {\n",
       "        vertical-align: top;\n",
       "    }\n",
       "\n",
       "    .dataframe thead th {\n",
       "        text-align: right;\n",
       "    }\n",
       "</style>\n",
       "<table border=\"1\" class=\"dataframe\">\n",
       "  <thead>\n",
       "    <tr style=\"text-align: right;\">\n",
       "      <th></th>\n",
       "      <th>County</th>\n",
       "      <th>Precinct #</th>\n",
       "      <th>Hillary Clinton/Dem</th>\n",
       "      <th>Donald J. Trump/Rep</th>\n",
       "      <th>Gary Johnson/Lib</th>\n",
       "      <th>Jill Stein/Grn</th>\n",
       "      <th>Other/Other</th>\n",
       "      <th>Total Votes</th>\n",
       "      <th>State</th>\n",
       "      <th>CName</th>\n",
       "      <th>Neighbors</th>\n",
       "      <th>Total Population</th>\n",
       "      <th>White</th>\n",
       "      <th>Black or African American</th>\n",
       "      <th>American Indian</th>\n",
       "      <th>Asian</th>\n",
       "      <th>Other Population</th>\n",
       "      <th>geometry</th>\n",
       "    </tr>\n",
       "  </thead>\n",
       "  <tbody>\n",
       "    <tr>\n",
       "      <th>0</th>\n",
       "      <td>Bristol</td>\n",
       "      <td>0101</td>\n",
       "      <td>1027</td>\n",
       "      <td>522</td>\n",
       "      <td>60</td>\n",
       "      <td>23</td>\n",
       "      <td>2</td>\n",
       "      <td>1634</td>\n",
       "      <td>ri</td>\n",
       "      <td>ri-bristol-0101</td>\n",
       "      <td>ri-bristol-0101,ri-bristol-0102; ri-bristol-01...</td>\n",
       "      <td>3268</td>\n",
       "      <td>3055</td>\n",
       "      <td>23</td>\n",
       "      <td>3</td>\n",
       "      <td>110</td>\n",
       "      <td>73</td>\n",
       "      <td>POLYGON ((-71.32270 41.77270, -71.32270 41.772...</td>\n",
       "    </tr>\n",
       "    <tr>\n",
       "      <th>1</th>\n",
       "      <td>Bristol</td>\n",
       "      <td>0102</td>\n",
       "      <td>1331</td>\n",
       "      <td>683</td>\n",
       "      <td>68</td>\n",
       "      <td>21</td>\n",
       "      <td>3</td>\n",
       "      <td>2106</td>\n",
       "      <td>ri</td>\n",
       "      <td>ri-bristol-0102</td>\n",
       "      <td>ri-bristol-0102,ri-bristol-0101; ri-bristol-01...</td>\n",
       "      <td>2921</td>\n",
       "      <td>2740</td>\n",
       "      <td>18</td>\n",
       "      <td>3</td>\n",
       "      <td>85</td>\n",
       "      <td>70</td>\n",
       "      <td>MULTIPOLYGON (((-71.35581 41.74533, -71.35560 ...</td>\n",
       "    </tr>\n",
       "  </tbody>\n",
       "</table>\n",
       "</div>"
      ],
      "text/plain": [
       "    County Precinct # Hillary Clinton/Dem Donald J. Trump/Rep  \\\n",
       "0  Bristol       0101                1027                 522   \n",
       "1  Bristol       0102                1331                 683   \n",
       "\n",
       "  Gary Johnson/Lib Jill Stein/Grn Other/Other Total Votes State  \\\n",
       "0               60             23           2        1634    ri   \n",
       "1               68             21           3        2106    ri   \n",
       "\n",
       "             CName                                          Neighbors  \\\n",
       "0  ri-bristol-0101  ri-bristol-0101,ri-bristol-0102; ri-bristol-01...   \n",
       "1  ri-bristol-0102  ri-bristol-0102,ri-bristol-0101; ri-bristol-01...   \n",
       "\n",
       "   Total Population  White  Black or African American  American Indian  Asian  \\\n",
       "0              3268   3055                         23                3    110   \n",
       "1              2921   2740                         18                3     85   \n",
       "\n",
       "   Other Population                                           geometry  \n",
       "0                73  POLYGON ((-71.32270 41.77270, -71.32270 41.772...  \n",
       "1                70  MULTIPOLYGON (((-71.35581 41.74533, -71.35560 ...  "
      ]
     },
     "execution_count": 15,
     "metadata": {},
     "output_type": "execute_result"
    }
   ],
   "source": [
    "gdf.head(2)"
   ]
  },
  {
   "cell_type": "code",
   "execution_count": 16,
   "metadata": {},
   "outputs": [
    {
     "data": {
      "text/html": [
       "<div>\n",
       "<style scoped>\n",
       "    .dataframe tbody tr th:only-of-type {\n",
       "        vertical-align: middle;\n",
       "    }\n",
       "\n",
       "    .dataframe tbody tr th {\n",
       "        vertical-align: top;\n",
       "    }\n",
       "\n",
       "    .dataframe thead th {\n",
       "        text-align: right;\n",
       "    }\n",
       "</style>\n",
       "<table border=\"1\" class=\"dataframe\">\n",
       "  <thead>\n",
       "    <tr style=\"text-align: right;\">\n",
       "      <th></th>\n",
       "      <th>State</th>\n",
       "      <th>CName</th>\n",
       "      <th>geometry</th>\n",
       "    </tr>\n",
       "  </thead>\n",
       "  <tbody>\n",
       "    <tr>\n",
       "      <th>0</th>\n",
       "      <td>ri</td>\n",
       "      <td>ri-bristol-0101</td>\n",
       "      <td>POLYGON ((-71.32270 41.77270, -71.32270 41.772...</td>\n",
       "    </tr>\n",
       "    <tr>\n",
       "      <th>1</th>\n",
       "      <td>ri</td>\n",
       "      <td>ri-bristol-0102</td>\n",
       "      <td>MULTIPOLYGON (((-71.35581 41.74533, -71.35560 ...</td>\n",
       "    </tr>\n",
       "  </tbody>\n",
       "</table>\n",
       "</div>"
      ],
      "text/plain": [
       "  State            CName                                           geometry\n",
       "0    ri  ri-bristol-0101  POLYGON ((-71.32270 41.77270, -71.32270 41.772...\n",
       "1    ri  ri-bristol-0102  MULTIPOLYGON (((-71.35581 41.74533, -71.35560 ..."
      ]
     },
     "execution_count": 16,
     "metadata": {},
     "output_type": "execute_result"
    }
   ],
   "source": [
    "c = list(gdf.columns)\n",
    "c.remove(\"geometry\")\n",
    "c.remove(\"CName\")\n",
    "c.remove(\"State\")\n",
    "gdf.drop(columns=c, inplace=True, axis=1)\n",
    "gdf.head(2)"
   ]
  },
  {
   "cell_type": "code",
   "execution_count": 19,
   "metadata": {},
   "outputs": [
    {
     "data": {
      "text/html": [
       "<div>\n",
       "<style scoped>\n",
       "    .dataframe tbody tr th:only-of-type {\n",
       "        vertical-align: middle;\n",
       "    }\n",
       "\n",
       "    .dataframe tbody tr th {\n",
       "        vertical-align: top;\n",
       "    }\n",
       "\n",
       "    .dataframe thead th {\n",
       "        text-align: right;\n",
       "    }\n",
       "</style>\n",
       "<table border=\"1\" class=\"dataframe\">\n",
       "  <thead>\n",
       "    <tr style=\"text-align: right;\">\n",
       "      <th></th>\n",
       "      <th>State</th>\n",
       "      <th>y_pos</th>\n",
       "      <th>CName</th>\n",
       "      <th>x_pos</th>\n",
       "    </tr>\n",
       "  </thead>\n",
       "  <tbody>\n",
       "  </tbody>\n",
       "</table>\n",
       "</div>"
      ],
      "text/plain": [
       "Empty DataFrame\n",
       "Columns: [State, y_pos, CName, x_pos]\n",
       "Index: []"
      ]
     },
     "execution_count": 19,
     "metadata": {},
     "output_type": "execute_result"
    }
   ],
   "source": [
    "newgdf = pd.DataFrame(columns={\"State\", \"CName\", \"x_pos\", \"y_pos\"})\n",
    "newgdf"
   ]
  },
  {
   "cell_type": "code",
   "execution_count": 20,
   "metadata": {},
   "outputs": [],
   "source": [
    "for index, row in gdf.iterrows():\n",
    "    x, y = \"\", \"\"\n",
    "    if row[\"geometry\"].geom_type == \"MultiPolygon\":\n",
    "        biggest_area = 0\n",
    "        for shape in row[\"geometry\"]:\n",
    "            if shape.area > biggest_area:\n",
    "                x, y = shape.centroid.coords[0] \n",
    "                biggest_area = shape.area\n",
    "        \n",
    "        newgdf = newgdf.append({\"State\":row[\"State\"], \"CName\":row[\"CName\"], \"x_pos\":x, \"y_pos\":y}, ignore_index=True)"
   ]
  },
  {
   "cell_type": "code",
   "execution_count": 21,
   "metadata": {},
   "outputs": [
    {
     "data": {
      "text/html": [
       "<div>\n",
       "<style scoped>\n",
       "    .dataframe tbody tr th:only-of-type {\n",
       "        vertical-align: middle;\n",
       "    }\n",
       "\n",
       "    .dataframe tbody tr th {\n",
       "        vertical-align: top;\n",
       "    }\n",
       "\n",
       "    .dataframe thead th {\n",
       "        text-align: right;\n",
       "    }\n",
       "</style>\n",
       "<table border=\"1\" class=\"dataframe\">\n",
       "  <thead>\n",
       "    <tr style=\"text-align: right;\">\n",
       "      <th></th>\n",
       "      <th>State</th>\n",
       "      <th>y_pos</th>\n",
       "      <th>CName</th>\n",
       "      <th>x_pos</th>\n",
       "    </tr>\n",
       "  </thead>\n",
       "  <tbody>\n",
       "    <tr>\n",
       "      <th>0</th>\n",
       "      <td>ri</td>\n",
       "      <td>41.745035</td>\n",
       "      <td>ri-bristol-0102</td>\n",
       "      <td>-71.335621</td>\n",
       "    </tr>\n",
       "    <tr>\n",
       "      <th>1</th>\n",
       "      <td>ri</td>\n",
       "      <td>41.759840</td>\n",
       "      <td>ri-bristol-0104</td>\n",
       "      <td>-71.305247</td>\n",
       "    </tr>\n",
       "    <tr>\n",
       "      <th>2</th>\n",
       "      <td>ri</td>\n",
       "      <td>41.720414</td>\n",
       "      <td>ri-bristol-0105</td>\n",
       "      <td>-71.300874</td>\n",
       "    </tr>\n",
       "    <tr>\n",
       "      <th>3</th>\n",
       "      <td>ri</td>\n",
       "      <td>41.680992</td>\n",
       "      <td>ri-bristol-0206</td>\n",
       "      <td>-71.254415</td>\n",
       "    </tr>\n",
       "    <tr>\n",
       "      <th>4</th>\n",
       "      <td>ri</td>\n",
       "      <td>41.729413</td>\n",
       "      <td>ri-bristol-3401</td>\n",
       "      <td>-71.274858</td>\n",
       "    </tr>\n",
       "  </tbody>\n",
       "</table>\n",
       "</div>"
      ],
      "text/plain": [
       "  State      y_pos            CName      x_pos\n",
       "0    ri  41.745035  ri-bristol-0102 -71.335621\n",
       "1    ri  41.759840  ri-bristol-0104 -71.305247\n",
       "2    ri  41.720414  ri-bristol-0105 -71.300874\n",
       "3    ri  41.680992  ri-bristol-0206 -71.254415\n",
       "4    ri  41.729413  ri-bristol-3401 -71.274858"
      ]
     },
     "execution_count": 21,
     "metadata": {},
     "output_type": "execute_result"
    }
   ],
   "source": [
    "newgdf.head()"
   ]
  },
  {
   "cell_type": "code",
   "execution_count": 23,
   "metadata": {},
   "outputs": [],
   "source": [
    "newgdf.to_csv(\"multipolygonError.csv\", index=False)"
   ]
  },
  {
   "cell_type": "code",
   "execution_count": null,
   "metadata": {},
   "outputs": [],
   "source": []
  }
 ],
 "metadata": {
  "kernelspec": {
   "display_name": "myenv",
   "language": "python",
   "name": "myenv"
  },
  "language_info": {
   "codemirror_mode": {
    "name": "ipython",
    "version": 3
   },
   "file_extension": ".py",
   "mimetype": "text/x-python",
   "name": "python",
   "nbconvert_exporter": "python",
   "pygments_lexer": "ipython3",
   "version": "3.7.7"
  }
 },
 "nbformat": 4,
 "nbformat_minor": 4
}
