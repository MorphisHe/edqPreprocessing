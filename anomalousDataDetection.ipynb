{
 "cells": [
  {
   "cell_type": "code",
   "execution_count": 152,
   "metadata": {},
   "outputs": [],
   "source": [
    "import geopandas as gpd\n",
    "import pandas as pd"
   ]
  },
  {
   "cell_type": "code",
   "execution_count": 153,
   "metadata": {},
   "outputs": [],
   "source": [
    "gdf = gpd.read_file(\"all_states_precincts_cname_neighbor_demo_OG_anomalous_fixNeighborVA.json\")\n",
    "copy = gdf.copy()"
   ]
  },
  {
   "cell_type": "code",
   "execution_count": 154,
   "metadata": {},
   "outputs": [
    {
     "data": {
      "text/html": [
       "<div>\n",
       "<style scoped>\n",
       "    .dataframe tbody tr th:only-of-type {\n",
       "        vertical-align: middle;\n",
       "    }\n",
       "\n",
       "    .dataframe tbody tr th {\n",
       "        vertical-align: top;\n",
       "    }\n",
       "\n",
       "    .dataframe thead th {\n",
       "        text-align: right;\n",
       "    }\n",
       "</style>\n",
       "<table border=\"1\" class=\"dataframe\">\n",
       "  <thead>\n",
       "    <tr style=\"text-align: right;\">\n",
       "      <th></th>\n",
       "      <th>County</th>\n",
       "      <th>Precinct #</th>\n",
       "      <th>Hillary Clinton/Dem</th>\n",
       "      <th>Donald J. Trump/Rep</th>\n",
       "      <th>Gary Johnson/Lib</th>\n",
       "      <th>Jill Stein/Grn</th>\n",
       "      <th>Other/Other</th>\n",
       "      <th>Total Votes</th>\n",
       "      <th>State</th>\n",
       "      <th>CName</th>\n",
       "      <th>...</th>\n",
       "      <th>Total Population</th>\n",
       "      <th>White</th>\n",
       "      <th>Black or African American</th>\n",
       "      <th>American Indian</th>\n",
       "      <th>Asian</th>\n",
       "      <th>Other Population</th>\n",
       "      <th>MissingVote</th>\n",
       "      <th>MissingDemo</th>\n",
       "      <th>VoteDemoConflict</th>\n",
       "      <th>geometry</th>\n",
       "    </tr>\n",
       "  </thead>\n",
       "  <tbody>\n",
       "    <tr>\n",
       "      <th>0</th>\n",
       "      <td>Accomack</td>\n",
       "      <td>0001</td>\n",
       "      <td>486</td>\n",
       "      <td>637</td>\n",
       "      <td>16</td>\n",
       "      <td>8</td>\n",
       "      <td>4</td>\n",
       "      <td>2328</td>\n",
       "      <td>va</td>\n",
       "      <td>va-accomack-0001</td>\n",
       "      <td>...</td>\n",
       "      <td>3526</td>\n",
       "      <td>2336</td>\n",
       "      <td>906</td>\n",
       "      <td>12</td>\n",
       "      <td>20</td>\n",
       "      <td>246</td>\n",
       "      <td>None</td>\n",
       "      <td>None</td>\n",
       "      <td>None</td>\n",
       "      <td>POLYGON ((-75.66233 37.77053, -75.66244 37.770...</td>\n",
       "    </tr>\n",
       "  </tbody>\n",
       "</table>\n",
       "<p>1 rows × 21 columns</p>\n",
       "</div>"
      ],
      "text/plain": [
       "     County Precinct # Hillary Clinton/Dem Donald J. Trump/Rep  \\\n",
       "0  Accomack       0001                 486                 637   \n",
       "\n",
       "  Gary Johnson/Lib Jill Stein/Grn Other/Other Total Votes State  \\\n",
       "0               16              8           4        2328    va   \n",
       "\n",
       "              CName  ... Total Population  White  Black or African American  \\\n",
       "0  va-accomack-0001  ...             3526   2336                        906   \n",
       "\n",
       "   American Indian  Asian  Other Population  MissingVote MissingDemo  \\\n",
       "0               12     20               246         None        None   \n",
       "\n",
       "  VoteDemoConflict                                           geometry  \n",
       "0             None  POLYGON ((-75.66233 37.77053, -75.66244 37.770...  \n",
       "\n",
       "[1 rows x 21 columns]"
      ]
     },
     "execution_count": 154,
     "metadata": {},
     "output_type": "execute_result"
    }
   ],
   "source": [
    "gdf.head(1)"
   ]
  },
  {
   "cell_type": "code",
   "execution_count": 155,
   "metadata": {},
   "outputs": [
    {
     "data": {
      "text/plain": [
       "11947"
      ]
     },
     "execution_count": 155,
     "metadata": {},
     "output_type": "execute_result"
    }
   ],
   "source": [
    "len(gdf)"
   ]
  },
  {
   "cell_type": "code",
   "execution_count": 156,
   "metadata": {},
   "outputs": [],
   "source": [
    "vaCong16 = pd.read_csv(\"VA/voting/congressional/VA_Congressional2016_Cleaned_Mapped_Final.csv\")\n",
    "vaCong18 = pd.read_csv(\"VA/voting/congressional/VA_Congressional2018_Cleaned_Mapped_Final.csv\")\n",
    "riCong16 = pd.read_csv(\"RI/voting/congresional/RI_Congressional_2016.csv\")\n",
    "riCong18 = pd.read_csv(\"RI/voting/congresional/RI_Congressional_2018.csv\")\n",
    "txCong16 = pd.read_csv(\"TX/voting/congressional/TX_Congressional_2016_Cleaned.csv\")\n",
    "txCong18 = pd.read_csv(\"TX/voting/congressional/TX_Congressional_2018_Cleaned.csv\")"
   ]
  },
  {
   "cell_type": "code",
   "execution_count": 157,
   "metadata": {},
   "outputs": [],
   "source": [
    "# add independent to  all others in vaCong\n",
    "vaDFs = [vaCong16, vaCong18]\n",
    "for df in vaDFs:\n",
    "    for index, row in df.iterrows():\n",
    "        df.at[index, \"All Others\"] = row[\"All Others\"] + row[\"Independent\"]\n",
    "    df.drop(columns=[\"Independent\"], axis=1, inplace=True)"
   ]
  },
  {
   "cell_type": "code",
   "execution_count": 158,
   "metadata": {},
   "outputs": [],
   "source": [
    "mapper16 = {\"Republican\": \"Cong16Rep\", \"Democratic\": \"Cong16Dem\", \"Libertarian\": \"Cong16Lib\", \"Green\":\"Cong16Grn\"}\n",
    "mapper18 = {\"Republican\": \"Cong18Rep\", \"Democratic\": \"Cong18Dem\", \"Libertarian\": \"Cong18Lib\", \"Green\":\"Cong18Grn\"}\n",
    "vaCong16.rename(mapper16, inplace=True, axis=1)\n",
    "vaCong18.rename(mapper18, inplace=True, axis=1)"
   ]
  },
  {
   "cell_type": "code",
   "execution_count": 159,
   "metadata": {},
   "outputs": [],
   "source": [
    "mapper = {\"Cong18Indep\": \"Cong18Grn\"}\n",
    "txCong18.rename(mapper, inplace=True, axis=1)"
   ]
  },
  {
   "cell_type": "code",
   "execution_count": 160,
   "metadata": {},
   "outputs": [],
   "source": [
    "mapper16 = {\"Independent\":\"Cong16Lib\", \"Republican\": \"Cong16Rep\", \"Democratic\": \"Cong16Dem\"}\n",
    "mapper18 = {\"Independent\":\"Cong18Lib\", \"Republican\": \"Cong18Rep\", \"Democratic\": \"Cong18Dem\"}\n",
    "riCong16.rename(mapper16, inplace=True, axis=1)\n",
    "riCong18.rename(mapper18, inplace=True, axis=1)\n",
    "riCong16[\"Cong16Grn\"] = 0\n",
    "riCong18[\"Cong18Grn\"] = 0"
   ]
  },
  {
   "cell_type": "code",
   "execution_count": null,
   "metadata": {},
   "outputs": [],
   "source": []
  },
  {
   "cell_type": "markdown",
   "metadata": {},
   "source": [
    "# texas cong18 is missing a cname"
   ]
  },
  {
   "cell_type": "code",
   "execution_count": 161,
   "metadata": {},
   "outputs": [],
   "source": [
    "c1 = list(txCong16[\"CName\"].unique())\n",
    "c2 = list(txCong18[\"CName\"].unique())\n",
    "cgdf = list(gdf[gdf[\"State\"] == \"tx\"][\"CName\"].unique())"
   ]
  },
  {
   "cell_type": "code",
   "execution_count": 162,
   "metadata": {},
   "outputs": [
    {
     "name": "stdout",
     "output_type": "stream",
     "text": [
      "tx-angelina-15\n"
     ]
    }
   ],
   "source": [
    "for cname in c1:\n",
    "    if cname not in c2:\n",
    "        print(cname)"
   ]
  },
  {
   "cell_type": "code",
   "execution_count": 163,
   "metadata": {},
   "outputs": [
    {
     "name": "stdout",
     "output_type": "stream",
     "text": [
      "tx-harris-845\n"
     ]
    }
   ],
   "source": [
    "for cname in c2:\n",
    "    if cname not in c1:\n",
    "        print(cname)"
   ]
  },
  {
   "cell_type": "code",
   "execution_count": 164,
   "metadata": {},
   "outputs": [
    {
     "name": "stdout",
     "output_type": "stream",
     "text": [
      "tx-harris-845\n"
     ]
    }
   ],
   "source": [
    "for cname in cgdf:\n",
    "    if cname not in c1:\n",
    "        print(cname)"
   ]
  },
  {
   "cell_type": "code",
   "execution_count": 165,
   "metadata": {},
   "outputs": [
    {
     "name": "stdout",
     "output_type": "stream",
     "text": [
      "tx-angelina-15\n"
     ]
    }
   ],
   "source": [
    "for cname in cgdf:\n",
    "    if cname not in c2:\n",
    "        print(cname)"
   ]
  },
  {
   "cell_type": "code",
   "execution_count": 166,
   "metadata": {},
   "outputs": [
    {
     "name": "stdout",
     "output_type": "stream",
     "text": [
      "9081 9081 9082 9081\n"
     ]
    }
   ],
   "source": [
    "print(len(c1), len(c2), len(txCong16), len(txCong18))"
   ]
  },
  {
   "cell_type": "code",
   "execution_count": 167,
   "metadata": {},
   "outputs": [
    {
     "data": {
      "text/html": [
       "<div>\n",
       "<style scoped>\n",
       "    .dataframe tbody tr th:only-of-type {\n",
       "        vertical-align: middle;\n",
       "    }\n",
       "\n",
       "    .dataframe tbody tr th {\n",
       "        vertical-align: top;\n",
       "    }\n",
       "\n",
       "    .dataframe thead th {\n",
       "        text-align: right;\n",
       "    }\n",
       "</style>\n",
       "<table border=\"1\" class=\"dataframe\">\n",
       "  <thead>\n",
       "    <tr style=\"text-align: right;\">\n",
       "      <th></th>\n",
       "      <th>dist</th>\n",
       "      <th>Cong16Dem</th>\n",
       "      <th>Cong16Rep</th>\n",
       "      <th>Cong16Lib</th>\n",
       "      <th>Cong16Grn</th>\n",
       "      <th>Cong16Other</th>\n",
       "      <th>Cong16Total</th>\n",
       "      <th>CName</th>\n",
       "      <th>Type</th>\n",
       "    </tr>\n",
       "  </thead>\n",
       "  <tbody>\n",
       "    <tr>\n",
       "      <th>4668</th>\n",
       "      <td>31</td>\n",
       "      <td>0.0</td>\n",
       "      <td>0.0</td>\n",
       "      <td>0.0</td>\n",
       "      <td>0.0</td>\n",
       "      <td>0.0</td>\n",
       "      <td>0.0</td>\n",
       "      <td>tx-bell-405</td>\n",
       "      <td>CONG16</td>\n",
       "    </tr>\n",
       "  </tbody>\n",
       "</table>\n",
       "</div>"
      ],
      "text/plain": [
       "      dist  Cong16Dem  Cong16Rep  Cong16Lib  Cong16Grn  Cong16Other  \\\n",
       "4668    31        0.0        0.0        0.0        0.0          0.0   \n",
       "\n",
       "      Cong16Total        CName    Type  \n",
       "4668          0.0  tx-bell-405  CONG16  "
      ]
     },
     "execution_count": 167,
     "metadata": {},
     "output_type": "execute_result"
    }
   ],
   "source": [
    "# txCong16 got duplicates\n",
    "txCong16[txCong16.duplicated([\"CName\"])]"
   ]
  },
  {
   "cell_type": "code",
   "execution_count": 168,
   "metadata": {},
   "outputs": [],
   "source": [
    "txCong16.drop(index=4668, axis=0, inplace=True)"
   ]
  },
  {
   "cell_type": "code",
   "execution_count": 169,
   "metadata": {},
   "outputs": [
    {
     "data": {
      "text/html": [
       "<div>\n",
       "<style scoped>\n",
       "    .dataframe tbody tr th:only-of-type {\n",
       "        vertical-align: middle;\n",
       "    }\n",
       "\n",
       "    .dataframe tbody tr th {\n",
       "        vertical-align: top;\n",
       "    }\n",
       "\n",
       "    .dataframe thead th {\n",
       "        text-align: right;\n",
       "    }\n",
       "</style>\n",
       "<table border=\"1\" class=\"dataframe\">\n",
       "  <thead>\n",
       "    <tr style=\"text-align: right;\">\n",
       "      <th></th>\n",
       "      <th>dist</th>\n",
       "      <th>Cong18Dem</th>\n",
       "      <th>Cong18Rep</th>\n",
       "      <th>Cong18Lib</th>\n",
       "      <th>Cong18Other</th>\n",
       "      <th>Cong18Total</th>\n",
       "      <th>Cong18Grn</th>\n",
       "      <th>CName</th>\n",
       "      <th>Type</th>\n",
       "    </tr>\n",
       "  </thead>\n",
       "  <tbody>\n",
       "    <tr>\n",
       "      <th>7</th>\n",
       "      <td>1</td>\n",
       "      <td>295</td>\n",
       "      <td>766</td>\n",
       "      <td>14</td>\n",
       "      <td>0</td>\n",
       "      <td>1075</td>\n",
       "      <td>0.0</td>\n",
       "      <td>tx-angelina-14</td>\n",
       "      <td>CONG18</td>\n",
       "    </tr>\n",
       "  </tbody>\n",
       "</table>\n",
       "</div>"
      ],
      "text/plain": [
       "   dist  Cong18Dem  Cong18Rep  Cong18Lib  Cong18Other  Cong18Total  Cong18Grn  \\\n",
       "7     1        295        766         14            0         1075        0.0   \n",
       "\n",
       "            CName    Type  \n",
       "7  tx-angelina-14  CONG18  "
      ]
     },
     "execution_count": 169,
     "metadata": {},
     "output_type": "execute_result"
    }
   ],
   "source": [
    "# add tx-angelina-15 to txCong18\n",
    "txCong18[txCong18[\"CName\"].str.contains(\"tx-angelina-14\")]"
   ]
  },
  {
   "cell_type": "code",
   "execution_count": 170,
   "metadata": {},
   "outputs": [
    {
     "data": {
      "text/plain": [
       "9082"
      ]
     },
     "execution_count": 170,
     "metadata": {},
     "output_type": "execute_result"
    }
   ],
   "source": [
    "txCong18 = txCong18.append({\"dist\": \"1\", \"Cong18Dem\":0, \"Cong18Rep\":0, \"Cong18Lib\":0,\n",
    "                \"Cong18Other\":0, \"Cong18Total\": 0, \"Cong18Grn\":0,\n",
    "                 \"CName\":\"tx-angelina-15\", \"Type\":\"CONG18\"}, ignore_index=True)\n",
    "len(txCong18)"
   ]
  },
  {
   "cell_type": "code",
   "execution_count": 171,
   "metadata": {},
   "outputs": [
    {
     "data": {
      "text/html": [
       "<div>\n",
       "<style scoped>\n",
       "    .dataframe tbody tr th:only-of-type {\n",
       "        vertical-align: middle;\n",
       "    }\n",
       "\n",
       "    .dataframe tbody tr th {\n",
       "        vertical-align: top;\n",
       "    }\n",
       "\n",
       "    .dataframe thead th {\n",
       "        text-align: right;\n",
       "    }\n",
       "</style>\n",
       "<table border=\"1\" class=\"dataframe\">\n",
       "  <thead>\n",
       "    <tr style=\"text-align: right;\">\n",
       "      <th></th>\n",
       "      <th>dist</th>\n",
       "      <th>Cong16Dem</th>\n",
       "      <th>Cong16Rep</th>\n",
       "      <th>Cong16Lib</th>\n",
       "      <th>Cong16Grn</th>\n",
       "      <th>Cong16Other</th>\n",
       "      <th>Cong16Total</th>\n",
       "      <th>CName</th>\n",
       "      <th>Type</th>\n",
       "    </tr>\n",
       "  </thead>\n",
       "  <tbody>\n",
       "    <tr>\n",
       "      <th>2738</th>\n",
       "      <td>18</td>\n",
       "      <td>76.0</td>\n",
       "      <td>1.0</td>\n",
       "      <td>0.0</td>\n",
       "      <td>3.0</td>\n",
       "      <td>0.0</td>\n",
       "      <td>80.0</td>\n",
       "      <td>tx-harris-846</td>\n",
       "      <td>CONG16</td>\n",
       "    </tr>\n",
       "  </tbody>\n",
       "</table>\n",
       "</div>"
      ],
      "text/plain": [
       "      dist  Cong16Dem  Cong16Rep  Cong16Lib  Cong16Grn  Cong16Other  \\\n",
       "2738    18       76.0        1.0        0.0        3.0          0.0   \n",
       "\n",
       "      Cong16Total          CName    Type  \n",
       "2738         80.0  tx-harris-846  CONG16  "
      ]
     },
     "execution_count": 171,
     "metadata": {},
     "output_type": "execute_result"
    }
   ],
   "source": [
    "# add tx-harris-845 to txCong16\n",
    "txCong16[txCong16[\"CName\"].str.contains(\"tx-harris-846\")]"
   ]
  },
  {
   "cell_type": "code",
   "execution_count": 172,
   "metadata": {},
   "outputs": [
    {
     "data": {
      "text/plain": [
       "9082"
      ]
     },
     "execution_count": 172,
     "metadata": {},
     "output_type": "execute_result"
    }
   ],
   "source": [
    "txCong16 = txCong16.append({\"dist\": \"29\", \"Cong16Dem\":0, \"Cong16Rep\":0, \"Cong16Lib\":0,\n",
    "                \"Cong16Other\":0, \"Cong16Total\": 0, \"Cong16Grn\":0,\n",
    "                 \"CName\":\"tx-harris-845\", \"Type\":\"CONG16\"}, ignore_index=True)\n",
    "len(txCong16)"
   ]
  },
  {
   "cell_type": "code",
   "execution_count": 173,
   "metadata": {},
   "outputs": [],
   "source": [
    "c1 = list(txCong16[\"CName\"].unique())\n",
    "c2 = list(txCong18[\"CName\"].unique())\n",
    "cgdf = list(gdf[gdf[\"State\"] == \"tx\"][\"CName\"].unique())"
   ]
  },
  {
   "cell_type": "code",
   "execution_count": 174,
   "metadata": {},
   "outputs": [],
   "source": [
    "for cname in cgdf:\n",
    "    if cname not in c1:\n",
    "        print(cname)"
   ]
  },
  {
   "cell_type": "code",
   "execution_count": 175,
   "metadata": {},
   "outputs": [],
   "source": [
    "for cname in cgdf:\n",
    "    if cname not in c2:\n",
    "        print(cname)"
   ]
  },
  {
   "cell_type": "code",
   "execution_count": null,
   "metadata": {},
   "outputs": [],
   "source": []
  },
  {
   "cell_type": "markdown",
   "metadata": {},
   "source": [
    "# after fixing tx, save the version"
   ]
  },
  {
   "cell_type": "code",
   "execution_count": 176,
   "metadata": {},
   "outputs": [],
   "source": [
    "vaCong16.to_csv(\"VA/voting/congressional/VA_Congressional2016_Cleaned_Mapped_Finalv2.csv\", index=False)\n",
    "vaCong18.to_csv(\"VA/voting/congressional/VA_Congressional2018_Cleaned_Mapped_Finalv2.csv\", index=False)\n",
    "riCong16.to_csv(\"RI/voting/congresional/RI_Congressional_2016v2.csv\", index=False)\n",
    "riCong18.to_csv(\"RI/voting/congresional/RI_Congressional_2018v2.csv\", index=False)\n",
    "txCong16.to_csv(\"TX/voting/congressional/TX_Congressional_2016_Cleanedv2.csv\", index=False)\n",
    "txCong18.to_csv(\"TX/voting/congressional/TX_Congressional_2018_Cleanedv2.csv\", index=False)"
   ]
  },
  {
   "cell_type": "code",
   "execution_count": null,
   "metadata": {},
   "outputs": [],
   "source": []
  },
  {
   "cell_type": "markdown",
   "metadata": {},
   "source": [
    "# merge cong data"
   ]
  },
  {
   "cell_type": "code",
   "execution_count": 177,
   "metadata": {},
   "outputs": [],
   "source": [
    "def merge(cong16, cong18):\n",
    "    return cong16.merge(cong18, left_on=\"CName\", right_on=\"CName\")"
   ]
  },
  {
   "cell_type": "code",
   "execution_count": 178,
   "metadata": {},
   "outputs": [
    {
     "data": {
      "text/html": [
       "<div>\n",
       "<style scoped>\n",
       "    .dataframe tbody tr th:only-of-type {\n",
       "        vertical-align: middle;\n",
       "    }\n",
       "\n",
       "    .dataframe tbody tr th {\n",
       "        vertical-align: top;\n",
       "    }\n",
       "\n",
       "    .dataframe thead th {\n",
       "        text-align: right;\n",
       "    }\n",
       "</style>\n",
       "<table border=\"1\" class=\"dataframe\">\n",
       "  <thead>\n",
       "    <tr style=\"text-align: right;\">\n",
       "      <th></th>\n",
       "      <th>Cong16Dem</th>\n",
       "      <th>Cong16Rep</th>\n",
       "      <th>Cong16Lib</th>\n",
       "      <th>Other_x</th>\n",
       "      <th>Total_x</th>\n",
       "      <th>dist_num_x</th>\n",
       "      <th>CName</th>\n",
       "      <th>Type_x</th>\n",
       "      <th>Cong16Grn</th>\n",
       "      <th>Cong18Dem</th>\n",
       "      <th>Cong18Rep</th>\n",
       "      <th>Cong18Lib</th>\n",
       "      <th>Other_y</th>\n",
       "      <th>Total_y</th>\n",
       "      <th>dist_num_y</th>\n",
       "      <th>Type_y</th>\n",
       "      <th>Cong18Grn</th>\n",
       "    </tr>\n",
       "  </thead>\n",
       "  <tbody>\n",
       "    <tr>\n",
       "      <th>0</th>\n",
       "      <td>955</td>\n",
       "      <td>627</td>\n",
       "      <td>0</td>\n",
       "      <td>3</td>\n",
       "      <td>1691</td>\n",
       "      <td>1</td>\n",
       "      <td>ri-bristol-0101</td>\n",
       "      <td>CONG16</td>\n",
       "      <td>0</td>\n",
       "      <td>916</td>\n",
       "      <td>494</td>\n",
       "      <td>0</td>\n",
       "      <td>2</td>\n",
       "      <td>1412</td>\n",
       "      <td>1</td>\n",
       "      <td>CONG18</td>\n",
       "      <td>0</td>\n",
       "    </tr>\n",
       "  </tbody>\n",
       "</table>\n",
       "</div>"
      ],
      "text/plain": [
       "   Cong16Dem  Cong16Rep  Cong16Lib  Other_x  Total_x  dist_num_x  \\\n",
       "0        955        627          0        3     1691           1   \n",
       "\n",
       "             CName  Type_x  Cong16Grn  Cong18Dem  Cong18Rep  Cong18Lib  \\\n",
       "0  ri-bristol-0101  CONG16          0        916        494          0   \n",
       "\n",
       "   Other_y  Total_y  dist_num_y  Type_y  Cong18Grn  \n",
       "0        2     1412           1  CONG18          0  "
      ]
     },
     "execution_count": 178,
     "metadata": {},
     "output_type": "execute_result"
    }
   ],
   "source": [
    "riMerged = merge(riCong16, riCong18)\n",
    "riMerged.head(1)"
   ]
  },
  {
   "cell_type": "code",
   "execution_count": 179,
   "metadata": {},
   "outputs": [
    {
     "data": {
      "text/html": [
       "<div>\n",
       "<style scoped>\n",
       "    .dataframe tbody tr th:only-of-type {\n",
       "        vertical-align: middle;\n",
       "    }\n",
       "\n",
       "    .dataframe tbody tr th {\n",
       "        vertical-align: top;\n",
       "    }\n",
       "\n",
       "    .dataframe thead th {\n",
       "        text-align: right;\n",
       "    }\n",
       "</style>\n",
       "<table border=\"1\" class=\"dataframe\">\n",
       "  <thead>\n",
       "    <tr style=\"text-align: right;\">\n",
       "      <th></th>\n",
       "      <th>Cong16Dem</th>\n",
       "      <th>Cong16Rep</th>\n",
       "      <th>Cong16Lib</th>\n",
       "      <th>Cong16Other</th>\n",
       "      <th>Cong16Total</th>\n",
       "      <th>CName</th>\n",
       "      <th>Cong16Grn</th>\n",
       "      <th>Cong18Dem</th>\n",
       "      <th>Cong18Rep</th>\n",
       "      <th>Cong18Lib</th>\n",
       "      <th>Cong18Other</th>\n",
       "      <th>Cong18Total</th>\n",
       "      <th>dist_num</th>\n",
       "      <th>Cong18Grn</th>\n",
       "    </tr>\n",
       "  </thead>\n",
       "  <tbody>\n",
       "    <tr>\n",
       "      <th>0</th>\n",
       "      <td>955</td>\n",
       "      <td>627</td>\n",
       "      <td>0</td>\n",
       "      <td>3</td>\n",
       "      <td>1691</td>\n",
       "      <td>ri-bristol-0101</td>\n",
       "      <td>0</td>\n",
       "      <td>916</td>\n",
       "      <td>494</td>\n",
       "      <td>0</td>\n",
       "      <td>2</td>\n",
       "      <td>1412</td>\n",
       "      <td>1</td>\n",
       "      <td>0</td>\n",
       "    </tr>\n",
       "    <tr>\n",
       "      <th>1</th>\n",
       "      <td>1225</td>\n",
       "      <td>790</td>\n",
       "      <td>0</td>\n",
       "      <td>3</td>\n",
       "      <td>2167</td>\n",
       "      <td>ri-bristol-0102</td>\n",
       "      <td>0</td>\n",
       "      <td>1245</td>\n",
       "      <td>558</td>\n",
       "      <td>0</td>\n",
       "      <td>8</td>\n",
       "      <td>1811</td>\n",
       "      <td>1</td>\n",
       "      <td>0</td>\n",
       "    </tr>\n",
       "  </tbody>\n",
       "</table>\n",
       "</div>"
      ],
      "text/plain": [
       "   Cong16Dem  Cong16Rep  Cong16Lib  Cong16Other  Cong16Total            CName  \\\n",
       "0        955        627          0            3         1691  ri-bristol-0101   \n",
       "1       1225        790          0            3         2167  ri-bristol-0102   \n",
       "\n",
       "   Cong16Grn  Cong18Dem  Cong18Rep  Cong18Lib  Cong18Other  Cong18Total  \\\n",
       "0          0        916        494          0            2         1412   \n",
       "1          0       1245        558          0            8         1811   \n",
       "\n",
       "   dist_num  Cong18Grn  \n",
       "0         1          0  \n",
       "1         1          0  "
      ]
     },
     "execution_count": 179,
     "metadata": {},
     "output_type": "execute_result"
    }
   ],
   "source": [
    "mapper = {\"Other_x\":\"Cong16Other\", \"Total_x\":\"Cong16Total\", \"Other_y\":\"Cong18Other\", \"Total_y\":\"Cong18Total\", \"dist_num_y\":\"dist_num\"}\n",
    "riMerged.rename(mapper, axis=1, inplace=True)\n",
    "riMerged.drop(columns=[\"dist_num_x\", \"Type_x\", \"Type_y\"], axis=1, inplace=True)\n",
    "riMerged.head(2)"
   ]
  },
  {
   "cell_type": "code",
   "execution_count": null,
   "metadata": {},
   "outputs": [],
   "source": []
  },
  {
   "cell_type": "code",
   "execution_count": 180,
   "metadata": {
    "scrolled": true
   },
   "outputs": [
    {
     "data": {
      "text/html": [
       "<div>\n",
       "<style scoped>\n",
       "    .dataframe tbody tr th:only-of-type {\n",
       "        vertical-align: middle;\n",
       "    }\n",
       "\n",
       "    .dataframe tbody tr th {\n",
       "        vertical-align: top;\n",
       "    }\n",
       "\n",
       "    .dataframe thead th {\n",
       "        text-align: right;\n",
       "    }\n",
       "</style>\n",
       "<table border=\"1\" class=\"dataframe\">\n",
       "  <thead>\n",
       "    <tr style=\"text-align: right;\">\n",
       "      <th></th>\n",
       "      <th>Cong16Rep</th>\n",
       "      <th>Cong16Dem</th>\n",
       "      <th>Cong16Lib</th>\n",
       "      <th>Cong16Grn</th>\n",
       "      <th>All Others_x</th>\n",
       "      <th>Total Votes Cast_x</th>\n",
       "      <th>dist_num_x</th>\n",
       "      <th>CName</th>\n",
       "      <th>Type_x</th>\n",
       "      <th>Cong18Rep</th>\n",
       "      <th>Cong18Dem</th>\n",
       "      <th>Cong18Lib</th>\n",
       "      <th>Cong18Grn</th>\n",
       "      <th>All Others_y</th>\n",
       "      <th>Total Votes Cast_y</th>\n",
       "      <th>dist_num_y</th>\n",
       "      <th>Type_y</th>\n",
       "    </tr>\n",
       "  </thead>\n",
       "  <tbody>\n",
       "    <tr>\n",
       "      <th>0</th>\n",
       "      <td>712</td>\n",
       "      <td>395</td>\n",
       "      <td>0</td>\n",
       "      <td>0</td>\n",
       "      <td>0</td>\n",
       "      <td>1107</td>\n",
       "      <td>2</td>\n",
       "      <td>va-accomack-0001</td>\n",
       "      <td>CONG16</td>\n",
       "      <td>533</td>\n",
       "      <td>407</td>\n",
       "      <td>0</td>\n",
       "      <td>0</td>\n",
       "      <td>0</td>\n",
       "      <td>940</td>\n",
       "      <td>2</td>\n",
       "      <td>CONG18</td>\n",
       "    </tr>\n",
       "  </tbody>\n",
       "</table>\n",
       "</div>"
      ],
      "text/plain": [
       "   Cong16Rep  Cong16Dem  Cong16Lib  Cong16Grn  All Others_x  \\\n",
       "0        712        395          0          0             0   \n",
       "\n",
       "   Total Votes Cast_x  dist_num_x             CName  Type_x  Cong18Rep  \\\n",
       "0                1107           2  va-accomack-0001  CONG16        533   \n",
       "\n",
       "   Cong18Dem  Cong18Lib  Cong18Grn  All Others_y  Total Votes Cast_y  \\\n",
       "0        407          0          0             0                 940   \n",
       "\n",
       "   dist_num_y  Type_y  \n",
       "0           2  CONG18  "
      ]
     },
     "execution_count": 180,
     "metadata": {},
     "output_type": "execute_result"
    }
   ],
   "source": [
    "vaMerged = merge(vaCong16, vaCong18)\n",
    "vaMerged.head(1)"
   ]
  },
  {
   "cell_type": "code",
   "execution_count": 181,
   "metadata": {},
   "outputs": [
    {
     "data": {
      "text/html": [
       "<div>\n",
       "<style scoped>\n",
       "    .dataframe tbody tr th:only-of-type {\n",
       "        vertical-align: middle;\n",
       "    }\n",
       "\n",
       "    .dataframe tbody tr th {\n",
       "        vertical-align: top;\n",
       "    }\n",
       "\n",
       "    .dataframe thead th {\n",
       "        text-align: right;\n",
       "    }\n",
       "</style>\n",
       "<table border=\"1\" class=\"dataframe\">\n",
       "  <thead>\n",
       "    <tr style=\"text-align: right;\">\n",
       "      <th></th>\n",
       "      <th>Cong16Rep</th>\n",
       "      <th>Cong16Dem</th>\n",
       "      <th>Cong16Lib</th>\n",
       "      <th>Cong16Grn</th>\n",
       "      <th>Cong16Other</th>\n",
       "      <th>Cong16Total</th>\n",
       "      <th>CName</th>\n",
       "      <th>Cong18Rep</th>\n",
       "      <th>Cong18Dem</th>\n",
       "      <th>Cong18Lib</th>\n",
       "      <th>Cong18Grn</th>\n",
       "      <th>Cong18Other</th>\n",
       "      <th>Cong18Total</th>\n",
       "      <th>dist_num</th>\n",
       "    </tr>\n",
       "  </thead>\n",
       "  <tbody>\n",
       "    <tr>\n",
       "      <th>0</th>\n",
       "      <td>712</td>\n",
       "      <td>395</td>\n",
       "      <td>0</td>\n",
       "      <td>0</td>\n",
       "      <td>0</td>\n",
       "      <td>1107</td>\n",
       "      <td>va-accomack-0001</td>\n",
       "      <td>533</td>\n",
       "      <td>407</td>\n",
       "      <td>0</td>\n",
       "      <td>0</td>\n",
       "      <td>0</td>\n",
       "      <td>940</td>\n",
       "      <td>2</td>\n",
       "    </tr>\n",
       "    <tr>\n",
       "      <th>1</th>\n",
       "      <td>595</td>\n",
       "      <td>126</td>\n",
       "      <td>0</td>\n",
       "      <td>0</td>\n",
       "      <td>2</td>\n",
       "      <td>723</td>\n",
       "      <td>va-accomack-0002</td>\n",
       "      <td>452</td>\n",
       "      <td>149</td>\n",
       "      <td>0</td>\n",
       "      <td>0</td>\n",
       "      <td>2</td>\n",
       "      <td>603</td>\n",
       "      <td>2</td>\n",
       "    </tr>\n",
       "  </tbody>\n",
       "</table>\n",
       "</div>"
      ],
      "text/plain": [
       "   Cong16Rep  Cong16Dem  Cong16Lib  Cong16Grn  Cong16Other  Cong16Total  \\\n",
       "0        712        395          0          0            0         1107   \n",
       "1        595        126          0          0            2          723   \n",
       "\n",
       "              CName  Cong18Rep  Cong18Dem  Cong18Lib  Cong18Grn  Cong18Other  \\\n",
       "0  va-accomack-0001        533        407          0          0            0   \n",
       "1  va-accomack-0002        452        149          0          0            2   \n",
       "\n",
       "   Cong18Total  dist_num  \n",
       "0          940         2  \n",
       "1          603         2  "
      ]
     },
     "execution_count": 181,
     "metadata": {},
     "output_type": "execute_result"
    }
   ],
   "source": [
    "mapper = {\"All Others_x\":\"Cong16Other\", \"Total Votes Cast_x\":\"Cong16Total\", \"All Others_y\":\"Cong18Other\", \"Total Votes Cast_y\":\"Cong18Total\", \"dist_num_y\":\"dist_num\"}\n",
    "vaMerged.rename(mapper, axis=1, inplace=True)\n",
    "vaMerged.drop(columns=[\"dist_num_x\", \"Type_x\", \"Type_y\"], axis=1, inplace=True)\n",
    "vaMerged.head(2)"
   ]
  },
  {
   "cell_type": "code",
   "execution_count": null,
   "metadata": {},
   "outputs": [],
   "source": []
  },
  {
   "cell_type": "code",
   "execution_count": null,
   "metadata": {},
   "outputs": [],
   "source": []
  },
  {
   "cell_type": "code",
   "execution_count": 182,
   "metadata": {},
   "outputs": [
    {
     "data": {
      "text/html": [
       "<div>\n",
       "<style scoped>\n",
       "    .dataframe tbody tr th:only-of-type {\n",
       "        vertical-align: middle;\n",
       "    }\n",
       "\n",
       "    .dataframe tbody tr th {\n",
       "        vertical-align: top;\n",
       "    }\n",
       "\n",
       "    .dataframe thead th {\n",
       "        text-align: right;\n",
       "    }\n",
       "</style>\n",
       "<table border=\"1\" class=\"dataframe\">\n",
       "  <thead>\n",
       "    <tr style=\"text-align: right;\">\n",
       "      <th></th>\n",
       "      <th>dist_x</th>\n",
       "      <th>Cong16Dem</th>\n",
       "      <th>Cong16Rep</th>\n",
       "      <th>Cong16Lib</th>\n",
       "      <th>Cong16Grn</th>\n",
       "      <th>Cong16Other</th>\n",
       "      <th>Cong16Total</th>\n",
       "      <th>CName</th>\n",
       "      <th>Type_x</th>\n",
       "      <th>dist_y</th>\n",
       "      <th>Cong18Dem</th>\n",
       "      <th>Cong18Rep</th>\n",
       "      <th>Cong18Lib</th>\n",
       "      <th>Cong18Other</th>\n",
       "      <th>Cong18Total</th>\n",
       "      <th>Cong18Grn</th>\n",
       "      <th>Type_y</th>\n",
       "    </tr>\n",
       "  </thead>\n",
       "  <tbody>\n",
       "    <tr>\n",
       "      <th>0</th>\n",
       "      <td>1</td>\n",
       "      <td>106.0</td>\n",
       "      <td>162.0</td>\n",
       "      <td>3.0</td>\n",
       "      <td>0.0</td>\n",
       "      <td>0.0</td>\n",
       "      <td>271.0</td>\n",
       "      <td>tx-angelina-1</td>\n",
       "      <td>CONG16</td>\n",
       "      <td>1</td>\n",
       "      <td>86</td>\n",
       "      <td>129</td>\n",
       "      <td>3</td>\n",
       "      <td>0</td>\n",
       "      <td>218</td>\n",
       "      <td>0.0</td>\n",
       "      <td>CONG18</td>\n",
       "    </tr>\n",
       "  </tbody>\n",
       "</table>\n",
       "</div>"
      ],
      "text/plain": [
       "  dist_x  Cong16Dem  Cong16Rep  Cong16Lib  Cong16Grn  Cong16Other  \\\n",
       "0      1      106.0      162.0        3.0        0.0          0.0   \n",
       "\n",
       "   Cong16Total          CName  Type_x dist_y  Cong18Dem  Cong18Rep  Cong18Lib  \\\n",
       "0        271.0  tx-angelina-1  CONG16      1         86        129          3   \n",
       "\n",
       "   Cong18Other  Cong18Total  Cong18Grn  Type_y  \n",
       "0            0          218        0.0  CONG18  "
      ]
     },
     "execution_count": 182,
     "metadata": {},
     "output_type": "execute_result"
    }
   ],
   "source": [
    "txMerged = merge(txCong16, txCong18)\n",
    "txMerged.head(1)"
   ]
  },
  {
   "cell_type": "code",
   "execution_count": 183,
   "metadata": {},
   "outputs": [
    {
     "data": {
      "text/html": [
       "<div>\n",
       "<style scoped>\n",
       "    .dataframe tbody tr th:only-of-type {\n",
       "        vertical-align: middle;\n",
       "    }\n",
       "\n",
       "    .dataframe tbody tr th {\n",
       "        vertical-align: top;\n",
       "    }\n",
       "\n",
       "    .dataframe thead th {\n",
       "        text-align: right;\n",
       "    }\n",
       "</style>\n",
       "<table border=\"1\" class=\"dataframe\">\n",
       "  <thead>\n",
       "    <tr style=\"text-align: right;\">\n",
       "      <th></th>\n",
       "      <th>Cong16Dem</th>\n",
       "      <th>Cong16Rep</th>\n",
       "      <th>Cong16Lib</th>\n",
       "      <th>Cong16Grn</th>\n",
       "      <th>Cong16Other</th>\n",
       "      <th>Cong16Total</th>\n",
       "      <th>CName</th>\n",
       "      <th>dist_num</th>\n",
       "      <th>Cong18Dem</th>\n",
       "      <th>Cong18Rep</th>\n",
       "      <th>Cong18Lib</th>\n",
       "      <th>Cong18Other</th>\n",
       "      <th>Cong18Total</th>\n",
       "      <th>Cong18Grn</th>\n",
       "    </tr>\n",
       "  </thead>\n",
       "  <tbody>\n",
       "    <tr>\n",
       "      <th>0</th>\n",
       "      <td>106.0</td>\n",
       "      <td>162.0</td>\n",
       "      <td>3.0</td>\n",
       "      <td>0.0</td>\n",
       "      <td>0.0</td>\n",
       "      <td>271.0</td>\n",
       "      <td>tx-angelina-1</td>\n",
       "      <td>1</td>\n",
       "      <td>86</td>\n",
       "      <td>129</td>\n",
       "      <td>3</td>\n",
       "      <td>0</td>\n",
       "      <td>218</td>\n",
       "      <td>0.0</td>\n",
       "    </tr>\n",
       "    <tr>\n",
       "      <th>1</th>\n",
       "      <td>261.0</td>\n",
       "      <td>352.0</td>\n",
       "      <td>10.0</td>\n",
       "      <td>0.0</td>\n",
       "      <td>0.0</td>\n",
       "      <td>623.0</td>\n",
       "      <td>tx-angelina-0010a</td>\n",
       "      <td>1</td>\n",
       "      <td>193</td>\n",
       "      <td>229</td>\n",
       "      <td>3</td>\n",
       "      <td>0</td>\n",
       "      <td>425</td>\n",
       "      <td>0.0</td>\n",
       "    </tr>\n",
       "  </tbody>\n",
       "</table>\n",
       "</div>"
      ],
      "text/plain": [
       "   Cong16Dem  Cong16Rep  Cong16Lib  Cong16Grn  Cong16Other  Cong16Total  \\\n",
       "0      106.0      162.0        3.0        0.0          0.0        271.0   \n",
       "1      261.0      352.0       10.0        0.0          0.0        623.0   \n",
       "\n",
       "               CName dist_num  Cong18Dem  Cong18Rep  Cong18Lib  Cong18Other  \\\n",
       "0      tx-angelina-1        1         86        129          3            0   \n",
       "1  tx-angelina-0010a        1        193        229          3            0   \n",
       "\n",
       "   Cong18Total  Cong18Grn  \n",
       "0          218        0.0  \n",
       "1          425        0.0  "
      ]
     },
     "execution_count": 183,
     "metadata": {},
     "output_type": "execute_result"
    }
   ],
   "source": [
    "mapper = {\"dist_y\":\"dist_num\"}\n",
    "txMerged.rename(mapper, axis=1, inplace=True)\n",
    "txMerged.drop(columns=[\"dist_x\", \"Type_x\", \"Type_y\"], axis=1, inplace=True)\n",
    "txMerged.head(2)"
   ]
  },
  {
   "cell_type": "code",
   "execution_count": 184,
   "metadata": {},
   "outputs": [
    {
     "data": {
      "text/html": [
       "<div>\n",
       "<style scoped>\n",
       "    .dataframe tbody tr th:only-of-type {\n",
       "        vertical-align: middle;\n",
       "    }\n",
       "\n",
       "    .dataframe tbody tr th {\n",
       "        vertical-align: top;\n",
       "    }\n",
       "\n",
       "    .dataframe thead th {\n",
       "        text-align: right;\n",
       "    }\n",
       "</style>\n",
       "<table border=\"1\" class=\"dataframe\">\n",
       "  <thead>\n",
       "    <tr style=\"text-align: right;\">\n",
       "      <th></th>\n",
       "      <th>Cong16Dem</th>\n",
       "      <th>Cong16Rep</th>\n",
       "      <th>Cong16Lib</th>\n",
       "      <th>Cong16Other</th>\n",
       "      <th>Cong16Total</th>\n",
       "      <th>CName</th>\n",
       "      <th>Cong16Grn</th>\n",
       "      <th>Cong18Dem</th>\n",
       "      <th>Cong18Rep</th>\n",
       "      <th>Cong18Lib</th>\n",
       "      <th>Cong18Other</th>\n",
       "      <th>Cong18Total</th>\n",
       "      <th>dist_num</th>\n",
       "      <th>Cong18Grn</th>\n",
       "    </tr>\n",
       "  </thead>\n",
       "  <tbody>\n",
       "    <tr>\n",
       "      <th>0</th>\n",
       "      <td>955.0</td>\n",
       "      <td>627.0</td>\n",
       "      <td>0.0</td>\n",
       "      <td>3.0</td>\n",
       "      <td>1691.0</td>\n",
       "      <td>ri-bristol-0101</td>\n",
       "      <td>0.0</td>\n",
       "      <td>916</td>\n",
       "      <td>494</td>\n",
       "      <td>0</td>\n",
       "      <td>2</td>\n",
       "      <td>1412</td>\n",
       "      <td>1</td>\n",
       "      <td>0.0</td>\n",
       "    </tr>\n",
       "  </tbody>\n",
       "</table>\n",
       "</div>"
      ],
      "text/plain": [
       "   Cong16Dem  Cong16Rep  Cong16Lib  Cong16Other  Cong16Total            CName  \\\n",
       "0      955.0      627.0        0.0          3.0       1691.0  ri-bristol-0101   \n",
       "\n",
       "   Cong16Grn  Cong18Dem  Cong18Rep  Cong18Lib  Cong18Other  Cong18Total  \\\n",
       "0        0.0        916        494          0            2         1412   \n",
       "\n",
       "  dist_num  Cong18Grn  \n",
       "0        1        0.0  "
      ]
     },
     "execution_count": 184,
     "metadata": {},
     "output_type": "execute_result"
    }
   ],
   "source": [
    "all_merged = [riMerged, vaMerged, txMerged]\n",
    "all_state_merged = pd.concat(all_merged, ignore_index=True)\n",
    "all_state_merged.head(1)"
   ]
  },
  {
   "cell_type": "markdown",
   "metadata": {},
   "source": [
    "# check if all cname in merged is also in gdf and vice versa"
   ]
  },
  {
   "cell_type": "code",
   "execution_count": 185,
   "metadata": {},
   "outputs": [],
   "source": [
    "c1 = list(gdf[\"CName\"].unique())\n",
    "c2 = list(all_state_merged[\"CName\"].unique())"
   ]
  },
  {
   "cell_type": "code",
   "execution_count": 186,
   "metadata": {},
   "outputs": [],
   "source": [
    "for cname in c1:\n",
    "    if cname not in c2:\n",
    "        print(cname)"
   ]
  },
  {
   "cell_type": "code",
   "execution_count": 187,
   "metadata": {},
   "outputs": [],
   "source": [
    "for cname in c2:\n",
    "    if cname not in c1:\n",
    "        print(cname)"
   ]
  },
  {
   "cell_type": "code",
   "execution_count": 188,
   "metadata": {},
   "outputs": [
    {
     "name": "stdout",
     "output_type": "stream",
     "text": [
      "11947 11947\n"
     ]
    }
   ],
   "source": [
    "print(len(gdf), len(all_state_merged))"
   ]
  },
  {
   "cell_type": "code",
   "execution_count": 189,
   "metadata": {},
   "outputs": [
    {
     "name": "stdout",
     "output_type": "stream",
     "text": [
      "2446 2446 2446\n"
     ]
    }
   ],
   "source": [
    "print(len(vaCong16), len(vaCong18), len(vaMerged))"
   ]
  },
  {
   "cell_type": "code",
   "execution_count": 190,
   "metadata": {},
   "outputs": [
    {
     "name": "stdout",
     "output_type": "stream",
     "text": [
      "419 419 419\n"
     ]
    }
   ],
   "source": [
    "print(len(riCong16), len(riCong18), len(riMerged))"
   ]
  },
  {
   "cell_type": "code",
   "execution_count": 191,
   "metadata": {},
   "outputs": [
    {
     "name": "stdout",
     "output_type": "stream",
     "text": [
      "9082 9082 9082\n"
     ]
    }
   ],
   "source": [
    "print(len(txCong16), len(txCong18), len(txMerged))"
   ]
  },
  {
   "cell_type": "code",
   "execution_count": null,
   "metadata": {},
   "outputs": [],
   "source": []
  },
  {
   "cell_type": "markdown",
   "metadata": {},
   "source": [
    "# merge cong to gdf"
   ]
  },
  {
   "cell_type": "code",
   "execution_count": 192,
   "metadata": {},
   "outputs": [
    {
     "data": {
      "text/html": [
       "<div>\n",
       "<style scoped>\n",
       "    .dataframe tbody tr th:only-of-type {\n",
       "        vertical-align: middle;\n",
       "    }\n",
       "\n",
       "    .dataframe tbody tr th {\n",
       "        vertical-align: top;\n",
       "    }\n",
       "\n",
       "    .dataframe thead th {\n",
       "        text-align: right;\n",
       "    }\n",
       "</style>\n",
       "<table border=\"1\" class=\"dataframe\">\n",
       "  <thead>\n",
       "    <tr style=\"text-align: right;\">\n",
       "      <th></th>\n",
       "      <th>Cong16Dem</th>\n",
       "      <th>Cong16Rep</th>\n",
       "      <th>Cong16Lib</th>\n",
       "      <th>Cong16Other</th>\n",
       "      <th>Cong16Total</th>\n",
       "      <th>CName</th>\n",
       "      <th>Cong16Grn</th>\n",
       "      <th>Cong18Dem</th>\n",
       "      <th>Cong18Rep</th>\n",
       "      <th>Cong18Lib</th>\n",
       "      <th>...</th>\n",
       "      <th>Total Population</th>\n",
       "      <th>White</th>\n",
       "      <th>Black or African American</th>\n",
       "      <th>American Indian</th>\n",
       "      <th>Asian</th>\n",
       "      <th>Other Population</th>\n",
       "      <th>MissingVote</th>\n",
       "      <th>MissingDemo</th>\n",
       "      <th>VoteDemoConflict</th>\n",
       "      <th>geometry</th>\n",
       "    </tr>\n",
       "  </thead>\n",
       "  <tbody>\n",
       "    <tr>\n",
       "      <th>0</th>\n",
       "      <td>955.0</td>\n",
       "      <td>627.0</td>\n",
       "      <td>0.0</td>\n",
       "      <td>3.0</td>\n",
       "      <td>1691.0</td>\n",
       "      <td>ri-bristol-0101</td>\n",
       "      <td>0.0</td>\n",
       "      <td>916</td>\n",
       "      <td>494</td>\n",
       "      <td>0</td>\n",
       "      <td>...</td>\n",
       "      <td>3268</td>\n",
       "      <td>3055</td>\n",
       "      <td>23</td>\n",
       "      <td>3</td>\n",
       "      <td>110</td>\n",
       "      <td>73</td>\n",
       "      <td>None</td>\n",
       "      <td>None</td>\n",
       "      <td>None</td>\n",
       "      <td>POLYGON ((-71.32270 41.77270, -71.32270 41.772...</td>\n",
       "    </tr>\n",
       "    <tr>\n",
       "      <th>1</th>\n",
       "      <td>1225.0</td>\n",
       "      <td>790.0</td>\n",
       "      <td>0.0</td>\n",
       "      <td>3.0</td>\n",
       "      <td>2167.0</td>\n",
       "      <td>ri-bristol-0102</td>\n",
       "      <td>0.0</td>\n",
       "      <td>1245</td>\n",
       "      <td>558</td>\n",
       "      <td>0</td>\n",
       "      <td>...</td>\n",
       "      <td>2921</td>\n",
       "      <td>2740</td>\n",
       "      <td>18</td>\n",
       "      <td>3</td>\n",
       "      <td>85</td>\n",
       "      <td>70</td>\n",
       "      <td>None</td>\n",
       "      <td>None</td>\n",
       "      <td>None</td>\n",
       "      <td>MULTIPOLYGON (((-71.35581 41.74533, -71.35560 ...</td>\n",
       "    </tr>\n",
       "  </tbody>\n",
       "</table>\n",
       "<p>2 rows × 34 columns</p>\n",
       "</div>"
      ],
      "text/plain": [
       "   Cong16Dem  Cong16Rep  Cong16Lib  Cong16Other  Cong16Total            CName  \\\n",
       "0      955.0      627.0        0.0          3.0       1691.0  ri-bristol-0101   \n",
       "1     1225.0      790.0        0.0          3.0       2167.0  ri-bristol-0102   \n",
       "\n",
       "   Cong16Grn  Cong18Dem  Cong18Rep  Cong18Lib  ...  Total Population  White  \\\n",
       "0        0.0        916        494          0  ...              3268   3055   \n",
       "1        0.0       1245        558          0  ...              2921   2740   \n",
       "\n",
       "  Black or African American  American Indian Asian Other Population  \\\n",
       "0                        23                3   110               73   \n",
       "1                        18                3    85               70   \n",
       "\n",
       "  MissingVote MissingDemo VoteDemoConflict  \\\n",
       "0        None        None             None   \n",
       "1        None        None             None   \n",
       "\n",
       "                                            geometry  \n",
       "0  POLYGON ((-71.32270 41.77270, -71.32270 41.772...  \n",
       "1  MULTIPOLYGON (((-71.35581 41.74533, -71.35560 ...  \n",
       "\n",
       "[2 rows x 34 columns]"
      ]
     },
     "execution_count": 192,
     "metadata": {},
     "output_type": "execute_result"
    }
   ],
   "source": [
    "gdf = all_state_merged.merge(gdf, left_on=\"CName\", right_on=\"CName\")\n",
    "gdf.head(2)"
   ]
  },
  {
   "cell_type": "code",
   "execution_count": 193,
   "metadata": {},
   "outputs": [
    {
     "data": {
      "text/plain": [
       "Index(['Cong16Dem', 'Cong16Rep', 'Cong16Lib', 'Cong16Other', 'Cong16Total',\n",
       "       'CName', 'Cong16Grn', 'Cong18Dem', 'Cong18Rep', 'Cong18Lib',\n",
       "       'Cong18Other', 'Cong18Total', 'dist_num', 'Cong18Grn', 'County',\n",
       "       'Precinct #', 'Hillary Clinton/Dem', 'Donald J. Trump/Rep',\n",
       "       'Gary Johnson/Lib', 'Jill Stein/Grn', 'Other/Other', 'Total Votes',\n",
       "       'State', 'Neighbors', 'Total Population', 'White',\n",
       "       'Black or African American', 'American Indian', 'Asian',\n",
       "       'Other Population', 'MissingVote', 'MissingDemo', 'VoteDemoConflict',\n",
       "       'geometry'],\n",
       "      dtype='object')"
      ]
     },
     "execution_count": 193,
     "metadata": {},
     "output_type": "execute_result"
    }
   ],
   "source": [
    "gdf.columns"
   ]
  },
  {
   "cell_type": "code",
   "execution_count": 194,
   "metadata": {},
   "outputs": [
    {
     "data": {
      "text/html": [
       "<div>\n",
       "<style scoped>\n",
       "    .dataframe tbody tr th:only-of-type {\n",
       "        vertical-align: middle;\n",
       "    }\n",
       "\n",
       "    .dataframe tbody tr th {\n",
       "        vertical-align: top;\n",
       "    }\n",
       "\n",
       "    .dataframe thead th {\n",
       "        text-align: right;\n",
       "    }\n",
       "</style>\n",
       "<table border=\"1\" class=\"dataframe\">\n",
       "  <thead>\n",
       "    <tr style=\"text-align: right;\">\n",
       "      <th></th>\n",
       "      <th>Cong16Dem</th>\n",
       "      <th>Cong16Rep</th>\n",
       "      <th>Cong16Lib</th>\n",
       "      <th>Cong16Other</th>\n",
       "      <th>Cong16Total</th>\n",
       "      <th>CName</th>\n",
       "      <th>Cong16Grn</th>\n",
       "      <th>Cong18Dem</th>\n",
       "      <th>Cong18Rep</th>\n",
       "      <th>Cong18Lib</th>\n",
       "      <th>...</th>\n",
       "      <th>Total Population</th>\n",
       "      <th>White</th>\n",
       "      <th>Black or African American</th>\n",
       "      <th>American Indian</th>\n",
       "      <th>Asian</th>\n",
       "      <th>Other Population</th>\n",
       "      <th>MissingVote</th>\n",
       "      <th>MissingDemo</th>\n",
       "      <th>VoteDemoConflict</th>\n",
       "      <th>geometry</th>\n",
       "    </tr>\n",
       "  </thead>\n",
       "  <tbody>\n",
       "    <tr>\n",
       "      <th>0</th>\n",
       "      <td>955.0</td>\n",
       "      <td>627.0</td>\n",
       "      <td>0.0</td>\n",
       "      <td>3.0</td>\n",
       "      <td>1691.0</td>\n",
       "      <td>ri-bristol-0101</td>\n",
       "      <td>0.0</td>\n",
       "      <td>916</td>\n",
       "      <td>494</td>\n",
       "      <td>0</td>\n",
       "      <td>...</td>\n",
       "      <td>3268</td>\n",
       "      <td>3055</td>\n",
       "      <td>23</td>\n",
       "      <td>3</td>\n",
       "      <td>110</td>\n",
       "      <td>73</td>\n",
       "      <td>None</td>\n",
       "      <td>None</td>\n",
       "      <td>None</td>\n",
       "      <td>POLYGON ((-71.32270 41.77270, -71.32270 41.772...</td>\n",
       "    </tr>\n",
       "  </tbody>\n",
       "</table>\n",
       "<p>1 rows × 34 columns</p>\n",
       "</div>"
      ],
      "text/plain": [
       "   Cong16Dem  Cong16Rep  Cong16Lib  Cong16Other  Cong16Total            CName  \\\n",
       "0      955.0      627.0        0.0          3.0       1691.0  ri-bristol-0101   \n",
       "\n",
       "   Cong16Grn  Cong18Dem  Cong18Rep  Cong18Lib  ...  Total Population  White  \\\n",
       "0        0.0        916        494          0  ...              3268   3055   \n",
       "\n",
       "  Black or African American  American Indian Asian Other Population  \\\n",
       "0                        23                3   110               73   \n",
       "\n",
       "  MissingVote MissingDemo VoteDemoConflict  \\\n",
       "0        None        None             None   \n",
       "\n",
       "                                            geometry  \n",
       "0  POLYGON ((-71.32270 41.77270, -71.32270 41.772...  \n",
       "\n",
       "[1 rows x 34 columns]"
      ]
     },
     "execution_count": 194,
     "metadata": {},
     "output_type": "execute_result"
    }
   ],
   "source": [
    "mapper = {\"Hillary Clinton/Dem\":\"Pres16Dem\", 'Donald J. Trump/Rep':\"Pres16Rep\",\n",
    "         \"Gary Johnson/Lib\":\"Pres16Lib\", \"Jill Stein/Grn\":\"Pres16Grn\",\n",
    "         \"Other/Other\":\"Pres16Other\", \"Total Votes\":\"Pres16Total\"}\n",
    "gdf.rename(mapper, inplace=True, axis=1)\n",
    "gdf.head(1)"
   ]
  },
  {
   "cell_type": "code",
   "execution_count": 195,
   "metadata": {},
   "outputs": [],
   "source": [
    "copy = gdf.copy()"
   ]
  },
  {
   "cell_type": "code",
   "execution_count": 196,
   "metadata": {},
   "outputs": [
    {
     "data": {
      "text/plain": [
       "11947"
      ]
     },
     "execution_count": 196,
     "metadata": {},
     "output_type": "execute_result"
    }
   ],
   "source": [
    "len(gdf)"
   ]
  },
  {
   "cell_type": "markdown",
   "metadata": {},
   "source": [
    "# 19. Identify anomalous precinct data (required) (sequence diagram not required)\n",
    "- At a minimum, precincts should be considered anomalous if the underlying data is not consistent.\n",
    "- For example, population or voting data could be zero or voting data might not be a reasonable percentage of population. This is considered a distinct error category, so you should store the associated data in the errors data structure for subsequent addition to the DB. "
   ]
  },
  {
   "cell_type": "code",
   "execution_count": 206,
   "metadata": {},
   "outputs": [],
   "source": [
    "gdf = copy.copy()"
   ]
  },
  {
   "cell_type": "code",
   "execution_count": 207,
   "metadata": {},
   "outputs": [
    {
     "name": "stdout",
     "output_type": "stream",
     "text": [
      "<class 'pandas.core.frame.DataFrame'>\n",
      "Int64Index: 11947 entries, 0 to 11946\n",
      "Data columns (total 34 columns):\n",
      " #   Column                     Non-Null Count  Dtype   \n",
      "---  ------                     --------------  -----   \n",
      " 0   Cong16Dem                  11947 non-null  float64 \n",
      " 1   Cong16Rep                  11947 non-null  float64 \n",
      " 2   Cong16Lib                  11947 non-null  float64 \n",
      " 3   Cong16Other                11947 non-null  float64 \n",
      " 4   Cong16Total                11947 non-null  float64 \n",
      " 5   CName                      11947 non-null  object  \n",
      " 6   Cong16Grn                  11947 non-null  float64 \n",
      " 7   Cong18Dem                  11947 non-null  int64   \n",
      " 8   Cong18Rep                  11947 non-null  int64   \n",
      " 9   Cong18Lib                  11947 non-null  int64   \n",
      " 10  Cong18Other                11947 non-null  int64   \n",
      " 11  Cong18Total                11947 non-null  int64   \n",
      " 12  dist_num                   11947 non-null  object  \n",
      " 13  Cong18Grn                  11947 non-null  float64 \n",
      " 14  County                     11947 non-null  object  \n",
      " 15  Precinct #                 11947 non-null  object  \n",
      " 16  Pres16Dem                  11947 non-null  object  \n",
      " 17  Pres16Rep                  11947 non-null  object  \n",
      " 18  Pres16Lib                  11947 non-null  object  \n",
      " 19  Pres16Grn                  11947 non-null  object  \n",
      " 20  Pres16Other                11947 non-null  object  \n",
      " 21  Pres16Total                11947 non-null  object  \n",
      " 22  State                      11947 non-null  object  \n",
      " 23  Neighbors                  11947 non-null  object  \n",
      " 24  Total Population           11947 non-null  int64   \n",
      " 25  White                      11947 non-null  int64   \n",
      " 26  Black or African American  11947 non-null  int64   \n",
      " 27  American Indian            11947 non-null  int64   \n",
      " 28  Asian                      11947 non-null  int64   \n",
      " 29  Other Population           11947 non-null  int64   \n",
      " 30  MissingVote                11947 non-null  object  \n",
      " 31  MissingDemo                11947 non-null  object  \n",
      " 32  VoteDemoConflict           11947 non-null  object  \n",
      " 33  geometry                   11947 non-null  geometry\n",
      "dtypes: float64(7), geometry(1), int64(11), object(15)\n",
      "memory usage: 3.2+ MB\n"
     ]
    }
   ],
   "source": [
    "gdf.info()"
   ]
  },
  {
   "cell_type": "code",
   "execution_count": 208,
   "metadata": {},
   "outputs": [
    {
     "name": "stdout",
     "output_type": "stream",
     "text": [
      "############\n",
      "Missing Pres Vote: 308\n",
      "Missing Cong16 Vote: 690\n",
      "Missing Cong18 Vote: 508\n",
      "Missing Demo: 902\n",
      "Pres Vote Demo Conflict: 5626\n",
      "Cong16 Vote Demo Conflict: 2760\n",
      "Cong18 Vote Demo Conflict: 3077\n"
     ]
    }
   ],
   "source": [
    "'''\n",
    "Categories: MissingVote, MissingDemo, VoteDemoConflict \n",
    "'''\n",
    "\n",
    "gdf[\"MissingVote\"] = \"\"\n",
    "gdf[\"MissingDemo\"] = \"\"\n",
    "gdf[\"VoteDemoConflict\"] = \"\"\n",
    "MPV = 0\n",
    "MC16V = 0\n",
    "MC18V = 0\n",
    "MD = 0\n",
    "PVDC = 0\n",
    "C16VDC = 0\n",
    "C18VDC = 0\n",
    "counter = 0\n",
    "\n",
    "gdf = copy.copy()\n",
    "for index, row in gdf.iterrows():\n",
    "    if counter%1000==0:\n",
    "        print(\"#\", end=\"\")\n",
    "    counter += 1\n",
    "    \n",
    "    total_pres = int(row[\"Pres16Total\"])\n",
    "    total_cong16 = int(row[\"Cong16Total\"])\n",
    "    total_cong18 = int(row[\"Cong18Total\"])\n",
    "    total_demo = row[\"Total Population\"]\n",
    "    \n",
    "    check_conflict_flag = 1\n",
    "    to_add = \"\"\n",
    "    if total_pres == 0:\n",
    "        to_add = \"p16\"\n",
    "        check_conflict_flag = 0\n",
    "        MPV += 1\n",
    "    if total_cong16 == 0:\n",
    "        if to_add != \"\":\n",
    "            to_add += \";c16\"\n",
    "        else:\n",
    "            to_add = \"c16\"\n",
    "        check_conflict_flag = 0\n",
    "        MC16V += 1\n",
    "    if total_cong18 == 0:\n",
    "        if to_add != \"\":\n",
    "            to_add += \";c18\"\n",
    "        else:\n",
    "            to_add = \"c18\"\n",
    "        check_conflict_flag = 0\n",
    "        MC18V += 1\n",
    "        \n",
    "    gdf.at[index, \"MissingVote\"] = to_add\n",
    "    \n",
    "    \n",
    "    if total_demo == 0:\n",
    "        gdf.at[index, \"MissingDemo\"] = \"MissingDemo\"\n",
    "        check_conflict_flag = 0\n",
    "        MD += 1\n",
    "    else:\n",
    "        gdf.at[index, \"MissingDemo\"] = \"\"\n",
    "    \n",
    "    to_add = \"\"\n",
    "    if check_conflict_flag:\n",
    "        if total_pres < total_demo*0.3 or total_pres > total_demo*0.75:\n",
    "            to_add = \"p16\"\n",
    "            PVDC += 1\n",
    "        if total_cong16 < total_demo*0.2 or total_cong16 > total_demo*0.8:\n",
    "            if to_add != \"\":\n",
    "                to_add += \";c16\"\n",
    "            else:\n",
    "                to_add = \"c16\"\n",
    "            C16VDC += 1\n",
    "        if total_cong18 < total_demo*0.2 or total_cong18 > total_demo*0.8:\n",
    "            if to_add != \"\":\n",
    "                to_add += \";c18\"\n",
    "            else:\n",
    "                to_add = \"c18\"\n",
    "            C18VDC += 1\n",
    "            \n",
    "    gdf.at[index, \"VoteDemoConflict\"] = to_add\n",
    "\n",
    "    \n",
    "print(\"\\nMissing Pres Vote:\", MPV)\n",
    "print(\"Missing Cong16 Vote:\", MC16V)\n",
    "print(\"Missing Cong18 Vote:\", MC18V)\n",
    "print(\"Missing Demo:\", MD)\n",
    "print(\"Pres Vote Demo Conflict:\", PVDC)\n",
    "print(\"Cong16 Vote Demo Conflict:\", C16VDC)\n",
    "print(\"Cong18 Vote Demo Conflict:\", C18VDC)"
   ]
  },
  {
   "cell_type": "code",
   "execution_count": 209,
   "metadata": {},
   "outputs": [
    {
     "data": {
      "text/html": [
       "<div>\n",
       "<style scoped>\n",
       "    .dataframe tbody tr th:only-of-type {\n",
       "        vertical-align: middle;\n",
       "    }\n",
       "\n",
       "    .dataframe tbody tr th {\n",
       "        vertical-align: top;\n",
       "    }\n",
       "\n",
       "    .dataframe thead th {\n",
       "        text-align: right;\n",
       "    }\n",
       "</style>\n",
       "<table border=\"1\" class=\"dataframe\">\n",
       "  <thead>\n",
       "    <tr style=\"text-align: right;\">\n",
       "      <th></th>\n",
       "      <th>Cong16Dem</th>\n",
       "      <th>Cong16Rep</th>\n",
       "      <th>Cong16Lib</th>\n",
       "      <th>Cong16Other</th>\n",
       "      <th>Cong16Total</th>\n",
       "      <th>CName</th>\n",
       "      <th>Cong16Grn</th>\n",
       "      <th>Cong18Dem</th>\n",
       "      <th>Cong18Rep</th>\n",
       "      <th>Cong18Lib</th>\n",
       "      <th>...</th>\n",
       "      <th>Neighbors</th>\n",
       "      <th>Total Population</th>\n",
       "      <th>White</th>\n",
       "      <th>Black or African American</th>\n",
       "      <th>American Indian</th>\n",
       "      <th>Asian</th>\n",
       "      <th>Other Population</th>\n",
       "      <th>MissingVote</th>\n",
       "      <th>MissingDemo</th>\n",
       "      <th>geometry</th>\n",
       "    </tr>\n",
       "    <tr>\n",
       "      <th>VoteDemoConflict</th>\n",
       "      <th></th>\n",
       "      <th></th>\n",
       "      <th></th>\n",
       "      <th></th>\n",
       "      <th></th>\n",
       "      <th></th>\n",
       "      <th></th>\n",
       "      <th></th>\n",
       "      <th></th>\n",
       "      <th></th>\n",
       "      <th></th>\n",
       "      <th></th>\n",
       "      <th></th>\n",
       "      <th></th>\n",
       "      <th></th>\n",
       "      <th></th>\n",
       "      <th></th>\n",
       "      <th></th>\n",
       "      <th></th>\n",
       "      <th></th>\n",
       "      <th></th>\n",
       "    </tr>\n",
       "  </thead>\n",
       "  <tbody>\n",
       "    <tr>\n",
       "      <th></th>\n",
       "      <td>6143</td>\n",
       "      <td>6143</td>\n",
       "      <td>6143</td>\n",
       "      <td>6143</td>\n",
       "      <td>6143</td>\n",
       "      <td>6143</td>\n",
       "      <td>6143</td>\n",
       "      <td>6143</td>\n",
       "      <td>6143</td>\n",
       "      <td>6143</td>\n",
       "      <td>...</td>\n",
       "      <td>6143</td>\n",
       "      <td>6143</td>\n",
       "      <td>6143</td>\n",
       "      <td>6143</td>\n",
       "      <td>6143</td>\n",
       "      <td>6143</td>\n",
       "      <td>6143</td>\n",
       "      <td>6143</td>\n",
       "      <td>6143</td>\n",
       "      <td>6143</td>\n",
       "    </tr>\n",
       "    <tr>\n",
       "      <th>c16</th>\n",
       "      <td>11</td>\n",
       "      <td>11</td>\n",
       "      <td>11</td>\n",
       "      <td>11</td>\n",
       "      <td>11</td>\n",
       "      <td>11</td>\n",
       "      <td>11</td>\n",
       "      <td>11</td>\n",
       "      <td>11</td>\n",
       "      <td>11</td>\n",
       "      <td>...</td>\n",
       "      <td>11</td>\n",
       "      <td>11</td>\n",
       "      <td>11</td>\n",
       "      <td>11</td>\n",
       "      <td>11</td>\n",
       "      <td>11</td>\n",
       "      <td>11</td>\n",
       "      <td>11</td>\n",
       "      <td>11</td>\n",
       "      <td>11</td>\n",
       "    </tr>\n",
       "    <tr>\n",
       "      <th>c16;c18</th>\n",
       "      <td>53</td>\n",
       "      <td>53</td>\n",
       "      <td>53</td>\n",
       "      <td>53</td>\n",
       "      <td>53</td>\n",
       "      <td>53</td>\n",
       "      <td>53</td>\n",
       "      <td>53</td>\n",
       "      <td>53</td>\n",
       "      <td>53</td>\n",
       "      <td>...</td>\n",
       "      <td>53</td>\n",
       "      <td>53</td>\n",
       "      <td>53</td>\n",
       "      <td>53</td>\n",
       "      <td>53</td>\n",
       "      <td>53</td>\n",
       "      <td>53</td>\n",
       "      <td>53</td>\n",
       "      <td>53</td>\n",
       "      <td>53</td>\n",
       "    </tr>\n",
       "    <tr>\n",
       "      <th>c18</th>\n",
       "      <td>114</td>\n",
       "      <td>114</td>\n",
       "      <td>114</td>\n",
       "      <td>114</td>\n",
       "      <td>114</td>\n",
       "      <td>114</td>\n",
       "      <td>114</td>\n",
       "      <td>114</td>\n",
       "      <td>114</td>\n",
       "      <td>114</td>\n",
       "      <td>...</td>\n",
       "      <td>114</td>\n",
       "      <td>114</td>\n",
       "      <td>114</td>\n",
       "      <td>114</td>\n",
       "      <td>114</td>\n",
       "      <td>114</td>\n",
       "      <td>114</td>\n",
       "      <td>114</td>\n",
       "      <td>114</td>\n",
       "      <td>114</td>\n",
       "    </tr>\n",
       "    <tr>\n",
       "      <th>p16</th>\n",
       "      <td>2452</td>\n",
       "      <td>2452</td>\n",
       "      <td>2452</td>\n",
       "      <td>2452</td>\n",
       "      <td>2452</td>\n",
       "      <td>2452</td>\n",
       "      <td>2452</td>\n",
       "      <td>2452</td>\n",
       "      <td>2452</td>\n",
       "      <td>2452</td>\n",
       "      <td>...</td>\n",
       "      <td>2452</td>\n",
       "      <td>2452</td>\n",
       "      <td>2452</td>\n",
       "      <td>2452</td>\n",
       "      <td>2452</td>\n",
       "      <td>2452</td>\n",
       "      <td>2452</td>\n",
       "      <td>2452</td>\n",
       "      <td>2452</td>\n",
       "      <td>2452</td>\n",
       "    </tr>\n",
       "    <tr>\n",
       "      <th>p16;c16</th>\n",
       "      <td>264</td>\n",
       "      <td>264</td>\n",
       "      <td>264</td>\n",
       "      <td>264</td>\n",
       "      <td>264</td>\n",
       "      <td>264</td>\n",
       "      <td>264</td>\n",
       "      <td>264</td>\n",
       "      <td>264</td>\n",
       "      <td>264</td>\n",
       "      <td>...</td>\n",
       "      <td>264</td>\n",
       "      <td>264</td>\n",
       "      <td>264</td>\n",
       "      <td>264</td>\n",
       "      <td>264</td>\n",
       "      <td>264</td>\n",
       "      <td>264</td>\n",
       "      <td>264</td>\n",
       "      <td>264</td>\n",
       "      <td>264</td>\n",
       "    </tr>\n",
       "    <tr>\n",
       "      <th>p16;c16;c18</th>\n",
       "      <td>2432</td>\n",
       "      <td>2432</td>\n",
       "      <td>2432</td>\n",
       "      <td>2432</td>\n",
       "      <td>2432</td>\n",
       "      <td>2432</td>\n",
       "      <td>2432</td>\n",
       "      <td>2432</td>\n",
       "      <td>2432</td>\n",
       "      <td>2432</td>\n",
       "      <td>...</td>\n",
       "      <td>2432</td>\n",
       "      <td>2432</td>\n",
       "      <td>2432</td>\n",
       "      <td>2432</td>\n",
       "      <td>2432</td>\n",
       "      <td>2432</td>\n",
       "      <td>2432</td>\n",
       "      <td>2432</td>\n",
       "      <td>2432</td>\n",
       "      <td>2432</td>\n",
       "    </tr>\n",
       "    <tr>\n",
       "      <th>p16;c18</th>\n",
       "      <td>478</td>\n",
       "      <td>478</td>\n",
       "      <td>478</td>\n",
       "      <td>478</td>\n",
       "      <td>478</td>\n",
       "      <td>478</td>\n",
       "      <td>478</td>\n",
       "      <td>478</td>\n",
       "      <td>478</td>\n",
       "      <td>478</td>\n",
       "      <td>...</td>\n",
       "      <td>478</td>\n",
       "      <td>478</td>\n",
       "      <td>478</td>\n",
       "      <td>478</td>\n",
       "      <td>478</td>\n",
       "      <td>478</td>\n",
       "      <td>478</td>\n",
       "      <td>478</td>\n",
       "      <td>478</td>\n",
       "      <td>478</td>\n",
       "    </tr>\n",
       "  </tbody>\n",
       "</table>\n",
       "<p>8 rows × 33 columns</p>\n",
       "</div>"
      ],
      "text/plain": [
       "                  Cong16Dem  Cong16Rep  Cong16Lib  Cong16Other  Cong16Total  \\\n",
       "VoteDemoConflict                                                              \n",
       "                       6143       6143       6143         6143         6143   \n",
       "c16                      11         11         11           11           11   \n",
       "c16;c18                  53         53         53           53           53   \n",
       "c18                     114        114        114          114          114   \n",
       "p16                    2452       2452       2452         2452         2452   \n",
       "p16;c16                 264        264        264          264          264   \n",
       "p16;c16;c18            2432       2432       2432         2432         2432   \n",
       "p16;c18                 478        478        478          478          478   \n",
       "\n",
       "                  CName  Cong16Grn  Cong18Dem  Cong18Rep  Cong18Lib  ...  \\\n",
       "VoteDemoConflict                                                     ...   \n",
       "                   6143       6143       6143       6143       6143  ...   \n",
       "c16                  11         11         11         11         11  ...   \n",
       "c16;c18              53         53         53         53         53  ...   \n",
       "c18                 114        114        114        114        114  ...   \n",
       "p16                2452       2452       2452       2452       2452  ...   \n",
       "p16;c16             264        264        264        264        264  ...   \n",
       "p16;c16;c18        2432       2432       2432       2432       2432  ...   \n",
       "p16;c18             478        478        478        478        478  ...   \n",
       "\n",
       "                  Neighbors  Total Population  White  \\\n",
       "VoteDemoConflict                                       \n",
       "                       6143              6143   6143   \n",
       "c16                      11                11     11   \n",
       "c16;c18                  53                53     53   \n",
       "c18                     114               114    114   \n",
       "p16                    2452              2452   2452   \n",
       "p16;c16                 264               264    264   \n",
       "p16;c16;c18            2432              2432   2432   \n",
       "p16;c18                 478               478    478   \n",
       "\n",
       "                  Black or African American  American Indian  Asian  \\\n",
       "VoteDemoConflict                                                      \n",
       "                                       6143             6143   6143   \n",
       "c16                                      11               11     11   \n",
       "c16;c18                                  53               53     53   \n",
       "c18                                     114              114    114   \n",
       "p16                                    2452             2452   2452   \n",
       "p16;c16                                 264              264    264   \n",
       "p16;c16;c18                            2432             2432   2432   \n",
       "p16;c18                                 478              478    478   \n",
       "\n",
       "                  Other Population  MissingVote  MissingDemo  geometry  \n",
       "VoteDemoConflict                                                        \n",
       "                              6143         6143         6143      6143  \n",
       "c16                             11           11           11        11  \n",
       "c16;c18                         53           53           53        53  \n",
       "c18                            114          114          114       114  \n",
       "p16                           2452         2452         2452      2452  \n",
       "p16;c16                        264          264          264       264  \n",
       "p16;c16;c18                   2432         2432         2432      2432  \n",
       "p16;c18                        478          478          478       478  \n",
       "\n",
       "[8 rows x 33 columns]"
      ]
     },
     "execution_count": 209,
     "metadata": {},
     "output_type": "execute_result"
    }
   ],
   "source": [
    "gdf.groupby([\"VoteDemoConflict\"]).count()"
   ]
  },
  {
   "cell_type": "code",
   "execution_count": 210,
   "metadata": {},
   "outputs": [],
   "source": [
    "gdf = gpd.GeoDataFrame(gdf)"
   ]
  },
  {
   "cell_type": "code",
   "execution_count": 212,
   "metadata": {},
   "outputs": [],
   "source": [
    "gdf.to_file(\"all_states_precincts_cname_neighbor_demo_OG_anomalous_fixNeighborVA_congVote.json\", driver=\"GeoJSON\")"
   ]
  },
  {
   "cell_type": "code",
   "execution_count": null,
   "metadata": {},
   "outputs": [],
   "source": []
  },
  {
   "cell_type": "code",
   "execution_count": null,
   "metadata": {},
   "outputs": [],
   "source": []
  },
  {
   "cell_type": "markdown",
   "metadata": {},
   "source": [
    "# parse"
   ]
  },
  {
   "cell_type": "code",
   "execution_count": 8,
   "metadata": {},
   "outputs": [
    {
     "data": {
      "text/html": [
       "<div>\n",
       "<style scoped>\n",
       "    .dataframe tbody tr th:only-of-type {\n",
       "        vertical-align: middle;\n",
       "    }\n",
       "\n",
       "    .dataframe tbody tr th {\n",
       "        vertical-align: top;\n",
       "    }\n",
       "\n",
       "    .dataframe thead th {\n",
       "        text-align: right;\n",
       "    }\n",
       "</style>\n",
       "<table border=\"1\" class=\"dataframe\">\n",
       "  <thead>\n",
       "    <tr style=\"text-align: right;\">\n",
       "      <th></th>\n",
       "      <th>County</th>\n",
       "      <th>Precinct #</th>\n",
       "      <th>Hillary Clinton/Dem</th>\n",
       "      <th>Donald J. Trump/Rep</th>\n",
       "      <th>Gary Johnson/Lib</th>\n",
       "      <th>Jill Stein/Grn</th>\n",
       "      <th>Other/Other</th>\n",
       "      <th>Total Votes</th>\n",
       "      <th>State</th>\n",
       "      <th>CName</th>\n",
       "      <th>...</th>\n",
       "      <th>Total Population</th>\n",
       "      <th>White</th>\n",
       "      <th>Black or African American</th>\n",
       "      <th>American Indian</th>\n",
       "      <th>Asian</th>\n",
       "      <th>Other Population</th>\n",
       "      <th>MissingVote</th>\n",
       "      <th>MissingDemo</th>\n",
       "      <th>VoteDemoConflict</th>\n",
       "      <th>geometry</th>\n",
       "    </tr>\n",
       "  </thead>\n",
       "  <tbody>\n",
       "    <tr>\n",
       "      <th>0</th>\n",
       "      <td>Bristol</td>\n",
       "      <td>0101</td>\n",
       "      <td>1027</td>\n",
       "      <td>522</td>\n",
       "      <td>60</td>\n",
       "      <td>23</td>\n",
       "      <td>2</td>\n",
       "      <td>1634</td>\n",
       "      <td>ri</td>\n",
       "      <td>ri-bristol-0101</td>\n",
       "      <td>...</td>\n",
       "      <td>3268</td>\n",
       "      <td>3055</td>\n",
       "      <td>23</td>\n",
       "      <td>3</td>\n",
       "      <td>110</td>\n",
       "      <td>73</td>\n",
       "      <td>None</td>\n",
       "      <td>None</td>\n",
       "      <td>None</td>\n",
       "      <td>POLYGON ((-71.32270 41.77270, -71.32270 41.772...</td>\n",
       "    </tr>\n",
       "    <tr>\n",
       "      <th>1</th>\n",
       "      <td>Bristol</td>\n",
       "      <td>0102</td>\n",
       "      <td>1331</td>\n",
       "      <td>683</td>\n",
       "      <td>68</td>\n",
       "      <td>21</td>\n",
       "      <td>3</td>\n",
       "      <td>2106</td>\n",
       "      <td>ri</td>\n",
       "      <td>ri-bristol-0102</td>\n",
       "      <td>...</td>\n",
       "      <td>2921</td>\n",
       "      <td>2740</td>\n",
       "      <td>18</td>\n",
       "      <td>3</td>\n",
       "      <td>85</td>\n",
       "      <td>70</td>\n",
       "      <td>None</td>\n",
       "      <td>None</td>\n",
       "      <td>None</td>\n",
       "      <td>MULTIPOLYGON (((-71.35581 41.74533, -71.35560 ...</td>\n",
       "    </tr>\n",
       "  </tbody>\n",
       "</table>\n",
       "<p>2 rows × 21 columns</p>\n",
       "</div>"
      ],
      "text/plain": [
       "    County Precinct # Hillary Clinton/Dem Donald J. Trump/Rep  \\\n",
       "0  Bristol       0101                1027                 522   \n",
       "1  Bristol       0102                1331                 683   \n",
       "\n",
       "  Gary Johnson/Lib Jill Stein/Grn Other/Other Total Votes State  \\\n",
       "0               60             23           2        1634    ri   \n",
       "1               68             21           3        2106    ri   \n",
       "\n",
       "             CName  ... Total Population  White  Black or African American  \\\n",
       "0  ri-bristol-0101  ...             3268   3055                         23   \n",
       "1  ri-bristol-0102  ...             2921   2740                         18   \n",
       "\n",
       "   American Indian  Asian  Other Population  MissingVote MissingDemo  \\\n",
       "0                3    110                73         None        None   \n",
       "1                3     85                70         None        None   \n",
       "\n",
       "  VoteDemoConflict                                           geometry  \n",
       "0             None  POLYGON ((-71.32270 41.77270, -71.32270 41.772...  \n",
       "1             None  MULTIPOLYGON (((-71.35581 41.74533, -71.35560 ...  \n",
       "\n",
       "[2 rows x 21 columns]"
      ]
     },
     "execution_count": 8,
     "metadata": {},
     "output_type": "execute_result"
    }
   ],
   "source": [
    "gdf = gpd.read_file(\"all_states_precincts_cname_neighbor_demo_OG_anomalous_fixNeighborVA_congVote.json\")\n",
    "gdf.head(2)"
   ]
  },
  {
   "cell_type": "code",
   "execution_count": 213,
   "metadata": {},
   "outputs": [
    {
     "data": {
      "text/html": [
       "<div>\n",
       "<style scoped>\n",
       "    .dataframe tbody tr th:only-of-type {\n",
       "        vertical-align: middle;\n",
       "    }\n",
       "\n",
       "    .dataframe tbody tr th {\n",
       "        vertical-align: top;\n",
       "    }\n",
       "\n",
       "    .dataframe thead th {\n",
       "        text-align: right;\n",
       "    }\n",
       "</style>\n",
       "<table border=\"1\" class=\"dataframe\">\n",
       "  <thead>\n",
       "    <tr style=\"text-align: right;\">\n",
       "      <th></th>\n",
       "      <th>CName</th>\n",
       "      <th>State</th>\n",
       "      <th>MissingVote</th>\n",
       "      <th>MissingDemo</th>\n",
       "      <th>VoteDemoConflict</th>\n",
       "      <th>geometry</th>\n",
       "    </tr>\n",
       "  </thead>\n",
       "  <tbody>\n",
       "    <tr>\n",
       "      <th>0</th>\n",
       "      <td>ri-bristol-0101</td>\n",
       "      <td>ri</td>\n",
       "      <td></td>\n",
       "      <td></td>\n",
       "      <td></td>\n",
       "      <td>POLYGON ((-71.32270 41.77270, -71.32270 41.772...</td>\n",
       "    </tr>\n",
       "  </tbody>\n",
       "</table>\n",
       "</div>"
      ],
      "text/plain": [
       "             CName State MissingVote MissingDemo VoteDemoConflict  \\\n",
       "0  ri-bristol-0101    ri                                            \n",
       "\n",
       "                                            geometry  \n",
       "0  POLYGON ((-71.32270 41.77270, -71.32270 41.772...  "
      ]
     },
     "execution_count": 213,
     "metadata": {},
     "output_type": "execute_result"
    }
   ],
   "source": [
    "c = list(gdf.columns)\n",
    "c.remove(\"CName\")\n",
    "c.remove(\"State\")\n",
    "c.remove(\"MissingVote\")\n",
    "c.remove(\"MissingDemo\")\n",
    "c.remove(\"VoteDemoConflict\")\n",
    "c.remove(\"geometry\")\n",
    "gdf.drop(columns=c, inplace=True, axis=1)\n",
    "gdf.head(1)"
   ]
  },
  {
   "cell_type": "code",
   "execution_count": 214,
   "metadata": {},
   "outputs": [
    {
     "data": {
      "text/html": [
       "<div>\n",
       "<style scoped>\n",
       "    .dataframe tbody tr th:only-of-type {\n",
       "        vertical-align: middle;\n",
       "    }\n",
       "\n",
       "    .dataframe tbody tr th {\n",
       "        vertical-align: top;\n",
       "    }\n",
       "\n",
       "    .dataframe thead th {\n",
       "        text-align: right;\n",
       "    }\n",
       "</style>\n",
       "<table border=\"1\" class=\"dataframe\">\n",
       "  <thead>\n",
       "    <tr style=\"text-align: right;\">\n",
       "      <th></th>\n",
       "      <th>State</th>\n",
       "      <th>CName</th>\n",
       "      <th>MissingVote</th>\n",
       "      <th>MissingDemo</th>\n",
       "      <th>VoteDemoConflict</th>\n",
       "      <th>x_pos</th>\n",
       "      <th>y_pos</th>\n",
       "    </tr>\n",
       "  </thead>\n",
       "  <tbody>\n",
       "  </tbody>\n",
       "</table>\n",
       "</div>"
      ],
      "text/plain": [
       "Empty DataFrame\n",
       "Columns: [State, CName, MissingVote, MissingDemo, VoteDemoConflict, x_pos, y_pos]\n",
       "Index: []"
      ]
     },
     "execution_count": 214,
     "metadata": {},
     "output_type": "execute_result"
    }
   ],
   "source": [
    "newgdf = pd.DataFrame(columns=[\"State\", \"CName\", \"MissingVote\", \"MissingDemo\", \"VoteDemoConflict\", \"x_pos\", \"y_pos\"])\n",
    "newgdf"
   ]
  },
  {
   "cell_type": "code",
   "execution_count": 215,
   "metadata": {},
   "outputs": [],
   "source": [
    "for index, row in gdf.iterrows():\n",
    "    x, y = \"\", \"\"\n",
    "    if row[\"geometry\"].geom_type == \"MultiPolygon\":\n",
    "        biggest_area = 0\n",
    "        for shape in row[\"geometry\"]:\n",
    "            if shape.area > biggest_area:\n",
    "                x, y = shape.centroid.coords[0] \n",
    "                biggest_area = shape.area\n",
    "    else:\n",
    "        x, y = row[\"geometry\"].centroid.coords[0]\n",
    "        \n",
    "    newgdf = newgdf.append({\"State\":row[\"State\"], \"CName\":row[\"CName\"], \"MissingVote\":row[\"MissingVote\"],\n",
    "                           \"MissingDemo\":row[\"MissingDemo\"], \"VoteDemoConflict\":row[\"VoteDemoConflict\"],\n",
    "                           \"x_pos\":x, \"y_pos\":y}, ignore_index=True)"
   ]
  },
  {
   "cell_type": "code",
   "execution_count": 216,
   "metadata": {},
   "outputs": [
    {
     "data": {
      "text/html": [
       "<div>\n",
       "<style scoped>\n",
       "    .dataframe tbody tr th:only-of-type {\n",
       "        vertical-align: middle;\n",
       "    }\n",
       "\n",
       "    .dataframe tbody tr th {\n",
       "        vertical-align: top;\n",
       "    }\n",
       "\n",
       "    .dataframe thead th {\n",
       "        text-align: right;\n",
       "    }\n",
       "</style>\n",
       "<table border=\"1\" class=\"dataframe\">\n",
       "  <thead>\n",
       "    <tr style=\"text-align: right;\">\n",
       "      <th></th>\n",
       "      <th>State</th>\n",
       "      <th>CName</th>\n",
       "      <th>MissingVote</th>\n",
       "      <th>MissingDemo</th>\n",
       "      <th>VoteDemoConflict</th>\n",
       "      <th>x_pos</th>\n",
       "      <th>y_pos</th>\n",
       "    </tr>\n",
       "  </thead>\n",
       "  <tbody>\n",
       "    <tr>\n",
       "      <th>0</th>\n",
       "      <td>ri</td>\n",
       "      <td>ri-bristol-0101</td>\n",
       "      <td></td>\n",
       "      <td></td>\n",
       "      <td></td>\n",
       "      <td>-71.330025</td>\n",
       "      <td>41.756734</td>\n",
       "    </tr>\n",
       "    <tr>\n",
       "      <th>1</th>\n",
       "      <td>ri</td>\n",
       "      <td>ri-bristol-0102</td>\n",
       "      <td></td>\n",
       "      <td></td>\n",
       "      <td></td>\n",
       "      <td>-71.335621</td>\n",
       "      <td>41.745035</td>\n",
       "    </tr>\n",
       "    <tr>\n",
       "      <th>2</th>\n",
       "      <td>ri</td>\n",
       "      <td>ri-bristol-0103</td>\n",
       "      <td></td>\n",
       "      <td></td>\n",
       "      <td></td>\n",
       "      <td>-71.319870</td>\n",
       "      <td>41.732146</td>\n",
       "    </tr>\n",
       "    <tr>\n",
       "      <th>3</th>\n",
       "      <td>ri</td>\n",
       "      <td>ri-bristol-0104</td>\n",
       "      <td></td>\n",
       "      <td></td>\n",
       "      <td></td>\n",
       "      <td>-71.305247</td>\n",
       "      <td>41.759840</td>\n",
       "    </tr>\n",
       "    <tr>\n",
       "      <th>4</th>\n",
       "      <td>ri</td>\n",
       "      <td>ri-bristol-0105</td>\n",
       "      <td></td>\n",
       "      <td></td>\n",
       "      <td></td>\n",
       "      <td>-71.300874</td>\n",
       "      <td>41.720414</td>\n",
       "    </tr>\n",
       "  </tbody>\n",
       "</table>\n",
       "</div>"
      ],
      "text/plain": [
       "  State            CName MissingVote MissingDemo VoteDemoConflict      x_pos  \\\n",
       "0    ri  ri-bristol-0101                                          -71.330025   \n",
       "1    ri  ri-bristol-0102                                          -71.335621   \n",
       "2    ri  ri-bristol-0103                                          -71.319870   \n",
       "3    ri  ri-bristol-0104                                          -71.305247   \n",
       "4    ri  ri-bristol-0105                                          -71.300874   \n",
       "\n",
       "       y_pos  \n",
       "0  41.756734  \n",
       "1  41.745035  \n",
       "2  41.732146  \n",
       "3  41.759840  \n",
       "4  41.720414  "
      ]
     },
     "execution_count": 216,
     "metadata": {},
     "output_type": "execute_result"
    }
   ],
   "source": [
    "newgdf.head()"
   ]
  },
  {
   "cell_type": "code",
   "execution_count": 217,
   "metadata": {},
   "outputs": [
    {
     "data": {
      "text/html": [
       "<div>\n",
       "<style scoped>\n",
       "    .dataframe tbody tr th:only-of-type {\n",
       "        vertical-align: middle;\n",
       "    }\n",
       "\n",
       "    .dataframe tbody tr th {\n",
       "        vertical-align: top;\n",
       "    }\n",
       "\n",
       "    .dataframe thead th {\n",
       "        text-align: right;\n",
       "    }\n",
       "</style>\n",
       "<table border=\"1\" class=\"dataframe\">\n",
       "  <thead>\n",
       "    <tr style=\"text-align: right;\">\n",
       "      <th></th>\n",
       "      <th>State</th>\n",
       "      <th>CName</th>\n",
       "      <th>MissingVote</th>\n",
       "      <th>MissingDemo</th>\n",
       "      <th>VoteDemoConflict</th>\n",
       "      <th>x_pos</th>\n",
       "      <th>y_pos</th>\n",
       "    </tr>\n",
       "  </thead>\n",
       "  <tbody>\n",
       "    <tr>\n",
       "      <th>5</th>\n",
       "      <td>ri</td>\n",
       "      <td>ri-bristol-0201</td>\n",
       "      <td></td>\n",
       "      <td></td>\n",
       "      <td>p16;c16;c18</td>\n",
       "      <td>-71.266333</td>\n",
       "      <td>41.708733</td>\n",
       "    </tr>\n",
       "    <tr>\n",
       "      <th>11</th>\n",
       "      <td>ri</td>\n",
       "      <td>ri-bristol-0207</td>\n",
       "      <td></td>\n",
       "      <td></td>\n",
       "      <td>p16;c16;c18</td>\n",
       "      <td>-71.256753</td>\n",
       "      <td>41.661750</td>\n",
       "    </tr>\n",
       "    <tr>\n",
       "      <th>14</th>\n",
       "      <td>ri</td>\n",
       "      <td>ri-providence-0401</td>\n",
       "      <td></td>\n",
       "      <td></td>\n",
       "      <td>p16;c16;c18</td>\n",
       "      <td>-71.385925</td>\n",
       "      <td>41.887850</td>\n",
       "    </tr>\n",
       "    <tr>\n",
       "      <th>15</th>\n",
       "      <td>ri</td>\n",
       "      <td>ri-providence-0402</td>\n",
       "      <td></td>\n",
       "      <td></td>\n",
       "      <td>p16;c18</td>\n",
       "      <td>-71.389906</td>\n",
       "      <td>41.892830</td>\n",
       "    </tr>\n",
       "    <tr>\n",
       "      <th>16</th>\n",
       "      <td>ri</td>\n",
       "      <td>ri-providence-0403</td>\n",
       "      <td></td>\n",
       "      <td></td>\n",
       "      <td>c18</td>\n",
       "      <td>-71.392898</td>\n",
       "      <td>41.885401</td>\n",
       "    </tr>\n",
       "  </tbody>\n",
       "</table>\n",
       "</div>"
      ],
      "text/plain": [
       "   State               CName MissingVote MissingDemo VoteDemoConflict  \\\n",
       "5     ri     ri-bristol-0201                              p16;c16;c18   \n",
       "11    ri     ri-bristol-0207                              p16;c16;c18   \n",
       "14    ri  ri-providence-0401                              p16;c16;c18   \n",
       "15    ri  ri-providence-0402                                  p16;c18   \n",
       "16    ri  ri-providence-0403                                      c18   \n",
       "\n",
       "        x_pos      y_pos  \n",
       "5  -71.266333  41.708733  \n",
       "11 -71.256753  41.661750  \n",
       "14 -71.385925  41.887850  \n",
       "15 -71.389906  41.892830  \n",
       "16 -71.392898  41.885401  "
      ]
     },
     "execution_count": 217,
     "metadata": {},
     "output_type": "execute_result"
    }
   ],
   "source": [
    "for index, row in newgdf.iterrows():\n",
    "    if row[\"MissingVote\"] == \"\" and row[\"MissingDemo\"] == \"\" and row[\"VoteDemoConflict\"] == \"\":\n",
    "        newgdf.drop(index=index, inplace=True)\n",
    "newgdf.head()"
   ]
  },
  {
   "cell_type": "code",
   "execution_count": null,
   "metadata": {},
   "outputs": [],
   "source": []
  },
  {
   "cell_type": "code",
   "execution_count": null,
   "metadata": {},
   "outputs": [],
   "source": []
  },
  {
   "cell_type": "code",
   "execution_count": 218,
   "metadata": {},
   "outputs": [],
   "source": [
    "newgdf.to_csv(\"anomalous_data.csv\", index=False)"
   ]
  },
  {
   "cell_type": "code",
   "execution_count": null,
   "metadata": {},
   "outputs": [],
   "source": []
  }
 ],
 "metadata": {
  "kernelspec": {
   "display_name": "myenv",
   "language": "python",
   "name": "myenv"
  },
  "language_info": {
   "codemirror_mode": {
    "name": "ipython",
    "version": 3
   },
   "file_extension": ".py",
   "mimetype": "text/x-python",
   "name": "python",
   "nbconvert_exporter": "python",
   "pygments_lexer": "ipython3",
   "version": "3.7.7"
  }
 },
 "nbformat": 4,
 "nbformat_minor": 4
}
