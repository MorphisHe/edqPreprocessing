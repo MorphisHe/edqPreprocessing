{
 "cells": [
  {
   "cell_type": "code",
   "execution_count": 74,
   "metadata": {},
   "outputs": [],
   "source": [
    "import geopandas as gpd"
   ]
  },
  {
   "cell_type": "code",
   "execution_count": 75,
   "metadata": {},
   "outputs": [],
   "source": [
    "file_name = \"VA_Ghost_CName.json\"\n",
    "ghost = gpd.read_file(file_name)"
   ]
  },
  {
   "cell_type": "code",
   "execution_count": 76,
   "metadata": {},
   "outputs": [
    {
     "data": {
      "text/html": [
       "<div>\n",
       "<style scoped>\n",
       "    .dataframe tbody tr th:only-of-type {\n",
       "        vertical-align: middle;\n",
       "    }\n",
       "\n",
       "    .dataframe tbody tr th {\n",
       "        vertical-align: top;\n",
       "    }\n",
       "\n",
       "    .dataframe thead th {\n",
       "        text-align: right;\n",
       "    }\n",
       "</style>\n",
       "<table border=\"1\" class=\"dataframe\">\n",
       "  <thead>\n",
       "    <tr style=\"text-align: right;\">\n",
       "      <th></th>\n",
       "      <th>CName</th>\n",
       "      <th>geometry</th>\n",
       "    </tr>\n",
       "  </thead>\n",
       "  <tbody>\n",
       "    <tr>\n",
       "      <th>0</th>\n",
       "      <td>va-ghost-1</td>\n",
       "      <td>POLYGON ((-78.63862 38.29071, -78.63919 38.290...</td>\n",
       "    </tr>\n",
       "    <tr>\n",
       "      <th>1</th>\n",
       "      <td>va-ghost-2</td>\n",
       "      <td>POLYGON ((-78.66981 38.24737, -78.66981 38.247...</td>\n",
       "    </tr>\n",
       "    <tr>\n",
       "      <th>2</th>\n",
       "      <td>va-ghost-3</td>\n",
       "      <td>POLYGON ((-78.61897 38.30346, -78.61810 38.303...</td>\n",
       "    </tr>\n",
       "    <tr>\n",
       "      <th>3</th>\n",
       "      <td>va-ghost-4</td>\n",
       "      <td>POLYGON ((-78.49940 38.39960, -78.49912 38.400...</td>\n",
       "    </tr>\n",
       "    <tr>\n",
       "      <th>4</th>\n",
       "      <td>va-ghost-5</td>\n",
       "      <td>POLYGON ((-78.49318 38.40651, -78.49314 38.406...</td>\n",
       "    </tr>\n",
       "    <tr>\n",
       "      <th>5</th>\n",
       "      <td>va-ghost-6</td>\n",
       "      <td>POLYGON ((-78.48746 38.41551, -78.48672 38.416...</td>\n",
       "    </tr>\n",
       "    <tr>\n",
       "      <th>6</th>\n",
       "      <td>va-ghost-7</td>\n",
       "      <td>POLYGON ((-78.48586 38.42160, -78.48587 38.421...</td>\n",
       "    </tr>\n",
       "    <tr>\n",
       "      <th>7</th>\n",
       "      <td>va-ghost-8</td>\n",
       "      <td>POLYGON ((-78.47780 38.43173, -78.47719 38.431...</td>\n",
       "    </tr>\n",
       "    <tr>\n",
       "      <th>8</th>\n",
       "      <td>va-ghost-9</td>\n",
       "      <td>POLYGON ((-78.47773 38.43820, -78.47772 38.438...</td>\n",
       "    </tr>\n",
       "    <tr>\n",
       "      <th>9</th>\n",
       "      <td>va-ghost-10</td>\n",
       "      <td>POLYGON ((-78.46257 38.45832, -78.46259 38.458...</td>\n",
       "    </tr>\n",
       "  </tbody>\n",
       "</table>\n",
       "</div>"
      ],
      "text/plain": [
       "         CName                                           geometry\n",
       "0   va-ghost-1  POLYGON ((-78.63862 38.29071, -78.63919 38.290...\n",
       "1   va-ghost-2  POLYGON ((-78.66981 38.24737, -78.66981 38.247...\n",
       "2   va-ghost-3  POLYGON ((-78.61897 38.30346, -78.61810 38.303...\n",
       "3   va-ghost-4  POLYGON ((-78.49940 38.39960, -78.49912 38.400...\n",
       "4   va-ghost-5  POLYGON ((-78.49318 38.40651, -78.49314 38.406...\n",
       "5   va-ghost-6  POLYGON ((-78.48746 38.41551, -78.48672 38.416...\n",
       "6   va-ghost-7  POLYGON ((-78.48586 38.42160, -78.48587 38.421...\n",
       "7   va-ghost-8  POLYGON ((-78.47780 38.43173, -78.47719 38.431...\n",
       "8   va-ghost-9  POLYGON ((-78.47773 38.43820, -78.47772 38.438...\n",
       "9  va-ghost-10  POLYGON ((-78.46257 38.45832, -78.46259 38.458..."
      ]
     },
     "execution_count": 76,
     "metadata": {},
     "output_type": "execute_result"
    }
   ],
   "source": [
    "ghost.head(10)"
   ]
  },
  {
   "cell_type": "code",
   "execution_count": 77,
   "metadata": {},
   "outputs": [],
   "source": [
    "county = gpd.read_file(\"VA_County_Cleaned.json\")"
   ]
  },
  {
   "cell_type": "code",
   "execution_count": 78,
   "metadata": {},
   "outputs": [
    {
     "data": {
      "text/html": [
       "<div>\n",
       "<style scoped>\n",
       "    .dataframe tbody tr th:only-of-type {\n",
       "        vertical-align: middle;\n",
       "    }\n",
       "\n",
       "    .dataframe tbody tr th {\n",
       "        vertical-align: top;\n",
       "    }\n",
       "\n",
       "    .dataframe thead th {\n",
       "        text-align: right;\n",
       "    }\n",
       "</style>\n",
       "<table border=\"1\" class=\"dataframe\">\n",
       "  <thead>\n",
       "    <tr style=\"text-align: right;\">\n",
       "      <th></th>\n",
       "      <th>County</th>\n",
       "      <th>geometry</th>\n",
       "    </tr>\n",
       "  </thead>\n",
       "  <tbody>\n",
       "    <tr>\n",
       "      <th>0</th>\n",
       "      <td>Accomack County</td>\n",
       "      <td>POLYGON ((-75.62204 37.45679, -75.62465 37.457...</td>\n",
       "    </tr>\n",
       "    <tr>\n",
       "      <th>1</th>\n",
       "      <td>Albemarle County</td>\n",
       "      <td>POLYGON ((-78.36880 38.18409, -78.36476 38.183...</td>\n",
       "    </tr>\n",
       "    <tr>\n",
       "      <th>2</th>\n",
       "      <td>Alexandria City</td>\n",
       "      <td>POLYGON ((-77.04631 38.84120, -77.04621 38.840...</td>\n",
       "    </tr>\n",
       "    <tr>\n",
       "      <th>3</th>\n",
       "      <td>Alleghany County</td>\n",
       "      <td>POLYGON ((-79.64759 37.87454, -79.64739 37.874...</td>\n",
       "    </tr>\n",
       "    <tr>\n",
       "      <th>4</th>\n",
       "      <td>Amelia County</td>\n",
       "      <td>POLYGON ((-77.85531 37.41843, -77.85519 37.418...</td>\n",
       "    </tr>\n",
       "  </tbody>\n",
       "</table>\n",
       "</div>"
      ],
      "text/plain": [
       "             County                                           geometry\n",
       "0   Accomack County  POLYGON ((-75.62204 37.45679, -75.62465 37.457...\n",
       "1  Albemarle County  POLYGON ((-78.36880 38.18409, -78.36476 38.183...\n",
       "2   Alexandria City  POLYGON ((-77.04631 38.84120, -77.04621 38.840...\n",
       "3  Alleghany County  POLYGON ((-79.64759 37.87454, -79.64739 37.874...\n",
       "4     Amelia County  POLYGON ((-77.85531 37.41843, -77.85519 37.418..."
      ]
     },
     "execution_count": 78,
     "metadata": {},
     "output_type": "execute_result"
    }
   ],
   "source": [
    "county.head()"
   ]
  },
  {
   "cell_type": "code",
   "execution_count": 79,
   "metadata": {},
   "outputs": [
    {
     "data": {
      "text/plain": [
       "'\\nc = list(county.columns)\\nc.remove(\"CNTY_NM\")\\nc.remove(\"geometry\")\\ncounty.drop(columns=c, axis=1, inplace=True)\\ncounty.head()\\n'"
      ]
     },
     "execution_count": 79,
     "metadata": {},
     "output_type": "execute_result"
    }
   ],
   "source": [
    "'''\n",
    "c = list(county.columns)\n",
    "c.remove(\"CNTY_NM\")\n",
    "c.remove(\"geometry\")\n",
    "county.drop(columns=c, axis=1, inplace=True)\n",
    "county.head()\n",
    "'''"
   ]
  },
  {
   "cell_type": "code",
   "execution_count": 80,
   "metadata": {},
   "outputs": [
    {
     "data": {
      "image/svg+xml": [
       "<svg xmlns=\"http://www.w3.org/2000/svg\" xmlns:xlink=\"http://www.w3.org/1999/xlink\" width=\"100.0\" height=\"100.0\" viewBox=\"-76.6065298481983 37.7236613878036 0.0017237818373558866 0.0012214580831013677\" preserveAspectRatio=\"xMinYMin meet\"><g transform=\"matrix(1,0,0,-1,0,75.44854423369031)\"><path fill-rule=\"evenodd\" fill=\"#66cc99\" stroke=\"#555555\" stroke-width=\"3.447563674711773e-05\" opacity=\"0.6\" d=\"M -76.60646600442655,37.72481900211495 L -76.606466,37.724819 L -76.6048699101327,37.72372523157536 L -76.60525500025732,37.72379000018406 L -76.60580300021768,37.72417800014084 L -76.60614900001147,37.724293000003755 L -76.60646600039603,37.72481899987576 L -76.60646600442655,37.72481900211495 z\" /></g></svg>"
      ],
      "text/plain": [
       "<shapely.geometry.polygon.Polygon at 0x118042890>"
      ]
     },
     "execution_count": 80,
     "metadata": {},
     "output_type": "execute_result"
    }
   ],
   "source": [
    "ghost.loc[120].geometry"
   ]
  },
  {
   "cell_type": "code",
   "execution_count": 81,
   "metadata": {},
   "outputs": [
    {
     "data": {
      "text/plain": [
       "'\\nghost = ghost.to_crs(\"EPSG:3857\")\\nfor index, row in ghost.iterrows():\\n    ga = row[\"geometry\"].area\\n    if ga < 8000:\\n        print(index, row[\"geometry\"].area)\\nghost = ghost.to_crs(\"EPSG:4326\")\\n'"
      ]
     },
     "execution_count": 81,
     "metadata": {},
     "output_type": "execute_result"
    }
   ],
   "source": [
    "'''\n",
    "ghost = ghost.to_crs(\"EPSG:3857\")\n",
    "for index, row in ghost.iterrows():\n",
    "    ga = row[\"geometry\"].area\n",
    "    if ga < 8000:\n",
    "        print(index, row[\"geometry\"].area)\n",
    "ghost = ghost.to_crs(\"EPSG:4326\")\n",
    "'''"
   ]
  },
  {
   "cell_type": "code",
   "execution_count": 83,
   "metadata": {},
   "outputs": [],
   "source": [
    "def normalize(string):\n",
    "    splited = string.split(\" \")\n",
    "    if splited[1] != \"County\":\n",
    "        return ''.join(splited)\n",
    "    else:\n",
    "        return splited[0]"
   ]
  },
  {
   "cell_type": "code",
   "execution_count": 86,
   "metadata": {},
   "outputs": [
    {
     "name": "stdout",
     "output_type": "stream",
     "text": [
      "#########################################################################################################################################################################################################################################################################################################################################"
     ]
    },
    {
     "data": {
      "text/html": [
       "<div>\n",
       "<style scoped>\n",
       "    .dataframe tbody tr th:only-of-type {\n",
       "        vertical-align: middle;\n",
       "    }\n",
       "\n",
       "    .dataframe tbody tr th {\n",
       "        vertical-align: top;\n",
       "    }\n",
       "\n",
       "    .dataframe thead th {\n",
       "        text-align: right;\n",
       "    }\n",
       "</style>\n",
       "<table border=\"1\" class=\"dataframe\">\n",
       "  <thead>\n",
       "    <tr style=\"text-align: right;\">\n",
       "      <th></th>\n",
       "      <th>CName</th>\n",
       "      <th>geometry</th>\n",
       "      <th>County</th>\n",
       "    </tr>\n",
       "  </thead>\n",
       "  <tbody>\n",
       "    <tr>\n",
       "      <th>0</th>\n",
       "      <td>va-ghost-1</td>\n",
       "      <td>POLYGON ((-78.63862 38.29071, -78.63919 38.290...</td>\n",
       "      <td>va-rockingham</td>\n",
       "    </tr>\n",
       "    <tr>\n",
       "      <th>1</th>\n",
       "      <td>va-ghost-2</td>\n",
       "      <td>POLYGON ((-78.66981 38.24737, -78.66981 38.247...</td>\n",
       "      <td>va-rockingham</td>\n",
       "    </tr>\n",
       "    <tr>\n",
       "      <th>2</th>\n",
       "      <td>va-ghost-3</td>\n",
       "      <td>POLYGON ((-78.61897 38.30346, -78.61810 38.303...</td>\n",
       "      <td>va-rockingham</td>\n",
       "    </tr>\n",
       "    <tr>\n",
       "      <th>3</th>\n",
       "      <td>va-ghost-4</td>\n",
       "      <td>POLYGON ((-78.49940 38.39960, -78.49912 38.400...</td>\n",
       "      <td>va-rockingham</td>\n",
       "    </tr>\n",
       "    <tr>\n",
       "      <th>4</th>\n",
       "      <td>va-ghost-5</td>\n",
       "      <td>POLYGON ((-78.49318 38.40651, -78.49314 38.406...</td>\n",
       "      <td>va-rockingham</td>\n",
       "    </tr>\n",
       "  </tbody>\n",
       "</table>\n",
       "</div>"
      ],
      "text/plain": [
       "        CName                                           geometry  \\\n",
       "0  va-ghost-1  POLYGON ((-78.63862 38.29071, -78.63919 38.290...   \n",
       "1  va-ghost-2  POLYGON ((-78.66981 38.24737, -78.66981 38.247...   \n",
       "2  va-ghost-3  POLYGON ((-78.61897 38.30346, -78.61810 38.303...   \n",
       "3  va-ghost-4  POLYGON ((-78.49940 38.39960, -78.49912 38.400...   \n",
       "4  va-ghost-5  POLYGON ((-78.49318 38.40651, -78.49314 38.406...   \n",
       "\n",
       "          County  \n",
       "0  va-rockingham  \n",
       "1  va-rockingham  \n",
       "2  va-rockingham  \n",
       "3  va-rockingham  \n",
       "4  va-rockingham  "
      ]
     },
     "execution_count": 86,
     "metadata": {},
     "output_type": "execute_result"
    }
   ],
   "source": [
    "ghost[\"County\"] = \"\"\n",
    "for index, row in ghost.iterrows():\n",
    "    g = row[\"geometry\"]\n",
    "    for index2, row2 in county.iterrows():\n",
    "        g2 = row2[\"geometry\"]\n",
    "        if g.intersects(g2):\n",
    "            ghost.at[index, \"County\"] = \"va-\" + normalize(row2[\"County\"]).lower()\n",
    "            print(\"#\", end=\"\")\n",
    "            \n",
    "ghost.head()"
   ]
  },
  {
   "cell_type": "code",
   "execution_count": 89,
   "metadata": {},
   "outputs": [],
   "source": [
    "ghost.to_csv(\"VA_Ghost_County.csv\", index=False)"
   ]
  },
  {
   "cell_type": "code",
   "execution_count": 87,
   "metadata": {},
   "outputs": [
    {
     "data": {
      "text/html": [
       "<div>\n",
       "<style scoped>\n",
       "    .dataframe tbody tr th:only-of-type {\n",
       "        vertical-align: middle;\n",
       "    }\n",
       "\n",
       "    .dataframe tbody tr th {\n",
       "        vertical-align: top;\n",
       "    }\n",
       "\n",
       "    .dataframe thead th {\n",
       "        text-align: right;\n",
       "    }\n",
       "</style>\n",
       "<table border=\"1\" class=\"dataframe\">\n",
       "  <thead>\n",
       "    <tr style=\"text-align: right;\">\n",
       "      <th></th>\n",
       "      <th>CName</th>\n",
       "      <th>County</th>\n",
       "    </tr>\n",
       "  </thead>\n",
       "  <tbody>\n",
       "    <tr>\n",
       "      <th>0</th>\n",
       "      <td>va-ghost-1</td>\n",
       "      <td>va-rockingham</td>\n",
       "    </tr>\n",
       "    <tr>\n",
       "      <th>1</th>\n",
       "      <td>va-ghost-2</td>\n",
       "      <td>va-rockingham</td>\n",
       "    </tr>\n",
       "    <tr>\n",
       "      <th>2</th>\n",
       "      <td>va-ghost-3</td>\n",
       "      <td>va-rockingham</td>\n",
       "    </tr>\n",
       "    <tr>\n",
       "      <th>3</th>\n",
       "      <td>va-ghost-4</td>\n",
       "      <td>va-rockingham</td>\n",
       "    </tr>\n",
       "    <tr>\n",
       "      <th>4</th>\n",
       "      <td>va-ghost-5</td>\n",
       "      <td>va-rockingham</td>\n",
       "    </tr>\n",
       "    <tr>\n",
       "      <th>...</th>\n",
       "      <td>...</td>\n",
       "      <td>...</td>\n",
       "    </tr>\n",
       "    <tr>\n",
       "      <th>95</th>\n",
       "      <td>va-ghost-96</td>\n",
       "      <td>va-princegeorgecounty</td>\n",
       "    </tr>\n",
       "    <tr>\n",
       "      <th>96</th>\n",
       "      <td>va-ghost-97</td>\n",
       "      <td>va-henrico</td>\n",
       "    </tr>\n",
       "    <tr>\n",
       "      <th>97</th>\n",
       "      <td>va-ghost-98</td>\n",
       "      <td>va-henrico</td>\n",
       "    </tr>\n",
       "    <tr>\n",
       "      <th>98</th>\n",
       "      <td>va-ghost-99</td>\n",
       "      <td>va-fairfax</td>\n",
       "    </tr>\n",
       "    <tr>\n",
       "      <th>99</th>\n",
       "      <td>va-ghost-100</td>\n",
       "      <td>va-fairfax</td>\n",
       "    </tr>\n",
       "  </tbody>\n",
       "</table>\n",
       "<p>100 rows × 2 columns</p>\n",
       "</div>"
      ],
      "text/plain": [
       "           CName                 County\n",
       "0     va-ghost-1          va-rockingham\n",
       "1     va-ghost-2          va-rockingham\n",
       "2     va-ghost-3          va-rockingham\n",
       "3     va-ghost-4          va-rockingham\n",
       "4     va-ghost-5          va-rockingham\n",
       "..           ...                    ...\n",
       "95   va-ghost-96  va-princegeorgecounty\n",
       "96   va-ghost-97             va-henrico\n",
       "97   va-ghost-98             va-henrico\n",
       "98   va-ghost-99             va-fairfax\n",
       "99  va-ghost-100             va-fairfax\n",
       "\n",
       "[100 rows x 2 columns]"
      ]
     },
     "execution_count": 87,
     "metadata": {},
     "output_type": "execute_result"
    }
   ],
   "source": [
    "ghost.drop(columns=[\"geometry\"], axis=1, inplace=True)\n",
    "ghost.head(100)"
   ]
  },
  {
   "cell_type": "code",
   "execution_count": 69,
   "metadata": {},
   "outputs": [],
   "source": [
    "a = gpd.read_file(\"../../all_states_precincts_cname_neighbor_demo_OG_anomalous_fixNeighborVA.json\")\n",
    "a = a[a[\"State\"] == \"va\"]"
   ]
  },
  {
   "cell_type": "code",
   "execution_count": 71,
   "metadata": {},
   "outputs": [
    {
     "data": {
      "text/plain": [
       "array(['Accomack', 'Albemarle', 'AlexandriaCity', 'Alleghany', 'Amelia',\n",
       "       'Amherst', 'Appomattox', 'Arlington', 'Augusta', 'Bath', 'Bedford',\n",
       "       'Bland', 'Botetourt', 'BristolCity', 'Brunswick', 'Buchanan',\n",
       "       'Buckingham', 'BuenaVistaCity', 'Campbell', 'Caroline', 'Carroll',\n",
       "       'CharlesCityCounty', 'Charlotte', 'CharlottesvilleCity',\n",
       "       'ChesapeakeCity', 'Chesterfield', 'Clarke', 'ColonialHeightsCity',\n",
       "       'CovingtonCity', 'Craig', 'Culpeper', 'Cumberland', 'DanvilleCity',\n",
       "       'Dickenson', 'Dinwiddie', 'EmporiaCity', 'Essex', 'Fairfax',\n",
       "       'FairfaxCity', 'FallsChurchCity', 'Fauquier', 'Floyd', 'Fluvanna',\n",
       "       'Franklin', 'FranklinCity', 'Frederick', 'FredericksburgCity',\n",
       "       'GalaxCity', 'Giles', 'Gloucester', 'Goochland', 'Grayson',\n",
       "       'Greene', 'Greensville', 'Halifax', 'HamptonCity', 'Hanover',\n",
       "       'HarrisonburgCity', 'Henrico', 'Henry', 'Highland', 'HopewellCity',\n",
       "       'IsleofWightCounty', 'JamesCityCounty', 'KingGeorgeCounty',\n",
       "       'KingWilliamCounty', 'KingandQueenCounty', 'Lancaster', 'Lee',\n",
       "       'LexingtonCity', 'Loudoun', 'Louisa', 'Lunenburg', 'LynchburgCity',\n",
       "       'Madison', 'ManassasCity', 'ManassasParkCity', 'MartinsvilleCity',\n",
       "       'Mathews', 'Mecklenburg', 'Middlesex', 'Montgomery', 'Nelson',\n",
       "       'NewKentCounty', 'NewportNewsCity', 'NorfolkCity', 'Northampton',\n",
       "       'Northumberland', 'NortonCity', 'Nottoway', 'Orange', 'Page',\n",
       "       'Patrick', 'PetersburgCity', 'Pittsylvania', 'PoquosonCity',\n",
       "       'PortsmouthCity', 'Powhatan', 'PrinceEdwardCounty',\n",
       "       'PrinceGeorgeCounty', 'PrinceWilliamCounty', 'Pulaski',\n",
       "       'RadfordCity', 'Rappahannock', 'Richmond', 'RichmondCity',\n",
       "       'Roanoke', 'RoanokeCity', 'Rockbridge', 'Rockingham', 'Russell',\n",
       "       'SalemCity', 'Scott', 'Shenandoah', 'Smyth', 'Southampton',\n",
       "       'Spotsylvania', 'Stafford', 'StauntonCity', 'SuffolkCity', 'Surry',\n",
       "       'Sussex', 'Tazewell', 'VirginiaBeachCity', 'Warren', 'Washington',\n",
       "       'WaynesboroCity', 'Westmoreland', 'WilliamsburgCity',\n",
       "       'WinchesterCity', 'Wise', 'Wythe', 'York'], dtype=object)"
      ]
     },
     "execution_count": 71,
     "metadata": {},
     "output_type": "execute_result"
    }
   ],
   "source": [
    "a[\"County\"].unique()"
   ]
  },
  {
   "cell_type": "code",
   "execution_count": null,
   "metadata": {},
   "outputs": [],
   "source": []
  }
 ],
 "metadata": {
  "kernelspec": {
   "display_name": "myenv",
   "language": "python",
   "name": "myenv"
  },
  "language_info": {
   "codemirror_mode": {
    "name": "ipython",
    "version": 3
   },
   "file_extension": ".py",
   "mimetype": "text/x-python",
   "name": "python",
   "nbconvert_exporter": "python",
   "pygments_lexer": "ipython3",
   "version": "3.7.7"
  }
 },
 "nbformat": 4,
 "nbformat_minor": 4
}
