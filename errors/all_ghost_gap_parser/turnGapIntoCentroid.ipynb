{
 "cells": [
  {
   "cell_type": "code",
   "execution_count": 1,
   "metadata": {},
   "outputs": [],
   "source": [
    "import geopandas as gpd\n",
    "import pandas as pd"
   ]
  },
  {
   "cell_type": "code",
   "execution_count": 2,
   "metadata": {},
   "outputs": [],
   "source": [
    "states = [\"RI\", \"VA\", \"TX\"]\n",
    "all_dfs = {}"
   ]
  },
  {
   "cell_type": "code",
   "execution_count": 3,
   "metadata": {},
   "outputs": [],
   "source": [
    "for state in states:\n",
    "    file_name = state + \"_Gap_CName.json\"\n",
    "    gdf = gpd.read_file(file_name)\n",
    "    \n",
    "    newgdf = pd.DataFrame(columns=[\"CName\", \"x_pos\", \"y_pos\"])\n",
    "    for index, row in gdf.iterrows():\n",
    "        x, y  = row[\"geometry\"].centroid.coords[0]\n",
    "        newgdf = newgdf.append({\"CName\":row[\"CName\"], \"x_pos\":x, \"y_pos\":y}, ignore_index=True)\n",
    "    \n",
    "    all_dfs[state] = newgdf"
   ]
  },
  {
   "cell_type": "code",
   "execution_count": null,
   "metadata": {},
   "outputs": [],
   "source": []
  },
  {
   "cell_type": "code",
   "execution_count": 4,
   "metadata": {},
   "outputs": [],
   "source": [
    "all_dfs[\"RI\"][\"State\"] = \"ri\"\n",
    "all_dfs[\"RI\"][\"Type\"] = \"GAP\""
   ]
  },
  {
   "cell_type": "code",
   "execution_count": 5,
   "metadata": {},
   "outputs": [],
   "source": [
    "all_dfs[\"VA\"][\"State\"] = \"va\"\n",
    "all_dfs[\"VA\"][\"Type\"] = \"GAP\""
   ]
  },
  {
   "cell_type": "code",
   "execution_count": 6,
   "metadata": {},
   "outputs": [],
   "source": [
    "all_dfs[\"TX\"][\"State\"] = \"tx\"\n",
    "all_dfs[\"TX\"][\"Type\"] = \"GAP\""
   ]
  },
  {
   "cell_type": "code",
   "execution_count": null,
   "metadata": {},
   "outputs": [],
   "source": []
  },
  {
   "cell_type": "code",
   "execution_count": 8,
   "metadata": {},
   "outputs": [],
   "source": [
    "new_dfs = {}\n",
    "def mergeXY(df):\n",
    "    new = pd.DataFrame(columns=[\"CName\", \"Info\", \"State\", \"Type\"])\n",
    "    for index, row in df.iterrows():\n",
    "        cname = row[\"CName\"]\n",
    "        state = row[\"State\"]\n",
    "        typee = row[\"Type\"]\n",
    "        info = str(row[\"x_pos\"]) + \";\" + str(row[\"y_pos\"])\n",
    "        new = new.append({\"CName\":cname, \"State\":state, \"Type\":typee, \"Info\":info}, ignore_index=True)\n",
    "    return new"
   ]
  },
  {
   "cell_type": "code",
   "execution_count": 9,
   "metadata": {},
   "outputs": [],
   "source": [
    "for state, statedf in all_dfs.items():\n",
    "    new_dfs[state] = mergeXY(statedf)"
   ]
  },
  {
   "cell_type": "code",
   "execution_count": null,
   "metadata": {},
   "outputs": [],
   "source": []
  },
  {
   "cell_type": "code",
   "execution_count": null,
   "metadata": {},
   "outputs": [],
   "source": []
  },
  {
   "cell_type": "code",
   "execution_count": 10,
   "metadata": {},
   "outputs": [],
   "source": [
    "for state, df in new_dfs.items():\n",
    "    df.to_csv(state+\"_Gap_CName.csv\", index=False)"
   ]
  },
  {
   "cell_type": "code",
   "execution_count": null,
   "metadata": {},
   "outputs": [],
   "source": []
  }
 ],
 "metadata": {
  "kernelspec": {
   "display_name": "myenv",
   "language": "python",
   "name": "myenv"
  },
  "language_info": {
   "codemirror_mode": {
    "name": "ipython",
    "version": 3
   },
   "file_extension": ".py",
   "mimetype": "text/x-python",
   "name": "python",
   "nbconvert_exporter": "python",
   "pygments_lexer": "ipython3",
   "version": "3.7.7"
  }
 },
 "nbformat": 4,
 "nbformat_minor": 4
}
