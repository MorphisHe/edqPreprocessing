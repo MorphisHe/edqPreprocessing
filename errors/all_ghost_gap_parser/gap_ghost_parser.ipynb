{
 "cells": [
  {
   "cell_type": "code",
   "execution_count": 1,
   "metadata": {},
   "outputs": [],
   "source": [
    "import warnings\n",
    "warnings.filterwarnings('ignore')\n",
    "\n",
    "import geopandas as gpd\n",
    "from shapely import geometry\n",
    "import pandas as pd"
   ]
  },
  {
   "cell_type": "code",
   "execution_count": 9,
   "metadata": {},
   "outputs": [],
   "source": [
    "Polygon = geometry.polygon.Polygon\n",
    "MultiPolygon = geometry.multipolygon.MultiPolygon"
   ]
  },
  {
   "cell_type": "code",
   "execution_count": 10,
   "metadata": {},
   "outputs": [],
   "source": [
    "def parse(gdf, arg_i, arg_shape_id, arg_polygon_id):\n",
    "    columns = [\"geovertex_id\", \"shape_id\", \"polygon_id\", \"CName\", \"x_pos\", \"y_pos\"]\n",
    "    df = pd.DataFrame(columns=columns)\n",
    "\n",
    "    counter = 0\n",
    "    i = arg_i\n",
    "    shape_id = arg_shape_id\n",
    "    polygon_id = arg_polygon_id\n",
    "\n",
    "    for index, row in gdf.iterrows():\n",
    "        # for visualization only\n",
    "        if counter%15==0:\n",
    "            print(\" {:.2f}% \".format(counter/len(gdf)*100), end=\"\")\n",
    "        else:\n",
    "            print(\"#\", end=\"\")\n",
    "\n",
    "        cur_shape = row[\"geometry\"]\n",
    "        cur_type = type(cur_shape)\n",
    "\n",
    "        row = row.drop([\"geometry\"])\n",
    "        cur_row = row\n",
    "        cur_row[\"shape_id\"] = shape_id\n",
    "        shape_id += 1\n",
    "\n",
    "        if cur_type == MultiPolygon:\n",
    "            for polygon in cur_shape:\n",
    "                cur_row[\"polygon_id\"] = polygon_id\n",
    "                polygon_id += 1\n",
    "                for coords in polygon.exterior.coords:\n",
    "                    cur_row[\"geovertex_id\"] = i\n",
    "                    i += 1\n",
    "                    cur_row[\"x_pos\"] = coords[0]\n",
    "                    cur_row[\"y_pos\"] = coords[1]\n",
    "                    df = df.append(cur_row, ignore_index=True)\n",
    "                    cur_row = row\n",
    "        elif cur_type == Polygon:\n",
    "            cur_row[\"polygon_id\"] = polygon_id\n",
    "            polygon_id += 1\n",
    "            for coords in cur_shape.exterior.coords:\n",
    "                cur_row[\"geovertex_id\"] = i\n",
    "                i += 1\n",
    "                cur_row[\"x_pos\"] = coords[0]\n",
    "                cur_row[\"y_pos\"] = coords[1]\n",
    "                df = df.append(cur_row, ignore_index=True)\n",
    "                cur_row = row\n",
    "        counter += 1\n",
    "        \n",
    "    return df"
   ]
  },
  {
   "cell_type": "code",
   "execution_count": null,
   "metadata": {},
   "outputs": [],
   "source": [
    "types = [\"Ghost\", \"Gap\"]\n",
    "states = [\"RI\", \"VA\", \"TX\"]\n",
    "next_i, next_shape, next_poly = 1495449, 959, 1940\n",
    "\n",
    "for type_ in types:\n",
    "    for state in states:\n",
    "        file_name = state + \"_\" + type_ + \"_\" + \"CName.json\"\n",
    "        gdf = gpd.read_file(file_name)\n",
    "\n",
    "        print(\"\\n\\nStart\", file_name)\n",
    "\n",
    "        # parsing\n",
    "        gdf_Parsed = parse(gdf, arg_i=next_i, arg_shape_id=next_shape, arg_polygon_id=next_poly)\n",
    "\n",
    "        next_i = gdf_Parsed.iloc[-1][\"geovertex_id\"] + 1\n",
    "        next_shape = gdf_Parsed.iloc[-1][\"shape_id\"] + 1\n",
    "        next_poly = gdf_Parsed.iloc[-1][\"polygon_id\"] + 1\n",
    "        print(\"\\nLast row id: geo:{}, shape:{}, poly:{}\".format(gdf_Parsed.iloc[-1][\"geovertex_id\"],\n",
    "                                                         gdf_Parsed.iloc[-1][\"shape_id\"],\n",
    "                                                         gdf_Parsed.iloc[-1][\"polygon_id\"]))\n",
    "        print(\"Next id: geo:{}, shape:{}, poly:{}\".format(next_i, next_shape, next_poly))\n",
    "\n",
    "        gdf_Parsed[\"Type\"] = type_.upper()\n",
    "\n",
    "        # saving the result \n",
    "        file_name = file_name.split(\".\")[0]\n",
    "        gdf_Parsed.to_csv(file_name+\"_Parsed.csv\", index=False)"
   ]
  },
  {
   "cell_type": "code",
   "execution_count": null,
   "metadata": {},
   "outputs": [],
   "source": []
  },
  {
   "cell_type": "code",
   "execution_count": null,
   "metadata": {},
   "outputs": [],
   "source": []
  },
  {
   "cell_type": "code",
   "execution_count": null,
   "metadata": {},
   "outputs": [],
   "source": []
  }
 ],
 "metadata": {
  "kernelspec": {
   "display_name": "myenv",
   "language": "python",
   "name": "myenv"
  },
  "language_info": {
   "codemirror_mode": {
    "name": "ipython",
    "version": 3
   },
   "file_extension": ".py",
   "mimetype": "text/x-python",
   "name": "python",
   "nbconvert_exporter": "python",
   "pygments_lexer": "ipython3",
   "version": "3.7.7"
  }
 },
 "nbformat": 4,
 "nbformat_minor": 4
}
