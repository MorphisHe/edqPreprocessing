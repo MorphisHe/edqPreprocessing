{
 "cells": [
  {
   "cell_type": "code",
   "execution_count": 1,
   "metadata": {},
   "outputs": [],
   "source": [
    "import pandas as pd"
   ]
  },
  {
   "cell_type": "code",
   "execution_count": 2,
   "metadata": {},
   "outputs": [
    {
     "data": {
      "text/html": [
       "<div>\n",
       "<style scoped>\n",
       "    .dataframe tbody tr th:only-of-type {\n",
       "        vertical-align: middle;\n",
       "    }\n",
       "\n",
       "    .dataframe tbody tr th {\n",
       "        vertical-align: top;\n",
       "    }\n",
       "\n",
       "    .dataframe thead th {\n",
       "        text-align: right;\n",
       "    }\n",
       "</style>\n",
       "<table border=\"1\" class=\"dataframe\">\n",
       "  <thead>\n",
       "    <tr style=\"text-align: right;\">\n",
       "      <th></th>\n",
       "      <th>State</th>\n",
       "      <th>y_pos</th>\n",
       "      <th>CName</th>\n",
       "      <th>x_pos</th>\n",
       "    </tr>\n",
       "  </thead>\n",
       "  <tbody>\n",
       "    <tr>\n",
       "      <th>0</th>\n",
       "      <td>ri</td>\n",
       "      <td>41.745035</td>\n",
       "      <td>ri-bristol-0102</td>\n",
       "      <td>-71.335621</td>\n",
       "    </tr>\n",
       "    <tr>\n",
       "      <th>1</th>\n",
       "      <td>ri</td>\n",
       "      <td>41.759840</td>\n",
       "      <td>ri-bristol-0104</td>\n",
       "      <td>-71.305247</td>\n",
       "    </tr>\n",
       "    <tr>\n",
       "      <th>2</th>\n",
       "      <td>ri</td>\n",
       "      <td>41.720414</td>\n",
       "      <td>ri-bristol-0105</td>\n",
       "      <td>-71.300874</td>\n",
       "    </tr>\n",
       "    <tr>\n",
       "      <th>3</th>\n",
       "      <td>ri</td>\n",
       "      <td>41.680992</td>\n",
       "      <td>ri-bristol-0206</td>\n",
       "      <td>-71.254415</td>\n",
       "    </tr>\n",
       "    <tr>\n",
       "      <th>4</th>\n",
       "      <td>ri</td>\n",
       "      <td>41.729413</td>\n",
       "      <td>ri-bristol-3401</td>\n",
       "      <td>-71.274858</td>\n",
       "    </tr>\n",
       "  </tbody>\n",
       "</table>\n",
       "</div>"
      ],
      "text/plain": [
       "  State      y_pos            CName      x_pos\n",
       "0    ri  41.745035  ri-bristol-0102 -71.335621\n",
       "1    ri  41.759840  ri-bristol-0104 -71.305247\n",
       "2    ri  41.720414  ri-bristol-0105 -71.300874\n",
       "3    ri  41.680992  ri-bristol-0206 -71.254415\n",
       "4    ri  41.729413  ri-bristol-3401 -71.274858"
      ]
     },
     "execution_count": 2,
     "metadata": {},
     "output_type": "execute_result"
    }
   ],
   "source": [
    "df = pd.read_csv(\"multipolygonError.csv\")\n",
    "df.head()"
   ]
  },
  {
   "cell_type": "code",
   "execution_count": 3,
   "metadata": {},
   "outputs": [],
   "source": [
    "newdf = pd.DataFrame(columns=[\"State\", \"Info\", \"Type\"])\n",
    "for index, row in df.iterrows():\n",
    "    x, y = str(row[\"x_pos\"]), str(row[\"y_pos\"])\n",
    "    info = x + \";\" + y + \";\" + row[\"CName\"]\n",
    "    newdf = newdf.append({\"State\":row[\"State\"], \"Info\":info ,\"Type\":\"MULTIPOLY\"}, ignore_index=True)"
   ]
  },
  {
   "cell_type": "code",
   "execution_count": 4,
   "metadata": {},
   "outputs": [],
   "source": [
    "newdf.to_csv(\"multipolygonError.csv\", index=False)"
   ]
  },
  {
   "cell_type": "code",
   "execution_count": null,
   "metadata": {},
   "outputs": [],
   "source": []
  }
 ],
 "metadata": {
  "kernelspec": {
   "display_name": "myenv",
   "language": "python",
   "name": "myenv"
  },
  "language_info": {
   "codemirror_mode": {
    "name": "ipython",
    "version": 3
   },
   "file_extension": ".py",
   "mimetype": "text/x-python",
   "name": "python",
   "nbconvert_exporter": "python",
   "pygments_lexer": "ipython3",
   "version": "3.7.7"
  }
 },
 "nbformat": 4,
 "nbformat_minor": 4
}
