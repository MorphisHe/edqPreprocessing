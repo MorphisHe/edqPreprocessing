{
 "cells": [
  {
   "cell_type": "code",
   "execution_count": 1,
   "metadata": {},
   "outputs": [],
   "source": [
    "import pandas as pd"
   ]
  },
  {
   "cell_type": "code",
   "execution_count": 2,
   "metadata": {},
   "outputs": [],
   "source": [
    "tx, va = pd.read_csv(\"TX_Enclosed_Error.csv\"), pd.read_csv(\"VA_Enclosed_Error.csv\")"
   ]
  },
  {
   "cell_type": "code",
   "execution_count": 3,
   "metadata": {},
   "outputs": [
    {
     "data": {
      "text/html": [
       "<div>\n",
       "<style scoped>\n",
       "    .dataframe tbody tr th:only-of-type {\n",
       "        vertical-align: middle;\n",
       "    }\n",
       "\n",
       "    .dataframe tbody tr th {\n",
       "        vertical-align: top;\n",
       "    }\n",
       "\n",
       "    .dataframe thead th {\n",
       "        text-align: right;\n",
       "    }\n",
       "</style>\n",
       "<table border=\"1\" class=\"dataframe\">\n",
       "  <thead>\n",
       "    <tr style=\"text-align: right;\">\n",
       "      <th></th>\n",
       "      <th>State</th>\n",
       "      <th>CName_out</th>\n",
       "      <th>CName_in</th>\n",
       "      <th>x_pos</th>\n",
       "      <th>y_pos</th>\n",
       "    </tr>\n",
       "  </thead>\n",
       "  <tbody>\n",
       "    <tr>\n",
       "      <th>0</th>\n",
       "      <td>tx</td>\n",
       "      <td>tx-angelina-17</td>\n",
       "      <td>tx-angelina-017b</td>\n",
       "      <td>-94.418138</td>\n",
       "      <td>31.158304</td>\n",
       "    </tr>\n",
       "    <tr>\n",
       "      <th>1</th>\n",
       "      <td>tx</td>\n",
       "      <td>tx-bexar-1034</td>\n",
       "      <td>tx-bexar-1125c</td>\n",
       "      <td>-98.763426</td>\n",
       "      <td>29.447191</td>\n",
       "    </tr>\n",
       "    <tr>\n",
       "      <th>2</th>\n",
       "      <td>tx</td>\n",
       "      <td>tx-bexar-1108</td>\n",
       "      <td>tx-bexar-1073b</td>\n",
       "      <td>-98.731211</td>\n",
       "      <td>29.443516</td>\n",
       "    </tr>\n",
       "    <tr>\n",
       "      <th>3</th>\n",
       "      <td>tx</td>\n",
       "      <td>tx-bexar-1121</td>\n",
       "      <td>tx-bexar-1144b</td>\n",
       "      <td>-98.745648</td>\n",
       "      <td>29.475496</td>\n",
       "    </tr>\n",
       "    <tr>\n",
       "      <th>4</th>\n",
       "      <td>tx</td>\n",
       "      <td>tx-bexar-1121</td>\n",
       "      <td>tx-bexar-1144c</td>\n",
       "      <td>-98.747597</td>\n",
       "      <td>29.479813</td>\n",
       "    </tr>\n",
       "  </tbody>\n",
       "</table>\n",
       "</div>"
      ],
      "text/plain": [
       "  State       CName_out          CName_in      x_pos      y_pos\n",
       "0    tx  tx-angelina-17  tx-angelina-017b -94.418138  31.158304\n",
       "1    tx   tx-bexar-1034    tx-bexar-1125c -98.763426  29.447191\n",
       "2    tx   tx-bexar-1108    tx-bexar-1073b -98.731211  29.443516\n",
       "3    tx   tx-bexar-1121    tx-bexar-1144b -98.745648  29.475496\n",
       "4    tx   tx-bexar-1121    tx-bexar-1144c -98.747597  29.479813"
      ]
     },
     "execution_count": 3,
     "metadata": {},
     "output_type": "execute_result"
    }
   ],
   "source": [
    "tx.head()"
   ]
  },
  {
   "cell_type": "code",
   "execution_count": 4,
   "metadata": {},
   "outputs": [],
   "source": [
    "def parse(df, state):\n",
    "    newdf = pd.DataFrame(columns=[\"State\", \"Info\"])\n",
    "    for index, row in df.iterrows():\n",
    "        x, y = str(row[\"x_pos\"]), str(row[\"y_pos\"])\n",
    "        cin, cout = row[\"CName_in\"], row[\"CName_out\"]\n",
    "        info = x + \";\" + y + \";\" + cout + \";\" + cin\n",
    "        newdf = newdf.append({\"State\":state, \"Info\":info}, ignore_index=True)\n",
    "    return newdf"
   ]
  },
  {
   "cell_type": "code",
   "execution_count": 5,
   "metadata": {},
   "outputs": [],
   "source": [
    "tx = parse(tx, \"tx\")\n",
    "va = parse(va, \"va\")"
   ]
  },
  {
   "cell_type": "code",
   "execution_count": 6,
   "metadata": {},
   "outputs": [],
   "source": [
    "tx[\"Type\"] = \"ENCLOSED\"\n",
    "va[\"Type\"] = \"ENCLOSED\""
   ]
  },
  {
   "cell_type": "code",
   "execution_count": 7,
   "metadata": {},
   "outputs": [
    {
     "data": {
      "text/html": [
       "<div>\n",
       "<style scoped>\n",
       "    .dataframe tbody tr th:only-of-type {\n",
       "        vertical-align: middle;\n",
       "    }\n",
       "\n",
       "    .dataframe tbody tr th {\n",
       "        vertical-align: top;\n",
       "    }\n",
       "\n",
       "    .dataframe thead th {\n",
       "        text-align: right;\n",
       "    }\n",
       "</style>\n",
       "<table border=\"1\" class=\"dataframe\">\n",
       "  <thead>\n",
       "    <tr style=\"text-align: right;\">\n",
       "      <th></th>\n",
       "      <th>State</th>\n",
       "      <th>Info</th>\n",
       "      <th>Type</th>\n",
       "    </tr>\n",
       "  </thead>\n",
       "  <tbody>\n",
       "    <tr>\n",
       "      <th>0</th>\n",
       "      <td>tx</td>\n",
       "      <td>-94.41813819671164;31.158304491480827;tx-angel...</td>\n",
       "      <td>ENCLOSED</td>\n",
       "    </tr>\n",
       "    <tr>\n",
       "      <th>1</th>\n",
       "      <td>tx</td>\n",
       "      <td>-98.76342567015949;29.447190801814646;tx-bexar...</td>\n",
       "      <td>ENCLOSED</td>\n",
       "    </tr>\n",
       "    <tr>\n",
       "      <th>2</th>\n",
       "      <td>tx</td>\n",
       "      <td>-98.73121136426342;29.44351587039623;tx-bexar-...</td>\n",
       "      <td>ENCLOSED</td>\n",
       "    </tr>\n",
       "    <tr>\n",
       "      <th>3</th>\n",
       "      <td>tx</td>\n",
       "      <td>-98.74564769290251;29.475495632308675;tx-bexar...</td>\n",
       "      <td>ENCLOSED</td>\n",
       "    </tr>\n",
       "    <tr>\n",
       "      <th>4</th>\n",
       "      <td>tx</td>\n",
       "      <td>-98.74759650963257;29.479812775942825;tx-bexar...</td>\n",
       "      <td>ENCLOSED</td>\n",
       "    </tr>\n",
       "  </tbody>\n",
       "</table>\n",
       "</div>"
      ],
      "text/plain": [
       "  State                                               Info      Type\n",
       "0    tx  -94.41813819671164;31.158304491480827;tx-angel...  ENCLOSED\n",
       "1    tx  -98.76342567015949;29.447190801814646;tx-bexar...  ENCLOSED\n",
       "2    tx  -98.73121136426342;29.44351587039623;tx-bexar-...  ENCLOSED\n",
       "3    tx  -98.74564769290251;29.475495632308675;tx-bexar...  ENCLOSED\n",
       "4    tx  -98.74759650963257;29.479812775942825;tx-bexar...  ENCLOSED"
      ]
     },
     "execution_count": 7,
     "metadata": {},
     "output_type": "execute_result"
    }
   ],
   "source": [
    "tx.head()"
   ]
  },
  {
   "cell_type": "code",
   "execution_count": 8,
   "metadata": {},
   "outputs": [
    {
     "data": {
      "text/html": [
       "<div>\n",
       "<style scoped>\n",
       "    .dataframe tbody tr th:only-of-type {\n",
       "        vertical-align: middle;\n",
       "    }\n",
       "\n",
       "    .dataframe tbody tr th {\n",
       "        vertical-align: top;\n",
       "    }\n",
       "\n",
       "    .dataframe thead th {\n",
       "        text-align: right;\n",
       "    }\n",
       "</style>\n",
       "<table border=\"1\" class=\"dataframe\">\n",
       "  <thead>\n",
       "    <tr style=\"text-align: right;\">\n",
       "      <th></th>\n",
       "      <th>State</th>\n",
       "      <th>Info</th>\n",
       "      <th>Type</th>\n",
       "    </tr>\n",
       "  </thead>\n",
       "  <tbody>\n",
       "    <tr>\n",
       "      <th>0</th>\n",
       "      <td>va</td>\n",
       "      <td>-77.31098144849081;38.84503079812335;va-fairfa...</td>\n",
       "      <td>ENCLOSED</td>\n",
       "    </tr>\n",
       "    <tr>\n",
       "      <th>1</th>\n",
       "      <td>va</td>\n",
       "      <td>-77.47922257942889;38.75299582860442;va-manass...</td>\n",
       "      <td>ENCLOSED</td>\n",
       "    </tr>\n",
       "    <tr>\n",
       "      <th>2</th>\n",
       "      <td>va</td>\n",
       "      <td>-78.94116018847949;38.41727183455483;va-rockin...</td>\n",
       "      <td>ENCLOSED</td>\n",
       "    </tr>\n",
       "  </tbody>\n",
       "</table>\n",
       "</div>"
      ],
      "text/plain": [
       "  State                                               Info      Type\n",
       "0    va  -77.31098144849081;38.84503079812335;va-fairfa...  ENCLOSED\n",
       "1    va  -77.47922257942889;38.75299582860442;va-manass...  ENCLOSED\n",
       "2    va  -78.94116018847949;38.41727183455483;va-rockin...  ENCLOSED"
      ]
     },
     "execution_count": 8,
     "metadata": {},
     "output_type": "execute_result"
    }
   ],
   "source": [
    "va.head()"
   ]
  },
  {
   "cell_type": "code",
   "execution_count": 9,
   "metadata": {},
   "outputs": [],
   "source": [
    "tx.to_csv(\"TX_Enclosed_Error_Parsed.csv\", index=False)\n",
    "va.to_csv(\"VA_Enclosed_Error_Parsed.csv\", index=False)"
   ]
  },
  {
   "cell_type": "code",
   "execution_count": null,
   "metadata": {},
   "outputs": [],
   "source": []
  }
 ],
 "metadata": {
  "kernelspec": {
   "display_name": "myenv",
   "language": "python",
   "name": "myenv"
  },
  "language_info": {
   "codemirror_mode": {
    "name": "ipython",
    "version": 3
   },
   "file_extension": ".py",
   "mimetype": "text/x-python",
   "name": "python",
   "nbconvert_exporter": "python",
   "pygments_lexer": "ipython3",
   "version": "3.7.7"
  }
 },
 "nbformat": 4,
 "nbformat_minor": 4
}
