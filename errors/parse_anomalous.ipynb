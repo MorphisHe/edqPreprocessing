{
 "cells": [
  {
   "cell_type": "code",
   "execution_count": 1,
   "metadata": {},
   "outputs": [],
   "source": [
    "import pandas as pd"
   ]
  },
  {
   "cell_type": "code",
   "execution_count": 2,
   "metadata": {},
   "outputs": [
    {
     "name": "stdout",
     "output_type": "stream",
     "text": [
      "RI_Empty.json             anomalous_data.csv        \u001b[1m\u001b[34mghost\u001b[m\u001b[m\r\n",
      "TX_Empty.json             anomalous_data_parsed.csv multipolygonError.csv\r\n",
      "VA_Empty.json             \u001b[1m\u001b[34menclosed precinct\u001b[m\u001b[m         parse_anomalous.ipynb\r\n",
      "VA_Overlap.json           \u001b[1m\u001b[34mgap\u001b[m\u001b[m\r\n",
      "\u001b[1m\u001b[34mall_ghost_gap_parser\u001b[m\u001b[m      gap_ghost_parser.ipynb\r\n"
     ]
    }
   ],
   "source": [
    "!ls"
   ]
  },
  {
   "cell_type": "code",
   "execution_count": 3,
   "metadata": {},
   "outputs": [],
   "source": [
    "df = pd.read_csv(\"anomalous_data.csv\")"
   ]
  },
  {
   "cell_type": "code",
   "execution_count": 4,
   "metadata": {},
   "outputs": [
    {
     "data": {
      "text/html": [
       "<div>\n",
       "<style scoped>\n",
       "    .dataframe tbody tr th:only-of-type {\n",
       "        vertical-align: middle;\n",
       "    }\n",
       "\n",
       "    .dataframe tbody tr th {\n",
       "        vertical-align: top;\n",
       "    }\n",
       "\n",
       "    .dataframe thead th {\n",
       "        text-align: right;\n",
       "    }\n",
       "</style>\n",
       "<table border=\"1\" class=\"dataframe\">\n",
       "  <thead>\n",
       "    <tr style=\"text-align: right;\">\n",
       "      <th></th>\n",
       "      <th>State</th>\n",
       "      <th>CName</th>\n",
       "      <th>MissingVote</th>\n",
       "      <th>MissingDemo</th>\n",
       "      <th>VoteDemoConflict</th>\n",
       "      <th>x_pos</th>\n",
       "      <th>y_pos</th>\n",
       "    </tr>\n",
       "  </thead>\n",
       "  <tbody>\n",
       "    <tr>\n",
       "      <th>0</th>\n",
       "      <td>ri</td>\n",
       "      <td>ri-bristol-0201</td>\n",
       "      <td>NaN</td>\n",
       "      <td>NaN</td>\n",
       "      <td>p16;c16;c18</td>\n",
       "      <td>-71.266333</td>\n",
       "      <td>41.708733</td>\n",
       "    </tr>\n",
       "    <tr>\n",
       "      <th>1</th>\n",
       "      <td>ri</td>\n",
       "      <td>ri-bristol-0207</td>\n",
       "      <td>NaN</td>\n",
       "      <td>NaN</td>\n",
       "      <td>p16;c16;c18</td>\n",
       "      <td>-71.256753</td>\n",
       "      <td>41.661750</td>\n",
       "    </tr>\n",
       "    <tr>\n",
       "      <th>2</th>\n",
       "      <td>ri</td>\n",
       "      <td>ri-providence-0401</td>\n",
       "      <td>NaN</td>\n",
       "      <td>NaN</td>\n",
       "      <td>p16;c16;c18</td>\n",
       "      <td>-71.385925</td>\n",
       "      <td>41.887850</td>\n",
       "    </tr>\n",
       "    <tr>\n",
       "      <th>3</th>\n",
       "      <td>ri</td>\n",
       "      <td>ri-providence-0402</td>\n",
       "      <td>NaN</td>\n",
       "      <td>NaN</td>\n",
       "      <td>p16;c18</td>\n",
       "      <td>-71.389906</td>\n",
       "      <td>41.892830</td>\n",
       "    </tr>\n",
       "    <tr>\n",
       "      <th>4</th>\n",
       "      <td>ri</td>\n",
       "      <td>ri-providence-0403</td>\n",
       "      <td>NaN</td>\n",
       "      <td>NaN</td>\n",
       "      <td>c18</td>\n",
       "      <td>-71.392898</td>\n",
       "      <td>41.885401</td>\n",
       "    </tr>\n",
       "  </tbody>\n",
       "</table>\n",
       "</div>"
      ],
      "text/plain": [
       "  State               CName MissingVote MissingDemo VoteDemoConflict  \\\n",
       "0    ri     ri-bristol-0201         NaN         NaN      p16;c16;c18   \n",
       "1    ri     ri-bristol-0207         NaN         NaN      p16;c16;c18   \n",
       "2    ri  ri-providence-0401         NaN         NaN      p16;c16;c18   \n",
       "3    ri  ri-providence-0402         NaN         NaN          p16;c18   \n",
       "4    ri  ri-providence-0403         NaN         NaN              c18   \n",
       "\n",
       "       x_pos      y_pos  \n",
       "0 -71.266333  41.708733  \n",
       "1 -71.256753  41.661750  \n",
       "2 -71.385925  41.887850  \n",
       "3 -71.389906  41.892830  \n",
       "4 -71.392898  41.885401  "
      ]
     },
     "execution_count": 4,
     "metadata": {},
     "output_type": "execute_result"
    }
   ],
   "source": [
    "df.head()"
   ]
  },
  {
   "cell_type": "code",
   "execution_count": 5,
   "metadata": {},
   "outputs": [
    {
     "data": {
      "text/html": [
       "<div>\n",
       "<style scoped>\n",
       "    .dataframe tbody tr th:only-of-type {\n",
       "        vertical-align: middle;\n",
       "    }\n",
       "\n",
       "    .dataframe tbody tr th {\n",
       "        vertical-align: top;\n",
       "    }\n",
       "\n",
       "    .dataframe thead th {\n",
       "        text-align: right;\n",
       "    }\n",
       "</style>\n",
       "<table border=\"1\" class=\"dataframe\">\n",
       "  <thead>\n",
       "    <tr style=\"text-align: right;\">\n",
       "      <th></th>\n",
       "      <th>State</th>\n",
       "      <th>Info</th>\n",
       "      <th>Type</th>\n",
       "    </tr>\n",
       "  </thead>\n",
       "  <tbody>\n",
       "  </tbody>\n",
       "</table>\n",
       "</div>"
      ],
      "text/plain": [
       "Empty DataFrame\n",
       "Columns: [State, Info, Type]\n",
       "Index: []"
      ]
     },
     "execution_count": 5,
     "metadata": {},
     "output_type": "execute_result"
    }
   ],
   "source": [
    "newdf = pd.DataFrame(columns=[\"State\", \"Info\", \"Type\"])\n",
    "newdf"
   ]
  },
  {
   "cell_type": "code",
   "execution_count": 6,
   "metadata": {},
   "outputs": [],
   "source": [
    "for index, row in df.iterrows():\n",
    "    MV = row[\"MissingVote\"]\n",
    "    MD = row[\"MissingDemo\"]\n",
    "    VDC = row[\"VoteDemoConflict\"]\n",
    "    CName = row[\"CName\"]\n",
    "    state = row[\"State\"]\n",
    "    x, y = str(row[\"x_pos\"]), str(row[\"y_pos\"])\n",
    "    \n",
    "    if not pd.isna(MV):\n",
    "        newdf = newdf.append({\"State\":state, \"Info\":x+\";\"+y+\";\"+CName+\";\"+MV, \"Type\":\"NOVOTE\"}, ignore_index=True)\n",
    "    if not pd.isna(MD):\n",
    "        newdf = newdf.append({\"State\":state, \"Info\":x+\";\"+y+\";\"+CName, \"Type\":\"NODEMO\"}, ignore_index=True)\n",
    "    if not pd.isna(VDC):\n",
    "        newdf = newdf.append({\"State\":state, \"Info\":x+\";\"+y+\";\"+CName+\";\"+VDC, \"Type\":\"VOTEDEMO\"}, ignore_index=True)"
   ]
  },
  {
   "cell_type": "code",
   "execution_count": 7,
   "metadata": {},
   "outputs": [
    {
     "data": {
      "text/html": [
       "<div>\n",
       "<style scoped>\n",
       "    .dataframe tbody tr th:only-of-type {\n",
       "        vertical-align: middle;\n",
       "    }\n",
       "\n",
       "    .dataframe tbody tr th {\n",
       "        vertical-align: top;\n",
       "    }\n",
       "\n",
       "    .dataframe thead th {\n",
       "        text-align: right;\n",
       "    }\n",
       "</style>\n",
       "<table border=\"1\" class=\"dataframe\">\n",
       "  <thead>\n",
       "    <tr style=\"text-align: right;\">\n",
       "      <th></th>\n",
       "      <th>State</th>\n",
       "      <th>Info</th>\n",
       "      <th>Type</th>\n",
       "    </tr>\n",
       "  </thead>\n",
       "  <tbody>\n",
       "    <tr>\n",
       "      <th>0</th>\n",
       "      <td>ri</td>\n",
       "      <td>-71.26633301488158;41.70873349469004;ri-bristo...</td>\n",
       "      <td>VOTEDEMO</td>\n",
       "    </tr>\n",
       "    <tr>\n",
       "      <th>1</th>\n",
       "      <td>ri</td>\n",
       "      <td>-71.25675317256555;41.6617502873484;ri-bristol...</td>\n",
       "      <td>VOTEDEMO</td>\n",
       "    </tr>\n",
       "    <tr>\n",
       "      <th>2</th>\n",
       "      <td>ri</td>\n",
       "      <td>-71.38592541377237;41.887849998787075;ri-provi...</td>\n",
       "      <td>VOTEDEMO</td>\n",
       "    </tr>\n",
       "    <tr>\n",
       "      <th>3</th>\n",
       "      <td>ri</td>\n",
       "      <td>-71.38990623078901;41.89282996870469;ri-provid...</td>\n",
       "      <td>VOTEDEMO</td>\n",
       "    </tr>\n",
       "    <tr>\n",
       "      <th>4</th>\n",
       "      <td>ri</td>\n",
       "      <td>-71.39289795853317;41.885400534893854;ri-provi...</td>\n",
       "      <td>VOTEDEMO</td>\n",
       "    </tr>\n",
       "  </tbody>\n",
       "</table>\n",
       "</div>"
      ],
      "text/plain": [
       "  State                                               Info      Type\n",
       "0    ri  -71.26633301488158;41.70873349469004;ri-bristo...  VOTEDEMO\n",
       "1    ri  -71.25675317256555;41.6617502873484;ri-bristol...  VOTEDEMO\n",
       "2    ri  -71.38592541377237;41.887849998787075;ri-provi...  VOTEDEMO\n",
       "3    ri  -71.38990623078901;41.89282996870469;ri-provid...  VOTEDEMO\n",
       "4    ri  -71.39289795853317;41.885400534893854;ri-provi...  VOTEDEMO"
      ]
     },
     "execution_count": 7,
     "metadata": {},
     "output_type": "execute_result"
    }
   ],
   "source": [
    "newdf.head()"
   ]
  },
  {
   "cell_type": "code",
   "execution_count": 8,
   "metadata": {},
   "outputs": [],
   "source": [
    "newdf.to_csv(\"anomalous_data_parsed.csv\", index=False)"
   ]
  },
  {
   "cell_type": "code",
   "execution_count": null,
   "metadata": {},
   "outputs": [],
   "source": []
  }
 ],
 "metadata": {
  "kernelspec": {
   "display_name": "myenv",
   "language": "python",
   "name": "myenv"
  },
  "language_info": {
   "codemirror_mode": {
    "name": "ipython",
    "version": 3
   },
   "file_extension": ".py",
   "mimetype": "text/x-python",
   "name": "python",
   "nbconvert_exporter": "python",
   "pygments_lexer": "ipython3",
   "version": "3.7.7"
  }
 },
 "nbformat": 4,
 "nbformat_minor": 4
}
