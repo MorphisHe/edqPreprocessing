{
 "cells": [
  {
   "cell_type": "code",
   "execution_count": 4,
   "metadata": {},
   "outputs": [
    {
     "name": "stdout",
     "output_type": "stream",
     "text": [
      "\u001b[1m\u001b[34mCounty\u001b[m\u001b[m                 \u001b[1m\u001b[34mPrecinct\u001b[m\u001b[m               State_Cleaned.json\r\n",
      "County_Cleaned.json    RI_Geographic.ipynb    parser.ipynb\r\n",
      "Parsed_RI_Precinct.csv \u001b[1m\u001b[34mState\u001b[m\u001b[m\r\n"
     ]
    }
   ],
   "source": [
    "!ls"
   ]
  },
  {
   "cell_type": "code",
   "execution_count": 5,
   "metadata": {},
   "outputs": [],
   "source": [
    "import geopandas as gpd\n",
    "import pandas as pd"
   ]
  },
  {
   "cell_type": "code",
   "execution_count": 42,
   "metadata": {},
   "outputs": [],
   "source": [
    "stateDF = gpd.read_file(\"State/RI_State_Converted.GeoJSON\")\n",
    "countyDF = gpd.read_file(\"County/RI_County.json\")\n",
    "precinctDF = gpd.read_file(\"Precinct/RI_Precinct.json\")"
   ]
  },
  {
   "cell_type": "code",
   "execution_count": 43,
   "metadata": {},
   "outputs": [
    {
     "data": {
      "text/html": [
       "<div>\n",
       "<style scoped>\n",
       "    .dataframe tbody tr th:only-of-type {\n",
       "        vertical-align: middle;\n",
       "    }\n",
       "\n",
       "    .dataframe tbody tr th {\n",
       "        vertical-align: top;\n",
       "    }\n",
       "\n",
       "    .dataframe thead th {\n",
       "        text-align: right;\n",
       "    }\n",
       "</style>\n",
       "<table border=\"1\" class=\"dataframe\">\n",
       "  <thead>\n",
       "    <tr style=\"text-align: right;\">\n",
       "      <th></th>\n",
       "      <th>LAND</th>\n",
       "      <th>geometry</th>\n",
       "    </tr>\n",
       "  </thead>\n",
       "  <tbody>\n",
       "    <tr>\n",
       "      <th>0</th>\n",
       "      <td>Y</td>\n",
       "      <td>POLYGON ((-71.53173 41.37920, -71.53177 41.379...</td>\n",
       "    </tr>\n",
       "    <tr>\n",
       "      <th>1</th>\n",
       "      <td>N</td>\n",
       "      <td>POLYGON ((-71.52526 41.38229, -71.52519 41.382...</td>\n",
       "    </tr>\n",
       "    <tr>\n",
       "      <th>2</th>\n",
       "      <td>Y</td>\n",
       "      <td>POLYGON ((-71.29308 41.71354, -71.29307 41.713...</td>\n",
       "    </tr>\n",
       "    <tr>\n",
       "      <th>3</th>\n",
       "      <td>N</td>\n",
       "      <td>POLYGON ((-71.76970 41.33260, -71.76974 41.332...</td>\n",
       "    </tr>\n",
       "    <tr>\n",
       "      <th>4</th>\n",
       "      <td>N</td>\n",
       "      <td>POLYGON ((-71.72929 41.33300, -71.72931 41.333...</td>\n",
       "    </tr>\n",
       "  </tbody>\n",
       "</table>\n",
       "</div>"
      ],
      "text/plain": [
       "  LAND                                           geometry\n",
       "0    Y  POLYGON ((-71.53173 41.37920, -71.53177 41.379...\n",
       "1    N  POLYGON ((-71.52526 41.38229, -71.52519 41.382...\n",
       "2    Y  POLYGON ((-71.29308 41.71354, -71.29307 41.713...\n",
       "3    N  POLYGON ((-71.76970 41.33260, -71.76974 41.332...\n",
       "4    N  POLYGON ((-71.72929 41.33300, -71.72931 41.333..."
      ]
     },
     "execution_count": 43,
     "metadata": {},
     "output_type": "execute_result"
    }
   ],
   "source": [
    "stateDF.head()"
   ]
  },
  {
   "cell_type": "code",
   "execution_count": 44,
   "metadata": {},
   "outputs": [
    {
     "data": {
      "text/html": [
       "<div>\n",
       "<style scoped>\n",
       "    .dataframe tbody tr th:only-of-type {\n",
       "        vertical-align: middle;\n",
       "    }\n",
       "\n",
       "    .dataframe tbody tr th {\n",
       "        vertical-align: top;\n",
       "    }\n",
       "\n",
       "    .dataframe thead th {\n",
       "        text-align: right;\n",
       "    }\n",
       "</style>\n",
       "<table border=\"1\" class=\"dataframe\">\n",
       "  <thead>\n",
       "    <tr style=\"text-align: right;\">\n",
       "      <th></th>\n",
       "      <th>OBJECTID</th>\n",
       "      <th>COUNTY</th>\n",
       "      <th>LAND</th>\n",
       "      <th>Shape_Leng</th>\n",
       "      <th>Shape_Area</th>\n",
       "      <th>Shape__Are</th>\n",
       "      <th>Shape__Len</th>\n",
       "      <th>geometry</th>\n",
       "    </tr>\n",
       "  </thead>\n",
       "  <tbody>\n",
       "    <tr>\n",
       "      <th>0</th>\n",
       "      <td>122</td>\n",
       "      <td>NEWPORT</td>\n",
       "      <td>Y</td>\n",
       "      <td>0.000852</td>\n",
       "      <td>5.000704e-08</td>\n",
       "      <td>5.000704e-08</td>\n",
       "      <td>0.000852</td>\n",
       "      <td>POLYGON ((-71.32251 41.45896, -71.32259 41.458...</td>\n",
       "    </tr>\n",
       "    <tr>\n",
       "      <th>1</th>\n",
       "      <td>123</td>\n",
       "      <td>NEWPORT</td>\n",
       "      <td>Y</td>\n",
       "      <td>0.001081</td>\n",
       "      <td>7.367410e-08</td>\n",
       "      <td>7.367410e-08</td>\n",
       "      <td>0.001081</td>\n",
       "      <td>POLYGON ((-71.30262 41.45879, -71.30268 41.458...</td>\n",
       "    </tr>\n",
       "    <tr>\n",
       "      <th>2</th>\n",
       "      <td>124</td>\n",
       "      <td>NEWPORT</td>\n",
       "      <td>Y</td>\n",
       "      <td>0.000473</td>\n",
       "      <td>1.449307e-08</td>\n",
       "      <td>1.449307e-08</td>\n",
       "      <td>0.000473</td>\n",
       "      <td>POLYGON ((-71.18504 41.45897, -71.18511 41.458...</td>\n",
       "    </tr>\n",
       "    <tr>\n",
       "      <th>3</th>\n",
       "      <td>125</td>\n",
       "      <td>NEWPORT</td>\n",
       "      <td>Y</td>\n",
       "      <td>0.001259</td>\n",
       "      <td>9.066567e-08</td>\n",
       "      <td>9.066567e-08</td>\n",
       "      <td>0.001259</td>\n",
       "      <td>POLYGON ((-71.18538 41.45909, -71.18544 41.459...</td>\n",
       "    </tr>\n",
       "    <tr>\n",
       "      <th>4</th>\n",
       "      <td>126</td>\n",
       "      <td>NEWPORT</td>\n",
       "      <td>Y</td>\n",
       "      <td>0.002188</td>\n",
       "      <td>2.534847e-07</td>\n",
       "      <td>2.534847e-07</td>\n",
       "      <td>0.002188</td>\n",
       "      <td>POLYGON ((-71.30032 41.45967, -71.30026 41.459...</td>\n",
       "    </tr>\n",
       "  </tbody>\n",
       "</table>\n",
       "</div>"
      ],
      "text/plain": [
       "   OBJECTID   COUNTY LAND  Shape_Leng    Shape_Area    Shape__Are  Shape__Len  \\\n",
       "0       122  NEWPORT    Y    0.000852  5.000704e-08  5.000704e-08    0.000852   \n",
       "1       123  NEWPORT    Y    0.001081  7.367410e-08  7.367410e-08    0.001081   \n",
       "2       124  NEWPORT    Y    0.000473  1.449307e-08  1.449307e-08    0.000473   \n",
       "3       125  NEWPORT    Y    0.001259  9.066567e-08  9.066567e-08    0.001259   \n",
       "4       126  NEWPORT    Y    0.002188  2.534847e-07  2.534847e-07    0.002188   \n",
       "\n",
       "                                            geometry  \n",
       "0  POLYGON ((-71.32251 41.45896, -71.32259 41.458...  \n",
       "1  POLYGON ((-71.30262 41.45879, -71.30268 41.458...  \n",
       "2  POLYGON ((-71.18504 41.45897, -71.18511 41.458...  \n",
       "3  POLYGON ((-71.18538 41.45909, -71.18544 41.459...  \n",
       "4  POLYGON ((-71.30032 41.45967, -71.30026 41.459...  "
      ]
     },
     "execution_count": 44,
     "metadata": {},
     "output_type": "execute_result"
    }
   ],
   "source": [
    "countyDF.head()"
   ]
  },
  {
   "cell_type": "code",
   "execution_count": 45,
   "metadata": {},
   "outputs": [
    {
     "data": {
      "text/html": [
       "<div>\n",
       "<style scoped>\n",
       "    .dataframe tbody tr th:only-of-type {\n",
       "        vertical-align: middle;\n",
       "    }\n",
       "\n",
       "    .dataframe tbody tr th {\n",
       "        vertical-align: top;\n",
       "    }\n",
       "\n",
       "    .dataframe thead th {\n",
       "        text-align: right;\n",
       "    }\n",
       "</style>\n",
       "<table border=\"1\" class=\"dataframe\">\n",
       "  <thead>\n",
       "    <tr style=\"text-align: right;\">\n",
       "      <th></th>\n",
       "      <th>OBJECTID</th>\n",
       "      <th>NAME</th>\n",
       "      <th>Shape__Are</th>\n",
       "      <th>Shape__Len</th>\n",
       "      <th>geometry</th>\n",
       "    </tr>\n",
       "  </thead>\n",
       "  <tbody>\n",
       "    <tr>\n",
       "      <th>0</th>\n",
       "      <td>1</td>\n",
       "      <td>0102</td>\n",
       "      <td>0.000348</td>\n",
       "      <td>0.153037</td>\n",
       "      <td>MULTIPOLYGON (((-71.34122 41.73016, -71.34123 ...</td>\n",
       "    </tr>\n",
       "    <tr>\n",
       "      <th>1</th>\n",
       "      <td>2</td>\n",
       "      <td>0101</td>\n",
       "      <td>0.000426</td>\n",
       "      <td>0.107569</td>\n",
       "      <td>POLYGON ((-71.32270 41.77270, -71.32270 41.772...</td>\n",
       "    </tr>\n",
       "    <tr>\n",
       "      <th>2</th>\n",
       "      <td>3</td>\n",
       "      <td>0104</td>\n",
       "      <td>0.000509</td>\n",
       "      <td>0.338228</td>\n",
       "      <td>MULTIPOLYGON (((-71.30425 41.74515, -71.30425 ...</td>\n",
       "    </tr>\n",
       "    <tr>\n",
       "      <th>3</th>\n",
       "      <td>4</td>\n",
       "      <td>0105</td>\n",
       "      <td>0.000520</td>\n",
       "      <td>0.297727</td>\n",
       "      <td>MULTIPOLYGON (((-71.29308 41.71355, -71.29307 ...</td>\n",
       "    </tr>\n",
       "    <tr>\n",
       "      <th>4</th>\n",
       "      <td>5</td>\n",
       "      <td>0103</td>\n",
       "      <td>0.000584</td>\n",
       "      <td>0.158078</td>\n",
       "      <td>POLYGON ((-71.31979 41.73751, -71.31897 41.737...</td>\n",
       "    </tr>\n",
       "  </tbody>\n",
       "</table>\n",
       "</div>"
      ],
      "text/plain": [
       "   OBJECTID  NAME  Shape__Are  Shape__Len  \\\n",
       "0         1  0102    0.000348    0.153037   \n",
       "1         2  0101    0.000426    0.107569   \n",
       "2         3  0104    0.000509    0.338228   \n",
       "3         4  0105    0.000520    0.297727   \n",
       "4         5  0103    0.000584    0.158078   \n",
       "\n",
       "                                            geometry  \n",
       "0  MULTIPOLYGON (((-71.34122 41.73016, -71.34123 ...  \n",
       "1  POLYGON ((-71.32270 41.77270, -71.32270 41.772...  \n",
       "2  MULTIPOLYGON (((-71.30425 41.74515, -71.30425 ...  \n",
       "3  MULTIPOLYGON (((-71.29308 41.71355, -71.29307 ...  \n",
       "4  POLYGON ((-71.31979 41.73751, -71.31897 41.737...  "
      ]
     },
     "execution_count": 45,
     "metadata": {},
     "output_type": "execute_result"
    }
   ],
   "source": [
    "precinctDF.head()"
   ]
  },
  {
   "cell_type": "code",
   "execution_count": 46,
   "metadata": {},
   "outputs": [],
   "source": [
    "countyDF.drop([\"OBJECTID\", \"LAND\", \"Shape_Leng\", \"Shape_Area\", \"Shape__Are\", \"Shape__Len\"], axis=1, inplace=True)"
   ]
  },
  {
   "cell_type": "code",
   "execution_count": 47,
   "metadata": {},
   "outputs": [
    {
     "data": {
      "text/html": [
       "<div>\n",
       "<style scoped>\n",
       "    .dataframe tbody tr th:only-of-type {\n",
       "        vertical-align: middle;\n",
       "    }\n",
       "\n",
       "    .dataframe tbody tr th {\n",
       "        vertical-align: top;\n",
       "    }\n",
       "\n",
       "    .dataframe thead th {\n",
       "        text-align: right;\n",
       "    }\n",
       "</style>\n",
       "<table border=\"1\" class=\"dataframe\">\n",
       "  <thead>\n",
       "    <tr style=\"text-align: right;\">\n",
       "      <th></th>\n",
       "      <th>COUNTY</th>\n",
       "      <th>geometry</th>\n",
       "    </tr>\n",
       "  </thead>\n",
       "  <tbody>\n",
       "    <tr>\n",
       "      <th>0</th>\n",
       "      <td>NEWPORT</td>\n",
       "      <td>POLYGON ((-71.32251 41.45896, -71.32259 41.458...</td>\n",
       "    </tr>\n",
       "  </tbody>\n",
       "</table>\n",
       "</div>"
      ],
      "text/plain": [
       "    COUNTY                                           geometry\n",
       "0  NEWPORT  POLYGON ((-71.32251 41.45896, -71.32259 41.458..."
      ]
     },
     "execution_count": 47,
     "metadata": {},
     "output_type": "execute_result"
    }
   ],
   "source": [
    "countyDF.head(1)"
   ]
  },
  {
   "cell_type": "code",
   "execution_count": 48,
   "metadata": {},
   "outputs": [],
   "source": [
    "countyDF.rename({\"COUNTY\":\"County\"}, axis=1, inplace=True)"
   ]
  },
  {
   "cell_type": "code",
   "execution_count": 49,
   "metadata": {},
   "outputs": [],
   "source": [
    "def lower_capitalize(string):\n",
    "    splited = string.split(\" \")\n",
    "    for i in range(len(splited)):\n",
    "        splited[i] = splited[i].lower().capitalize()\n",
    "        \n",
    "    return ' '.join(splited)"
   ]
  },
  {
   "cell_type": "code",
   "execution_count": 50,
   "metadata": {},
   "outputs": [
    {
     "data": {
      "text/html": [
       "<div>\n",
       "<style scoped>\n",
       "    .dataframe tbody tr th:only-of-type {\n",
       "        vertical-align: middle;\n",
       "    }\n",
       "\n",
       "    .dataframe tbody tr th {\n",
       "        vertical-align: top;\n",
       "    }\n",
       "\n",
       "    .dataframe thead th {\n",
       "        text-align: right;\n",
       "    }\n",
       "</style>\n",
       "<table border=\"1\" class=\"dataframe\">\n",
       "  <thead>\n",
       "    <tr style=\"text-align: right;\">\n",
       "      <th></th>\n",
       "      <th>County</th>\n",
       "      <th>geometry</th>\n",
       "    </tr>\n",
       "  </thead>\n",
       "  <tbody>\n",
       "    <tr>\n",
       "      <th>0</th>\n",
       "      <td>Newport</td>\n",
       "      <td>POLYGON ((-71.32251 41.45896, -71.32259 41.458...</td>\n",
       "    </tr>\n",
       "    <tr>\n",
       "      <th>1</th>\n",
       "      <td>Newport</td>\n",
       "      <td>POLYGON ((-71.30262 41.45879, -71.30268 41.458...</td>\n",
       "    </tr>\n",
       "    <tr>\n",
       "      <th>2</th>\n",
       "      <td>Newport</td>\n",
       "      <td>POLYGON ((-71.18504 41.45897, -71.18511 41.458...</td>\n",
       "    </tr>\n",
       "    <tr>\n",
       "      <th>3</th>\n",
       "      <td>Newport</td>\n",
       "      <td>POLYGON ((-71.18538 41.45909, -71.18544 41.459...</td>\n",
       "    </tr>\n",
       "    <tr>\n",
       "      <th>4</th>\n",
       "      <td>Newport</td>\n",
       "      <td>POLYGON ((-71.30032 41.45967, -71.30026 41.459...</td>\n",
       "    </tr>\n",
       "  </tbody>\n",
       "</table>\n",
       "</div>"
      ],
      "text/plain": [
       "    County                                           geometry\n",
       "0  Newport  POLYGON ((-71.32251 41.45896, -71.32259 41.458...\n",
       "1  Newport  POLYGON ((-71.30262 41.45879, -71.30268 41.458...\n",
       "2  Newport  POLYGON ((-71.18504 41.45897, -71.18511 41.458...\n",
       "3  Newport  POLYGON ((-71.18538 41.45909, -71.18544 41.459...\n",
       "4  Newport  POLYGON ((-71.30032 41.45967, -71.30026 41.459..."
      ]
     },
     "execution_count": 50,
     "metadata": {},
     "output_type": "execute_result"
    }
   ],
   "source": [
    "for index, row in countyDF.iterrows():\n",
    "    county = lower_capitalize(row[\"County\"])\n",
    "    countyDF.at[index, \"County\"] = county\n",
    "countyDF.head()"
   ]
  },
  {
   "cell_type": "code",
   "execution_count": 51,
   "metadata": {},
   "outputs": [],
   "source": [
    "countyDF.to_file(\"County_Cleaned.GeoJSON\", driver=\"GeoJSON\")"
   ]
  },
  {
   "cell_type": "code",
   "execution_count": 6,
   "metadata": {
    "scrolled": true
   },
   "outputs": [],
   "source": [
    "stateDF.head()"
   ]
  },
  {
   "cell_type": "code",
   "execution_count": 53,
   "metadata": {},
   "outputs": [],
   "source": [
    "stateDF.drop([\"LAND\"], axis=1, inplace=True)\n",
    "stateDF.to_file(\"State_Cleaned.GeoJSON\", driver=\"GeoJSON\")"
   ]
  },
  {
   "cell_type": "code",
   "execution_count": null,
   "metadata": {},
   "outputs": [],
   "source": []
  },
  {
   "cell_type": "code",
   "execution_count": 54,
   "metadata": {},
   "outputs": [
    {
     "data": {
      "text/html": [
       "<div>\n",
       "<style scoped>\n",
       "    .dataframe tbody tr th:only-of-type {\n",
       "        vertical-align: middle;\n",
       "    }\n",
       "\n",
       "    .dataframe tbody tr th {\n",
       "        vertical-align: top;\n",
       "    }\n",
       "\n",
       "    .dataframe thead th {\n",
       "        text-align: right;\n",
       "    }\n",
       "</style>\n",
       "<table border=\"1\" class=\"dataframe\">\n",
       "  <thead>\n",
       "    <tr style=\"text-align: right;\">\n",
       "      <th></th>\n",
       "      <th>OBJECTID</th>\n",
       "      <th>NAME</th>\n",
       "      <th>Shape__Are</th>\n",
       "      <th>Shape__Len</th>\n",
       "      <th>geometry</th>\n",
       "    </tr>\n",
       "  </thead>\n",
       "  <tbody>\n",
       "    <tr>\n",
       "      <th>0</th>\n",
       "      <td>1</td>\n",
       "      <td>0102</td>\n",
       "      <td>0.000348</td>\n",
       "      <td>0.153037</td>\n",
       "      <td>MULTIPOLYGON (((-71.34122 41.73016, -71.34123 ...</td>\n",
       "    </tr>\n",
       "    <tr>\n",
       "      <th>1</th>\n",
       "      <td>2</td>\n",
       "      <td>0101</td>\n",
       "      <td>0.000426</td>\n",
       "      <td>0.107569</td>\n",
       "      <td>POLYGON ((-71.32270 41.77270, -71.32270 41.772...</td>\n",
       "    </tr>\n",
       "    <tr>\n",
       "      <th>2</th>\n",
       "      <td>3</td>\n",
       "      <td>0104</td>\n",
       "      <td>0.000509</td>\n",
       "      <td>0.338228</td>\n",
       "      <td>MULTIPOLYGON (((-71.30425 41.74515, -71.30425 ...</td>\n",
       "    </tr>\n",
       "    <tr>\n",
       "      <th>3</th>\n",
       "      <td>4</td>\n",
       "      <td>0105</td>\n",
       "      <td>0.000520</td>\n",
       "      <td>0.297727</td>\n",
       "      <td>MULTIPOLYGON (((-71.29308 41.71355, -71.29307 ...</td>\n",
       "    </tr>\n",
       "    <tr>\n",
       "      <th>4</th>\n",
       "      <td>5</td>\n",
       "      <td>0103</td>\n",
       "      <td>0.000584</td>\n",
       "      <td>0.158078</td>\n",
       "      <td>POLYGON ((-71.31979 41.73751, -71.31897 41.737...</td>\n",
       "    </tr>\n",
       "  </tbody>\n",
       "</table>\n",
       "</div>"
      ],
      "text/plain": [
       "   OBJECTID  NAME  Shape__Are  Shape__Len  \\\n",
       "0         1  0102    0.000348    0.153037   \n",
       "1         2  0101    0.000426    0.107569   \n",
       "2         3  0104    0.000509    0.338228   \n",
       "3         4  0105    0.000520    0.297727   \n",
       "4         5  0103    0.000584    0.158078   \n",
       "\n",
       "                                            geometry  \n",
       "0  MULTIPOLYGON (((-71.34122 41.73016, -71.34123 ...  \n",
       "1  POLYGON ((-71.32270 41.77270, -71.32270 41.772...  \n",
       "2  MULTIPOLYGON (((-71.30425 41.74515, -71.30425 ...  \n",
       "3  MULTIPOLYGON (((-71.29308 41.71355, -71.29307 ...  \n",
       "4  POLYGON ((-71.31979 41.73751, -71.31897 41.737...  "
      ]
     },
     "execution_count": 54,
     "metadata": {},
     "output_type": "execute_result"
    }
   ],
   "source": [
    "precinctDF.head()"
   ]
  },
  {
   "cell_type": "code",
   "execution_count": 55,
   "metadata": {},
   "outputs": [],
   "source": [
    "precinctDF.drop([\"OBJECTID\", \"Shape__Are\", \"Shape__Len\"], inplace=True, axis=1)\n",
    "precinctDF.rename({\"NAME\":\"Precinct #\"}, inplace=True, axis=1)"
   ]
  },
  {
   "cell_type": "code",
   "execution_count": null,
   "metadata": {},
   "outputs": [],
   "source": []
  },
  {
   "cell_type": "code",
   "execution_count": null,
   "metadata": {},
   "outputs": [],
   "source": []
  },
  {
   "cell_type": "code",
   "execution_count": null,
   "metadata": {},
   "outputs": [],
   "source": []
  },
  {
   "cell_type": "markdown",
   "metadata": {},
   "source": [
    "# merge precinct and voting"
   ]
  },
  {
   "cell_type": "code",
   "execution_count": 7,
   "metadata": {},
   "outputs": [],
   "source": [
    "presidentialVoting = pd.read_csv(\"../voting/presidential 2016/2016PresidentialRI_Cleaned.csv\")"
   ]
  },
  {
   "cell_type": "code",
   "execution_count": 8,
   "metadata": {},
   "outputs": [
    {
     "data": {
      "text/html": [
       "<div>\n",
       "<style scoped>\n",
       "    .dataframe tbody tr th:only-of-type {\n",
       "        vertical-align: middle;\n",
       "    }\n",
       "\n",
       "    .dataframe tbody tr th {\n",
       "        vertical-align: top;\n",
       "    }\n",
       "\n",
       "    .dataframe thead th {\n",
       "        text-align: right;\n",
       "    }\n",
       "</style>\n",
       "<table border=\"1\" class=\"dataframe\">\n",
       "  <thead>\n",
       "    <tr style=\"text-align: right;\">\n",
       "      <th></th>\n",
       "      <th>Unnamed: 0</th>\n",
       "      <th>County</th>\n",
       "      <th>Precinct Name</th>\n",
       "      <th>Precinct #</th>\n",
       "      <th>Hillary Clinton/Dem</th>\n",
       "      <th>Donald J. Trump/Rep</th>\n",
       "      <th>Gary Johnson/Lib</th>\n",
       "      <th>Jill Stein/Grn</th>\n",
       "      <th>Other/Other</th>\n",
       "      <th>Total Votes</th>\n",
       "    </tr>\n",
       "  </thead>\n",
       "  <tbody>\n",
       "    <tr>\n",
       "      <th>0</th>\n",
       "      <td>0</td>\n",
       "      <td>Bristol County</td>\n",
       "      <td>Barrington 0101</td>\n",
       "      <td>101</td>\n",
       "      <td>1027</td>\n",
       "      <td>522</td>\n",
       "      <td>60</td>\n",
       "      <td>23</td>\n",
       "      <td>2</td>\n",
       "      <td>1634</td>\n",
       "    </tr>\n",
       "    <tr>\n",
       "      <th>1</th>\n",
       "      <td>1</td>\n",
       "      <td>Bristol County</td>\n",
       "      <td>Barrington 0102</td>\n",
       "      <td>102</td>\n",
       "      <td>1331</td>\n",
       "      <td>683</td>\n",
       "      <td>68</td>\n",
       "      <td>21</td>\n",
       "      <td>3</td>\n",
       "      <td>2106</td>\n",
       "    </tr>\n",
       "    <tr>\n",
       "      <th>2</th>\n",
       "      <td>2</td>\n",
       "      <td>Bristol County</td>\n",
       "      <td>Barrington 0103</td>\n",
       "      <td>103</td>\n",
       "      <td>1136</td>\n",
       "      <td>469</td>\n",
       "      <td>59</td>\n",
       "      <td>17</td>\n",
       "      <td>0</td>\n",
       "      <td>1681</td>\n",
       "    </tr>\n",
       "    <tr>\n",
       "      <th>3</th>\n",
       "      <td>3</td>\n",
       "      <td>Bristol County</td>\n",
       "      <td>Barrington 0104</td>\n",
       "      <td>104</td>\n",
       "      <td>1328</td>\n",
       "      <td>611</td>\n",
       "      <td>78</td>\n",
       "      <td>25</td>\n",
       "      <td>2</td>\n",
       "      <td>2044</td>\n",
       "    </tr>\n",
       "    <tr>\n",
       "      <th>4</th>\n",
       "      <td>4</td>\n",
       "      <td>Bristol County</td>\n",
       "      <td>Barrington 0105</td>\n",
       "      <td>105</td>\n",
       "      <td>1290</td>\n",
       "      <td>590</td>\n",
       "      <td>69</td>\n",
       "      <td>24</td>\n",
       "      <td>4</td>\n",
       "      <td>1977</td>\n",
       "    </tr>\n",
       "  </tbody>\n",
       "</table>\n",
       "</div>"
      ],
      "text/plain": [
       "   Unnamed: 0          County    Precinct Name  Precinct #  \\\n",
       "0           0  Bristol County  Barrington 0101         101   \n",
       "1           1  Bristol County  Barrington 0102         102   \n",
       "2           2  Bristol County  Barrington 0103         103   \n",
       "3           3  Bristol County  Barrington 0104         104   \n",
       "4           4  Bristol County  Barrington 0105         105   \n",
       "\n",
       "   Hillary Clinton/Dem  Donald J. Trump/Rep  Gary Johnson/Lib  Jill Stein/Grn  \\\n",
       "0                 1027                  522                60              23   \n",
       "1                 1331                  683                68              21   \n",
       "2                 1136                  469                59              17   \n",
       "3                 1328                  611                78              25   \n",
       "4                 1290                  590                69              24   \n",
       "\n",
       "   Other/Other  Total Votes  \n",
       "0            2         1634  \n",
       "1            3         2106  \n",
       "2            0         1681  \n",
       "3            2         2044  \n",
       "4            4         1977  "
      ]
     },
     "execution_count": 8,
     "metadata": {},
     "output_type": "execute_result"
    }
   ],
   "source": [
    "presidentialVoting.head()"
   ]
  },
  {
   "cell_type": "code",
   "execution_count": 9,
   "metadata": {},
   "outputs": [],
   "source": [
    "presidentialVoting.drop([\"Unnamed: 0\"], inplace=True, axis=1)"
   ]
  },
  {
   "cell_type": "code",
   "execution_count": 10,
   "metadata": {},
   "outputs": [],
   "source": [
    "# turn all precinct # into 4 letter string\n",
    "presidentialVoting = presidentialVoting.astype({\"Precinct #\":\"str\"})\n",
    "\n",
    "for index, row in presidentialVoting.iterrows():\n",
    "    cur = str(row[\"Precinct #\"])\n",
    "    if len(cur) == 3:\n",
    "        presidentialVoting.at[index, \"Precinct #\"] = \"0\" + cur"
   ]
  },
  {
   "cell_type": "markdown",
   "metadata": {},
   "source": [
    "# now start mapping voting and geographic data"
   ]
  },
  {
   "cell_type": "code",
   "execution_count": 11,
   "metadata": {},
   "outputs": [
    {
     "data": {
      "text/html": [
       "<div>\n",
       "<style scoped>\n",
       "    .dataframe tbody tr th:only-of-type {\n",
       "        vertical-align: middle;\n",
       "    }\n",
       "\n",
       "    .dataframe tbody tr th {\n",
       "        vertical-align: top;\n",
       "    }\n",
       "\n",
       "    .dataframe thead th {\n",
       "        text-align: right;\n",
       "    }\n",
       "</style>\n",
       "<table border=\"1\" class=\"dataframe\">\n",
       "  <thead>\n",
       "    <tr style=\"text-align: right;\">\n",
       "      <th></th>\n",
       "      <th>County</th>\n",
       "      <th>Precinct Name</th>\n",
       "      <th>Precinct #</th>\n",
       "      <th>Hillary Clinton/Dem</th>\n",
       "      <th>Donald J. Trump/Rep</th>\n",
       "      <th>Gary Johnson/Lib</th>\n",
       "      <th>Jill Stein/Grn</th>\n",
       "      <th>Other/Other</th>\n",
       "      <th>Total Votes</th>\n",
       "    </tr>\n",
       "  </thead>\n",
       "  <tbody>\n",
       "    <tr>\n",
       "      <th>0</th>\n",
       "      <td>Bristol County</td>\n",
       "      <td>Barrington 0101</td>\n",
       "      <td>0101</td>\n",
       "      <td>1027</td>\n",
       "      <td>522</td>\n",
       "      <td>60</td>\n",
       "      <td>23</td>\n",
       "      <td>2</td>\n",
       "      <td>1634</td>\n",
       "    </tr>\n",
       "  </tbody>\n",
       "</table>\n",
       "</div>"
      ],
      "text/plain": [
       "           County    Precinct Name Precinct #  Hillary Clinton/Dem  \\\n",
       "0  Bristol County  Barrington 0101       0101                 1027   \n",
       "\n",
       "   Donald J. Trump/Rep  Gary Johnson/Lib  Jill Stein/Grn  Other/Other  \\\n",
       "0                  522                60              23            2   \n",
       "\n",
       "   Total Votes  \n",
       "0         1634  "
      ]
     },
     "execution_count": 11,
     "metadata": {},
     "output_type": "execute_result"
    }
   ],
   "source": [
    "presidentialVoting.head(1)"
   ]
  },
  {
   "cell_type": "code",
   "execution_count": 13,
   "metadata": {},
   "outputs": [
    {
     "data": {
      "text/html": [
       "<div>\n",
       "<style scoped>\n",
       "    .dataframe tbody tr th:only-of-type {\n",
       "        vertical-align: middle;\n",
       "    }\n",
       "\n",
       "    .dataframe tbody tr th {\n",
       "        vertical-align: top;\n",
       "    }\n",
       "\n",
       "    .dataframe thead th {\n",
       "        text-align: right;\n",
       "    }\n",
       "</style>\n",
       "<table border=\"1\" class=\"dataframe\">\n",
       "  <thead>\n",
       "    <tr style=\"text-align: right;\">\n",
       "      <th></th>\n",
       "      <th>Precinct #</th>\n",
       "      <th>geometry</th>\n",
       "    </tr>\n",
       "  </thead>\n",
       "  <tbody>\n",
       "    <tr>\n",
       "      <th>0</th>\n",
       "      <td>0101</td>\n",
       "      <td>POLYGON ((-71.32270 41.77270, -71.32270 41.772...</td>\n",
       "    </tr>\n",
       "    <tr>\n",
       "      <th>1</th>\n",
       "      <td>0102</td>\n",
       "      <td>MULTIPOLYGON (((-71.35581 41.74533, -71.35560 ...</td>\n",
       "    </tr>\n",
       "    <tr>\n",
       "      <th>2</th>\n",
       "      <td>0103</td>\n",
       "      <td>POLYGON ((-71.31979 41.73751, -71.31897 41.737...</td>\n",
       "    </tr>\n",
       "    <tr>\n",
       "      <th>3</th>\n",
       "      <td>0104</td>\n",
       "      <td>MULTIPOLYGON (((-71.30677 41.74204, -71.30682 ...</td>\n",
       "    </tr>\n",
       "    <tr>\n",
       "      <th>4</th>\n",
       "      <td>0105</td>\n",
       "      <td>MULTIPOLYGON (((-71.31354 41.72381, -71.31370 ...</td>\n",
       "    </tr>\n",
       "  </tbody>\n",
       "</table>\n",
       "</div>"
      ],
      "text/plain": [
       "  Precinct #                                           geometry\n",
       "0       0101  POLYGON ((-71.32270 41.77270, -71.32270 41.772...\n",
       "1       0102  MULTIPOLYGON (((-71.35581 41.74533, -71.35560 ...\n",
       "2       0103  POLYGON ((-71.31979 41.73751, -71.31897 41.737...\n",
       "3       0104  MULTIPOLYGON (((-71.30677 41.74204, -71.30682 ...\n",
       "4       0105  MULTIPOLYGON (((-71.31354 41.72381, -71.31370 ..."
      ]
     },
     "execution_count": 13,
     "metadata": {},
     "output_type": "execute_result"
    }
   ],
   "source": [
    "precinctDF = gpd.read_file(\"Precinct/RI_Precinct_Cleaned.json\")\n",
    "precinctDF.head()"
   ]
  },
  {
   "cell_type": "code",
   "execution_count": 14,
   "metadata": {},
   "outputs": [],
   "source": [
    "# sort both df by precinct #\n",
    "precinctDF.sort_values(by=[\"Precinct #\"], inplace=True)\n",
    "presidentialVoting.sort_values(by=[\"Precinct #\"], inplace=True)"
   ]
  },
  {
   "cell_type": "code",
   "execution_count": 15,
   "metadata": {},
   "outputs": [],
   "source": [
    "mergedPrecincts = precinctDF.merge(presidentialVoting, left_on='Precinct #', right_on='Precinct #')"
   ]
  },
  {
   "cell_type": "code",
   "execution_count": 16,
   "metadata": {},
   "outputs": [
    {
     "data": {
      "text/html": [
       "<div>\n",
       "<style scoped>\n",
       "    .dataframe tbody tr th:only-of-type {\n",
       "        vertical-align: middle;\n",
       "    }\n",
       "\n",
       "    .dataframe tbody tr th {\n",
       "        vertical-align: top;\n",
       "    }\n",
       "\n",
       "    .dataframe thead th {\n",
       "        text-align: right;\n",
       "    }\n",
       "</style>\n",
       "<table border=\"1\" class=\"dataframe\">\n",
       "  <thead>\n",
       "    <tr style=\"text-align: right;\">\n",
       "      <th></th>\n",
       "      <th>Precinct #</th>\n",
       "      <th>geometry</th>\n",
       "      <th>County</th>\n",
       "      <th>Precinct Name</th>\n",
       "      <th>Hillary Clinton/Dem</th>\n",
       "      <th>Donald J. Trump/Rep</th>\n",
       "      <th>Gary Johnson/Lib</th>\n",
       "      <th>Jill Stein/Grn</th>\n",
       "      <th>Other/Other</th>\n",
       "      <th>Total Votes</th>\n",
       "    </tr>\n",
       "  </thead>\n",
       "  <tbody>\n",
       "    <tr>\n",
       "      <th>0</th>\n",
       "      <td>0101</td>\n",
       "      <td>POLYGON ((-71.32270 41.77270, -71.32270 41.772...</td>\n",
       "      <td>Bristol County</td>\n",
       "      <td>Barrington 0101</td>\n",
       "      <td>1027</td>\n",
       "      <td>522</td>\n",
       "      <td>60</td>\n",
       "      <td>23</td>\n",
       "      <td>2</td>\n",
       "      <td>1634</td>\n",
       "    </tr>\n",
       "    <tr>\n",
       "      <th>1</th>\n",
       "      <td>0102</td>\n",
       "      <td>MULTIPOLYGON (((-71.35581 41.74533, -71.35560 ...</td>\n",
       "      <td>Bristol County</td>\n",
       "      <td>Barrington 0102</td>\n",
       "      <td>1331</td>\n",
       "      <td>683</td>\n",
       "      <td>68</td>\n",
       "      <td>21</td>\n",
       "      <td>3</td>\n",
       "      <td>2106</td>\n",
       "    </tr>\n",
       "    <tr>\n",
       "      <th>2</th>\n",
       "      <td>0103</td>\n",
       "      <td>POLYGON ((-71.31979 41.73751, -71.31897 41.737...</td>\n",
       "      <td>Bristol County</td>\n",
       "      <td>Barrington 0103</td>\n",
       "      <td>1136</td>\n",
       "      <td>469</td>\n",
       "      <td>59</td>\n",
       "      <td>17</td>\n",
       "      <td>0</td>\n",
       "      <td>1681</td>\n",
       "    </tr>\n",
       "    <tr>\n",
       "      <th>3</th>\n",
       "      <td>0104</td>\n",
       "      <td>MULTIPOLYGON (((-71.30677 41.74204, -71.30682 ...</td>\n",
       "      <td>Bristol County</td>\n",
       "      <td>Barrington 0104</td>\n",
       "      <td>1328</td>\n",
       "      <td>611</td>\n",
       "      <td>78</td>\n",
       "      <td>25</td>\n",
       "      <td>2</td>\n",
       "      <td>2044</td>\n",
       "    </tr>\n",
       "    <tr>\n",
       "      <th>4</th>\n",
       "      <td>0105</td>\n",
       "      <td>MULTIPOLYGON (((-71.31354 41.72381, -71.31370 ...</td>\n",
       "      <td>Bristol County</td>\n",
       "      <td>Barrington 0105</td>\n",
       "      <td>1290</td>\n",
       "      <td>590</td>\n",
       "      <td>69</td>\n",
       "      <td>24</td>\n",
       "      <td>4</td>\n",
       "      <td>1977</td>\n",
       "    </tr>\n",
       "  </tbody>\n",
       "</table>\n",
       "</div>"
      ],
      "text/plain": [
       "  Precinct #                                           geometry  \\\n",
       "0       0101  POLYGON ((-71.32270 41.77270, -71.32270 41.772...   \n",
       "1       0102  MULTIPOLYGON (((-71.35581 41.74533, -71.35560 ...   \n",
       "2       0103  POLYGON ((-71.31979 41.73751, -71.31897 41.737...   \n",
       "3       0104  MULTIPOLYGON (((-71.30677 41.74204, -71.30682 ...   \n",
       "4       0105  MULTIPOLYGON (((-71.31354 41.72381, -71.31370 ...   \n",
       "\n",
       "           County    Precinct Name  Hillary Clinton/Dem  Donald J. Trump/Rep  \\\n",
       "0  Bristol County  Barrington 0101                 1027                  522   \n",
       "1  Bristol County  Barrington 0102                 1331                  683   \n",
       "2  Bristol County  Barrington 0103                 1136                  469   \n",
       "3  Bristol County  Barrington 0104                 1328                  611   \n",
       "4  Bristol County  Barrington 0105                 1290                  590   \n",
       "\n",
       "   Gary Johnson/Lib  Jill Stein/Grn  Other/Other  Total Votes  \n",
       "0                60              23            2         1634  \n",
       "1                68              21            3         2106  \n",
       "2                59              17            0         1681  \n",
       "3                78              25            2         2044  \n",
       "4                69              24            4         1977  "
      ]
     },
     "execution_count": 16,
     "metadata": {},
     "output_type": "execute_result"
    }
   ],
   "source": [
    "mergedPrecincts.head()"
   ]
  },
  {
   "cell_type": "code",
   "execution_count": 17,
   "metadata": {},
   "outputs": [],
   "source": [
    "mergedPrecincts.to_file(\"../RI_Precincts_Merged.json\", driver='GeoJSON')"
   ]
  },
  {
   "cell_type": "code",
   "execution_count": 18,
   "metadata": {},
   "outputs": [
    {
     "name": "stdout",
     "output_type": "stream",
     "text": [
      "419 419 419\n"
     ]
    }
   ],
   "source": [
    "print(len(presidentialVoting), len(precinctDF), len(mergedPrecincts))"
   ]
  },
  {
   "cell_type": "code",
   "execution_count": null,
   "metadata": {},
   "outputs": [],
   "source": []
  },
  {
   "cell_type": "code",
   "execution_count": null,
   "metadata": {},
   "outputs": [],
   "source": []
  },
  {
   "cell_type": "code",
   "execution_count": 20,
   "metadata": {},
   "outputs": [],
   "source": [
    "merge = gpd.read_file(\"../RI_Precincts_Merged.json\")"
   ]
  },
  {
   "cell_type": "code",
   "execution_count": 21,
   "metadata": {},
   "outputs": [
    {
     "data": {
      "text/plain": [
       "<matplotlib.axes._subplots.AxesSubplot at 0x1160cad10>"
      ]
     },
     "execution_count": 21,
     "metadata": {},
     "output_type": "execute_result"
    },
    {
     "data": {
      "image/png": "[encoded data removed]",
      "text/plain": [
       "<Figure size 432x288 with 1 Axes>"
      ]
     },
     "metadata": {
      "needs_background": "light"
     },
     "output_type": "display_data"
    }
   ],
   "source": [
    "merge.plot()"
   ]
  },
  {
   "cell_type": "code",
   "execution_count": 22,
   "metadata": {},
   "outputs": [
    {
     "data": {
      "text/html": [
       "<div>\n",
       "<style scoped>\n",
       "    .dataframe tbody tr th:only-of-type {\n",
       "        vertical-align: middle;\n",
       "    }\n",
       "\n",
       "    .dataframe tbody tr th {\n",
       "        vertical-align: top;\n",
       "    }\n",
       "\n",
       "    .dataframe thead th {\n",
       "        text-align: right;\n",
       "    }\n",
       "</style>\n",
       "<table border=\"1\" class=\"dataframe\">\n",
       "  <thead>\n",
       "    <tr style=\"text-align: right;\">\n",
       "      <th></th>\n",
       "      <th>Precinct #</th>\n",
       "      <th>County</th>\n",
       "      <th>Precinct Name</th>\n",
       "      <th>Hillary Clinton/Dem</th>\n",
       "      <th>Donald J. Trump/Rep</th>\n",
       "      <th>Gary Johnson/Lib</th>\n",
       "      <th>Jill Stein/Grn</th>\n",
       "      <th>Other/Other</th>\n",
       "      <th>Total Votes</th>\n",
       "      <th>geometry</th>\n",
       "    </tr>\n",
       "  </thead>\n",
       "  <tbody>\n",
       "    <tr>\n",
       "      <th>0</th>\n",
       "      <td>0101</td>\n",
       "      <td>Bristol County</td>\n",
       "      <td>Barrington 0101</td>\n",
       "      <td>1027</td>\n",
       "      <td>522</td>\n",
       "      <td>60</td>\n",
       "      <td>23</td>\n",
       "      <td>2</td>\n",
       "      <td>1634</td>\n",
       "      <td>POLYGON ((-71.32270 41.77270, -71.32270 41.772...</td>\n",
       "    </tr>\n",
       "    <tr>\n",
       "      <th>1</th>\n",
       "      <td>0102</td>\n",
       "      <td>Bristol County</td>\n",
       "      <td>Barrington 0102</td>\n",
       "      <td>1331</td>\n",
       "      <td>683</td>\n",
       "      <td>68</td>\n",
       "      <td>21</td>\n",
       "      <td>3</td>\n",
       "      <td>2106</td>\n",
       "      <td>MULTIPOLYGON (((-71.35581 41.74533, -71.35560 ...</td>\n",
       "    </tr>\n",
       "    <tr>\n",
       "      <th>2</th>\n",
       "      <td>0103</td>\n",
       "      <td>Bristol County</td>\n",
       "      <td>Barrington 0103</td>\n",
       "      <td>1136</td>\n",
       "      <td>469</td>\n",
       "      <td>59</td>\n",
       "      <td>17</td>\n",
       "      <td>0</td>\n",
       "      <td>1681</td>\n",
       "      <td>POLYGON ((-71.31979 41.73751, -71.31897 41.737...</td>\n",
       "    </tr>\n",
       "    <tr>\n",
       "      <th>3</th>\n",
       "      <td>0104</td>\n",
       "      <td>Bristol County</td>\n",
       "      <td>Barrington 0104</td>\n",
       "      <td>1328</td>\n",
       "      <td>611</td>\n",
       "      <td>78</td>\n",
       "      <td>25</td>\n",
       "      <td>2</td>\n",
       "      <td>2044</td>\n",
       "      <td>MULTIPOLYGON (((-71.30677 41.74204, -71.30682 ...</td>\n",
       "    </tr>\n",
       "    <tr>\n",
       "      <th>4</th>\n",
       "      <td>0105</td>\n",
       "      <td>Bristol County</td>\n",
       "      <td>Barrington 0105</td>\n",
       "      <td>1290</td>\n",
       "      <td>590</td>\n",
       "      <td>69</td>\n",
       "      <td>24</td>\n",
       "      <td>4</td>\n",
       "      <td>1977</td>\n",
       "      <td>MULTIPOLYGON (((-71.31354 41.72381, -71.31370 ...</td>\n",
       "    </tr>\n",
       "  </tbody>\n",
       "</table>\n",
       "</div>"
      ],
      "text/plain": [
       "  Precinct #          County    Precinct Name  Hillary Clinton/Dem  \\\n",
       "0       0101  Bristol County  Barrington 0101                 1027   \n",
       "1       0102  Bristol County  Barrington 0102                 1331   \n",
       "2       0103  Bristol County  Barrington 0103                 1136   \n",
       "3       0104  Bristol County  Barrington 0104                 1328   \n",
       "4       0105  Bristol County  Barrington 0105                 1290   \n",
       "\n",
       "   Donald J. Trump/Rep  Gary Johnson/Lib  Jill Stein/Grn  Other/Other  \\\n",
       "0                  522                60              23            2   \n",
       "1                  683                68              21            3   \n",
       "2                  469                59              17            0   \n",
       "3                  611                78              25            2   \n",
       "4                  590                69              24            4   \n",
       "\n",
       "   Total Votes                                           geometry  \n",
       "0         1634  POLYGON ((-71.32270 41.77270, -71.32270 41.772...  \n",
       "1         2106  MULTIPOLYGON (((-71.35581 41.74533, -71.35560 ...  \n",
       "2         1681  POLYGON ((-71.31979 41.73751, -71.31897 41.737...  \n",
       "3         2044  MULTIPOLYGON (((-71.30677 41.74204, -71.30682 ...  \n",
       "4         1977  MULTIPOLYGON (((-71.31354 41.72381, -71.31370 ...  "
      ]
     },
     "execution_count": 22,
     "metadata": {},
     "output_type": "execute_result"
    }
   ],
   "source": [
    "merge.head()"
   ]
  },
  {
   "cell_type": "code",
   "execution_count": null,
   "metadata": {},
   "outputs": [],
   "source": []
  },
  {
   "cell_type": "code",
   "execution_count": null,
   "metadata": {},
   "outputs": [],
   "source": []
  },
  {
   "cell_type": "code",
   "execution_count": null,
   "metadata": {},
   "outputs": [],
   "source": []
  },
  {
   "cell_type": "code",
   "execution_count": null,
   "metadata": {},
   "outputs": [],
   "source": []
  },
  {
   "cell_type": "code",
   "execution_count": null,
   "metadata": {},
   "outputs": [],
   "source": []
  },
  {
   "cell_type": "code",
   "execution_count": null,
   "metadata": {},
   "outputs": [],
   "source": []
  },
  {
   "cell_type": "code",
   "execution_count": 3,
   "metadata": {},
   "outputs": [
    {
     "data": {
      "text/html": [
       "<div>\n",
       "<style scoped>\n",
       "    .dataframe tbody tr th:only-of-type {\n",
       "        vertical-align: middle;\n",
       "    }\n",
       "\n",
       "    .dataframe tbody tr th {\n",
       "        vertical-align: top;\n",
       "    }\n",
       "\n",
       "    .dataframe thead th {\n",
       "        text-align: right;\n",
       "    }\n",
       "</style>\n",
       "<table border=\"1\" class=\"dataframe\">\n",
       "  <thead>\n",
       "    <tr style=\"text-align: right;\">\n",
       "      <th></th>\n",
       "      <th>geometry</th>\n",
       "    </tr>\n",
       "  </thead>\n",
       "  <tbody>\n",
       "    <tr>\n",
       "      <th>0</th>\n",
       "      <td>POLYGON ((-71.53173 41.37920, -71.53177 41.379...</td>\n",
       "    </tr>\n",
       "    <tr>\n",
       "      <th>1</th>\n",
       "      <td>POLYGON ((-71.52526 41.38229, -71.52519 41.382...</td>\n",
       "    </tr>\n",
       "    <tr>\n",
       "      <th>2</th>\n",
       "      <td>POLYGON ((-71.29308 41.71354, -71.29307 41.713...</td>\n",
       "    </tr>\n",
       "    <tr>\n",
       "      <th>3</th>\n",
       "      <td>POLYGON ((-71.76970 41.33260, -71.76974 41.332...</td>\n",
       "    </tr>\n",
       "    <tr>\n",
       "      <th>4</th>\n",
       "      <td>POLYGON ((-71.72929 41.33300, -71.72931 41.333...</td>\n",
       "    </tr>\n",
       "  </tbody>\n",
       "</table>\n",
       "</div>"
      ],
      "text/plain": [
       "                                            geometry\n",
       "0  POLYGON ((-71.53173 41.37920, -71.53177 41.379...\n",
       "1  POLYGON ((-71.52526 41.38229, -71.52519 41.382...\n",
       "2  POLYGON ((-71.29308 41.71354, -71.29307 41.713...\n",
       "3  POLYGON ((-71.76970 41.33260, -71.76974 41.332...\n",
       "4  POLYGON ((-71.72929 41.33300, -71.72931 41.333..."
      ]
     },
     "execution_count": 3,
     "metadata": {},
     "output_type": "execute_result"
    }
   ],
   "source": [
    "RI_State = gpd.read_file(\"State_Cleaned.GeoJSON\")\n",
    "RI_State.head()"
   ]
  },
  {
   "cell_type": "code",
   "execution_count": null,
   "metadata": {},
   "outputs": [],
   "source": [
    "RI_State[\"Index\"] = \"\"\n",
    "i = 0\n",
    "for index, row in RI_State.iterrows():\n",
    "    RI_State.at[index, \"Index\"] = i\n",
    "    i += 1"
   ]
  },
  {
   "cell_type": "code",
   "execution_count": null,
   "metadata": {},
   "outputs": [],
   "source": [
    "RI_State.to_file(\"State_Cleaned.GeoJSON\", driver=\"GeoJSON\")"
   ]
  },
  {
   "cell_type": "code",
   "execution_count": null,
   "metadata": {},
   "outputs": [],
   "source": []
  },
  {
   "cell_type": "code",
   "execution_count": 2,
   "metadata": {},
   "outputs": [
    {
     "data": {
      "text/html": [
       "<div>\n",
       "<style scoped>\n",
       "    .dataframe tbody tr th:only-of-type {\n",
       "        vertical-align: middle;\n",
       "    }\n",
       "\n",
       "    .dataframe tbody tr th {\n",
       "        vertical-align: top;\n",
       "    }\n",
       "\n",
       "    .dataframe thead th {\n",
       "        text-align: right;\n",
       "    }\n",
       "</style>\n",
       "<table border=\"1\" class=\"dataframe\">\n",
       "  <thead>\n",
       "    <tr style=\"text-align: right;\">\n",
       "      <th></th>\n",
       "      <th>County</th>\n",
       "      <th>geometry</th>\n",
       "    </tr>\n",
       "  </thead>\n",
       "  <tbody>\n",
       "    <tr>\n",
       "      <th>0</th>\n",
       "      <td>Newport</td>\n",
       "      <td>POLYGON ((-71.32251 41.45896, -71.32259 41.458...</td>\n",
       "    </tr>\n",
       "    <tr>\n",
       "      <th>1</th>\n",
       "      <td>Newport</td>\n",
       "      <td>POLYGON ((-71.30262 41.45879, -71.30268 41.458...</td>\n",
       "    </tr>\n",
       "    <tr>\n",
       "      <th>2</th>\n",
       "      <td>Newport</td>\n",
       "      <td>POLYGON ((-71.18504 41.45897, -71.18511 41.458...</td>\n",
       "    </tr>\n",
       "    <tr>\n",
       "      <th>3</th>\n",
       "      <td>Newport</td>\n",
       "      <td>POLYGON ((-71.18538 41.45909, -71.18544 41.459...</td>\n",
       "    </tr>\n",
       "    <tr>\n",
       "      <th>4</th>\n",
       "      <td>Newport</td>\n",
       "      <td>POLYGON ((-71.30032 41.45967, -71.30026 41.459...</td>\n",
       "    </tr>\n",
       "  </tbody>\n",
       "</table>\n",
       "</div>"
      ],
      "text/plain": [
       "    County                                           geometry\n",
       "0  Newport  POLYGON ((-71.32251 41.45896, -71.32259 41.458...\n",
       "1  Newport  POLYGON ((-71.30262 41.45879, -71.30268 41.458...\n",
       "2  Newport  POLYGON ((-71.18504 41.45897, -71.18511 41.458...\n",
       "3  Newport  POLYGON ((-71.18538 41.45909, -71.18544 41.459...\n",
       "4  Newport  POLYGON ((-71.30032 41.45967, -71.30026 41.459..."
      ]
     },
     "execution_count": 2,
     "metadata": {},
     "output_type": "execute_result"
    }
   ],
   "source": [
    "countyDF = gpd.read_file(\"County_Cleaned.GeoJSON\")\n",
    "countyDF.head()"
   ]
  },
  {
   "cell_type": "code",
   "execution_count": 3,
   "metadata": {},
   "outputs": [],
   "source": [
    "countyDF[\"Index\"] = \"\"\n",
    "i = 0\n",
    "for index, row in countyDF.iterrows():\n",
    "    countyDF.at[index, \"Index\"] = i\n",
    "    i += 1"
   ]
  },
  {
   "cell_type": "code",
   "execution_count": 4,
   "metadata": {},
   "outputs": [
    {
     "data": {
      "text/html": [
       "<div>\n",
       "<style scoped>\n",
       "    .dataframe tbody tr th:only-of-type {\n",
       "        vertical-align: middle;\n",
       "    }\n",
       "\n",
       "    .dataframe tbody tr th {\n",
       "        vertical-align: top;\n",
       "    }\n",
       "\n",
       "    .dataframe thead th {\n",
       "        text-align: right;\n",
       "    }\n",
       "</style>\n",
       "<table border=\"1\" class=\"dataframe\">\n",
       "  <thead>\n",
       "    <tr style=\"text-align: right;\">\n",
       "      <th></th>\n",
       "      <th>County</th>\n",
       "      <th>geometry</th>\n",
       "      <th>Index</th>\n",
       "    </tr>\n",
       "  </thead>\n",
       "  <tbody>\n",
       "    <tr>\n",
       "      <th>0</th>\n",
       "      <td>Newport</td>\n",
       "      <td>POLYGON ((-71.32251 41.45896, -71.32259 41.458...</td>\n",
       "      <td>0</td>\n",
       "    </tr>\n",
       "    <tr>\n",
       "      <th>1</th>\n",
       "      <td>Newport</td>\n",
       "      <td>POLYGON ((-71.30262 41.45879, -71.30268 41.458...</td>\n",
       "      <td>1</td>\n",
       "    </tr>\n",
       "    <tr>\n",
       "      <th>2</th>\n",
       "      <td>Newport</td>\n",
       "      <td>POLYGON ((-71.18504 41.45897, -71.18511 41.458...</td>\n",
       "      <td>2</td>\n",
       "    </tr>\n",
       "    <tr>\n",
       "      <th>3</th>\n",
       "      <td>Newport</td>\n",
       "      <td>POLYGON ((-71.18538 41.45909, -71.18544 41.459...</td>\n",
       "      <td>3</td>\n",
       "    </tr>\n",
       "    <tr>\n",
       "      <th>4</th>\n",
       "      <td>Newport</td>\n",
       "      <td>POLYGON ((-71.30032 41.45967, -71.30026 41.459...</td>\n",
       "      <td>4</td>\n",
       "    </tr>\n",
       "  </tbody>\n",
       "</table>\n",
       "</div>"
      ],
      "text/plain": [
       "    County                                           geometry Index\n",
       "0  Newport  POLYGON ((-71.32251 41.45896, -71.32259 41.458...     0\n",
       "1  Newport  POLYGON ((-71.30262 41.45879, -71.30268 41.458...     1\n",
       "2  Newport  POLYGON ((-71.18504 41.45897, -71.18511 41.458...     2\n",
       "3  Newport  POLYGON ((-71.18538 41.45909, -71.18544 41.459...     3\n",
       "4  Newport  POLYGON ((-71.30032 41.45967, -71.30026 41.459...     4"
      ]
     },
     "execution_count": 4,
     "metadata": {},
     "output_type": "execute_result"
    }
   ],
   "source": [
    "countyDF.head()"
   ]
  },
  {
   "cell_type": "code",
   "execution_count": 5,
   "metadata": {},
   "outputs": [],
   "source": [
    "countyDF.to_file(\"County_Cleaned.GeoJSON\", driver=\"GeoJSON\")"
   ]
  },
  {
   "cell_type": "code",
   "execution_count": null,
   "metadata": {},
   "outputs": [],
   "source": []
  }
 ],
 "metadata": {
  "kernelspec": {
   "display_name": "myenv",
   "language": "python",
   "name": "myenv"
  },
  "language_info": {
   "codemirror_mode": {
    "name": "ipython",
    "version": 3
   },
   "file_extension": ".py",
   "mimetype": "text/x-python",
   "name": "python",
   "nbconvert_exporter": "python",
   "pygments_lexer": "ipython3",
   "version": "3.7.7"
  }
 },
 "nbformat": 4,
 "nbformat_minor": 4
}
