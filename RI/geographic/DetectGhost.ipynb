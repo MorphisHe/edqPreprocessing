{
 "cells": [
  {
   "cell_type": "markdown",
   "metadata": {},
   "source": [
    "# 16. Identify possible map coverage errors (required) (sequence diagram not required)\n",
    "- Identify the geographic area defined as the difference between the geographic area covered by the\n",
    "state and the geographic area covered by the union of all precincts in the state. \n",
    "- Store the associated data in the errors data structure for subsequent addition to the DB. \n",
    "- The regions so identified are potential ghost precincts. "
   ]
  },
  {
   "cell_type": "code",
   "execution_count": 1,
   "metadata": {},
   "outputs": [
    {
     "name": "stdout",
     "output_type": "stream",
     "text": [
      "\u001b[1m\u001b[34mCounty\u001b[m\u001b[m                    RI_Geographic_Clean.ipynb State_Cleaned.json\r\n",
      "County_Cleaned.json       RI_Prec_State_Union.json  test_ghost.json\r\n",
      "DetectGhost.ipynb         RI_Precinct_Cleaned.json\r\n",
      "\u001b[1m\u001b[34mPrecinct\u001b[m\u001b[m                  \u001b[1m\u001b[34mState\u001b[m\u001b[m\r\n"
     ]
    }
   ],
   "source": [
    "!ls"
   ]
  },
  {
   "cell_type": "code",
   "execution_count": 2,
   "metadata": {},
   "outputs": [],
   "source": [
    "import geopandas as gpd\n",
    "from shapely.geometry import Polygon, MultiPolygon"
   ]
  },
  {
   "cell_type": "code",
   "execution_count": 3,
   "metadata": {},
   "outputs": [],
   "source": [
    "precinctGDF = gpd.read_file(\"RI_Precinct_Cleaned.json\")\n",
    "precinctGDF = precinctGDF.to_crs(\"EPSG:3857\").unary_union\n",
    "#precinctGDF = precinctGDF.buffer(60.96)"
   ]
  },
  {
   "cell_type": "code",
   "execution_count": 4,
   "metadata": {},
   "outputs": [],
   "source": [
    "gdf = gpd.GeoDataFrame({\"geometry\":precinctGDF})"
   ]
  },
  {
   "cell_type": "code",
   "execution_count": null,
   "metadata": {},
   "outputs": [],
   "source": []
  },
  {
   "cell_type": "code",
   "execution_count": null,
   "metadata": {},
   "outputs": [],
   "source": []
  },
  {
   "cell_type": "code",
   "execution_count": 5,
   "metadata": {},
   "outputs": [],
   "source": [
    "stateGDF = gpd.read_file(\"State_Cleaned.json\")\n",
    "stateGDF = stateGDF.to_crs(\"EPSG:3857\")"
   ]
  },
  {
   "cell_type": "code",
   "execution_count": 6,
   "metadata": {},
   "outputs": [],
   "source": [
    "dif = gpd.overlay(stateGDF, gdf, how=\"difference\")\n",
    "difcopy = dif.copy()"
   ]
  },
  {
   "cell_type": "code",
   "execution_count": null,
   "metadata": {},
   "outputs": [],
   "source": []
  },
  {
   "cell_type": "code",
   "execution_count": 7,
   "metadata": {},
   "outputs": [],
   "source": [
    "# dif.to_file(\"RI_Ghost.json\", driver=\"GeoJSON\")"
   ]
  },
  {
   "cell_type": "code",
   "execution_count": 8,
   "metadata": {},
   "outputs": [],
   "source": [
    "dif = difcopy.copy()\n",
    "# dif = dif.to_crs(\"EPSG:3857\")"
   ]
  },
  {
   "cell_type": "code",
   "execution_count": 9,
   "metadata": {},
   "outputs": [],
   "source": [
    "a = 3716.1216\n",
    "dif[\"filtered\"] = \"\"\n",
    "for index, row in dif.iterrows():\n",
    "    if row.geometry.geom_type == \"MultiPolygon\":\n",
    "        m = MultiPolygon([shape for shape in row[\"geometry\"] if shape.area >= a])\n",
    "        if m.is_empty:\n",
    "            dif.drop(index, inplace=True)\n",
    "        else:\n",
    "            dif.at[index, \"filtered\"] = m\n",
    "    else:\n",
    "        if row[\"geometry\"].area < a:\n",
    "            dif.drop(index, inplace=True)\n",
    "        else:\n",
    "            dif.at[index, \"filtered\"] = row[\"geometry\"]"
   ]
  },
  {
   "cell_type": "code",
   "execution_count": 10,
   "metadata": {},
   "outputs": [],
   "source": [
    "dif.set_geometry(\"filtered\", drop=True, inplace=True)"
   ]
  },
  {
   "cell_type": "code",
   "execution_count": 11,
   "metadata": {},
   "outputs": [],
   "source": [
    "dif = dif.to_crs(\"EPSG:4326\")"
   ]
  },
  {
   "cell_type": "markdown",
   "metadata": {},
   "source": [
    "# turn all multipolygon into polygon"
   ]
  },
  {
   "cell_type": "code",
   "execution_count": 12,
   "metadata": {},
   "outputs": [],
   "source": [
    "newgdf = gpd.GeoDataFrame(crs=\"EPSG:4326\")\n",
    "newgdf[\"geometry\"] = \"\"\n",
    "newgdf[\"index\"] = 0"
   ]
  },
  {
   "cell_type": "code",
   "execution_count": 13,
   "metadata": {},
   "outputs": [],
   "source": [
    "i = 0\n",
    "for index, row in dif.iterrows():\n",
    "    g = row[\"geometry\"]\n",
    "    if g.geom_type == \"MultiPolygon\":\n",
    "        for shape in g:\n",
    "            newgdf.at[i, \"geometry\"] = shape\n",
    "            newgdf.at[i, \"index\"] = i\n",
    "            i += 1\n",
    "    else:\n",
    "        newgdf.at[i, \"geometry\"] = g\n",
    "        newgdf.at[i, \"index\"] = i\n",
    "        i += 1\n",
    "newgdf.set_geometry(\"geometry\", inplace=True)"
   ]
  },
  {
   "cell_type": "code",
   "execution_count": 14,
   "metadata": {},
   "outputs": [
    {
     "data": {
      "text/html": [
       "<div>\n",
       "<style scoped>\n",
       "    .dataframe tbody tr th:only-of-type {\n",
       "        vertical-align: middle;\n",
       "    }\n",
       "\n",
       "    .dataframe tbody tr th {\n",
       "        vertical-align: top;\n",
       "    }\n",
       "\n",
       "    .dataframe thead th {\n",
       "        text-align: right;\n",
       "    }\n",
       "</style>\n",
       "<table border=\"1\" class=\"dataframe\">\n",
       "  <thead>\n",
       "    <tr style=\"text-align: right;\">\n",
       "      <th></th>\n",
       "      <th>geometry</th>\n",
       "      <th>index</th>\n",
       "    </tr>\n",
       "  </thead>\n",
       "  <tbody>\n",
       "    <tr>\n",
       "      <th>0</th>\n",
       "      <td>POLYGON ((-71.52526 41.38229, -71.52519 41.382...</td>\n",
       "      <td>0.0</td>\n",
       "    </tr>\n",
       "  </tbody>\n",
       "</table>\n",
       "</div>"
      ],
      "text/plain": [
       "                                            geometry  index\n",
       "0  POLYGON ((-71.52526 41.38229, -71.52519 41.382...    0.0"
      ]
     },
     "execution_count": 14,
     "metadata": {},
     "output_type": "execute_result"
    }
   ],
   "source": [
    "newgdf.head(1)"
   ]
  },
  {
   "cell_type": "code",
   "execution_count": 15,
   "metadata": {},
   "outputs": [],
   "source": [
    "#newgdf.to_file(\"test_ghost.json\", driver=\"GeoJSON\")"
   ]
  },
  {
   "cell_type": "code",
   "execution_count": 16,
   "metadata": {},
   "outputs": [],
   "source": [
    "# dif.plot(figsize=(18, 18))"
   ]
  },
  {
   "cell_type": "markdown",
   "metadata": {},
   "source": [
    "# delete unwanted polygons"
   ]
  },
  {
   "cell_type": "code",
   "execution_count": 17,
   "metadata": {},
   "outputs": [],
   "source": [
    "def deletePoly(gdf, index):\n",
    "    gdf.drop(index=index, inplace=True)\n",
    "    return gdf"
   ]
  },
  {
   "cell_type": "code",
   "execution_count": 18,
   "metadata": {},
   "outputs": [],
   "source": [
    "def filterByArea(gdf):\n",
    "    gdf = gdf.to_crs(\"EPSG:3857\")\n",
    "    a = 3716.1216\n",
    "    gdf[\"filtered\"] = \"\"\n",
    "    for index, row in gdf.iterrows():\n",
    "        if row.geometry.geom_type == \"MultiPolygon\":\n",
    "            m = MultiPolygon([shape for shape in row[\"geometry\"] if shape.area >= a])\n",
    "            if m.is_empty:\n",
    "                gdf.drop(index, inplace=True)\n",
    "            else:\n",
    "                gdf.at[index, \"filtered\"] = m\n",
    "        else:\n",
    "            if row[\"geometry\"].area < a:\n",
    "                gdf.drop(index, inplace=True)\n",
    "            else:\n",
    "                gdf.at[index, \"filtered\"] = row[\"geometry\"]\n",
    "    gdf.set_geometry(\"filtered\", drop=True, inplace=True)\n",
    "    gdf = gdf.to_crs(\"EPSG:4326\")\n",
    "    return gdf"
   ]
  },
  {
   "cell_type": "code",
   "execution_count": 19,
   "metadata": {},
   "outputs": [],
   "source": [
    "newgdf = filterByArea(newgdf)\n",
    "newgdf.to_file(\"test_ghost.json\", driver=\"GeoJSON\")"
   ]
  },
  {
   "cell_type": "code",
   "execution_count": 20,
   "metadata": {},
   "outputs": [],
   "source": [
    "index_to_delete = [46, 43, 44, 45, 39, 34, 33, 27, 26, 23, 14, 35, 38, 40, 42]\n",
    "for i in index_to_delete:\n",
    "    newgdf = deletePoly(newgdf, i)"
   ]
  },
  {
   "cell_type": "markdown",
   "metadata": {},
   "source": [
    "# create key for ghost table"
   ]
  },
  {
   "cell_type": "code",
   "execution_count": 22,
   "metadata": {},
   "outputs": [
    {
     "data": {
      "text/html": [
       "<div>\n",
       "<style scoped>\n",
       "    .dataframe tbody tr th:only-of-type {\n",
       "        vertical-align: middle;\n",
       "    }\n",
       "\n",
       "    .dataframe tbody tr th {\n",
       "        vertical-align: top;\n",
       "    }\n",
       "\n",
       "    .dataframe thead th {\n",
       "        text-align: right;\n",
       "    }\n",
       "</style>\n",
       "<table border=\"1\" class=\"dataframe\">\n",
       "  <thead>\n",
       "    <tr style=\"text-align: right;\">\n",
       "      <th></th>\n",
       "      <th>geometry</th>\n",
       "      <th>index</th>\n",
       "    </tr>\n",
       "  </thead>\n",
       "  <tbody>\n",
       "    <tr>\n",
       "      <th>0</th>\n",
       "      <td>POLYGON ((-71.52526 41.38229, -71.52519 41.382...</td>\n",
       "      <td>0.0</td>\n",
       "    </tr>\n",
       "  </tbody>\n",
       "</table>\n",
       "</div>"
      ],
      "text/plain": [
       "                                            geometry  index\n",
       "0  POLYGON ((-71.52526 41.38229, -71.52519 41.382...    0.0"
      ]
     },
     "execution_count": 22,
     "metadata": {},
     "output_type": "execute_result"
    }
   ],
   "source": [
    "newgdf.head(1)"
   ]
  },
  {
   "cell_type": "code",
   "execution_count": 23,
   "metadata": {},
   "outputs": [
    {
     "data": {
      "text/html": [
       "<div>\n",
       "<style scoped>\n",
       "    .dataframe tbody tr th:only-of-type {\n",
       "        vertical-align: middle;\n",
       "    }\n",
       "\n",
       "    .dataframe tbody tr th {\n",
       "        vertical-align: top;\n",
       "    }\n",
       "\n",
       "    .dataframe thead th {\n",
       "        text-align: right;\n",
       "    }\n",
       "</style>\n",
       "<table border=\"1\" class=\"dataframe\">\n",
       "  <thead>\n",
       "    <tr style=\"text-align: right;\">\n",
       "      <th></th>\n",
       "      <th>geometry</th>\n",
       "      <th>index</th>\n",
       "      <th>id</th>\n",
       "    </tr>\n",
       "  </thead>\n",
       "  <tbody>\n",
       "    <tr>\n",
       "      <th>0</th>\n",
       "      <td>POLYGON ((-71.52526 41.38229, -71.52519 41.382...</td>\n",
       "      <td>0.0</td>\n",
       "      <td>va-ghost-0</td>\n",
       "    </tr>\n",
       "    <tr>\n",
       "      <th>1</th>\n",
       "      <td>POLYGON ((-71.76999 41.33280, -71.76997 41.332...</td>\n",
       "      <td>1.0</td>\n",
       "      <td>va-ghost-1</td>\n",
       "    </tr>\n",
       "  </tbody>\n",
       "</table>\n",
       "</div>"
      ],
      "text/plain": [
       "                                            geometry  index          id\n",
       "0  POLYGON ((-71.52526 41.38229, -71.52519 41.382...    0.0  va-ghost-0\n",
       "1  POLYGON ((-71.76999 41.33280, -71.76997 41.332...    1.0  va-ghost-1"
      ]
     },
     "execution_count": 23,
     "metadata": {},
     "output_type": "execute_result"
    }
   ],
   "source": [
    "newgdf[\"id\"] = \"\"\n",
    "i = 0\n",
    "for index, row in newgdf.iterrows():\n",
    "    newgdf.at[index, \"id\"] = \"va-ghost-\" + str(i)\n",
    "    i += 1\n",
    "newgdf.head(2)"
   ]
  },
  {
   "cell_type": "code",
   "execution_count": 24,
   "metadata": {},
   "outputs": [],
   "source": [
    "newgdf.to_file(\"RI_Ghost.json\", driver=\"GeoJSON\")"
   ]
  },
  {
   "cell_type": "code",
   "execution_count": null,
   "metadata": {},
   "outputs": [],
   "source": []
  }
 ],
 "metadata": {
  "kernelspec": {
   "display_name": "myenv",
   "language": "python",
   "name": "myenv"
  },
  "language_info": {
   "codemirror_mode": {
    "name": "ipython",
    "version": 3
   },
   "file_extension": ".py",
   "mimetype": "text/x-python",
   "name": "python",
   "nbconvert_exporter": "python",
   "pygments_lexer": "ipython3",
   "version": "3.7.7"
  }
 },
 "nbformat": 4,
 "nbformat_minor": 4
}
