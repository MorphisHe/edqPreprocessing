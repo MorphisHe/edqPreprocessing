{
 "cells": [
  {
   "cell_type": "code",
   "execution_count": 205,
   "metadata": {},
   "outputs": [
    {
     "name": "stdout",
     "output_type": "stream",
     "text": [
      "2016PresidentialPrep.ipynb RI_Presidential_2016.xls\r\n",
      "2016PresidentialRI.csv\r\n"
     ]
    }
   ],
   "source": [
    "!ls"
   ]
  },
  {
   "cell_type": "code",
   "execution_count": 206,
   "metadata": {},
   "outputs": [],
   "source": [
    "# install geopandas and shapely\n",
    "# !pip3 install geopandas\n",
    "# !pip3 install shapely"
   ]
  },
  {
   "cell_type": "code",
   "execution_count": 207,
   "metadata": {},
   "outputs": [],
   "source": [
    "import pandas as pd\n",
    "import geopandas as gpd\n",
    "import matplotlib.pyplot as plt\n",
    "import numpy as np\n",
    "from shapely import wkt\n",
    "import warnings\n",
    "\n",
    "warnings.filterwarnings('ignore')\n",
    "%matplotlib inline"
   ]
  },
  {
   "cell_type": "markdown",
   "metadata": {},
   "source": [
    "# Data Cleaning and Exploration"
   ]
  },
  {
   "cell_type": "code",
   "execution_count": 208,
   "metadata": {},
   "outputs": [
    {
     "data": {
      "text/html": [
       "<div>\n",
       "<style scoped>\n",
       "    .dataframe tbody tr th:only-of-type {\n",
       "        vertical-align: middle;\n",
       "    }\n",
       "\n",
       "    .dataframe tbody tr th {\n",
       "        vertical-align: top;\n",
       "    }\n",
       "\n",
       "    .dataframe thead th {\n",
       "        text-align: right;\n",
       "    }\n",
       "</style>\n",
       "<table border=\"1\" class=\"dataframe\">\n",
       "  <thead>\n",
       "    <tr style=\"text-align: right;\">\n",
       "      <th></th>\n",
       "      <th>Precinct Name</th>\n",
       "      <th>Precinct #</th>\n",
       "      <th>Total</th>\n",
       "      <th>E Day</th>\n",
       "      <th>Mail</th>\n",
       "      <th>Party</th>\n",
       "      <th>Office Title</th>\n",
       "      <th>Candidate</th>\n",
       "      <th>Vote for</th>\n",
       "    </tr>\n",
       "  </thead>\n",
       "  <tbody>\n",
       "    <tr>\n",
       "      <th>0</th>\n",
       "      <td>Barrington 0101</td>\n",
       "      <td>101</td>\n",
       "      <td>2825</td>\n",
       "      <td>0</td>\n",
       "      <td>0</td>\n",
       "      <td>NaN</td>\n",
       "      <td>REGISTERED VOTERS - TOTAL</td>\n",
       "      <td>REGISTERED VOTERS - TOTAL</td>\n",
       "      <td>0</td>\n",
       "    </tr>\n",
       "    <tr>\n",
       "      <th>1</th>\n",
       "      <td>Barrington 0102</td>\n",
       "      <td>102</td>\n",
       "      <td>3182</td>\n",
       "      <td>0</td>\n",
       "      <td>0</td>\n",
       "      <td>NaN</td>\n",
       "      <td>REGISTERED VOTERS - TOTAL</td>\n",
       "      <td>REGISTERED VOTERS - TOTAL</td>\n",
       "      <td>0</td>\n",
       "    </tr>\n",
       "    <tr>\n",
       "      <th>2</th>\n",
       "      <td>Barrington 0103</td>\n",
       "      <td>103</td>\n",
       "      <td>2585</td>\n",
       "      <td>0</td>\n",
       "      <td>0</td>\n",
       "      <td>NaN</td>\n",
       "      <td>REGISTERED VOTERS - TOTAL</td>\n",
       "      <td>REGISTERED VOTERS - TOTAL</td>\n",
       "      <td>0</td>\n",
       "    </tr>\n",
       "    <tr>\n",
       "      <th>3</th>\n",
       "      <td>Barrington 0104</td>\n",
       "      <td>104</td>\n",
       "      <td>3118</td>\n",
       "      <td>0</td>\n",
       "      <td>0</td>\n",
       "      <td>NaN</td>\n",
       "      <td>REGISTERED VOTERS - TOTAL</td>\n",
       "      <td>REGISTERED VOTERS - TOTAL</td>\n",
       "      <td>0</td>\n",
       "    </tr>\n",
       "    <tr>\n",
       "      <th>4</th>\n",
       "      <td>Barrington 0105</td>\n",
       "      <td>105</td>\n",
       "      <td>3068</td>\n",
       "      <td>0</td>\n",
       "      <td>0</td>\n",
       "      <td>NaN</td>\n",
       "      <td>REGISTERED VOTERS - TOTAL</td>\n",
       "      <td>REGISTERED VOTERS - TOTAL</td>\n",
       "      <td>0</td>\n",
       "    </tr>\n",
       "    <tr>\n",
       "      <th>5</th>\n",
       "      <td>Barrington Limited</td>\n",
       "      <td>106</td>\n",
       "      <td>0</td>\n",
       "      <td>0</td>\n",
       "      <td>0</td>\n",
       "      <td>NaN</td>\n",
       "      <td>REGISTERED VOTERS - TOTAL</td>\n",
       "      <td>REGISTERED VOTERS - TOTAL</td>\n",
       "      <td>0</td>\n",
       "    </tr>\n",
       "    <tr>\n",
       "      <th>6</th>\n",
       "      <td>Barrington Presidential</td>\n",
       "      <td>107</td>\n",
       "      <td>0</td>\n",
       "      <td>0</td>\n",
       "      <td>0</td>\n",
       "      <td>NaN</td>\n",
       "      <td>REGISTERED VOTERS - TOTAL</td>\n",
       "      <td>REGISTERED VOTERS - TOTAL</td>\n",
       "      <td>0</td>\n",
       "    </tr>\n",
       "    <tr>\n",
       "      <th>7</th>\n",
       "      <td>Bristol 0201</td>\n",
       "      <td>201</td>\n",
       "      <td>1580</td>\n",
       "      <td>0</td>\n",
       "      <td>0</td>\n",
       "      <td>NaN</td>\n",
       "      <td>REGISTERED VOTERS - TOTAL</td>\n",
       "      <td>REGISTERED VOTERS - TOTAL</td>\n",
       "      <td>0</td>\n",
       "    </tr>\n",
       "    <tr>\n",
       "      <th>8</th>\n",
       "      <td>Bristol 0202</td>\n",
       "      <td>202</td>\n",
       "      <td>1021</td>\n",
       "      <td>0</td>\n",
       "      <td>0</td>\n",
       "      <td>NaN</td>\n",
       "      <td>REGISTERED VOTERS - TOTAL</td>\n",
       "      <td>REGISTERED VOTERS - TOTAL</td>\n",
       "      <td>0</td>\n",
       "    </tr>\n",
       "    <tr>\n",
       "      <th>9</th>\n",
       "      <td>Bristol 0203</td>\n",
       "      <td>203</td>\n",
       "      <td>2935</td>\n",
       "      <td>0</td>\n",
       "      <td>0</td>\n",
       "      <td>NaN</td>\n",
       "      <td>REGISTERED VOTERS - TOTAL</td>\n",
       "      <td>REGISTERED VOTERS - TOTAL</td>\n",
       "      <td>0</td>\n",
       "    </tr>\n",
       "  </tbody>\n",
       "</table>\n",
       "</div>"
      ],
      "text/plain": [
       "             Precinct Name  Precinct #  Total  E Day  Mail Party  \\\n",
       "0          Barrington 0101         101   2825      0     0   NaN   \n",
       "1          Barrington 0102         102   3182      0     0   NaN   \n",
       "2          Barrington 0103         103   2585      0     0   NaN   \n",
       "3          Barrington 0104         104   3118      0     0   NaN   \n",
       "4          Barrington 0105         105   3068      0     0   NaN   \n",
       "5       Barrington Limited         106      0      0     0   NaN   \n",
       "6  Barrington Presidential         107      0      0     0   NaN   \n",
       "7             Bristol 0201         201   1580      0     0   NaN   \n",
       "8             Bristol 0202         202   1021      0     0   NaN   \n",
       "9             Bristol 0203         203   2935      0     0   NaN   \n",
       "\n",
       "                Office Title                  Candidate  Vote for  \n",
       "0  REGISTERED VOTERS - TOTAL  REGISTERED VOTERS - TOTAL         0  \n",
       "1  REGISTERED VOTERS - TOTAL  REGISTERED VOTERS - TOTAL         0  \n",
       "2  REGISTERED VOTERS - TOTAL  REGISTERED VOTERS - TOTAL         0  \n",
       "3  REGISTERED VOTERS - TOTAL  REGISTERED VOTERS - TOTAL         0  \n",
       "4  REGISTERED VOTERS - TOTAL  REGISTERED VOTERS - TOTAL         0  \n",
       "5  REGISTERED VOTERS - TOTAL  REGISTERED VOTERS - TOTAL         0  \n",
       "6  REGISTERED VOTERS - TOTAL  REGISTERED VOTERS - TOTAL         0  \n",
       "7  REGISTERED VOTERS - TOTAL  REGISTERED VOTERS - TOTAL         0  \n",
       "8  REGISTERED VOTERS - TOTAL  REGISTERED VOTERS - TOTAL         0  \n",
       "9  REGISTERED VOTERS - TOTAL  REGISTERED VOTERS - TOTAL         0  "
      ]
     },
     "execution_count": 208,
     "metadata": {},
     "output_type": "execute_result"
    }
   ],
   "source": [
    "df = pd.read_excel(\"RI_Presidential_2016.xls\")\n",
    "df.head(10)"
   ]
  },
  {
   "cell_type": "code",
   "execution_count": 209,
   "metadata": {},
   "outputs": [
    {
     "name": "stdout",
     "output_type": "stream",
     "text": [
      "<class 'pandas.core.frame.DataFrame'>\n",
      "RangeIndex: 36989 entries, 0 to 36988\n",
      "Data columns (total 9 columns):\n",
      " #   Column         Non-Null Count  Dtype \n",
      "---  ------         --------------  ----- \n",
      " 0   Precinct Name  36989 non-null  object\n",
      " 1   Precinct #     36989 non-null  int64 \n",
      " 2   Total          36989 non-null  int64 \n",
      " 3   E Day          36989 non-null  int64 \n",
      " 4   Mail           36989 non-null  int64 \n",
      " 5   Party          21095 non-null  object\n",
      " 6   Office Title   36989 non-null  object\n",
      " 7   Candidate      36989 non-null  object\n",
      " 8   Vote for       36989 non-null  int64 \n",
      "dtypes: int64(5), object(4)\n",
      "memory usage: 2.5+ MB\n"
     ]
    }
   ],
   "source": [
    "df.info()"
   ]
  },
  {
   "cell_type": "code",
   "execution_count": 210,
   "metadata": {},
   "outputs": [
    {
     "data": {
      "text/plain": [
       "array(['REGISTERED VOTERS - TOTAL', 'BALLOTS CAST - TOTAL',\n",
       "       'Presidential Electors For:',\n",
       "       'Representative in Congress District 1',\n",
       "       'Representative in Congress District 2',\n",
       "       'Senator in General Assembly District 1',\n",
       "       'Senator in General Assembly District 2',\n",
       "       'Senator in General Assembly District 3',\n",
       "       'Senator in General Assembly District 4',\n",
       "       'Senator in General Assembly District 5'], dtype=object)"
      ]
     },
     "execution_count": 210,
     "metadata": {},
     "output_type": "execute_result"
    }
   ],
   "source": [
    "df[\"Office Title\"].unique()[:10]"
   ]
  },
  {
   "cell_type": "markdown",
   "metadata": {},
   "source": [
    "## We only want Presidential Electors, drop all others"
   ]
  },
  {
   "cell_type": "code",
   "execution_count": 211,
   "metadata": {},
   "outputs": [
    {
     "name": "stdout",
     "output_type": "stream",
     "text": [
      "<class 'pandas.core.frame.DataFrame'>\n",
      "Int64Index: 4008 entries, 1002 to 5009\n",
      "Data columns (total 9 columns):\n",
      " #   Column         Non-Null Count  Dtype \n",
      "---  ------         --------------  ----- \n",
      " 0   Precinct Name  4008 non-null   object\n",
      " 1   Precinct #     4008 non-null   int64 \n",
      " 2   Total          4008 non-null   int64 \n",
      " 3   E Day          4008 non-null   int64 \n",
      " 4   Mail           4008 non-null   int64 \n",
      " 5   Party          3006 non-null   object\n",
      " 6   Office Title   4008 non-null   object\n",
      " 7   Candidate      4008 non-null   object\n",
      " 8   Vote for       4008 non-null   int64 \n",
      "dtypes: int64(5), object(4)\n",
      "memory usage: 313.1+ KB\n"
     ]
    }
   ],
   "source": [
    "df = df[df[\"Office Title\"] == \"Presidential Electors For:\"]\n",
    "df.info()"
   ]
  },
  {
   "cell_type": "markdown",
   "metadata": {},
   "source": [
    "## now we can drop some columns that we dont need\n",
    "### keep  [Precinct Name, Precinct #, Total, Party, Candidate, Vote for]"
   ]
  },
  {
   "cell_type": "code",
   "execution_count": 212,
   "metadata": {},
   "outputs": [
    {
     "name": "stdout",
     "output_type": "stream",
     "text": [
      "<class 'pandas.core.frame.DataFrame'>\n",
      "Int64Index: 4008 entries, 1002 to 5009\n",
      "Data columns (total 5 columns):\n",
      " #   Column         Non-Null Count  Dtype \n",
      "---  ------         --------------  ----- \n",
      " 0   Precinct Name  4008 non-null   object\n",
      " 1   Precinct #     4008 non-null   int64 \n",
      " 2   Party          3006 non-null   object\n",
      " 3   Candidate      4008 non-null   object\n",
      " 4   Total          4008 non-null   int64 \n",
      "dtypes: int64(2), object(3)\n",
      "memory usage: 187.9+ KB\n"
     ]
    }
   ],
   "source": [
    "df = df[[\"Precinct Name\", \"Precinct #\", \"Party\", \"Candidate\", \"Total\"]]\n",
    "df.info()"
   ]
  },
  {
   "cell_type": "markdown",
   "metadata": {},
   "source": [
    "# read another csv and map county to this dataset"
   ]
  },
  {
   "cell_type": "code",
   "execution_count": 213,
   "metadata": {},
   "outputs": [],
   "source": [
    "df2 = pd.read_csv(\"../../../../sec data/voting/presidential_2016/processed data/RI_presidential_2016.csv\")"
   ]
  },
  {
   "cell_type": "code",
   "execution_count": 214,
   "metadata": {},
   "outputs": [
    {
     "data": {
      "text/html": [
       "<div>\n",
       "<style scoped>\n",
       "    .dataframe tbody tr th:only-of-type {\n",
       "        vertical-align: middle;\n",
       "    }\n",
       "\n",
       "    .dataframe tbody tr th {\n",
       "        vertical-align: top;\n",
       "    }\n",
       "\n",
       "    .dataframe thead th {\n",
       "        text-align: right;\n",
       "    }\n",
       "</style>\n",
       "<table border=\"1\" class=\"dataframe\">\n",
       "  <thead>\n",
       "    <tr style=\"text-align: right;\">\n",
       "      <th></th>\n",
       "      <th>county</th>\n",
       "      <th>precinct</th>\n",
       "      <th>candidate</th>\n",
       "      <th>party</th>\n",
       "      <th>votes</th>\n",
       "      <th>county_lat</th>\n",
       "      <th>county_long</th>\n",
       "    </tr>\n",
       "  </thead>\n",
       "  <tbody>\n",
       "    <tr>\n",
       "      <th>0</th>\n",
       "      <td>Bristol County</td>\n",
       "      <td>Barrington 0101; 101</td>\n",
       "      <td>D. Trump</td>\n",
       "      <td>republican</td>\n",
       "      <td>522</td>\n",
       "      <td>41.70683</td>\n",
       "      <td>-71.28664</td>\n",
       "    </tr>\n",
       "    <tr>\n",
       "      <th>1</th>\n",
       "      <td>Bristol County</td>\n",
       "      <td>Barrington 0101; 101</td>\n",
       "      <td>G. Johnson</td>\n",
       "      <td>libertarian</td>\n",
       "      <td>60</td>\n",
       "      <td>41.70683</td>\n",
       "      <td>-71.28664</td>\n",
       "    </tr>\n",
       "    <tr>\n",
       "      <th>2</th>\n",
       "      <td>Bristol County</td>\n",
       "      <td>Barrington 0101; 101</td>\n",
       "      <td>H. Clinton</td>\n",
       "      <td>democratic</td>\n",
       "      <td>1027</td>\n",
       "      <td>41.70683</td>\n",
       "      <td>-71.28664</td>\n",
       "    </tr>\n",
       "    <tr>\n",
       "      <th>3</th>\n",
       "      <td>Bristol County</td>\n",
       "      <td>Barrington 0101; 101</td>\n",
       "      <td>J. Stein</td>\n",
       "      <td>green</td>\n",
       "      <td>23</td>\n",
       "      <td>41.70683</td>\n",
       "      <td>-71.28664</td>\n",
       "    </tr>\n",
       "    <tr>\n",
       "      <th>4</th>\n",
       "      <td>Bristol County</td>\n",
       "      <td>Barrington 0101; 101</td>\n",
       "      <td>other</td>\n",
       "      <td>other</td>\n",
       "      <td>39</td>\n",
       "      <td>41.70683</td>\n",
       "      <td>-71.28664</td>\n",
       "    </tr>\n",
       "  </tbody>\n",
       "</table>\n",
       "</div>"
      ],
      "text/plain": [
       "           county              precinct   candidate        party  votes  \\\n",
       "0  Bristol County  Barrington 0101; 101    D. Trump   republican    522   \n",
       "1  Bristol County  Barrington 0101; 101  G. Johnson  libertarian     60   \n",
       "2  Bristol County  Barrington 0101; 101  H. Clinton   democratic   1027   \n",
       "3  Bristol County  Barrington 0101; 101    J. Stein        green     23   \n",
       "4  Bristol County  Barrington 0101; 101       other        other     39   \n",
       "\n",
       "   county_lat  county_long  \n",
       "0    41.70683    -71.28664  \n",
       "1    41.70683    -71.28664  \n",
       "2    41.70683    -71.28664  \n",
       "3    41.70683    -71.28664  \n",
       "4    41.70683    -71.28664  "
      ]
     },
     "execution_count": 214,
     "metadata": {},
     "output_type": "execute_result"
    }
   ],
   "source": [
    "df2.head()"
   ]
  },
  {
   "cell_type": "code",
   "execution_count": 215,
   "metadata": {},
   "outputs": [],
   "source": [
    "# generate county:precinct dict\n",
    "c2p = dict()\n",
    "\n",
    "for index, row in df2.iterrows():\n",
    "    county = row[\"county\"]\n",
    "    precinct1, precinct2 = row[\"precinct\"].split(\";\")\n",
    "    precinct2 = precinct2.strip()\n",
    "    \n",
    "    if precinct2 in c2p.keys():\n",
    "        if precinct1 in c2p[precinct2].keys():\n",
    "            c2p[precinct2][precinct1].append(county)\n",
    "        else:\n",
    "            c2p[precinct2] = {precinct1: [county]}\n",
    "    else:\n",
    "        c2p[precinct2] = {}\n",
    "        c2p[precinct2][precinct1] = [county]\n"
   ]
  },
  {
   "cell_type": "code",
   "execution_count": 216,
   "metadata": {},
   "outputs": [
    {
     "data": {
      "text/plain": [
       "array(['Bristol County', 'Providence County', 'Washington County',\n",
       "       'Kent County', 'Newport County', nan], dtype=object)"
      ]
     },
     "execution_count": 216,
     "metadata": {},
     "output_type": "execute_result"
    }
   ],
   "source": [
    "# start filling in the county\n",
    "df[\"County\"] = np.nan\n",
    "df = df.astype({'County': 'str'})\n",
    "\n",
    "for index, row in df.iterrows():\n",
    "    precinct1, precinct2 = row[\"Precinct Name\"], str(row[\"Precinct #\"])\n",
    "    df.at[index, \"County\"] = c2p[precinct2][precinct1][0]\n",
    "\n",
    "df[\"County\"].unique()"
   ]
  },
  {
   "cell_type": "code",
   "execution_count": 217,
   "metadata": {},
   "outputs": [
    {
     "data": {
      "text/html": [
       "<div>\n",
       "<style scoped>\n",
       "    .dataframe tbody tr th:only-of-type {\n",
       "        vertical-align: middle;\n",
       "    }\n",
       "\n",
       "    .dataframe tbody tr th {\n",
       "        vertical-align: top;\n",
       "    }\n",
       "\n",
       "    .dataframe thead th {\n",
       "        text-align: right;\n",
       "    }\n",
       "</style>\n",
       "<table border=\"1\" class=\"dataframe\">\n",
       "  <thead>\n",
       "    <tr style=\"text-align: right;\">\n",
       "      <th></th>\n",
       "      <th>Precinct Name</th>\n",
       "      <th>Precinct #</th>\n",
       "      <th>Party</th>\n",
       "      <th>Candidate</th>\n",
       "      <th>Total</th>\n",
       "      <th>County</th>\n",
       "    </tr>\n",
       "  </thead>\n",
       "  <tbody>\n",
       "    <tr>\n",
       "      <th>1002</th>\n",
       "      <td>Barrington 0101</td>\n",
       "      <td>101</td>\n",
       "      <td>REP</td>\n",
       "      <td>Donald J. Trump</td>\n",
       "      <td>522</td>\n",
       "      <td>Bristol County</td>\n",
       "    </tr>\n",
       "    <tr>\n",
       "      <th>1003</th>\n",
       "      <td>Barrington 0102</td>\n",
       "      <td>102</td>\n",
       "      <td>REP</td>\n",
       "      <td>Donald J. Trump</td>\n",
       "      <td>683</td>\n",
       "      <td>Bristol County</td>\n",
       "    </tr>\n",
       "    <tr>\n",
       "      <th>1004</th>\n",
       "      <td>Barrington 0103</td>\n",
       "      <td>103</td>\n",
       "      <td>REP</td>\n",
       "      <td>Donald J. Trump</td>\n",
       "      <td>469</td>\n",
       "      <td>Bristol County</td>\n",
       "    </tr>\n",
       "    <tr>\n",
       "      <th>1005</th>\n",
       "      <td>Barrington 0104</td>\n",
       "      <td>104</td>\n",
       "      <td>REP</td>\n",
       "      <td>Donald J. Trump</td>\n",
       "      <td>611</td>\n",
       "      <td>Bristol County</td>\n",
       "    </tr>\n",
       "    <tr>\n",
       "      <th>1006</th>\n",
       "      <td>Barrington 0105</td>\n",
       "      <td>105</td>\n",
       "      <td>REP</td>\n",
       "      <td>Donald J. Trump</td>\n",
       "      <td>590</td>\n",
       "      <td>Bristol County</td>\n",
       "    </tr>\n",
       "  </tbody>\n",
       "</table>\n",
       "</div>"
      ],
      "text/plain": [
       "        Precinct Name  Precinct # Party        Candidate  Total  \\\n",
       "1002  Barrington 0101         101   REP  Donald J. Trump    522   \n",
       "1003  Barrington 0102         102   REP  Donald J. Trump    683   \n",
       "1004  Barrington 0103         103   REP  Donald J. Trump    469   \n",
       "1005  Barrington 0104         104   REP  Donald J. Trump    611   \n",
       "1006  Barrington 0105         105   REP  Donald J. Trump    590   \n",
       "\n",
       "              County  \n",
       "1002  Bristol County  \n",
       "1003  Bristol County  \n",
       "1004  Bristol County  \n",
       "1005  Bristol County  \n",
       "1006  Bristol County  "
      ]
     },
     "execution_count": 217,
     "metadata": {},
     "output_type": "execute_result"
    }
   ],
   "source": [
    "df.head()"
   ]
  },
  {
   "cell_type": "code",
   "execution_count": null,
   "metadata": {},
   "outputs": [],
   "source": []
  },
  {
   "cell_type": "code",
   "execution_count": null,
   "metadata": {},
   "outputs": [],
   "source": []
  },
  {
   "cell_type": "code",
   "execution_count": null,
   "metadata": {},
   "outputs": [],
   "source": []
  },
  {
   "cell_type": "markdown",
   "metadata": {},
   "source": [
    "## lets see why party is missing alot values"
   ]
  },
  {
   "cell_type": "code",
   "execution_count": 218,
   "metadata": {},
   "outputs": [],
   "source": [
    "dfCopy = df[pd.isna(df[\"Party\"])]"
   ]
  },
  {
   "cell_type": "code",
   "execution_count": 219,
   "metadata": {},
   "outputs": [
    {
     "data": {
      "text/html": [
       "<div>\n",
       "<style scoped>\n",
       "    .dataframe tbody tr th:only-of-type {\n",
       "        vertical-align: middle;\n",
       "    }\n",
       "\n",
       "    .dataframe tbody tr th {\n",
       "        vertical-align: top;\n",
       "    }\n",
       "\n",
       "    .dataframe thead th {\n",
       "        text-align: right;\n",
       "    }\n",
       "</style>\n",
       "<table border=\"1\" class=\"dataframe\">\n",
       "  <thead>\n",
       "    <tr style=\"text-align: right;\">\n",
       "      <th></th>\n",
       "      <th>Precinct Name</th>\n",
       "      <th>Precinct #</th>\n",
       "      <th>Party</th>\n",
       "      <th>Candidate</th>\n",
       "      <th>Total</th>\n",
       "      <th>County</th>\n",
       "    </tr>\n",
       "  </thead>\n",
       "  <tbody>\n",
       "    <tr>\n",
       "      <th>4008</th>\n",
       "      <td>Barrington 0101</td>\n",
       "      <td>101</td>\n",
       "      <td>NaN</td>\n",
       "      <td>OVER VOTES</td>\n",
       "      <td>0</td>\n",
       "      <td>Bristol County</td>\n",
       "    </tr>\n",
       "    <tr>\n",
       "      <th>4009</th>\n",
       "      <td>Barrington 0102</td>\n",
       "      <td>102</td>\n",
       "      <td>NaN</td>\n",
       "      <td>OVER VOTES</td>\n",
       "      <td>2</td>\n",
       "      <td>Bristol County</td>\n",
       "    </tr>\n",
       "    <tr>\n",
       "      <th>4010</th>\n",
       "      <td>Barrington 0103</td>\n",
       "      <td>103</td>\n",
       "      <td>NaN</td>\n",
       "      <td>OVER VOTES</td>\n",
       "      <td>0</td>\n",
       "      <td>Bristol County</td>\n",
       "    </tr>\n",
       "    <tr>\n",
       "      <th>4011</th>\n",
       "      <td>Barrington 0104</td>\n",
       "      <td>104</td>\n",
       "      <td>NaN</td>\n",
       "      <td>OVER VOTES</td>\n",
       "      <td>1</td>\n",
       "      <td>Bristol County</td>\n",
       "    </tr>\n",
       "    <tr>\n",
       "      <th>4012</th>\n",
       "      <td>Barrington 0105</td>\n",
       "      <td>105</td>\n",
       "      <td>NaN</td>\n",
       "      <td>OVER VOTES</td>\n",
       "      <td>2</td>\n",
       "      <td>Bristol County</td>\n",
       "    </tr>\n",
       "  </tbody>\n",
       "</table>\n",
       "</div>"
      ],
      "text/plain": [
       "        Precinct Name  Precinct # Party   Candidate  Total          County\n",
       "4008  Barrington 0101         101   NaN  OVER VOTES      0  Bristol County\n",
       "4009  Barrington 0102         102   NaN  OVER VOTES      2  Bristol County\n",
       "4010  Barrington 0103         103   NaN  OVER VOTES      0  Bristol County\n",
       "4011  Barrington 0104         104   NaN  OVER VOTES      1  Bristol County\n",
       "4012  Barrington 0105         105   NaN  OVER VOTES      2  Bristol County"
      ]
     },
     "execution_count": 219,
     "metadata": {},
     "output_type": "execute_result"
    }
   ],
   "source": [
    "dfCopy.head()"
   ]
  },
  {
   "cell_type": "markdown",
   "metadata": {},
   "source": [
    "### see what candidates are missing Party"
   ]
  },
  {
   "cell_type": "code",
   "execution_count": 220,
   "metadata": {},
   "outputs": [
    {
     "data": {
      "text/plain": [
       "array(['OVER VOTES', 'UNDER VOTES'], dtype=object)"
      ]
     },
     "execution_count": 220,
     "metadata": {},
     "output_type": "execute_result"
    }
   ],
   "source": [
    "dfCopy[\"Candidate\"].unique()"
   ]
  },
  {
   "cell_type": "markdown",
   "metadata": {},
   "source": [
    "# Try to map each candidate to correct party\n",
    "### we keeping only \"democratic\", \"republican\", \"libertarian\", \"green\""
   ]
  },
  {
   "cell_type": "code",
   "execution_count": 221,
   "metadata": {},
   "outputs": [
    {
     "name": "stdout",
     "output_type": "stream",
     "text": [
      "['REP' 'DEM' 'Lib' 'Grn' 'AMD' 'NON' nan]\n",
      "['Donald J. Trump' 'Hillary Clinton' 'Gary Johnson' 'Jill Stein'\n",
      " '\"Rocky\" Roque  De La Fuente' 'WRITE-IN' 'OVER VOTES' 'UNDER VOTES']\n"
     ]
    }
   ],
   "source": [
    "# see all parties in df and all candidates\n",
    "print(df[\"Party\"].unique())\n",
    "print(df[\"Candidate\"].unique())"
   ]
  },
  {
   "cell_type": "code",
   "execution_count": 222,
   "metadata": {},
   "outputs": [],
   "source": [
    "candidate_to_keep = {'Hillary Clinton': \"Democratic\", 'Gary Johnson': \"Libertarian\",\n",
    "                     'Jill Stein': \"Green\", 'Donald J. Trump': \"Republican\"}"
   ]
  },
  {
   "cell_type": "code",
   "execution_count": 223,
   "metadata": {},
   "outputs": [
    {
     "name": "stdout",
     "output_type": "stream",
     "text": [
      "#====#"
     ]
    },
    {
     "data": {
      "text/plain": [
       "array(['Republican', 'Democratic', 'Libertarian', 'Green', 'Other'],\n",
       "      dtype=object)"
      ]
     },
     "execution_count": 223,
     "metadata": {},
     "output_type": "execute_result"
    }
   ],
   "source": [
    "# start normalizing \"Party\" and \"Candidate\" columns\n",
    "print(\"#\", end=\"\")\n",
    "\n",
    "for index, row in df.iterrows():\n",
    "    if index%1000 == 0:\n",
    "        print(\"=\", end=\"\")\n",
    "        \n",
    "    cur_candidate = row[\"Candidate\"]\n",
    "    if cur_candidate in candidate_to_keep.keys():\n",
    "        df.at[index, \"Party\"] = candidate_to_keep[cur_candidate]\n",
    "    else:\n",
    "        df.at[index, \"Candidate\"] = \"Other\"\n",
    "        df.at[index, \"Party\"] = \"Other\"\n",
    "        \n",
    "print(\"#\", end=\"\")\n",
    "\n",
    "df[\"Party\"].unique()"
   ]
  },
  {
   "cell_type": "code",
   "execution_count": 224,
   "metadata": {},
   "outputs": [
    {
     "data": {
      "text/plain": [
       "array(['Donald J. Trump', 'Hillary Clinton', 'Gary Johnson', 'Jill Stein',\n",
       "       'Other'], dtype=object)"
      ]
     },
     "execution_count": 224,
     "metadata": {},
     "output_type": "execute_result"
    }
   ],
   "source": [
    "df[\"Candidate\"].unique()"
   ]
  },
  {
   "cell_type": "code",
   "execution_count": 225,
   "metadata": {},
   "outputs": [
    {
     "data": {
      "text/plain": [
       "Precinct Name     0\n",
       "Precinct #        0\n",
       "Party             0\n",
       "Candidate         0\n",
       "Total             0\n",
       "County           16\n",
       "dtype: int64"
      ]
     },
     "execution_count": 225,
     "metadata": {},
     "output_type": "execute_result"
    }
   ],
   "source": [
    "df.isnull().sum()"
   ]
  },
  {
   "cell_type": "markdown",
   "metadata": {},
   "source": [
    "# drop rows with county = Null"
   ]
  },
  {
   "cell_type": "code",
   "execution_count": 226,
   "metadata": {},
   "outputs": [
    {
     "data": {
      "text/html": [
       "<div>\n",
       "<style scoped>\n",
       "    .dataframe tbody tr th:only-of-type {\n",
       "        vertical-align: middle;\n",
       "    }\n",
       "\n",
       "    .dataframe tbody tr th {\n",
       "        vertical-align: top;\n",
       "    }\n",
       "\n",
       "    .dataframe thead th {\n",
       "        text-align: right;\n",
       "    }\n",
       "</style>\n",
       "<table border=\"1\" class=\"dataframe\">\n",
       "  <thead>\n",
       "    <tr style=\"text-align: right;\">\n",
       "      <th></th>\n",
       "      <th>Precinct Name</th>\n",
       "      <th>Precinct #</th>\n",
       "      <th>Party</th>\n",
       "      <th>Candidate</th>\n",
       "      <th>Total</th>\n",
       "      <th>County</th>\n",
       "    </tr>\n",
       "  </thead>\n",
       "  <tbody>\n",
       "    <tr>\n",
       "      <th>1501</th>\n",
       "      <td>Federal Precinct #1</td>\n",
       "      <td>9001</td>\n",
       "      <td>Republican</td>\n",
       "      <td>Donald J. Trump</td>\n",
       "      <td>30</td>\n",
       "      <td>NaN</td>\n",
       "    </tr>\n",
       "    <tr>\n",
       "      <th>1502</th>\n",
       "      <td>Federal Precinct #2</td>\n",
       "      <td>9002</td>\n",
       "      <td>Republican</td>\n",
       "      <td>Donald J. Trump</td>\n",
       "      <td>23</td>\n",
       "      <td>NaN</td>\n",
       "    </tr>\n",
       "    <tr>\n",
       "      <th>2002</th>\n",
       "      <td>Federal Precinct #1</td>\n",
       "      <td>9001</td>\n",
       "      <td>Democratic</td>\n",
       "      <td>Hillary Clinton</td>\n",
       "      <td>376</td>\n",
       "      <td>NaN</td>\n",
       "    </tr>\n",
       "    <tr>\n",
       "      <th>2003</th>\n",
       "      <td>Federal Precinct #2</td>\n",
       "      <td>9002</td>\n",
       "      <td>Democratic</td>\n",
       "      <td>Hillary Clinton</td>\n",
       "      <td>261</td>\n",
       "      <td>NaN</td>\n",
       "    </tr>\n",
       "    <tr>\n",
       "      <th>2503</th>\n",
       "      <td>Federal Precinct #1</td>\n",
       "      <td>9001</td>\n",
       "      <td>Libertarian</td>\n",
       "      <td>Gary Johnson</td>\n",
       "      <td>15</td>\n",
       "      <td>NaN</td>\n",
       "    </tr>\n",
       "    <tr>\n",
       "      <th>2504</th>\n",
       "      <td>Federal Precinct #2</td>\n",
       "      <td>9002</td>\n",
       "      <td>Libertarian</td>\n",
       "      <td>Gary Johnson</td>\n",
       "      <td>1</td>\n",
       "      <td>NaN</td>\n",
       "    </tr>\n",
       "    <tr>\n",
       "      <th>3004</th>\n",
       "      <td>Federal Precinct #1</td>\n",
       "      <td>9001</td>\n",
       "      <td>Green</td>\n",
       "      <td>Jill Stein</td>\n",
       "      <td>11</td>\n",
       "      <td>NaN</td>\n",
       "    </tr>\n",
       "    <tr>\n",
       "      <th>3005</th>\n",
       "      <td>Federal Precinct #2</td>\n",
       "      <td>9002</td>\n",
       "      <td>Green</td>\n",
       "      <td>Jill Stein</td>\n",
       "      <td>6</td>\n",
       "      <td>NaN</td>\n",
       "    </tr>\n",
       "    <tr>\n",
       "      <th>3505</th>\n",
       "      <td>Federal Precinct #1</td>\n",
       "      <td>9001</td>\n",
       "      <td>Other</td>\n",
       "      <td>Other</td>\n",
       "      <td>0</td>\n",
       "      <td>NaN</td>\n",
       "    </tr>\n",
       "    <tr>\n",
       "      <th>3506</th>\n",
       "      <td>Federal Precinct #2</td>\n",
       "      <td>9002</td>\n",
       "      <td>Other</td>\n",
       "      <td>Other</td>\n",
       "      <td>0</td>\n",
       "      <td>NaN</td>\n",
       "    </tr>\n",
       "    <tr>\n",
       "      <th>4006</th>\n",
       "      <td>Federal Precinct #1</td>\n",
       "      <td>9001</td>\n",
       "      <td>Other</td>\n",
       "      <td>Other</td>\n",
       "      <td>1</td>\n",
       "      <td>NaN</td>\n",
       "    </tr>\n",
       "    <tr>\n",
       "      <th>4007</th>\n",
       "      <td>Federal Precinct #2</td>\n",
       "      <td>9002</td>\n",
       "      <td>Other</td>\n",
       "      <td>Other</td>\n",
       "      <td>4</td>\n",
       "      <td>NaN</td>\n",
       "    </tr>\n",
       "    <tr>\n",
       "      <th>4507</th>\n",
       "      <td>Federal Precinct #1</td>\n",
       "      <td>9001</td>\n",
       "      <td>Other</td>\n",
       "      <td>Other</td>\n",
       "      <td>0</td>\n",
       "      <td>NaN</td>\n",
       "    </tr>\n",
       "    <tr>\n",
       "      <th>4508</th>\n",
       "      <td>Federal Precinct #2</td>\n",
       "      <td>9002</td>\n",
       "      <td>Other</td>\n",
       "      <td>Other</td>\n",
       "      <td>0</td>\n",
       "      <td>NaN</td>\n",
       "    </tr>\n",
       "    <tr>\n",
       "      <th>5008</th>\n",
       "      <td>Federal Precinct #1</td>\n",
       "      <td>9001</td>\n",
       "      <td>Other</td>\n",
       "      <td>Other</td>\n",
       "      <td>3</td>\n",
       "      <td>NaN</td>\n",
       "    </tr>\n",
       "    <tr>\n",
       "      <th>5009</th>\n",
       "      <td>Federal Precinct #2</td>\n",
       "      <td>9002</td>\n",
       "      <td>Other</td>\n",
       "      <td>Other</td>\n",
       "      <td>0</td>\n",
       "      <td>NaN</td>\n",
       "    </tr>\n",
       "  </tbody>\n",
       "</table>\n",
       "</div>"
      ],
      "text/plain": [
       "            Precinct Name  Precinct #        Party        Candidate  Total  \\\n",
       "1501  Federal Precinct #1        9001   Republican  Donald J. Trump     30   \n",
       "1502  Federal Precinct #2        9002   Republican  Donald J. Trump     23   \n",
       "2002  Federal Precinct #1        9001   Democratic  Hillary Clinton    376   \n",
       "2003  Federal Precinct #2        9002   Democratic  Hillary Clinton    261   \n",
       "2503  Federal Precinct #1        9001  Libertarian     Gary Johnson     15   \n",
       "2504  Federal Precinct #2        9002  Libertarian     Gary Johnson      1   \n",
       "3004  Federal Precinct #1        9001        Green       Jill Stein     11   \n",
       "3005  Federal Precinct #2        9002        Green       Jill Stein      6   \n",
       "3505  Federal Precinct #1        9001        Other            Other      0   \n",
       "3506  Federal Precinct #2        9002        Other            Other      0   \n",
       "4006  Federal Precinct #1        9001        Other            Other      1   \n",
       "4007  Federal Precinct #2        9002        Other            Other      4   \n",
       "4507  Federal Precinct #1        9001        Other            Other      0   \n",
       "4508  Federal Precinct #2        9002        Other            Other      0   \n",
       "5008  Federal Precinct #1        9001        Other            Other      3   \n",
       "5009  Federal Precinct #2        9002        Other            Other      0   \n",
       "\n",
       "     County  \n",
       "1501    NaN  \n",
       "1502    NaN  \n",
       "2002    NaN  \n",
       "2003    NaN  \n",
       "2503    NaN  \n",
       "2504    NaN  \n",
       "3004    NaN  \n",
       "3005    NaN  \n",
       "3505    NaN  \n",
       "3506    NaN  \n",
       "4006    NaN  \n",
       "4007    NaN  \n",
       "4507    NaN  \n",
       "4508    NaN  \n",
       "5008    NaN  \n",
       "5009    NaN  "
      ]
     },
     "execution_count": 226,
     "metadata": {},
     "output_type": "execute_result"
    }
   ],
   "source": [
    "df[pd.isna(df[\"County\"])]"
   ]
  },
  {
   "cell_type": "code",
   "execution_count": 227,
   "metadata": {},
   "outputs": [],
   "source": [
    "df.dropna(inplace=True)"
   ]
  },
  {
   "cell_type": "code",
   "execution_count": 228,
   "metadata": {},
   "outputs": [
    {
     "data": {
      "text/plain": [
       "Precinct Name    0\n",
       "Precinct #       0\n",
       "Party            0\n",
       "Candidate        0\n",
       "Total            0\n",
       "County           0\n",
       "dtype: int64"
      ]
     },
     "execution_count": 228,
     "metadata": {},
     "output_type": "execute_result"
    }
   ],
   "source": [
    "df.isna().sum()"
   ]
  },
  {
   "cell_type": "code",
   "execution_count": 229,
   "metadata": {},
   "outputs": [],
   "source": [
    "# Sort the df by county then by precinct, then by candidate\n",
    "df.sort_values(by=[\"County\", \"Precinct #\", \"Candidate\"], inplace=True)"
   ]
  },
  {
   "cell_type": "code",
   "execution_count": 230,
   "metadata": {},
   "outputs": [
    {
     "data": {
      "text/html": [
       "<div>\n",
       "<style scoped>\n",
       "    .dataframe tbody tr th:only-of-type {\n",
       "        vertical-align: middle;\n",
       "    }\n",
       "\n",
       "    .dataframe tbody tr th {\n",
       "        vertical-align: top;\n",
       "    }\n",
       "\n",
       "    .dataframe thead th {\n",
       "        text-align: right;\n",
       "    }\n",
       "</style>\n",
       "<table border=\"1\" class=\"dataframe\">\n",
       "  <thead>\n",
       "    <tr style=\"text-align: right;\">\n",
       "      <th></th>\n",
       "      <th>Precinct Name</th>\n",
       "      <th>Precinct #</th>\n",
       "      <th>Party</th>\n",
       "      <th>Candidate</th>\n",
       "      <th>Total</th>\n",
       "      <th>County</th>\n",
       "    </tr>\n",
       "  </thead>\n",
       "  <tbody>\n",
       "    <tr>\n",
       "      <th>1002</th>\n",
       "      <td>Barrington 0101</td>\n",
       "      <td>101</td>\n",
       "      <td>Republican</td>\n",
       "      <td>Donald J. Trump</td>\n",
       "      <td>522</td>\n",
       "      <td>Bristol County</td>\n",
       "    </tr>\n",
       "    <tr>\n",
       "      <th>2004</th>\n",
       "      <td>Barrington 0101</td>\n",
       "      <td>101</td>\n",
       "      <td>Libertarian</td>\n",
       "      <td>Gary Johnson</td>\n",
       "      <td>60</td>\n",
       "      <td>Bristol County</td>\n",
       "    </tr>\n",
       "    <tr>\n",
       "      <th>1503</th>\n",
       "      <td>Barrington 0101</td>\n",
       "      <td>101</td>\n",
       "      <td>Democratic</td>\n",
       "      <td>Hillary Clinton</td>\n",
       "      <td>1027</td>\n",
       "      <td>Bristol County</td>\n",
       "    </tr>\n",
       "    <tr>\n",
       "      <th>2505</th>\n",
       "      <td>Barrington 0101</td>\n",
       "      <td>101</td>\n",
       "      <td>Green</td>\n",
       "      <td>Jill Stein</td>\n",
       "      <td>23</td>\n",
       "      <td>Bristol County</td>\n",
       "    </tr>\n",
       "    <tr>\n",
       "      <th>3006</th>\n",
       "      <td>Barrington 0101</td>\n",
       "      <td>101</td>\n",
       "      <td>Other</td>\n",
       "      <td>Other</td>\n",
       "      <td>2</td>\n",
       "      <td>Bristol County</td>\n",
       "    </tr>\n",
       "  </tbody>\n",
       "</table>\n",
       "</div>"
      ],
      "text/plain": [
       "        Precinct Name  Precinct #        Party        Candidate  Total  \\\n",
       "1002  Barrington 0101         101   Republican  Donald J. Trump    522   \n",
       "2004  Barrington 0101         101  Libertarian     Gary Johnson     60   \n",
       "1503  Barrington 0101         101   Democratic  Hillary Clinton   1027   \n",
       "2505  Barrington 0101         101        Green       Jill Stein     23   \n",
       "3006  Barrington 0101         101        Other            Other      2   \n",
       "\n",
       "              County  \n",
       "1002  Bristol County  \n",
       "2004  Bristol County  \n",
       "1503  Bristol County  \n",
       "2505  Bristol County  \n",
       "3006  Bristol County  "
      ]
     },
     "execution_count": 230,
     "metadata": {},
     "output_type": "execute_result"
    }
   ],
   "source": [
    "df.head()"
   ]
  },
  {
   "cell_type": "code",
   "execution_count": null,
   "metadata": {},
   "outputs": [],
   "source": []
  },
  {
   "cell_type": "markdown",
   "metadata": {},
   "source": [
    "# drop all precinct name that contains limited and presidential, these are unneeded (not in the precinct geographic data)"
   ]
  },
  {
   "cell_type": "code",
   "execution_count": 231,
   "metadata": {},
   "outputs": [
    {
     "data": {
      "text/plain": [
       "0"
      ]
     },
     "execution_count": 231,
     "metadata": {},
     "output_type": "execute_result"
    }
   ],
   "source": [
    "index2delete = df[df[\"Precinct Name\"].str.contains(\"Presidential\") | df[\"Precinct Name\"].str.contains(\"Limited\")].index\n",
    "df.drop(index2delete, inplace=True)\n",
    "\n",
    "# check if all deleted\n",
    "df[\"Precinct Name\"].str.contains(\"Limited\").sum()"
   ]
  },
  {
   "cell_type": "code",
   "execution_count": null,
   "metadata": {},
   "outputs": [],
   "source": []
  },
  {
   "cell_type": "markdown",
   "metadata": {},
   "source": [
    "# make all precinct # 4 digits (so add a leading zero to 3 digit precinct #. By doing this we can map it to our geojson"
   ]
  },
  {
   "cell_type": "code",
   "execution_count": 232,
   "metadata": {},
   "outputs": [],
   "source": [
    "# convert \"Precinct #\" to str\n",
    "df = df.astype({'Precinct #': 'str'})"
   ]
  },
  {
   "cell_type": "code",
   "execution_count": 233,
   "metadata": {},
   "outputs": [
    {
     "data": {
      "text/html": [
       "<div>\n",
       "<style scoped>\n",
       "    .dataframe tbody tr th:only-of-type {\n",
       "        vertical-align: middle;\n",
       "    }\n",
       "\n",
       "    .dataframe tbody tr th {\n",
       "        vertical-align: top;\n",
       "    }\n",
       "\n",
       "    .dataframe thead th {\n",
       "        text-align: right;\n",
       "    }\n",
       "</style>\n",
       "<table border=\"1\" class=\"dataframe\">\n",
       "  <thead>\n",
       "    <tr style=\"text-align: right;\">\n",
       "      <th></th>\n",
       "      <th>Precinct Name</th>\n",
       "      <th>Precinct #</th>\n",
       "      <th>Party</th>\n",
       "      <th>Candidate</th>\n",
       "      <th>Total</th>\n",
       "      <th>County</th>\n",
       "    </tr>\n",
       "  </thead>\n",
       "  <tbody>\n",
       "  </tbody>\n",
       "</table>\n",
       "</div>"
      ],
      "text/plain": [
       "Empty DataFrame\n",
       "Columns: [Precinct Name, Precinct #, Party, Candidate, Total, County]\n",
       "Index: []"
      ]
     },
     "execution_count": 233,
     "metadata": {},
     "output_type": "execute_result"
    }
   ],
   "source": [
    "for index, row in df.iterrows():\n",
    "    cur = row[\"Precinct #\"]\n",
    "    if len(cur) == 3:\n",
    "        cur = \"0\" + cur\n",
    "        df.at[index, \"Precinct #\"] = cur\n",
    "\n",
    "# chec if all in 4 digit\n",
    "df[df[\"Precinct #\"].str.len() != 4]"
   ]
  },
  {
   "cell_type": "code",
   "execution_count": null,
   "metadata": {},
   "outputs": [],
   "source": []
  },
  {
   "cell_type": "code",
   "execution_count": null,
   "metadata": {},
   "outputs": [],
   "source": []
  },
  {
   "cell_type": "markdown",
   "metadata": {},
   "source": [
    "# merge data records by precinct # (so we endup with one row per precinct)"
   ]
  },
  {
   "cell_type": "code",
   "execution_count": 234,
   "metadata": {},
   "outputs": [
    {
     "data": {
      "text/html": [
       "<div>\n",
       "<style scoped>\n",
       "    .dataframe tbody tr th:only-of-type {\n",
       "        vertical-align: middle;\n",
       "    }\n",
       "\n",
       "    .dataframe tbody tr th {\n",
       "        vertical-align: top;\n",
       "    }\n",
       "\n",
       "    .dataframe thead th {\n",
       "        text-align: right;\n",
       "    }\n",
       "</style>\n",
       "<table border=\"1\" class=\"dataframe\">\n",
       "  <thead>\n",
       "    <tr style=\"text-align: right;\">\n",
       "      <th></th>\n",
       "      <th></th>\n",
       "      <th></th>\n",
       "      <th></th>\n",
       "      <th></th>\n",
       "      <th>Total</th>\n",
       "    </tr>\n",
       "    <tr>\n",
       "      <th>Precinct #</th>\n",
       "      <th>Precinct Name</th>\n",
       "      <th>County</th>\n",
       "      <th>Candidate</th>\n",
       "      <th>Party</th>\n",
       "      <th></th>\n",
       "    </tr>\n",
       "  </thead>\n",
       "  <tbody>\n",
       "    <tr>\n",
       "      <th rowspan=\"5\" valign=\"top\">0101</th>\n",
       "      <th rowspan=\"5\" valign=\"top\">Barrington 0101</th>\n",
       "      <th rowspan=\"5\" valign=\"top\">Bristol County</th>\n",
       "      <th>Donald J. Trump</th>\n",
       "      <th>Republican</th>\n",
       "      <td>522</td>\n",
       "    </tr>\n",
       "    <tr>\n",
       "      <th>Gary Johnson</th>\n",
       "      <th>Libertarian</th>\n",
       "      <td>60</td>\n",
       "    </tr>\n",
       "    <tr>\n",
       "      <th>Hillary Clinton</th>\n",
       "      <th>Democratic</th>\n",
       "      <td>1027</td>\n",
       "    </tr>\n",
       "    <tr>\n",
       "      <th>Jill Stein</th>\n",
       "      <th>Green</th>\n",
       "      <td>23</td>\n",
       "    </tr>\n",
       "    <tr>\n",
       "      <th>Other</th>\n",
       "      <th>Other</th>\n",
       "      <td>59</td>\n",
       "    </tr>\n",
       "    <tr>\n",
       "      <th>...</th>\n",
       "      <th>...</th>\n",
       "      <th>...</th>\n",
       "      <th>...</th>\n",
       "      <th>...</th>\n",
       "      <td>...</td>\n",
       "    </tr>\n",
       "    <tr>\n",
       "      <th rowspan=\"5\" valign=\"top\">3912</th>\n",
       "      <th rowspan=\"5\" valign=\"top\">Woonsocket 3912</th>\n",
       "      <th rowspan=\"5\" valign=\"top\">Providence County</th>\n",
       "      <th>Donald J. Trump</th>\n",
       "      <th>Republican</th>\n",
       "      <td>448</td>\n",
       "    </tr>\n",
       "    <tr>\n",
       "      <th>Gary Johnson</th>\n",
       "      <th>Libertarian</th>\n",
       "      <td>37</td>\n",
       "    </tr>\n",
       "    <tr>\n",
       "      <th>Hillary Clinton</th>\n",
       "      <th>Democratic</th>\n",
       "      <td>506</td>\n",
       "    </tr>\n",
       "    <tr>\n",
       "      <th>Jill Stein</th>\n",
       "      <th>Green</th>\n",
       "      <td>18</td>\n",
       "    </tr>\n",
       "    <tr>\n",
       "      <th>Other</th>\n",
       "      <th>Other</th>\n",
       "      <td>25</td>\n",
       "    </tr>\n",
       "  </tbody>\n",
       "</table>\n",
       "<p>2100 rows × 1 columns</p>\n",
       "</div>"
      ],
      "text/plain": [
       "                                                                          Total\n",
       "Precinct # Precinct Name   County            Candidate       Party             \n",
       "0101       Barrington 0101 Bristol County    Donald J. Trump Republican     522\n",
       "                                             Gary Johnson    Libertarian     60\n",
       "                                             Hillary Clinton Democratic    1027\n",
       "                                             Jill Stein      Green           23\n",
       "                                             Other           Other           59\n",
       "...                                                                         ...\n",
       "3912       Woonsocket 3912 Providence County Donald J. Trump Republican     448\n",
       "                                             Gary Johnson    Libertarian     37\n",
       "                                             Hillary Clinton Democratic     506\n",
       "                                             Jill Stein      Green           18\n",
       "                                             Other           Other           25\n",
       "\n",
       "[2100 rows x 1 columns]"
      ]
     },
     "execution_count": 234,
     "metadata": {},
     "output_type": "execute_result"
    }
   ],
   "source": [
    "grouped = df.groupby([\"Precinct #\", \"Precinct Name\", \"County\", \"Candidate\", \"Party\"])\n",
    "grouped.sum()"
   ]
  },
  {
   "cell_type": "code",
   "execution_count": 235,
   "metadata": {},
   "outputs": [
    {
     "data": {
      "text/html": [
       "<div>\n",
       "<style scoped>\n",
       "    .dataframe tbody tr th:only-of-type {\n",
       "        vertical-align: middle;\n",
       "    }\n",
       "\n",
       "    .dataframe tbody tr th {\n",
       "        vertical-align: top;\n",
       "    }\n",
       "\n",
       "    .dataframe thead th {\n",
       "        text-align: right;\n",
       "    }\n",
       "</style>\n",
       "<table border=\"1\" class=\"dataframe\">\n",
       "  <thead>\n",
       "    <tr style=\"text-align: right;\">\n",
       "      <th></th>\n",
       "      <th>County</th>\n",
       "      <th>Precinct Name</th>\n",
       "      <th>Precinct #</th>\n",
       "      <th>Hillary Clinton/Dem</th>\n",
       "      <th>Donald J. Trump/Rep</th>\n",
       "      <th>Gary Johnson/Lib</th>\n",
       "      <th>Jill Stein/Grn</th>\n",
       "      <th>Other/Other</th>\n",
       "      <th>Total Votes</th>\n",
       "    </tr>\n",
       "  </thead>\n",
       "  <tbody>\n",
       "  </tbody>\n",
       "</table>\n",
       "</div>"
      ],
      "text/plain": [
       "Empty DataFrame\n",
       "Columns: [County, Precinct Name, Precinct #, Hillary Clinton/Dem, Donald J. Trump/Rep, Gary Johnson/Lib, Jill Stein/Grn, Other/Other, Total Votes]\n",
       "Index: []"
      ]
     },
     "execution_count": 235,
     "metadata": {},
     "output_type": "execute_result"
    }
   ],
   "source": [
    "# new dataframe\n",
    "columns = [\"County\", \"Precinct Name\", \"Precinct #\", \"Hillary Clinton/Dem\",\n",
    "           \"Donald J. Trump/Rep\", \"Gary Johnson/Lib\", \"Jill Stein/Grn\",\n",
    "           \"Other/Other\", \"Total Votes\"]\n",
    "new_RI = pd.DataFrame(columns=columns)\n",
    "new_RI.head()"
   ]
  },
  {
   "cell_type": "code",
   "execution_count": 236,
   "metadata": {},
   "outputs": [
    {
     "name": "stdout",
     "output_type": "stream",
     "text": [
      "################## Merging RI Dataframe ##################\n",
      "\n",
      "################ Done Merging RI Dataframe ###############\n"
     ]
    }
   ],
   "source": [
    "vote_column_name = {'Hillary Clinton': \"Hillary Clinton/Dem\", \n",
    "                    'Gary Johnson': \"Gary Johnson/Lib\", 'Jill Stein': \"Jill Stein/Grn\",\n",
    "                    'Donald J. Trump': \"Donald J. Trump/Rep\", \"Other\": \"Other/Other\"}\n",
    "\n",
    "\n",
    "# iterate the groupby df\n",
    "print(\"################## Merging RI Dataframe ##################\")\n",
    "\n",
    "new_row = \"\"\n",
    "cur_precinct = \"\"\n",
    "total_votes = 0\n",
    "\n",
    "for index, group in grouped:\n",
    "    cur_row = group.loc[:].head(1)\n",
    "    precinct = cur_row[\"Precinct #\"].values[0]\n",
    "\n",
    "    if precinct != cur_precinct:\n",
    "        if cur_precinct != \"\":\n",
    "            # add TotalVotes to new row\n",
    "            new_row[\"Total Votes\"] = total_votes\n",
    "            # add new_row to new_RI dataframe\n",
    "            new_RI = pd.concat([new_RI, new_row], ignore_index=True, sort=False)\n",
    "            \n",
    "        # reset vars\n",
    "        cur_precinct = precinct\n",
    "        new_row = \"\"\n",
    "        total_votes = 0\n",
    "    \n",
    "    if type(new_row) == str:\n",
    "        # get columns other than Total (Vote)\n",
    "        new_row = cur_row[[\"County\", \"Precinct Name\", \"Precinct #\"]]\n",
    "\n",
    "    candidate_key = cur_row[\"Candidate\"].values[0]\n",
    "    new_row[vote_column_name[candidate_key]] = cur_row[\"Total\"].values[0]\n",
    "    total_votes += cur_row[\"Total\"].values[0]\n",
    "    \n",
    "print(\"\\n################ Done Merging RI Dataframe ###############\")"
   ]
  },
  {
   "cell_type": "code",
   "execution_count": 237,
   "metadata": {},
   "outputs": [
    {
     "data": {
      "text/html": [
       "<div>\n",
       "<style scoped>\n",
       "    .dataframe tbody tr th:only-of-type {\n",
       "        vertical-align: middle;\n",
       "    }\n",
       "\n",
       "    .dataframe tbody tr th {\n",
       "        vertical-align: top;\n",
       "    }\n",
       "\n",
       "    .dataframe thead th {\n",
       "        text-align: right;\n",
       "    }\n",
       "</style>\n",
       "<table border=\"1\" class=\"dataframe\">\n",
       "  <thead>\n",
       "    <tr style=\"text-align: right;\">\n",
       "      <th></th>\n",
       "      <th>County</th>\n",
       "      <th>Precinct Name</th>\n",
       "      <th>Precinct #</th>\n",
       "      <th>Hillary Clinton/Dem</th>\n",
       "      <th>Donald J. Trump/Rep</th>\n",
       "      <th>Gary Johnson/Lib</th>\n",
       "      <th>Jill Stein/Grn</th>\n",
       "      <th>Other/Other</th>\n",
       "      <th>Total Votes</th>\n",
       "    </tr>\n",
       "  </thead>\n",
       "  <tbody>\n",
       "    <tr>\n",
       "      <th>0</th>\n",
       "      <td>Bristol County</td>\n",
       "      <td>Barrington 0101</td>\n",
       "      <td>0101</td>\n",
       "      <td>1027</td>\n",
       "      <td>522</td>\n",
       "      <td>60</td>\n",
       "      <td>23</td>\n",
       "      <td>2</td>\n",
       "      <td>1634</td>\n",
       "    </tr>\n",
       "    <tr>\n",
       "      <th>1</th>\n",
       "      <td>Bristol County</td>\n",
       "      <td>Barrington 0102</td>\n",
       "      <td>0102</td>\n",
       "      <td>1331</td>\n",
       "      <td>683</td>\n",
       "      <td>68</td>\n",
       "      <td>21</td>\n",
       "      <td>3</td>\n",
       "      <td>2106</td>\n",
       "    </tr>\n",
       "    <tr>\n",
       "      <th>2</th>\n",
       "      <td>Bristol County</td>\n",
       "      <td>Barrington 0103</td>\n",
       "      <td>0103</td>\n",
       "      <td>1136</td>\n",
       "      <td>469</td>\n",
       "      <td>59</td>\n",
       "      <td>17</td>\n",
       "      <td>0</td>\n",
       "      <td>1681</td>\n",
       "    </tr>\n",
       "    <tr>\n",
       "      <th>3</th>\n",
       "      <td>Bristol County</td>\n",
       "      <td>Barrington 0104</td>\n",
       "      <td>0104</td>\n",
       "      <td>1328</td>\n",
       "      <td>611</td>\n",
       "      <td>78</td>\n",
       "      <td>25</td>\n",
       "      <td>2</td>\n",
       "      <td>2044</td>\n",
       "    </tr>\n",
       "    <tr>\n",
       "      <th>4</th>\n",
       "      <td>Bristol County</td>\n",
       "      <td>Barrington 0105</td>\n",
       "      <td>0105</td>\n",
       "      <td>1290</td>\n",
       "      <td>590</td>\n",
       "      <td>69</td>\n",
       "      <td>24</td>\n",
       "      <td>4</td>\n",
       "      <td>1977</td>\n",
       "    </tr>\n",
       "    <tr>\n",
       "      <th>5</th>\n",
       "      <td>Bristol County</td>\n",
       "      <td>Bristol 0201</td>\n",
       "      <td>0201</td>\n",
       "      <td>496</td>\n",
       "      <td>472</td>\n",
       "      <td>43</td>\n",
       "      <td>11</td>\n",
       "      <td>2</td>\n",
       "      <td>1024</td>\n",
       "    </tr>\n",
       "    <tr>\n",
       "      <th>6</th>\n",
       "      <td>Bristol County</td>\n",
       "      <td>Bristol 0202</td>\n",
       "      <td>0202</td>\n",
       "      <td>371</td>\n",
       "      <td>185</td>\n",
       "      <td>38</td>\n",
       "      <td>10</td>\n",
       "      <td>1</td>\n",
       "      <td>605</td>\n",
       "    </tr>\n",
       "    <tr>\n",
       "      <th>7</th>\n",
       "      <td>Bristol County</td>\n",
       "      <td>Bristol 0203</td>\n",
       "      <td>0203</td>\n",
       "      <td>1152</td>\n",
       "      <td>806</td>\n",
       "      <td>79</td>\n",
       "      <td>25</td>\n",
       "      <td>0</td>\n",
       "      <td>2062</td>\n",
       "    </tr>\n",
       "    <tr>\n",
       "      <th>8</th>\n",
       "      <td>Bristol County</td>\n",
       "      <td>Bristol 0204</td>\n",
       "      <td>0204</td>\n",
       "      <td>767</td>\n",
       "      <td>498</td>\n",
       "      <td>40</td>\n",
       "      <td>16</td>\n",
       "      <td>1</td>\n",
       "      <td>1322</td>\n",
       "    </tr>\n",
       "    <tr>\n",
       "      <th>9</th>\n",
       "      <td>Bristol County</td>\n",
       "      <td>Bristol 0205</td>\n",
       "      <td>0205</td>\n",
       "      <td>800</td>\n",
       "      <td>727</td>\n",
       "      <td>78</td>\n",
       "      <td>18</td>\n",
       "      <td>3</td>\n",
       "      <td>1626</td>\n",
       "    </tr>\n",
       "  </tbody>\n",
       "</table>\n",
       "</div>"
      ],
      "text/plain": [
       "           County    Precinct Name Precinct # Hillary Clinton/Dem  \\\n",
       "0  Bristol County  Barrington 0101       0101                1027   \n",
       "1  Bristol County  Barrington 0102       0102                1331   \n",
       "2  Bristol County  Barrington 0103       0103                1136   \n",
       "3  Bristol County  Barrington 0104       0104                1328   \n",
       "4  Bristol County  Barrington 0105       0105                1290   \n",
       "5  Bristol County     Bristol 0201       0201                 496   \n",
       "6  Bristol County     Bristol 0202       0202                 371   \n",
       "7  Bristol County     Bristol 0203       0203                1152   \n",
       "8  Bristol County     Bristol 0204       0204                 767   \n",
       "9  Bristol County     Bristol 0205       0205                 800   \n",
       "\n",
       "  Donald J. Trump/Rep Gary Johnson/Lib Jill Stein/Grn Other/Other Total Votes  \n",
       "0                 522               60             23           2        1634  \n",
       "1                 683               68             21           3        2106  \n",
       "2                 469               59             17           0        1681  \n",
       "3                 611               78             25           2        2044  \n",
       "4                 590               69             24           4        1977  \n",
       "5                 472               43             11           2        1024  \n",
       "6                 185               38             10           1         605  \n",
       "7                 806               79             25           0        2062  \n",
       "8                 498               40             16           1        1322  \n",
       "9                 727               78             18           3        1626  "
      ]
     },
     "execution_count": 237,
     "metadata": {},
     "output_type": "execute_result"
    }
   ],
   "source": [
    "new_RI.head(10)"
   ]
  },
  {
   "cell_type": "code",
   "execution_count": 238,
   "metadata": {},
   "outputs": [
    {
     "name": "stdout",
     "output_type": "stream",
     "text": [
      "<class 'pandas.core.frame.DataFrame'>\n",
      "RangeIndex: 419 entries, 0 to 418\n",
      "Data columns (total 9 columns):\n",
      " #   Column               Non-Null Count  Dtype \n",
      "---  ------               --------------  ----- \n",
      " 0   County               419 non-null    object\n",
      " 1   Precinct Name        419 non-null    object\n",
      " 2   Precinct #           419 non-null    object\n",
      " 3   Hillary Clinton/Dem  419 non-null    object\n",
      " 4   Donald J. Trump/Rep  419 non-null    object\n",
      " 5   Gary Johnson/Lib     419 non-null    object\n",
      " 6   Jill Stein/Grn       419 non-null    object\n",
      " 7   Other/Other          419 non-null    object\n",
      " 8   Total Votes          419 non-null    object\n",
      "dtypes: object(9)\n",
      "memory usage: 29.6+ KB\n"
     ]
    }
   ],
   "source": [
    "new_RI.info()"
   ]
  },
  {
   "cell_type": "code",
   "execution_count": null,
   "metadata": {},
   "outputs": [],
   "source": []
  },
  {
   "cell_type": "markdown",
   "metadata": {},
   "source": [
    "# load precinct geographic data"
   ]
  },
  {
   "cell_type": "code",
   "execution_count": 239,
   "metadata": {},
   "outputs": [
    {
     "data": {
      "text/html": [
       "<div>\n",
       "<style scoped>\n",
       "    .dataframe tbody tr th:only-of-type {\n",
       "        vertical-align: middle;\n",
       "    }\n",
       "\n",
       "    .dataframe tbody tr th {\n",
       "        vertical-align: top;\n",
       "    }\n",
       "\n",
       "    .dataframe thead th {\n",
       "        text-align: right;\n",
       "    }\n",
       "</style>\n",
       "<table border=\"1\" class=\"dataframe\">\n",
       "  <thead>\n",
       "    <tr style=\"text-align: right;\">\n",
       "      <th></th>\n",
       "      <th>OBJECTID</th>\n",
       "      <th>NAME</th>\n",
       "      <th>Shape__Are</th>\n",
       "      <th>Shape__Len</th>\n",
       "      <th>geometry</th>\n",
       "    </tr>\n",
       "  </thead>\n",
       "  <tbody>\n",
       "    <tr>\n",
       "      <th>0</th>\n",
       "      <td>1</td>\n",
       "      <td>0102</td>\n",
       "      <td>0.000348</td>\n",
       "      <td>0.153037</td>\n",
       "      <td>MULTIPOLYGON (((-71.34122 41.73016, -71.34123 ...</td>\n",
       "    </tr>\n",
       "    <tr>\n",
       "      <th>1</th>\n",
       "      <td>2</td>\n",
       "      <td>0101</td>\n",
       "      <td>0.000426</td>\n",
       "      <td>0.107569</td>\n",
       "      <td>POLYGON ((-71.32270 41.77270, -71.32270 41.772...</td>\n",
       "    </tr>\n",
       "    <tr>\n",
       "      <th>2</th>\n",
       "      <td>3</td>\n",
       "      <td>0104</td>\n",
       "      <td>0.000509</td>\n",
       "      <td>0.338228</td>\n",
       "      <td>MULTIPOLYGON (((-71.30425 41.74515, -71.30425 ...</td>\n",
       "    </tr>\n",
       "    <tr>\n",
       "      <th>3</th>\n",
       "      <td>4</td>\n",
       "      <td>0105</td>\n",
       "      <td>0.000520</td>\n",
       "      <td>0.297727</td>\n",
       "      <td>MULTIPOLYGON (((-71.29308 41.71355, -71.29307 ...</td>\n",
       "    </tr>\n",
       "    <tr>\n",
       "      <th>4</th>\n",
       "      <td>5</td>\n",
       "      <td>0103</td>\n",
       "      <td>0.000584</td>\n",
       "      <td>0.158078</td>\n",
       "      <td>POLYGON ((-71.31979 41.73751, -71.31897 41.737...</td>\n",
       "    </tr>\n",
       "    <tr>\n",
       "      <th>5</th>\n",
       "      <td>6</td>\n",
       "      <td>0203</td>\n",
       "      <td>0.000749</td>\n",
       "      <td>0.221845</td>\n",
       "      <td>POLYGON ((-71.28006 41.70411, -71.28005 41.704...</td>\n",
       "    </tr>\n",
       "    <tr>\n",
       "      <th>6</th>\n",
       "      <td>7</td>\n",
       "      <td>0202</td>\n",
       "      <td>0.000055</td>\n",
       "      <td>0.041161</td>\n",
       "      <td>POLYGON ((-71.26938 41.66658, -71.26981 41.666...</td>\n",
       "    </tr>\n",
       "    <tr>\n",
       "      <th>7</th>\n",
       "      <td>8</td>\n",
       "      <td>0209</td>\n",
       "      <td>0.000016</td>\n",
       "      <td>0.019530</td>\n",
       "      <td>POLYGON ((-71.26850 41.67550, -71.26899 41.675...</td>\n",
       "    </tr>\n",
       "    <tr>\n",
       "      <th>8</th>\n",
       "      <td>9</td>\n",
       "      <td>0208</td>\n",
       "      <td>0.000116</td>\n",
       "      <td>0.047580</td>\n",
       "      <td>POLYGON ((-71.25903 41.67354, -71.25899 41.673...</td>\n",
       "    </tr>\n",
       "    <tr>\n",
       "      <th>9</th>\n",
       "      <td>10</td>\n",
       "      <td>0205</td>\n",
       "      <td>0.000316</td>\n",
       "      <td>0.086892</td>\n",
       "      <td>POLYGON ((-71.24882 41.70350, -71.24880 41.703...</td>\n",
       "    </tr>\n",
       "  </tbody>\n",
       "</table>\n",
       "</div>"
      ],
      "text/plain": [
       "   OBJECTID  NAME  Shape__Are  Shape__Len  \\\n",
       "0         1  0102    0.000348    0.153037   \n",
       "1         2  0101    0.000426    0.107569   \n",
       "2         3  0104    0.000509    0.338228   \n",
       "3         4  0105    0.000520    0.297727   \n",
       "4         5  0103    0.000584    0.158078   \n",
       "5         6  0203    0.000749    0.221845   \n",
       "6         7  0202    0.000055    0.041161   \n",
       "7         8  0209    0.000016    0.019530   \n",
       "8         9  0208    0.000116    0.047580   \n",
       "9        10  0205    0.000316    0.086892   \n",
       "\n",
       "                                            geometry  \n",
       "0  MULTIPOLYGON (((-71.34122 41.73016, -71.34123 ...  \n",
       "1  POLYGON ((-71.32270 41.77270, -71.32270 41.772...  \n",
       "2  MULTIPOLYGON (((-71.30425 41.74515, -71.30425 ...  \n",
       "3  MULTIPOLYGON (((-71.29308 41.71355, -71.29307 ...  \n",
       "4  POLYGON ((-71.31979 41.73751, -71.31897 41.737...  \n",
       "5  POLYGON ((-71.28006 41.70411, -71.28005 41.704...  \n",
       "6  POLYGON ((-71.26938 41.66658, -71.26981 41.666...  \n",
       "7  POLYGON ((-71.26850 41.67550, -71.26899 41.675...  \n",
       "8  POLYGON ((-71.25903 41.67354, -71.25899 41.673...  \n",
       "9  POLYGON ((-71.24882 41.70350, -71.24880 41.703...  "
      ]
     },
     "execution_count": 239,
     "metadata": {},
     "output_type": "execute_result"
    }
   ],
   "source": [
    "gdf = gpd.read_file('../../geographic/Precinct/RI_Precinct.json')\n",
    "gdf.head(10)"
   ]
  },
  {
   "cell_type": "code",
   "execution_count": 240,
   "metadata": {},
   "outputs": [
    {
     "data": {
      "text/plain": [
       "<matplotlib.axes._subplots.AxesSubplot at 0x121a100d0>"
      ]
     },
     "execution_count": 240,
     "metadata": {},
     "output_type": "execute_result"
    },
    {
     "data": {
      "image/png": "[encoded data removed]",
      "text/plain": [
       "<Figure size 936x720 with 1 Axes>"
      ]
     },
     "metadata": {
      "needs_background": "light"
     },
     "output_type": "display_data"
    }
   ],
   "source": [
    "# plot the geojson\n",
    "gdf.plot(linewidth=1.5, edgecolor=\"black\", cmap='Set3', figsize=(13, 10))"
   ]
  },
  {
   "cell_type": "code",
   "execution_count": null,
   "metadata": {},
   "outputs": [],
   "source": []
  },
  {
   "cell_type": "markdown",
   "metadata": {},
   "source": [
    "# lets see if \"precinct #\" matches \"NAME\""
   ]
  },
  {
   "cell_type": "code",
   "execution_count": 241,
   "metadata": {},
   "outputs": [
    {
     "name": "stdout",
     "output_type": "stream",
     "text": [
      "419 419\n"
     ]
    }
   ],
   "source": [
    "gdf_sorted = sorted(gdf[\"NAME\"])\n",
    "df_sorted = sorted(new_RI[\"Precinct #\"].unique())\n",
    "print(len(df_sorted), len(gdf_sorted))"
   ]
  },
  {
   "cell_type": "code",
   "execution_count": 242,
   "metadata": {},
   "outputs": [
    {
     "data": {
      "text/plain": [
       "'\\nfor tup in list(zipped):\\n    v1, v2 = tup\\n    if v1 != v2:\\n        print(v1, v2)\\n        break\\n'"
      ]
     },
     "execution_count": 242,
     "metadata": {},
     "output_type": "execute_result"
    }
   ],
   "source": [
    "# lets see if geographic data matches presidential\n",
    "df_sorted.append(\"1\")\n",
    "df_sorted = sorted(df_sorted)\n",
    "zipped = list(zip(gdf_sorted, df_sorted))\n",
    "\n",
    "'''\n",
    "for tup in list(zipped):\n",
    "    v1, v2 = tup\n",
    "    if v1 != v2:\n",
    "        print(v1, v2)\n",
    "        break\n",
    "'''"
   ]
  },
  {
   "cell_type": "code",
   "execution_count": 243,
   "metadata": {},
   "outputs": [],
   "source": [
    "# df\n",
    "# add : 0729, 3912\n",
    "# remove : 1018, 2631\n",
    "delete_precinct = [\"1018\", \"2631\"]\n",
    "index2delete = new_RI[new_RI[\"Precinct #\"].isin(delete_precinct)].index\n",
    "new_RI.drop(index2delete, inplace=True)"
   ]
  },
  {
   "cell_type": "code",
   "execution_count": 244,
   "metadata": {},
   "outputs": [
    {
     "data": {
      "text/html": [
       "<div>\n",
       "<style scoped>\n",
       "    .dataframe tbody tr th:only-of-type {\n",
       "        vertical-align: middle;\n",
       "    }\n",
       "\n",
       "    .dataframe tbody tr th {\n",
       "        vertical-align: top;\n",
       "    }\n",
       "\n",
       "    .dataframe thead th {\n",
       "        text-align: right;\n",
       "    }\n",
       "</style>\n",
       "<table border=\"1\" class=\"dataframe\">\n",
       "  <thead>\n",
       "    <tr style=\"text-align: right;\">\n",
       "      <th></th>\n",
       "      <th>County</th>\n",
       "      <th>Precinct Name</th>\n",
       "      <th>Precinct #</th>\n",
       "      <th>Hillary Clinton/Dem</th>\n",
       "      <th>Donald J. Trump/Rep</th>\n",
       "      <th>Gary Johnson/Lib</th>\n",
       "      <th>Jill Stein/Grn</th>\n",
       "      <th>Other/Other</th>\n",
       "      <th>Total Votes</th>\n",
       "    </tr>\n",
       "  </thead>\n",
       "  <tbody>\n",
       "    <tr>\n",
       "      <th>77</th>\n",
       "      <td>Providence County</td>\n",
       "      <td>Cranston 0728</td>\n",
       "      <td>0728</td>\n",
       "      <td>9</td>\n",
       "      <td>2</td>\n",
       "      <td>2</td>\n",
       "      <td>0</td>\n",
       "      <td>0</td>\n",
       "      <td>13</td>\n",
       "    </tr>\n",
       "  </tbody>\n",
       "</table>\n",
       "</div>"
      ],
      "text/plain": [
       "               County  Precinct Name Precinct # Hillary Clinton/Dem  \\\n",
       "77  Providence County  Cranston 0728       0728                   9   \n",
       "\n",
       "   Donald J. Trump/Rep Gary Johnson/Lib Jill Stein/Grn Other/Other Total Votes  \n",
       "77                   2                2              0           0          13  "
      ]
     },
     "execution_count": 244,
     "metadata": {},
     "output_type": "execute_result"
    }
   ],
   "source": [
    "# add : 0729\n",
    "# lets see which county should 0729 belong to, check 0728\n",
    "row = new_RI[new_RI[\"Precinct #\"] == \"0728\"]\n",
    "row"
   ]
  },
  {
   "cell_type": "code",
   "execution_count": 245,
   "metadata": {},
   "outputs": [],
   "source": [
    "columns = [\"Precinct Name\", \"Precinct #\", \"Hillary Clinton/Dem\", \"Donald J. Trump/Rep\", \n",
    "           \"Gary Johnson/Lib\", \"Jill Stein/Grn\", \"Other/Other\", \"Total Votes\"]\n",
    "values = [\"Cranston 0729\", \"0729\", 0, 0, 0, 0, 0, 0]\n",
    "row.loc[77, columns] = values\n",
    "\n",
    "# add to new_RI\n",
    "new_RI = pd.concat([new_RI, row], ignore_index=True, sort=False)"
   ]
  },
  {
   "cell_type": "code",
   "execution_count": 246,
   "metadata": {},
   "outputs": [
    {
     "data": {
      "text/html": [
       "<div>\n",
       "<style scoped>\n",
       "    .dataframe tbody tr th:only-of-type {\n",
       "        vertical-align: middle;\n",
       "    }\n",
       "\n",
       "    .dataframe tbody tr th {\n",
       "        vertical-align: top;\n",
       "    }\n",
       "\n",
       "    .dataframe thead th {\n",
       "        text-align: right;\n",
       "    }\n",
       "</style>\n",
       "<table border=\"1\" class=\"dataframe\">\n",
       "  <thead>\n",
       "    <tr style=\"text-align: right;\">\n",
       "      <th></th>\n",
       "      <th>County</th>\n",
       "      <th>Precinct Name</th>\n",
       "      <th>Precinct #</th>\n",
       "      <th>Hillary Clinton/Dem</th>\n",
       "      <th>Donald J. Trump/Rep</th>\n",
       "      <th>Gary Johnson/Lib</th>\n",
       "      <th>Jill Stein/Grn</th>\n",
       "      <th>Other/Other</th>\n",
       "      <th>Total Votes</th>\n",
       "    </tr>\n",
       "  </thead>\n",
       "  <tbody>\n",
       "    <tr>\n",
       "      <th>416</th>\n",
       "      <td>Providence County</td>\n",
       "      <td>Woonsocket 3911</td>\n",
       "      <td>3911</td>\n",
       "      <td>677</td>\n",
       "      <td>465</td>\n",
       "      <td>46</td>\n",
       "      <td>20</td>\n",
       "      <td>4</td>\n",
       "      <td>1212</td>\n",
       "    </tr>\n",
       "  </tbody>\n",
       "</table>\n",
       "</div>"
      ],
      "text/plain": [
       "                County    Precinct Name Precinct # Hillary Clinton/Dem  \\\n",
       "416  Providence County  Woonsocket 3911       3911                 677   \n",
       "\n",
       "    Donald J. Trump/Rep Gary Johnson/Lib Jill Stein/Grn Other/Other  \\\n",
       "416                 465               46             20           4   \n",
       "\n",
       "    Total Votes  \n",
       "416        1212  "
      ]
     },
     "execution_count": 246,
     "metadata": {},
     "output_type": "execute_result"
    }
   ],
   "source": [
    "# add : 3912\n",
    "# found precinct 3912 data on SOS of RI\n",
    "'''\n",
    "Hillary Clinton (DEM) -- 506\n",
    "Donald J. Trump (REP) -- 448\n",
    "Gary Johnson (Lib) -- 37\n",
    "Jill Stein (Grn) -- 18\n",
    "Other -- 19\n",
    "'''\n",
    "row = new_RI[new_RI[\"Precinct #\"] == \"3911\"]\n",
    "row"
   ]
  },
  {
   "cell_type": "code",
   "execution_count": 247,
   "metadata": {},
   "outputs": [],
   "source": [
    "columns = [\"Precinct Name\", \"Precinct #\", \"Hillary Clinton/Dem\", \"Donald J. Trump/Rep\", \n",
    "           \"Gary Johnson/Lib\", \"Jill Stein/Grn\", \"Other/Other\", \"Total Votes\"]\n",
    "values = [\"Woonsocket 3912\", \"3912\", 506, 448, 37, 18, 19, 1028]\n",
    "row.loc[416, columns] = values\n",
    "\n",
    "# add to new_RI\n",
    "new_RI = pd.concat([new_RI, row], ignore_index=True, sort=False)"
   ]
  },
  {
   "cell_type": "code",
   "execution_count": 248,
   "metadata": {},
   "outputs": [
    {
     "data": {
      "text/html": [
       "<div>\n",
       "<style scoped>\n",
       "    .dataframe tbody tr th:only-of-type {\n",
       "        vertical-align: middle;\n",
       "    }\n",
       "\n",
       "    .dataframe tbody tr th {\n",
       "        vertical-align: top;\n",
       "    }\n",
       "\n",
       "    .dataframe thead th {\n",
       "        text-align: right;\n",
       "    }\n",
       "</style>\n",
       "<table border=\"1\" class=\"dataframe\">\n",
       "  <thead>\n",
       "    <tr style=\"text-align: right;\">\n",
       "      <th></th>\n",
       "      <th>County</th>\n",
       "      <th>Precinct Name</th>\n",
       "      <th>Precinct #</th>\n",
       "      <th>Hillary Clinton/Dem</th>\n",
       "      <th>Donald J. Trump/Rep</th>\n",
       "      <th>Gary Johnson/Lib</th>\n",
       "      <th>Jill Stein/Grn</th>\n",
       "      <th>Other/Other</th>\n",
       "      <th>Total Votes</th>\n",
       "    </tr>\n",
       "  </thead>\n",
       "  <tbody>\n",
       "    <tr>\n",
       "      <th>418</th>\n",
       "      <td>Providence County</td>\n",
       "      <td>Woonsocket 3912</td>\n",
       "      <td>3912</td>\n",
       "      <td>506</td>\n",
       "      <td>448</td>\n",
       "      <td>37</td>\n",
       "      <td>18</td>\n",
       "      <td>19</td>\n",
       "      <td>1028</td>\n",
       "    </tr>\n",
       "  </tbody>\n",
       "</table>\n",
       "</div>"
      ],
      "text/plain": [
       "                County    Precinct Name Precinct # Hillary Clinton/Dem  \\\n",
       "418  Providence County  Woonsocket 3912       3912                 506   \n",
       "\n",
       "    Donald J. Trump/Rep Gary Johnson/Lib Jill Stein/Grn Other/Other  \\\n",
       "418                 448               37             18          19   \n",
       "\n",
       "    Total Votes  \n",
       "418        1028  "
      ]
     },
     "execution_count": 248,
     "metadata": {},
     "output_type": "execute_result"
    }
   ],
   "source": [
    "new_RI[new_RI[\"Precinct #\"] == \"3912\"]"
   ]
  },
  {
   "cell_type": "code",
   "execution_count": 249,
   "metadata": {},
   "outputs": [
    {
     "name": "stdout",
     "output_type": "stream",
     "text": [
      "<class 'pandas.core.frame.DataFrame'>\n",
      "RangeIndex: 419 entries, 0 to 418\n",
      "Data columns (total 9 columns):\n",
      " #   Column               Non-Null Count  Dtype \n",
      "---  ------               --------------  ----- \n",
      " 0   County               419 non-null    object\n",
      " 1   Precinct Name        419 non-null    object\n",
      " 2   Precinct #           419 non-null    object\n",
      " 3   Hillary Clinton/Dem  419 non-null    object\n",
      " 4   Donald J. Trump/Rep  419 non-null    object\n",
      " 5   Gary Johnson/Lib     419 non-null    object\n",
      " 6   Jill Stein/Grn       419 non-null    object\n",
      " 7   Other/Other          419 non-null    object\n",
      " 8   Total Votes          419 non-null    object\n",
      "dtypes: object(9)\n",
      "memory usage: 29.6+ KB\n"
     ]
    }
   ],
   "source": [
    "df.sort_values(by=[\"Precinct #\", \"County\", \"Candidate\"], inplace=True)\n",
    "new_RI.info()"
   ]
  },
  {
   "cell_type": "markdown",
   "metadata": {},
   "source": [
    "# export the clean presidential file"
   ]
  },
  {
   "cell_type": "code",
   "execution_count": 250,
   "metadata": {},
   "outputs": [],
   "source": [
    "new_RI.to_csv(\"2016PresidentialRI.csv\")"
   ]
  },
  {
   "cell_type": "code",
   "execution_count": 49,
   "metadata": {},
   "outputs": [
    {
     "data": {
      "text/plain": [
       "array(['Bristol County', 'Providence County', 'Washington County',\n",
       "       'Kent County', 'Newport County'], dtype=object)"
      ]
     },
     "execution_count": 49,
     "metadata": {},
     "output_type": "execute_result"
    }
   ],
   "source": []
  },
  {
   "cell_type": "code",
   "execution_count": null,
   "metadata": {},
   "outputs": [],
   "source": []
  },
  {
   "cell_type": "code",
   "execution_count": null,
   "metadata": {},
   "outputs": [],
   "source": []
  },
  {
   "cell_type": "code",
   "execution_count": null,
   "metadata": {},
   "outputs": [],
   "source": []
  },
  {
   "cell_type": "code",
   "execution_count": null,
   "metadata": {},
   "outputs": [],
   "source": []
  }
 ],
 "metadata": {
  "kernelspec": {
   "display_name": "myenv",
   "language": "python",
   "name": "myenv"
  },
  "language_info": {
   "codemirror_mode": {
    "name": "ipython",
    "version": 3
   },
   "file_extension": ".py",
   "mimetype": "text/x-python",
   "name": "python",
   "nbconvert_exporter": "python",
   "pygments_lexer": "ipython3",
   "version": "3.7.7"
  }
 },
 "nbformat": 4,
 "nbformat_minor": 4
}
