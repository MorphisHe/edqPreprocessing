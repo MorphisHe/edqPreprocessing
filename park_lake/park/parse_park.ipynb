{
 "cells": [
  {
   "cell_type": "code",
   "execution_count": 3,
   "metadata": {},
   "outputs": [],
   "source": [
    "import warnings\n",
    "warnings.filterwarnings('ignore')\n",
    "\n",
    "import geopandas as gpd\n",
    "from shapely import geometry\n",
    "import pandas as pd"
   ]
  },
  {
   "cell_type": "code",
   "execution_count": 4,
   "metadata": {},
   "outputs": [],
   "source": [
    "Polygon = geometry.polygon.Polygon\n",
    "MultiPolygon = geometry.multipolygon.MultiPolygon"
   ]
  },
  {
   "cell_type": "code",
   "execution_count": 8,
   "metadata": {},
   "outputs": [],
   "source": [
    "def parse(gdf, arg_i, arg_shape_id, arg_polygon_id):\n",
    "    columns = [\"geovertex_id\", \"shape_id\", \"polygon_id\", \"Name\", \"x_pos\", \"y_pos\"]\n",
    "    df = pd.DataFrame(columns=columns)\n",
    "\n",
    "    counter = 0\n",
    "    i = arg_i\n",
    "    shape_id = arg_shape_id\n",
    "    polygon_id = arg_polygon_id\n",
    "\n",
    "    for index, row in gdf.iterrows():\n",
    "        # for visualization only\n",
    "        if counter%15==0:\n",
    "            print(\" {:.2f}% \".format(counter/len(gdf)*100), end=\"\")\n",
    "        else:\n",
    "            print(\"#\", end=\"\")\n",
    "\n",
    "        cur_shape = row[\"geometry\"]\n",
    "        cur_type = type(cur_shape)\n",
    "\n",
    "        row = row.drop([\"geometry\"])\n",
    "        cur_row = row\n",
    "        cur_row[\"shape_id\"] = shape_id\n",
    "        shape_id += 1\n",
    "\n",
    "        if cur_type == MultiPolygon:\n",
    "            for polygon in cur_shape:\n",
    "                cur_row[\"polygon_id\"] = polygon_id\n",
    "                polygon_id += 1\n",
    "                for coords in polygon.exterior.coords:\n",
    "                    cur_row[\"geovertex_id\"] = i\n",
    "                    i += 1\n",
    "                    cur_row[\"x_pos\"] = coords[0]\n",
    "                    cur_row[\"y_pos\"] = coords[1]\n",
    "                    df = df.append(cur_row, ignore_index=True)\n",
    "                    cur_row = row\n",
    "        elif cur_type == Polygon:\n",
    "            cur_row[\"polygon_id\"] = polygon_id\n",
    "            polygon_id += 1\n",
    "            for coords in cur_shape.exterior.coords:\n",
    "                cur_row[\"geovertex_id\"] = i\n",
    "                i += 1\n",
    "                cur_row[\"x_pos\"] = coords[0]\n",
    "                cur_row[\"y_pos\"] = coords[1]\n",
    "                df = df.append(cur_row, ignore_index=True)\n",
    "                cur_row = row\n",
    "        counter += 1\n",
    "        \n",
    "    return df"
   ]
  },
  {
   "cell_type": "code",
   "execution_count": 10,
   "metadata": {
    "scrolled": false
   },
   "outputs": [
    {
     "name": "stdout",
     "output_type": "stream",
     "text": [
      "\n",
      "\n",
      "Start park/RI_Park.json\n",
      " 0.00% \n",
      "Last row id: geo:1495638, shape:959, poly:1940\n",
      "Next id: geo:1495639, shape:960, poly:1941\n",
      "\n",
      "\n",
      "Start park/VA_Park.json\n",
      " 0.00% #\n",
      "Last row id: geo:1496138, shape:960, poly:1947\n",
      "Next id: geo:1496139, shape:961, poly:1948\n",
      "\n",
      "\n",
      "Start park/TX_Park.json\n",
      " 0.00% #\n",
      "Last row id: geo:1496166, shape:961, poly:1948\n",
      "Next id: geo:1496167, shape:962, poly:1949\n"
     ]
    }
   ],
   "source": [
    "next_i, next_shape, next_poly = 1495449, 959, 1940\n",
    "state_id = [\"RI\", \"VA\", \"TX\"]\n",
    "\n",
    "for i in range(3):\n",
    "    file_name = state_id[i] + \"_Park.json\"\n",
    "    \n",
    "    print(\"\\n\\nStart\", file_name)\n",
    "    gdf = gpd.read_file(file_name)\n",
    "    \n",
    "    # parsing\n",
    "    gdf_Parsed = parse(gdf, arg_i=next_i, arg_shape_id=next_shape, arg_polygon_id=next_poly)\n",
    "    \n",
    "    # saving the result \n",
    "    file_name = file_name.split(\".\")[0]\n",
    "    gdf_Parsed.to_csv(file_name+\"_Parsed.csv\")\n",
    "\n",
    "    next_i = gdf_Parsed.iloc[-1][\"geovertex_id\"] + 1\n",
    "    next_shape = gdf_Parsed.iloc[-1][\"shape_id\"] + 1\n",
    "    next_poly = gdf_Parsed.iloc[-1][\"polygon_id\"] + 1\n",
    "    print(\"\\nLast row id: geo:{}, shape:{}, poly:{}\".format(gdf_Parsed.iloc[-1][\"geovertex_id\"],\n",
    "                                                         gdf_Parsed.iloc[-1][\"shape_id\"],\n",
    "                                                         gdf_Parsed.iloc[-1][\"polygon_id\"]))\n",
    "    print(\"Next id: geo:{}, shape:{}, poly:{}\".format(next_i, next_shape, next_poly))"
   ]
  },
  {
   "cell_type": "code",
   "execution_count": null,
   "metadata": {},
   "outputs": [],
   "source": []
  }
 ],
 "metadata": {
  "kernelspec": {
   "display_name": "myenv",
   "language": "python",
   "name": "myenv"
  },
  "language_info": {
   "codemirror_mode": {
    "name": "ipython",
    "version": 3
   },
   "file_extension": ".py",
   "mimetype": "text/x-python",
   "name": "python",
   "nbconvert_exporter": "python",
   "pygments_lexer": "ipython3",
   "version": "3.7.7"
  }
 },
 "nbformat": 4,
 "nbformat_minor": 4
}
