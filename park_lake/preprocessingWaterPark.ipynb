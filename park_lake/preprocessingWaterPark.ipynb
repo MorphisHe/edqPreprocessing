{
 "cells": [
  {
   "cell_type": "code",
   "execution_count": 1,
   "metadata": {},
   "outputs": [],
   "source": [
    "import geopandas as gpd"
   ]
  },
  {
   "cell_type": "code",
   "execution_count": 2,
   "metadata": {},
   "outputs": [],
   "source": [
    "water = gpd.read_file(\"water/water.json\")"
   ]
  },
  {
   "cell_type": "code",
   "execution_count": 3,
   "metadata": {},
   "outputs": [
    {
     "data": {
      "text/html": [
       "<div>\n",
       "<style scoped>\n",
       "    .dataframe tbody tr th:only-of-type {\n",
       "        vertical-align: middle;\n",
       "    }\n",
       "\n",
       "    .dataframe tbody tr th {\n",
       "        vertical-align: top;\n",
       "    }\n",
       "\n",
       "    .dataframe thead th {\n",
       "        text-align: right;\n",
       "    }\n",
       "</style>\n",
       "<table border=\"1\" class=\"dataframe\">\n",
       "  <thead>\n",
       "    <tr style=\"text-align: right;\">\n",
       "      <th></th>\n",
       "      <th>OBJECTID</th>\n",
       "      <th>FEATURE</th>\n",
       "      <th>NAME</th>\n",
       "      <th>STATE</th>\n",
       "      <th>SQMI</th>\n",
       "      <th>geometry</th>\n",
       "    </tr>\n",
       "  </thead>\n",
       "  <tbody>\n",
       "    <tr>\n",
       "      <th>0</th>\n",
       "      <td>1</td>\n",
       "      <td>Swamp or Marsh</td>\n",
       "      <td></td>\n",
       "      <td>AK</td>\n",
       "      <td>2884.1</td>\n",
       "      <td>POLYGON ((-156.36961 70.83493, -156.36843 70.8...</td>\n",
       "    </tr>\n",
       "  </tbody>\n",
       "</table>\n",
       "</div>"
      ],
      "text/plain": [
       "   OBJECTID         FEATURE NAME STATE    SQMI  \\\n",
       "0         1  Swamp or Marsh         AK  2884.1   \n",
       "\n",
       "                                            geometry  \n",
       "0  POLYGON ((-156.36961 70.83493, -156.36843 70.8...  "
      ]
     },
     "execution_count": 3,
     "metadata": {},
     "output_type": "execute_result"
    }
   ],
   "source": [
    "water.head(1)"
   ]
  },
  {
   "cell_type": "code",
   "execution_count": 4,
   "metadata": {},
   "outputs": [],
   "source": [
    "c = list(water.columns)\n",
    "c.remove(\"geometry\")\n",
    "c.remove(\"STATE\")\n",
    "c.remove(\"FEATURE\")\n",
    "c.remove(\"NAME\")\n",
    "water.drop(columns=c, inplace=True, axis=1)"
   ]
  },
  {
   "cell_type": "code",
   "execution_count": 5,
   "metadata": {},
   "outputs": [
    {
     "data": {
      "text/html": [
       "<div>\n",
       "<style scoped>\n",
       "    .dataframe tbody tr th:only-of-type {\n",
       "        vertical-align: middle;\n",
       "    }\n",
       "\n",
       "    .dataframe tbody tr th {\n",
       "        vertical-align: top;\n",
       "    }\n",
       "\n",
       "    .dataframe thead th {\n",
       "        text-align: right;\n",
       "    }\n",
       "</style>\n",
       "<table border=\"1\" class=\"dataframe\">\n",
       "  <thead>\n",
       "    <tr style=\"text-align: right;\">\n",
       "      <th></th>\n",
       "      <th>FEATURE</th>\n",
       "      <th>NAME</th>\n",
       "      <th>STATE</th>\n",
       "      <th>geometry</th>\n",
       "    </tr>\n",
       "  </thead>\n",
       "  <tbody>\n",
       "    <tr>\n",
       "      <th>0</th>\n",
       "      <td>Swamp or Marsh</td>\n",
       "      <td></td>\n",
       "      <td>AK</td>\n",
       "      <td>POLYGON ((-156.36961 70.83493, -156.36843 70.8...</td>\n",
       "    </tr>\n",
       "  </tbody>\n",
       "</table>\n",
       "</div>"
      ],
      "text/plain": [
       "          FEATURE NAME STATE  \\\n",
       "0  Swamp or Marsh         AK   \n",
       "\n",
       "                                            geometry  \n",
       "0  POLYGON ((-156.36961 70.83493, -156.36843 70.8...  "
      ]
     },
     "execution_count": 5,
     "metadata": {},
     "output_type": "execute_result"
    }
   ],
   "source": [
    "water.head(1)"
   ]
  },
  {
   "cell_type": "code",
   "execution_count": 6,
   "metadata": {},
   "outputs": [],
   "source": [
    "ri = water[water[\"STATE\"] == \"RI\"]\n",
    "va = water[water[\"STATE\"] == \"VA\"]\n",
    "tx = water[water[\"STATE\"] == \"TX\"]"
   ]
  },
  {
   "cell_type": "code",
   "execution_count": 7,
   "metadata": {},
   "outputs": [
    {
     "name": "stderr",
     "output_type": "stream",
     "text": [
      "/usr/local/lib/python3.7/site-packages/pandas/core/frame.py:3997: SettingWithCopyWarning: \n",
      "A value is trying to be set on a copy of a slice from a DataFrame\n",
      "\n",
      "See the caveats in the documentation: https://pandas.pydata.org/pandas-docs/stable/user_guide/indexing.html#returning-a-view-versus-a-copy\n",
      "  errors=errors,\n"
     ]
    }
   ],
   "source": [
    "ri.drop(columns=[\"STATE\"], inplace=True, axis=True)\n",
    "va.drop(columns=[\"STATE\"], inplace=True, axis=True)\n",
    "tx.drop(columns=[\"STATE\"], inplace=True, axis=True)"
   ]
  },
  {
   "cell_type": "code",
   "execution_count": 8,
   "metadata": {},
   "outputs": [],
   "source": [
    "ri.to_file(\"water/RI_Water.json\", driver=\"GeoJSON\")\n",
    "va.to_file(\"water/VA_Water.json\", driver=\"GeoJSON\")\n",
    "tx.to_file(\"water/TX_Water.json\", driver=\"GeoJSON\")"
   ]
  },
  {
   "cell_type": "code",
   "execution_count": null,
   "metadata": {},
   "outputs": [],
   "source": []
  },
  {
   "cell_type": "code",
   "execution_count": null,
   "metadata": {},
   "outputs": [],
   "source": []
  },
  {
   "cell_type": "code",
   "execution_count": null,
   "metadata": {},
   "outputs": [],
   "source": []
  },
  {
   "cell_type": "markdown",
   "metadata": {},
   "source": [
    "# park"
   ]
  },
  {
   "cell_type": "code",
   "execution_count": 37,
   "metadata": {},
   "outputs": [
    {
     "data": {
      "text/plain": [
       "<Geographic 2D CRS: EPSG:4326>\n",
       "Name: WGS 84\n",
       "Axis Info [ellipsoidal]:\n",
       "- Lat[north]: Geodetic latitude (degree)\n",
       "- Lon[east]: Geodetic longitude (degree)\n",
       "Area of Use:\n",
       "- name: World\n",
       "- bounds: (-180.0, -90.0, 180.0, 90.0)\n",
       "Datum: World Geodetic System 1984\n",
       "- Ellipsoid: WGS 84\n",
       "- Prime Meridian: Greenwich"
      ]
     },
     "execution_count": 37,
     "metadata": {},
     "output_type": "execute_result"
    }
   ],
   "source": [
    "park = gpd.read_file(\"park/park.json\")\n",
    "park.crs"
   ]
  },
  {
   "cell_type": "code",
   "execution_count": 38,
   "metadata": {},
   "outputs": [
    {
     "data": {
      "text/html": [
       "<div>\n",
       "<style scoped>\n",
       "    .dataframe tbody tr th:only-of-type {\n",
       "        vertical-align: middle;\n",
       "    }\n",
       "\n",
       "    .dataframe tbody tr th {\n",
       "        vertical-align: top;\n",
       "    }\n",
       "\n",
       "    .dataframe thead th {\n",
       "        text-align: right;\n",
       "    }\n",
       "</style>\n",
       "<table border=\"1\" class=\"dataframe\">\n",
       "  <thead>\n",
       "    <tr style=\"text-align: right;\">\n",
       "      <th></th>\n",
       "      <th>OBJECTID</th>\n",
       "      <th>UNIT_CODE</th>\n",
       "      <th>GIS_Notes</th>\n",
       "      <th>UNIT_NAME</th>\n",
       "      <th>DATE_EDIT</th>\n",
       "      <th>STATE</th>\n",
       "      <th>REGION</th>\n",
       "      <th>GNIS_ID</th>\n",
       "      <th>UNIT_TYPE</th>\n",
       "      <th>CREATED_BY</th>\n",
       "      <th>METADATA</th>\n",
       "      <th>PARKNAME</th>\n",
       "      <th>CreationDa</th>\n",
       "      <th>Creator</th>\n",
       "      <th>EditDate</th>\n",
       "      <th>Editor</th>\n",
       "      <th>Shape__Are</th>\n",
       "      <th>Shape__Len</th>\n",
       "      <th>GlobalID</th>\n",
       "      <th>geometry</th>\n",
       "    </tr>\n",
       "  </thead>\n",
       "  <tbody>\n",
       "    <tr>\n",
       "      <th>0</th>\n",
       "      <td>1</td>\n",
       "      <td>AMME</td>\n",
       "      <td>PRELIMINARY - Data has not completed the entir...</td>\n",
       "      <td>American Memorial Park</td>\n",
       "      <td>2015-04-22T00:00:00</td>\n",
       "      <td>MP</td>\n",
       "      <td>PW</td>\n",
       "      <td>1879026</td>\n",
       "      <td>Park</td>\n",
       "      <td>Lands</td>\n",
       "      <td>Preliminary data. Contact the Land Resources P...</td>\n",
       "      <td>American Memorial Park</td>\n",
       "      <td>2020-01-09T00:00:00</td>\n",
       "      <td>SCarlton@nps.gov_nps</td>\n",
       "      <td>2020-01-09T00:00:00</td>\n",
       "      <td>SCarlton@nps.gov_nps</td>\n",
       "      <td>6.113585e+05</td>\n",
       "      <td>7740.973865</td>\n",
       "      <td>79037b52-9d9c-4f8c-b65b-70b810814fb0</td>\n",
       "      <td>POLYGON ((16221864.905 1714852.206, 16221857.0...</td>\n",
       "    </tr>\n",
       "    <tr>\n",
       "      <th>1</th>\n",
       "      <td>2</td>\n",
       "      <td>CEBE</td>\n",
       "      <td>Lands - http://landsnet.nps.gov/tractsnet/docu...</td>\n",
       "      <td>Cedar Creek and Belle Grove National Historica...</td>\n",
       "      <td>2005-04-07T00:00:00</td>\n",
       "      <td>VA</td>\n",
       "      <td>NE</td>\n",
       "      <td>1985663</td>\n",
       "      <td>National Historical Park</td>\n",
       "      <td>Lands</td>\n",
       "      <td>https://irma.nps.gov/App/Reference/Profile/104...</td>\n",
       "      <td>Cedar Creek &amp; Belle Grove</td>\n",
       "      <td>2020-01-09T00:00:00</td>\n",
       "      <td>SCarlton@nps.gov_nps</td>\n",
       "      <td>2020-01-09T00:00:00</td>\n",
       "      <td>SCarlton@nps.gov_nps</td>\n",
       "      <td>2.328283e+07</td>\n",
       "      <td>53250.857647</td>\n",
       "      <td>dfdc7906-209d-42e5-95e8-5a0377ca9b06</td>\n",
       "      <td>MULTIPOLYGON (((-8715759.414 4724026.776, -871...</td>\n",
       "    </tr>\n",
       "  </tbody>\n",
       "</table>\n",
       "</div>"
      ],
      "text/plain": [
       "   OBJECTID UNIT_CODE                                          GIS_Notes  \\\n",
       "0         1      AMME  PRELIMINARY - Data has not completed the entir...   \n",
       "1         2      CEBE  Lands - http://landsnet.nps.gov/tractsnet/docu...   \n",
       "\n",
       "                                           UNIT_NAME            DATE_EDIT  \\\n",
       "0                             American Memorial Park  2015-04-22T00:00:00   \n",
       "1  Cedar Creek and Belle Grove National Historica...  2005-04-07T00:00:00   \n",
       "\n",
       "  STATE REGION  GNIS_ID                 UNIT_TYPE CREATED_BY  \\\n",
       "0    MP     PW  1879026                      Park      Lands   \n",
       "1    VA     NE  1985663  National Historical Park      Lands   \n",
       "\n",
       "                                            METADATA  \\\n",
       "0  Preliminary data. Contact the Land Resources P...   \n",
       "1  https://irma.nps.gov/App/Reference/Profile/104...   \n",
       "\n",
       "                    PARKNAME           CreationDa               Creator  \\\n",
       "0     American Memorial Park  2020-01-09T00:00:00  SCarlton@nps.gov_nps   \n",
       "1  Cedar Creek & Belle Grove  2020-01-09T00:00:00  SCarlton@nps.gov_nps   \n",
       "\n",
       "              EditDate                Editor    Shape__Are    Shape__Len  \\\n",
       "0  2020-01-09T00:00:00  SCarlton@nps.gov_nps  6.113585e+05   7740.973865   \n",
       "1  2020-01-09T00:00:00  SCarlton@nps.gov_nps  2.328283e+07  53250.857647   \n",
       "\n",
       "                               GlobalID  \\\n",
       "0  79037b52-9d9c-4f8c-b65b-70b810814fb0   \n",
       "1  dfdc7906-209d-42e5-95e8-5a0377ca9b06   \n",
       "\n",
       "                                            geometry  \n",
       "0  POLYGON ((16221864.905 1714852.206, 16221857.0...  \n",
       "1  MULTIPOLYGON (((-8715759.414 4724026.776, -871...  "
      ]
     },
     "execution_count": 38,
     "metadata": {},
     "output_type": "execute_result"
    }
   ],
   "source": [
    "park.head(2)"
   ]
  },
  {
   "cell_type": "code",
   "execution_count": 39,
   "metadata": {},
   "outputs": [],
   "source": [
    "c = list(park.columns)\n",
    "c.remove(\"geometry\")\n",
    "c.remove(\"UNIT_NAME\")\n",
    "c.remove(\"STATE\")\n",
    "park.drop(columns=c, inplace=True, axis=1)"
   ]
  },
  {
   "cell_type": "code",
   "execution_count": 40,
   "metadata": {},
   "outputs": [],
   "source": [
    "park.rename({\"UNIT_NAME\":\"Name\"}, axis=1, inplace=True)\n",
    "copy = park.copy()"
   ]
  },
  {
   "cell_type": "code",
   "execution_count": 42,
   "metadata": {},
   "outputs": [
    {
     "name": "stderr",
     "output_type": "stream",
     "text": [
      "/usr/local/lib/python3.7/site-packages/pyproj/crs/crs.py:53: FutureWarning: '+init=<authority>:<code>' syntax is deprecated. '<authority>:<code>' is the preferred initialization method. When making the change, be mindful of axis order changes: https://pyproj4.github.io/pyproj/stable/gotchas.html#axis-order-changes-in-proj-6\n",
      "  return _prepare_from_string(\" \".join(pjargs))\n"
     ]
    },
    {
     "data": {
      "text/html": [
       "<div>\n",
       "<style scoped>\n",
       "    .dataframe tbody tr th:only-of-type {\n",
       "        vertical-align: middle;\n",
       "    }\n",
       "\n",
       "    .dataframe tbody tr th {\n",
       "        vertical-align: top;\n",
       "    }\n",
       "\n",
       "    .dataframe thead th {\n",
       "        text-align: right;\n",
       "    }\n",
       "</style>\n",
       "<table border=\"1\" class=\"dataframe\">\n",
       "  <thead>\n",
       "    <tr style=\"text-align: right;\">\n",
       "      <th></th>\n",
       "      <th>Name</th>\n",
       "      <th>STATE</th>\n",
       "      <th>geometry</th>\n",
       "    </tr>\n",
       "  </thead>\n",
       "  <tbody>\n",
       "    <tr>\n",
       "      <th>0</th>\n",
       "      <td>American Memorial Park</td>\n",
       "      <td>MP</td>\n",
       "      <td>POLYGON ((145.72349 15.22247, 145.72342 15.222...</td>\n",
       "    </tr>\n",
       "  </tbody>\n",
       "</table>\n",
       "</div>"
      ],
      "text/plain": [
       "                     Name STATE  \\\n",
       "0  American Memorial Park    MP   \n",
       "\n",
       "                                            geometry  \n",
       "0  POLYGON ((145.72349 15.22247, 145.72342 15.222...  "
      ]
     },
     "execution_count": 42,
     "metadata": {},
     "output_type": "execute_result"
    }
   ],
   "source": [
    "park = copy.copy()\n",
    "park.crs = {'init': 'epsg:3857'}\n",
    "park = park.to_crs(\"EPSG:4326\")\n",
    "park.head(1)"
   ]
  },
  {
   "cell_type": "code",
   "execution_count": null,
   "metadata": {},
   "outputs": [],
   "source": []
  },
  {
   "cell_type": "code",
   "execution_count": 43,
   "metadata": {},
   "outputs": [],
   "source": [
    "ri = park[park[\"STATE\"] == \"RI\"]\n",
    "va = park[park[\"STATE\"] == \"VA\"]\n",
    "tx = park[park[\"STATE\"] == \"TX\"]"
   ]
  },
  {
   "cell_type": "code",
   "execution_count": 44,
   "metadata": {},
   "outputs": [
    {
     "name": "stderr",
     "output_type": "stream",
     "text": [
      "/usr/local/lib/python3.7/site-packages/pandas/core/frame.py:3997: SettingWithCopyWarning: \n",
      "A value is trying to be set on a copy of a slice from a DataFrame\n",
      "\n",
      "See the caveats in the documentation: https://pandas.pydata.org/pandas-docs/stable/user_guide/indexing.html#returning-a-view-versus-a-copy\n",
      "  errors=errors,\n"
     ]
    }
   ],
   "source": [
    "ri.drop(columns=[\"STATE\"], inplace=True, axis=True)\n",
    "va.drop(columns=[\"STATE\"], inplace=True, axis=True)\n",
    "tx.drop(columns=[\"STATE\"], inplace=True, axis=True)"
   ]
  },
  {
   "cell_type": "code",
   "execution_count": 45,
   "metadata": {},
   "outputs": [],
   "source": [
    "ri.to_file(\"park/RI_Park.json\", driver=\"GeoJSON\")\n",
    "va.to_file(\"park/VA_Park.json\", driver=\"GeoJSON\")\n",
    "tx.to_file(\"park/TX_Park.json\", driver=\"GeoJSON\")"
   ]
  },
  {
   "cell_type": "code",
   "execution_count": null,
   "metadata": {},
   "outputs": [],
   "source": []
  }
 ],
 "metadata": {
  "kernelspec": {
   "display_name": "myenv",
   "language": "python",
   "name": "myenv"
  },
  "language_info": {
   "codemirror_mode": {
    "name": "ipython",
    "version": 3
   },
   "file_extension": ".py",
   "mimetype": "text/x-python",
   "name": "python",
   "nbconvert_exporter": "python",
   "pygments_lexer": "ipython3",
   "version": "3.7.7"
  }
 },
 "nbformat": 4,
 "nbformat_minor": 4
}
