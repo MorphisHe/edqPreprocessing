{
 "cells": [
  {
   "cell_type": "code",
   "execution_count": 20,
   "metadata": {},
   "outputs": [],
   "source": [
    "import warnings\n",
    "warnings.filterwarnings('ignore')\n",
    "\n",
    "import geopandas as gpd\n",
    "from shapely.geometry import MultiPolygon, Polygon\n",
    "import pandas as pd"
   ]
  },
  {
   "cell_type": "code",
   "execution_count": 21,
   "metadata": {},
   "outputs": [],
   "source": [
    "gdf = gpd.read_file(\"all_states_precincts_cname_neighbor_demo_OG_anomalous.json\")"
   ]
  },
  {
   "cell_type": "code",
   "execution_count": 22,
   "metadata": {},
   "outputs": [],
   "source": [
    "va = gdf[gdf[\"State\"] == \"va\"]\n",
    "rest = gdf[gdf[\"State\"] != \"va\"]"
   ]
  },
  {
   "cell_type": "code",
   "execution_count": 23,
   "metadata": {},
   "outputs": [
    {
     "data": {
      "text/html": [
       "<div>\n",
       "<style scoped>\n",
       "    .dataframe tbody tr th:only-of-type {\n",
       "        vertical-align: middle;\n",
       "    }\n",
       "\n",
       "    .dataframe tbody tr th {\n",
       "        vertical-align: top;\n",
       "    }\n",
       "\n",
       "    .dataframe thead th {\n",
       "        text-align: right;\n",
       "    }\n",
       "</style>\n",
       "<table border=\"1\" class=\"dataframe\">\n",
       "  <thead>\n",
       "    <tr style=\"text-align: right;\">\n",
       "      <th></th>\n",
       "      <th>County</th>\n",
       "      <th>Precinct #</th>\n",
       "      <th>Hillary Clinton/Dem</th>\n",
       "      <th>Donald J. Trump/Rep</th>\n",
       "      <th>Gary Johnson/Lib</th>\n",
       "      <th>Jill Stein/Grn</th>\n",
       "      <th>Other/Other</th>\n",
       "      <th>Total Votes</th>\n",
       "      <th>State</th>\n",
       "      <th>CName</th>\n",
       "      <th>...</th>\n",
       "      <th>Total Population</th>\n",
       "      <th>White</th>\n",
       "      <th>Black or African American</th>\n",
       "      <th>American Indian</th>\n",
       "      <th>Asian</th>\n",
       "      <th>Other Population</th>\n",
       "      <th>MissingVote</th>\n",
       "      <th>MissingDemo</th>\n",
       "      <th>VoteDemoConflict</th>\n",
       "      <th>geometry</th>\n",
       "    </tr>\n",
       "  </thead>\n",
       "  <tbody>\n",
       "    <tr>\n",
       "      <th>9501</th>\n",
       "      <td>Accomack</td>\n",
       "      <td>0001</td>\n",
       "      <td>486</td>\n",
       "      <td>637</td>\n",
       "      <td>16</td>\n",
       "      <td>8</td>\n",
       "      <td>4</td>\n",
       "      <td>2328</td>\n",
       "      <td>va</td>\n",
       "      <td>va-accomack-0001</td>\n",
       "      <td>...</td>\n",
       "      <td>3526</td>\n",
       "      <td>2336</td>\n",
       "      <td>906</td>\n",
       "      <td>12</td>\n",
       "      <td>20</td>\n",
       "      <td>246</td>\n",
       "      <td>None</td>\n",
       "      <td>None</td>\n",
       "      <td>None</td>\n",
       "      <td>POLYGON ((-75.66233 37.77053, -75.66244 37.770...</td>\n",
       "    </tr>\n",
       "  </tbody>\n",
       "</table>\n",
       "<p>1 rows × 21 columns</p>\n",
       "</div>"
      ],
      "text/plain": [
       "        County Precinct # Hillary Clinton/Dem Donald J. Trump/Rep  \\\n",
       "9501  Accomack       0001                 486                 637   \n",
       "\n",
       "     Gary Johnson/Lib Jill Stein/Grn Other/Other Total Votes State  \\\n",
       "9501               16              8           4        2328    va   \n",
       "\n",
       "                 CName  ... Total Population  White  \\\n",
       "9501  va-accomack-0001  ...             3526   2336   \n",
       "\n",
       "      Black or African American  American Indian  Asian  Other Population  \\\n",
       "9501                        906               12     20               246   \n",
       "\n",
       "      MissingVote MissingDemo VoteDemoConflict  \\\n",
       "9501         None        None             None   \n",
       "\n",
       "                                               geometry  \n",
       "9501  POLYGON ((-75.66233 37.77053, -75.66244 37.770...  \n",
       "\n",
       "[1 rows x 21 columns]"
      ]
     },
     "execution_count": 23,
     "metadata": {},
     "output_type": "execute_result"
    }
   ],
   "source": [
    "va.head(1)"
   ]
  },
  {
   "cell_type": "code",
   "execution_count": 24,
   "metadata": {},
   "outputs": [],
   "source": [
    "# shape with area < 0.00001 will be dropped\n",
    "area_threshold = 0.000001\n",
    "for index, row in va.iterrows():\n",
    "    cur_geometry = row[\"geometry\"]\n",
    "    polygon_list = []\n",
    "    if cur_geometry.geom_type == \"MultiPolygon\":\n",
    "        for shape in cur_geometry:\n",
    "            if shape.area >= area_threshold:\n",
    "                polygon_list.append(shape)\n",
    "        if len(polygon_list) == 1:\n",
    "            va.at[index, \"new_geo\"] = polygon_list[0]\n",
    "        else:\n",
    "            new_multipoly = MultiPolygon(polygon_list)\n",
    "            va.at[index, \"new_geo\"] = new_multipoly\n",
    "    else:\n",
    "        va.at[index, \"new_geo\"] = cur_geometry\n",
    "va.set_geometry(\"new_geo\", inplace=True, drop=True)"
   ]
  },
  {
   "cell_type": "code",
   "execution_count": 25,
   "metadata": {},
   "outputs": [],
   "source": [
    "METER_COORD_SYSTEM = \"EPSG:3857\"\n",
    "GEO_COORD_SYSTEM = \"EPSG:4326\"\n",
    "ENLARGE_SIZE = 30.48 # 30.48 meters = 100 feets\n",
    "\n",
    "def generate_neighbors(gdf): \n",
    "    gdf = gdf.to_crs(METER_COORD_SYSTEM) # convert to coordinate system that uses meters\n",
    "    state_identifiers = gdf[\"State\"].unique().tolist()\n",
    "    stateGDF_with_neighbors = []\n",
    "    for stateID in state_identifiers:\n",
    "        cur_state_gdf = gdf[gdf[\"State\"] == stateID]\n",
    "        cur_state_gdf[\"enlarged_geometry\"] = \"\"\n",
    "        for index, row in cur_state_gdf.iterrows():\n",
    "            cur_geometry = row[\"geometry\"]\n",
    "            cur_state_gdf.at[index, \"enlarged_geometry\"] = cur_geometry.buffer(ENLARGE_SIZE)\n",
    "        cur_state_gdf.set_geometry(\"enlarged_geometry\", inplace=True)\n",
    "\n",
    "        cur_state_gdf[\"Neighbors\"] = \"\"\n",
    "        for index, row in cur_state_gdf.iterrows():\n",
    "            cur_geometry = row[\"geometry\"]\n",
    "            cur_CName = row[\"CName\"]\n",
    "            neighbors = cur_state_gdf[cur_state_gdf[\"enlarged_geometry\"].intersects(cur_geometry)][\"CName\"].tolist()\n",
    "            neighbors.remove(cur_CName)\n",
    "            neighbors = [cur_CName + \",\" + neighbor for neighbor in neighbors] # [100, 101; 100, 102; ...]\n",
    "            cur_state_gdf.at[index, \"Neighbors\"] = \"; \".join(neighbors)\n",
    "\n",
    "        cur_state_gdf.set_geometry(\"geometry\", inplace=True, drop=True)\n",
    "        stateGDF_with_neighbors.append(cur_state_gdf)\n",
    "    \n",
    "    merged_gdf = pd.concat(stateGDF_with_neighbors, ignore_index=True)\n",
    "    merged_gdf = merged_gdf.to_crs(GEO_COORD_SYSTEM) # convert back to original coordinate\n",
    "    return merged_gdf"
   ]
  },
  {
   "cell_type": "code",
   "execution_count": 26,
   "metadata": {},
   "outputs": [],
   "source": [
    "all_state = pd.concat([va, rest], ignore_index=_index=nore_index=True)"
   ]
  },
  {
   "cell_type": "code",
   "execution_count": 29,
   "metadata": {},
   "outputs": [
    {
     "data": {
      "text/html": [
       "<div>\n",
       "<style scoped>\n",
       "    .dataframe tbody tr th:only-of-type {\n",
       "        vertical-align: middle;\n",
       "    }\n",
       "\n",
       "    .dataframe tbody tr th {\n",
       "        vertical-align: top;\n",
       "    }\n",
       "\n",
       "    .dataframe thead th {\n",
       "        text-align: right;\n",
       "    }\n",
       "</style>\n",
       "<table border=\"1\" class=\"dataframe\">\n",
       "  <thead>\n",
       "    <tr style=\"text-align: right;\">\n",
       "      <th></th>\n",
       "      <th>County</th>\n",
       "      <th>Precinct #</th>\n",
       "      <th>Hillary Clinton/Dem</th>\n",
       "      <th>Donald J. Trump/Rep</th>\n",
       "      <th>Gary Johnson/Lib</th>\n",
       "      <th>Jill Stein/Grn</th>\n",
       "      <th>Other/Other</th>\n",
       "      <th>Total Votes</th>\n",
       "      <th>State</th>\n",
       "      <th>CName</th>\n",
       "      <th>...</th>\n",
       "      <th>Total Population</th>\n",
       "      <th>White</th>\n",
       "      <th>Black or African American</th>\n",
       "      <th>American Indian</th>\n",
       "      <th>Asian</th>\n",
       "      <th>Other Population</th>\n",
       "      <th>MissingVote</th>\n",
       "      <th>MissingDemo</th>\n",
       "      <th>VoteDemoConflict</th>\n",
       "      <th>geometry</th>\n",
       "    </tr>\n",
       "  </thead>\n",
       "  <tbody>\n",
       "    <tr>\n",
       "      <th>0</th>\n",
       "      <td>Accomack</td>\n",
       "      <td>0001</td>\n",
       "      <td>486</td>\n",
       "      <td>637</td>\n",
       "      <td>16</td>\n",
       "      <td>8</td>\n",
       "      <td>4</td>\n",
       "      <td>2328</td>\n",
       "      <td>va</td>\n",
       "      <td>va-accomack-0001</td>\n",
       "      <td>...</td>\n",
       "      <td>3526</td>\n",
       "      <td>2336</td>\n",
       "      <td>906</td>\n",
       "      <td>12</td>\n",
       "      <td>20</td>\n",
       "      <td>246</td>\n",
       "      <td>None</td>\n",
       "      <td>None</td>\n",
       "      <td>None</td>\n",
       "      <td>POLYGON ((-75.66233 37.77053, -75.66244 37.770...</td>\n",
       "    </tr>\n",
       "    <tr>\n",
       "      <th>1</th>\n",
       "      <td>Accomack</td>\n",
       "      <td>0002</td>\n",
       "      <td>175</td>\n",
       "      <td>553</td>\n",
       "      <td>13</td>\n",
       "      <td>1</td>\n",
       "      <td>1</td>\n",
       "      <td>1500</td>\n",
       "      <td>va</td>\n",
       "      <td>va-accomack-0002</td>\n",
       "      <td>...</td>\n",
       "      <td>1522</td>\n",
       "      <td>900</td>\n",
       "      <td>492</td>\n",
       "      <td>4</td>\n",
       "      <td>7</td>\n",
       "      <td>112</td>\n",
       "      <td>None</td>\n",
       "      <td>None</td>\n",
       "      <td>VoteDemoConflict</td>\n",
       "      <td>POLYGON ((-75.41651 37.93483, -75.41645 37.934...</td>\n",
       "    </tr>\n",
       "  </tbody>\n",
       "</table>\n",
       "<p>2 rows × 21 columns</p>\n",
       "</div>"
      ],
      "text/plain": [
       "     County Precinct # Hillary Clinton/Dem Donald J. Trump/Rep  \\\n",
       "0  Accomack       0001                 486                 637   \n",
       "1  Accomack       0002                 175                 553   \n",
       "\n",
       "  Gary Johnson/Lib Jill Stein/Grn Other/Other Total Votes State  \\\n",
       "0               16              8           4        2328    va   \n",
       "1               13              1           1        1500    va   \n",
       "\n",
       "              CName  ... Total Population  White  Black or African American  \\\n",
       "0  va-accomack-0001  ...             3526   2336                        906   \n",
       "1  va-accomack-0002  ...             1522    900                        492   \n",
       "\n",
       "   American Indian  Asian  Other Population  MissingVote MissingDemo  \\\n",
       "0               12     20               246         None        None   \n",
       "1                4      7               112         None        None   \n",
       "\n",
       "   VoteDemoConflict                                           geometry  \n",
       "0              None  POLYGON ((-75.66233 37.77053, -75.66244 37.770...  \n",
       "1  VoteDemoConflict  POLYGON ((-75.41651 37.93483, -75.41645 37.934...  \n",
       "\n",
       "[2 rows x 21 columns]"
      ]
     },
     "execution_count": 29,
     "metadata": {},
     "output_type": "execute_result"
    }
   ],
   "source": [
    "all_state.head(2)"
   ]
  },
  {
   "cell_type": "code",
   "execution_count": 30,
   "metadata": {},
   "outputs": [],
   "source": [
    "all_state_neighbors = generate_neighbors(all_state)"
   ]
  },
  {
   "cell_type": "code",
   "execution_count": 33,
   "metadata": {},
   "outputs": [],
   "source": [
    "all_state_neighbors.to_file(\"all_states_precincts_cname_neighbor_demo_OG_anomalous_fixNeighborVA.json\", driver=\"GeoJSON\")"
   ]
  },
  {
   "cell_type": "code",
   "execution_count": 41,
   "metadata": {},
   "outputs": [],
   "source": [
    "va_neighbors = all_state_neighbors[all_state_neighbors[\"State\"] == \"va\"]"
   ]
  },
  {
   "cell_type": "code",
   "execution_count": 42,
   "metadata": {},
   "outputs": [
    {
     "data": {
      "text/html": [
       "<div>\n",
       "<style scoped>\n",
       "    .dataframe tbody tr th:only-of-type {\n",
       "        vertical-align: middle;\n",
       "    }\n",
       "\n",
       "    .dataframe tbody tr th {\n",
       "        vertical-align: top;\n",
       "    }\n",
       "\n",
       "    .dataframe thead th {\n",
       "        text-align: right;\n",
       "    }\n",
       "</style>\n",
       "<table border=\"1\" class=\"dataframe\">\n",
       "  <thead>\n",
       "    <tr style=\"text-align: right;\">\n",
       "      <th></th>\n",
       "      <th>CName</th>\n",
       "      <th>Neighbor</th>\n",
       "    </tr>\n",
       "  </thead>\n",
       "  <tbody>\n",
       "    <tr>\n",
       "      <th>0</th>\n",
       "      <td>va-accomack-0001</td>\n",
       "      <td>va-accomack-0001,va-accomack-0010</td>\n",
       "    </tr>\n",
       "    <tr>\n",
       "      <th>1</th>\n",
       "      <td>va-accomack-0001</td>\n",
       "      <td>va-accomack-0001,va-accomack-0011</td>\n",
       "    </tr>\n",
       "    <tr>\n",
       "      <th>2</th>\n",
       "      <td>va-accomack-0001</td>\n",
       "      <td>va-accomack-0001,va-accomack-0013</td>\n",
       "    </tr>\n",
       "    <tr>\n",
       "      <th>3</th>\n",
       "      <td>va-accomack-0001</td>\n",
       "      <td>va-accomack-0001,va-accomack-0014</td>\n",
       "    </tr>\n",
       "    <tr>\n",
       "      <th>4</th>\n",
       "      <td>va-accomack-0001</td>\n",
       "      <td>va-accomack-0001,va-accomack-0015</td>\n",
       "    </tr>\n",
       "  </tbody>\n",
       "</table>\n",
       "</div>"
      ],
      "text/plain": [
       "              CName                           Neighbor\n",
       "0  va-accomack-0001  va-accomack-0001,va-accomack-0010\n",
       "1  va-accomack-0001  va-accomack-0001,va-accomack-0011\n",
       "2  va-accomack-0001  va-accomack-0001,va-accomack-0013\n",
       "3  va-accomack-0001  va-accomack-0001,va-accomack-0014\n",
       "4  va-accomack-0001  va-accomack-0001,va-accomack-0015"
      ]
     },
     "execution_count": 42,
     "metadata": {},
     "output_type": "execute_result"
    }
   ],
   "source": [
    "df = pd.DataFrame(columns=[\"CName\", \"Neighbor\"])\n",
    "for index, row in va_neighbors.iterrows():\n",
    "    neighbors = row[\"Neighbors\"]\n",
    "    neighbors = neighbors.split(\";\")\n",
    "    neighbors = [n.strip() for n in neighbors]\n",
    "    \n",
    "    for n in neighbors:\n",
    "        df = df.append({\"CName\":row[\"CName\"], \"Neighbor\": n}, ignore_index=True)\n",
    "        \n",
    "df.head()"
   ]
  },
  {
   "cell_type": "code",
   "execution_count": 44,
   "metadata": {},
   "outputs": [],
   "source": [
    "df.to_csv(\"VA_Neighbors_Fixed_Parsed.csv\", index=False)"
   ]
  },
  {
   "cell_type": "code",
   "execution_count": 35,
   "metadata": {},
   "outputs": [
    {
     "data": {
      "text/plain": [
       "11947"
      ]
     },
     "execution_count": 35,
     "metadata": {},
     "output_type": "execute_result"
    }
   ],
   "source": []
  },
  {
   "cell_type": "code",
   "execution_count": null,
   "metadata": {},
   "outputs": [],
   "source": []
  }
 ],
 "metadata": {
  "kernelspec": {
   "display_name": "myenv",
   "language": "python",
   "name": "myenv"
  },
  "language_info": {
   "codemirror_mode": {
    "name": "ipython",
    "version": 3
   },
   "file_extension": ".py",
   "mimetype": "text/x-python",
   "name": "python",
   "nbconvert_exporter": "python",
   "pygments_lexer": "ipython3",
   "version": "3.7.7"
  }
 },
 "nbformat": 4,
 "nbformat_minor": 4
}
